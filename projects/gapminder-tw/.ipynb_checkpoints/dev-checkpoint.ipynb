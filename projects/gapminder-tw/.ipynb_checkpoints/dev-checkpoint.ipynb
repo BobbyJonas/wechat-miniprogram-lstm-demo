{
 "cells": [
  {
   "cell_type": "code",
   "execution_count": 1439,
   "metadata": {
    "collapsed": true
   },
   "outputs": [],
   "source": [
    "import os\n",
    "import glob\n",
    "import argparse\n",
    "import pandas as pd\n",
    "from collections import defaultdict\n",
    "def rec_dd():\n",
    "    return defaultdict(rec_dd)"
   ]
  },
  {
   "cell_type": "markdown",
   "metadata": {},
   "source": [
    "## 數據位置"
   ]
  },
  {
   "cell_type": "code",
   "execution_count": 1640,
   "metadata": {
    "collapsed": true
   },
   "outputs": [],
   "source": [
    "CONCEPT_CSV_PATH = \"statistics/ddf--concepts.csv\"\n",
    "TAG_CSV_PATH = \"statistics/ddf--entities--tag.csv\"\n",
    "RELATIVE_BLOG_PATH = \"../../blog/leemengtaiwan.github.io/\""
   ]
  },
  {
   "cell_type": "markdown",
   "metadata": {},
   "source": [
    "ETL\n",
    "- 原始英文檔案 -> 翻譯 -> 加入 metadata（如台灣指摽數、最早年份等）\n",
    "\n",
    "檔案種類\n",
    "- BACKUP -> TRANSLATED -> FINAL"
   ]
  },
  {
   "cell_type": "code",
   "execution_count": 1641,
   "metadata": {},
   "outputs": [],
   "source": [
    "BACKUP_CONCEPT_CSV_PATH = CONCEPT_CSV_PATH + '.backup'\n",
    "BACKUP_TAG_CSV_PATH = TAG_CSV_PATH + '.backup'\n",
    "\n",
    "TRANSLATED_CONCEPT_CSV_PATH = CONCEPT_CSV_PATH + '.translated'\n",
    "TRANSLATED_TAG_CSV_PATH = TAG_CSV_PATH + '.translated'\n",
    "\n",
    "FINAL_CONCEPT_PATH = CONCEPT_CSV_PATH + '.final'"
   ]
  },
  {
   "cell_type": "markdown",
   "metadata": {},
   "source": [
    "## 結合標籤以及指標檔案的訊息，並找出台灣相關訊息\n",
    "- 找出有哪些指標有台灣數據\n",
    "- 建立一個 dict，方便之後建立 dataframe \n",
    "- 沒有台灣數據的指標也會被包含，只是沒有台灣相關數據"
   ]
  },
  {
   "cell_type": "code",
   "execution_count": 1669,
   "metadata": {},
   "outputs": [
    {
     "name": "stdout",
     "output_type": "stream",
     "text": [
      "suicide_total_deaths ['健康', '精神健康']\n",
      "suicide_per_100000_people ['健康', '精神健康']\n",
      "Total number of indicators: 535, #indicators with Taiwan data: 207\n",
      "38.7% datapoints have Taiwan statistics\n"
     ]
    }
   ],
   "source": [
    "num_available, total = 0, 0\n",
    "indicator_twn_tuples = list()  # format of a single tuple: (indicator_name, #twn rows, earliest available year)\n",
    "concept_metadata = rec_dd()  # {top_tag: second_layer_tag: {concept_name, num_year_available, earliest_year} }\n",
    "\n",
    "# read in concept/tag DDF files for easy-understanding indicator names and build concept structure\n",
    "df_c = pd.read_csv(BACKUP_CONCEPT_CSV_PATH)\n",
    "df_t = pd.read_csv(TRANSLATED_TAG_CSV_PATH)\n",
    "df_metadata = pd.merge(df_c, df_t, how='left', left_on='tags', right_on='tag')\n",
    "\n",
    "# parse all ddf files provided by GapMinder and find how many of them with Taiwan statistics\n",
    "for f_path in glob.glob(os.path.join('statistics', '*datapoints*.csv')):\n",
    "    total += 1\n",
    "    df = pd.read_csv(f_path)\n",
    "    indicator = f_path.replace('statistics/ddf--datapoints--', '').replace('--by--geo--time.csv', '')\n",
    "    \n",
    "    if not 'twn' in df.geo.unique():\n",
    "        num_years, earliest_year = 0, 0\n",
    "    else:\n",
    "        num_available += 1\n",
    "        df_tw = df[df.geo == 'twn']\n",
    "        num_years, earliest_year = len(df_tw), min(df_tw['time'])\n",
    "        indicator_twn_tuples.append((indicator, num_years, earliest_year))\n",
    "        \n",
    "        \n",
    "    # generate concept structure\n",
    "    ancestors = list()\n",
    "    row_values = df_metadata[df_metadata['concept'] == indicator].values[0]\n",
    "    concept, name_catalog, parent, ancestor = (row_values[i] for i in [0, 9, 17, 18])\n",
    "    if type(parent) is str:\n",
    "        ancestors.append(parent)\n",
    "    \n",
    "    # get ancestors recursively\n",
    "    while type(ancestor) is str:\n",
    "        tag_row_values = df_t[df_t['tag'] == ancestor].values[0]\n",
    "        ancestors.append(tag_row_values[1])\n",
    "        ancestor = tag_row_values[2]\n",
    "    ancestors = ancestors[::-1]\n",
    "    \n",
    "    if '精神健康' in ancestors:\n",
    "        print(indicator, ancestors)\n",
    "\n",
    "    # save result into concept dict\n",
    "    d = concept_metadata\n",
    "    for tag in ancestors:\n",
    "        d = d[tag]\n",
    "\n",
    "    # indicators at the top-level\n",
    "    if d == concept_metadata:\n",
    "        indicator = 'top_indicators' + '_' + indicator\n",
    "\n",
    "    d[indicator] = {\n",
    "        'concept': concept,\n",
    "        'name_catalog': name_catalog,\n",
    "        'raw_name': indicator,\n",
    "        'num_years': num_years,\n",
    "        'earliest_year': earliest_year,\n",
    "    }    \n",
    "\n",
    "print(f\"Total number of indicators: {total}, #indicators with Taiwan data: {num_available}\")\n",
    "print(\"{:.1f}% datapoints have Taiwan statistics\".format(num_available / float(total) * 100))\n"
   ]
  },
  {
   "cell_type": "markdown",
   "metadata": {},
   "source": [
    "## 產生一個包含所有指標、標籤資訊的 DataFrame\n",
    "- 建立 1 個 DataFrame\n",
    "    - columns = ['name', 'num_idrs', 'type', 'num_tw_rows', 'earilest_year', 'parent', 'num_tw_idrs', 'concept']\n",
    "    - type = [top_tag, other_tag, indicator, top_indicator] 其中一種\n",
    "    - 如果 type 是 `indicator`, name 就會是 `name_catalog`, 否則為 tag_name\n",
    "    - 如果 type 為 tag, 則沒有 year 相關資料"
   ]
  },
  {
   "cell_type": "code",
   "execution_count": 1670,
   "metadata": {},
   "outputs": [],
   "source": [
    "verbose = False"
   ]
  },
  {
   "cell_type": "code",
   "execution_count": 1671,
   "metadata": {},
   "outputs": [],
   "source": [
    "dic = {}\n",
    "rows = []\n",
    "for top_tag, d in concept_metadata.items():\n",
    "    num_indicators_for_top_tag, num_idr_top_tw = 0, 0\n",
    "    if type(d) is dict:\n",
    "        if verbose: print(d['name_catalog'], '(有 {} 年資料，最早年份：{})'.format(d['num_years'], d['earliest_year']))\n",
    "        num_indicators_for_top_tag += 1\n",
    "        if d['num_years']: \n",
    "            num_idr_top_tw += 1\n",
    "        rows.append([d['name_catalog'], 1, 'indicator', d['num_years'], d['earliest_year'], '', 0, d['concept']])\n",
    "    else:\n",
    "        \n",
    "        if verbose: print(top_tag)\n",
    "        \n",
    "        for secondary_tag, dd in d.items():\n",
    "            num_indicators_for_other_tag, num_idr_other_tw = 0, 0\n",
    "            if verbose: print('\\t', secondary_tag)\n",
    "            if type(dd) is dict:\n",
    "                num_indicators_for_other_tag += 1\n",
    "                num_indicators_for_top_tag += 1\n",
    "                \n",
    "                if dd['num_years']: \n",
    "                    num_idr_top_tw += 1\n",
    "                    num_idr_other_tw += 1\n",
    "                \n",
    "                if verbose: print(secondary_tag, dd)\n",
    "                rows.append([dd['name_catalog'], 1, 'indicator', dd['num_years'], dd['earliest_year'], top_tag, 0, dd['concept']])\n",
    "            else:\n",
    "                for k, info in dd.items():\n",
    "                    if type(info) is dict:\n",
    "                        if verbose: print('\\t\\t', info['name_catalog'], '(有 {} 年資料，最早年份：{})'.format(info['num_years'], info['earliest_year']))\n",
    "\n",
    "                        num_indicators_for_other_tag += 1\n",
    "                        num_indicators_for_top_tag += 1\n",
    "                        if info['num_years']: \n",
    "                            num_idr_top_tw += 1\n",
    "                            num_idr_other_tw += 1\n",
    "\n",
    "                        rows.append([info['name_catalog'], 1, 'indicator', info['num_years'], info['earliest_year'], secondary_tag, 0, info['concept']])\n",
    "                    else:\n",
    "                        if verbose: print('\\t\\t', k, info)\n",
    "                \n",
    "            # add other tag        \n",
    "            rows.append([secondary_tag, num_indicators_for_other_tag, 'other_tag', 0, 0, top_tag, num_idr_other_tw])\n",
    "        \n",
    "    # add top tag / indicator\n",
    "    if 'top_indicator' in top_tag:\n",
    "        _type = 'top_indicator'\n",
    "        concept = d['concept']\n",
    "    else:\n",
    "        _type = 'top_tag'\n",
    "        concept = ''\n",
    "    \n",
    "    rows.append([top_tag, num_indicators_for_top_tag, _type, 0, 0, '', num_idr_top_tw, concept])\n",
    "    dic[top_tag] = num_indicators_for_top_tag"
   ]
  },
  {
   "cell_type": "markdown",
   "metadata": {},
   "source": [
    "包含所有指標、標籤的 df"
   ]
  },
  {
   "cell_type": "code",
   "execution_count": 1672,
   "metadata": {},
   "outputs": [
    {
     "data": {
      "text/html": [
       "<div>\n",
       "<style scoped>\n",
       "    .dataframe tbody tr th:only-of-type {\n",
       "        vertical-align: middle;\n",
       "    }\n",
       "\n",
       "    .dataframe tbody tr th {\n",
       "        vertical-align: top;\n",
       "    }\n",
       "\n",
       "    .dataframe thead th {\n",
       "        text-align: right;\n",
       "    }\n",
       "</style>\n",
       "<table border=\"1\" class=\"dataframe\">\n",
       "  <thead>\n",
       "    <tr style=\"text-align: right;\">\n",
       "      <th></th>\n",
       "      <th>name</th>\n",
       "      <th>num_idrs</th>\n",
       "      <th>type</th>\n",
       "      <th>num_tw_rows</th>\n",
       "      <th>earilest_year</th>\n",
       "      <th>parent</th>\n",
       "      <th>num_tw_idrs</th>\n",
       "      <th>concept</th>\n",
       "    </tr>\n",
       "  </thead>\n",
       "  <tbody>\n",
       "    <tr>\n",
       "      <th>0</th>\n",
       "      <td>Females aged 15+</td>\n",
       "      <td>1</td>\n",
       "      <td>indicator</td>\n",
       "      <td>40</td>\n",
       "      <td>1978</td>\n",
       "      <td>失業率</td>\n",
       "      <td>0</td>\n",
       "      <td>females_aged_15plus_unemployment_rate_percent</td>\n",
       "    </tr>\n",
       "    <tr>\n",
       "      <th>1</th>\n",
       "      <td>Aged 55+</td>\n",
       "      <td>1</td>\n",
       "      <td>indicator</td>\n",
       "      <td>40</td>\n",
       "      <td>1978</td>\n",
       "      <td>失業率</td>\n",
       "      <td>0</td>\n",
       "      <td>aged_65plus_unemployment_rate_percent</td>\n",
       "    </tr>\n",
       "    <tr>\n",
       "      <th>2</th>\n",
       "      <td>Males aged 15+</td>\n",
       "      <td>1</td>\n",
       "      <td>indicator</td>\n",
       "      <td>40</td>\n",
       "      <td>1978</td>\n",
       "      <td>失業率</td>\n",
       "      <td>0</td>\n",
       "      <td>males_aged_15plus_unemployment_rate_percent</td>\n",
       "    </tr>\n",
       "    <tr>\n",
       "      <th>3</th>\n",
       "      <td>Aged 55-64</td>\n",
       "      <td>1</td>\n",
       "      <td>indicator</td>\n",
       "      <td>40</td>\n",
       "      <td>1978</td>\n",
       "      <td>失業率</td>\n",
       "      <td>0</td>\n",
       "      <td>aged_55_64_unemployment_rate_percent</td>\n",
       "    </tr>\n",
       "    <tr>\n",
       "      <th>4</th>\n",
       "      <td>Females aged 55-64</td>\n",
       "      <td>1</td>\n",
       "      <td>indicator</td>\n",
       "      <td>40</td>\n",
       "      <td>1978</td>\n",
       "      <td>失業率</td>\n",
       "      <td>0</td>\n",
       "      <td>females_aged_55_64_unemployment_rate_percent</td>\n",
       "    </tr>\n",
       "  </tbody>\n",
       "</table>\n",
       "</div>"
      ],
      "text/plain": [
       "                 name  num_idrs       type  num_tw_rows  earilest_year parent  \\\n",
       "0    Females aged 15+         1  indicator           40           1978    失業率   \n",
       "1            Aged 55+         1  indicator           40           1978    失業率   \n",
       "2      Males aged 15+         1  indicator           40           1978    失業率   \n",
       "3          Aged 55-64         1  indicator           40           1978    失業率   \n",
       "4  Females aged 55-64         1  indicator           40           1978    失業率   \n",
       "\n",
       "   num_tw_idrs                                        concept  \n",
       "0            0  females_aged_15plus_unemployment_rate_percent  \n",
       "1            0          aged_65plus_unemployment_rate_percent  \n",
       "2            0    males_aged_15plus_unemployment_rate_percent  \n",
       "3            0           aged_55_64_unemployment_rate_percent  \n",
       "4            0   females_aged_55_64_unemployment_rate_percent  "
      ]
     },
     "execution_count": 1672,
     "metadata": {},
     "output_type": "execute_result"
    }
   ],
   "source": [
    "df = pd.DataFrame(rows, columns=['name', 'num_idrs', 'type', 'num_tw_rows', 'earilest_year', 'parent', 'num_tw_idrs', 'concept'])\n",
    "df.head()"
   ]
  },
  {
   "cell_type": "markdown",
   "metadata": {},
   "source": [
    "## 統計各個分類有多少指標包含台灣數據並畫圖\n",
    "生成後放到 blog 資料夾"
   ]
  },
  {
   "cell_type": "code",
   "execution_count": 1673,
   "metadata": {},
   "outputs": [],
   "source": [
    "import matplotlib.pyplot as plt\n",
    "%matplotlib inline\n",
    "plt.style.use('fivethirtyeight')"
   ]
  },
  {
   "cell_type": "code",
   "execution_count": 1674,
   "metadata": {},
   "outputs": [],
   "source": [
    "plt.rcParams['font.sans-serif'] = ['SimHei']\n",
    "plt.rcParams['axes.unicode_minus'] = False"
   ]
  },
  {
   "cell_type": "code",
   "execution_count": 1675,
   "metadata": {},
   "outputs": [
    {
     "name": "stdout",
     "output_type": "stream",
     "text": [
      "../../blog/leemengtaiwan.github.io/content/images/gapminder/gapminder-indicators-with-twn.svg\n"
     ]
    }
   ],
   "source": [
    "!ls {RELATIVE_BLOG_PATH}'content/images/gapminder/gapminder-indicators-with-twn.svg'"
   ]
  },
  {
   "cell_type": "code",
   "execution_count": 1676,
   "metadata": {},
   "outputs": [
    {
     "data": {
      "text/html": [
       "<div>\n",
       "<style scoped>\n",
       "    .dataframe tbody tr th:only-of-type {\n",
       "        vertical-align: middle;\n",
       "    }\n",
       "\n",
       "    .dataframe tbody tr th {\n",
       "        vertical-align: top;\n",
       "    }\n",
       "\n",
       "    .dataframe thead th {\n",
       "        text-align: right;\n",
       "    }\n",
       "</style>\n",
       "<table border=\"1\" class=\"dataframe\">\n",
       "  <thead>\n",
       "    <tr style=\"text-align: right;\">\n",
       "      <th></th>\n",
       "      <th>name</th>\n",
       "      <th>num_tw_idrs</th>\n",
       "    </tr>\n",
       "  </thead>\n",
       "  <tbody>\n",
       "    <tr>\n",
       "      <th>570</th>\n",
       "      <td>公共建設</td>\n",
       "      <td>1</td>\n",
       "    </tr>\n",
       "    <tr>\n",
       "      <th>628</th>\n",
       "      <td>社會</td>\n",
       "      <td>3</td>\n",
       "    </tr>\n",
       "    <tr>\n",
       "      <th>273</th>\n",
       "      <td>人口</td>\n",
       "      <td>4</td>\n",
       "    </tr>\n",
       "    <tr>\n",
       "      <th>545</th>\n",
       "      <td>能源</td>\n",
       "      <td>8</td>\n",
       "    </tr>\n",
       "    <tr>\n",
       "      <th>213</th>\n",
       "      <td>經濟</td>\n",
       "      <td>9</td>\n",
       "    </tr>\n",
       "    <tr>\n",
       "      <th>511</th>\n",
       "      <td>環境</td>\n",
       "      <td>14</td>\n",
       "    </tr>\n",
       "    <tr>\n",
       "      <th>612</th>\n",
       "      <td>教育</td>\n",
       "      <td>18</td>\n",
       "    </tr>\n",
       "    <tr>\n",
       "      <th>136</th>\n",
       "      <td>進階用途</td>\n",
       "      <td>35</td>\n",
       "    </tr>\n",
       "    <tr>\n",
       "      <th>59</th>\n",
       "      <td>工作</td>\n",
       "      <td>48</td>\n",
       "    </tr>\n",
       "    <tr>\n",
       "      <th>460</th>\n",
       "      <td>健康</td>\n",
       "      <td>63</td>\n",
       "    </tr>\n",
       "  </tbody>\n",
       "</table>\n",
       "</div>"
      ],
      "text/plain": [
       "     name  num_tw_idrs\n",
       "570  公共建設            1\n",
       "628    社會            3\n",
       "273    人口            4\n",
       "545    能源            8\n",
       "213    經濟            9\n",
       "511    環境           14\n",
       "612    教育           18\n",
       "136  進階用途           35\n",
       "59     工作           48\n",
       "460    健康           63"
      ]
     },
     "execution_count": 1676,
     "metadata": {},
     "output_type": "execute_result"
    }
   ],
   "source": [
    "df_top_tag = df[df.type == 'top_tag'].loc[:, ['name', 'num_tw_idrs']].sort_values('num_tw_idrs')\n",
    "df_top_tag"
   ]
  },
  {
   "cell_type": "code",
   "execution_count": 1677,
   "metadata": {},
   "outputs": [
    {
     "data": {
      "image/png": "[encoded data removed]",
      "text/plain": [
       "<Figure size 720x504 with 1 Axes>"
      ]
     },
     "metadata": {},
     "output_type": "display_data"
    }
   ],
   "source": [
    "num_tags = len(df_top_tag.name)\n",
    "ax = df_top_tag.plot('name', 'num_tw_idrs', kind='barh', figsize=(10, 7))\n",
    "ax.legend().set_visible(False)\n",
    "plt.title('GapMinder 各分類中，包含台灣數據的指標數\\n', fontsize=25)\n",
    "plt.xlabel('包含台灣數據的指標數', fontsize=20)\n",
    "plt.ylabel('', fontsize=20) \n",
    "plt.yticks(range(num_tags), df_top_tag.name, fontsize=20)\n",
    "plt.xticks(fontsize=20)\n",
    "\n",
    "rects = ax.get_children()[:num_tags]\n",
    "for rect in rects:\n",
    "    width = rect.get_width()\n",
    "    if width < 1: continue\n",
    "    plt.gca().text(width - 1, rect.get_y() + 0.08,\n",
    "                '{}'.format(int(width)) , fontsize=15,\n",
    "                ha='center', va='bottom', color='white')\n",
    "\n",
    "plt.savefig(RELATIVE_BLOG_PATH + 'content/images/gapminder/gapminder-indicators-with-twn.svg', bbox_inches='tight')"
   ]
  },
  {
   "cell_type": "markdown",
   "metadata": {},
   "source": [
    "## 更新泡泡圖選單 - 標籤\n",
    "- 泡泡圖選單由 `ddf--entities--tag.csv` 定義\n",
    "    - 拿翻譯結果的 `ddf--entities--tag.csv.translated` 來重新產生 `ddf--entities--tag.csv`\n",
    "- 為選單裡頭每個分類加上「台灣指標數」/「總指標數」\n",
    "- 複製更新後的檔案到 blog "
   ]
  },
  {
   "cell_type": "markdown",
   "metadata": {},
   "source": [
    "先為所有分類（大分類、中分類）建立\n",
    "- 總指標數(todo)\n",
    "- 台灣指標數"
   ]
  },
  {
   "cell_type": "code",
   "execution_count": 1678,
   "metadata": {},
   "outputs": [],
   "source": [
    "# !cp {BACKUP_TAG_CSV_PATH} {TRANSLATED_TAG_CSV_PATH}"
   ]
  },
  {
   "cell_type": "code",
   "execution_count": 1679,
   "metadata": {},
   "outputs": [
    {
     "data": {
      "text/html": [
       "<div>\n",
       "<style scoped>\n",
       "    .dataframe tbody tr th:only-of-type {\n",
       "        vertical-align: middle;\n",
       "    }\n",
       "\n",
       "    .dataframe tbody tr th {\n",
       "        vertical-align: top;\n",
       "    }\n",
       "\n",
       "    .dataframe thead th {\n",
       "        text-align: right;\n",
       "    }\n",
       "</style>\n",
       "<table border=\"1\" class=\"dataframe\">\n",
       "  <thead>\n",
       "    <tr style=\"text-align: right;\">\n",
       "      <th></th>\n",
       "      <th>tag</th>\n",
       "      <th>name</th>\n",
       "      <th>parent</th>\n",
       "    </tr>\n",
       "  </thead>\n",
       "  <tbody>\n",
       "    <tr>\n",
       "      <th>0</th>\n",
       "      <td>achievement</td>\n",
       "      <td>成就</td>\n",
       "      <td>education</td>\n",
       "    </tr>\n",
       "    <tr>\n",
       "      <th>1</th>\n",
       "      <td>advanced</td>\n",
       "      <td>進階用途</td>\n",
       "      <td>NaN</td>\n",
       "    </tr>\n",
       "    <tr>\n",
       "      <th>2</th>\n",
       "      <td>advanced_debt_trade</td>\n",
       "      <td>進階債務 &amp; 貿易</td>\n",
       "      <td>advanced</td>\n",
       "    </tr>\n",
       "    <tr>\n",
       "      <th>3</th>\n",
       "      <td>aid_given</td>\n",
       "      <td>提供援助</td>\n",
       "      <td>economy</td>\n",
       "    </tr>\n",
       "    <tr>\n",
       "      <th>4</th>\n",
       "      <td>aid_received</td>\n",
       "      <td>獲得援助</td>\n",
       "      <td>economy</td>\n",
       "    </tr>\n",
       "  </tbody>\n",
       "</table>\n",
       "</div>"
      ],
      "text/plain": [
       "                   tag       name     parent\n",
       "0          achievement         成就  education\n",
       "1             advanced       進階用途        NaN\n",
       "2  advanced_debt_trade  進階債務 & 貿易   advanced\n",
       "3            aid_given       提供援助    economy\n",
       "4         aid_received       獲得援助    economy"
      ]
     },
     "execution_count": 1679,
     "metadata": {},
     "output_type": "execute_result"
    }
   ],
   "source": [
    "df_t = pd.read_csv(TRANSLATED_TAG_CSV_PATH)\n",
    "df_t.head()"
   ]
  },
  {
   "cell_type": "markdown",
   "metadata": {},
   "source": [
    "從 `concept_metadata` 爬出的指標／標籤數據"
   ]
  },
  {
   "cell_type": "code",
   "execution_count": 1680,
   "metadata": {},
   "outputs": [
    {
     "data": {
      "text/html": [
       "<div>\n",
       "<style scoped>\n",
       "    .dataframe tbody tr th:only-of-type {\n",
       "        vertical-align: middle;\n",
       "    }\n",
       "\n",
       "    .dataframe tbody tr th {\n",
       "        vertical-align: top;\n",
       "    }\n",
       "\n",
       "    .dataframe thead th {\n",
       "        text-align: right;\n",
       "    }\n",
       "</style>\n",
       "<table border=\"1\" class=\"dataframe\">\n",
       "  <thead>\n",
       "    <tr style=\"text-align: right;\">\n",
       "      <th></th>\n",
       "      <th>name</th>\n",
       "      <th>num_idrs</th>\n",
       "      <th>type</th>\n",
       "      <th>num_tw_rows</th>\n",
       "      <th>earilest_year</th>\n",
       "      <th>parent</th>\n",
       "      <th>num_tw_idrs</th>\n",
       "      <th>concept</th>\n",
       "    </tr>\n",
       "  </thead>\n",
       "  <tbody>\n",
       "    <tr>\n",
       "      <th>0</th>\n",
       "      <td>Females aged 15+</td>\n",
       "      <td>1</td>\n",
       "      <td>indicator</td>\n",
       "      <td>40</td>\n",
       "      <td>1978</td>\n",
       "      <td>失業率</td>\n",
       "      <td>0</td>\n",
       "      <td>females_aged_15plus_unemployment_rate_percent</td>\n",
       "    </tr>\n",
       "    <tr>\n",
       "      <th>1</th>\n",
       "      <td>Aged 55+</td>\n",
       "      <td>1</td>\n",
       "      <td>indicator</td>\n",
       "      <td>40</td>\n",
       "      <td>1978</td>\n",
       "      <td>失業率</td>\n",
       "      <td>0</td>\n",
       "      <td>aged_65plus_unemployment_rate_percent</td>\n",
       "    </tr>\n",
       "    <tr>\n",
       "      <th>2</th>\n",
       "      <td>Males aged 15+</td>\n",
       "      <td>1</td>\n",
       "      <td>indicator</td>\n",
       "      <td>40</td>\n",
       "      <td>1978</td>\n",
       "      <td>失業率</td>\n",
       "      <td>0</td>\n",
       "      <td>males_aged_15plus_unemployment_rate_percent</td>\n",
       "    </tr>\n",
       "    <tr>\n",
       "      <th>3</th>\n",
       "      <td>Aged 55-64</td>\n",
       "      <td>1</td>\n",
       "      <td>indicator</td>\n",
       "      <td>40</td>\n",
       "      <td>1978</td>\n",
       "      <td>失業率</td>\n",
       "      <td>0</td>\n",
       "      <td>aged_55_64_unemployment_rate_percent</td>\n",
       "    </tr>\n",
       "    <tr>\n",
       "      <th>4</th>\n",
       "      <td>Females aged 55-64</td>\n",
       "      <td>1</td>\n",
       "      <td>indicator</td>\n",
       "      <td>40</td>\n",
       "      <td>1978</td>\n",
       "      <td>失業率</td>\n",
       "      <td>0</td>\n",
       "      <td>females_aged_55_64_unemployment_rate_percent</td>\n",
       "    </tr>\n",
       "  </tbody>\n",
       "</table>\n",
       "</div>"
      ],
      "text/plain": [
       "                 name  num_idrs       type  num_tw_rows  earilest_year parent  \\\n",
       "0    Females aged 15+         1  indicator           40           1978    失業率   \n",
       "1            Aged 55+         1  indicator           40           1978    失業率   \n",
       "2      Males aged 15+         1  indicator           40           1978    失業率   \n",
       "3          Aged 55-64         1  indicator           40           1978    失業率   \n",
       "4  Females aged 55-64         1  indicator           40           1978    失業率   \n",
       "\n",
       "   num_tw_idrs                                        concept  \n",
       "0            0  females_aged_15plus_unemployment_rate_percent  \n",
       "1            0          aged_65plus_unemployment_rate_percent  \n",
       "2            0    males_aged_15plus_unemployment_rate_percent  \n",
       "3            0           aged_55_64_unemployment_rate_percent  \n",
       "4            0   females_aged_55_64_unemployment_rate_percent  "
      ]
     },
     "execution_count": 1680,
     "metadata": {},
     "output_type": "execute_result"
    }
   ],
   "source": [
    "df.head()"
   ]
  },
  {
   "cell_type": "code",
   "execution_count": 1681,
   "metadata": {},
   "outputs": [
    {
     "data": {
      "text/html": [
       "<div>\n",
       "<style scoped>\n",
       "    .dataframe tbody tr th:only-of-type {\n",
       "        vertical-align: middle;\n",
       "    }\n",
       "\n",
       "    .dataframe tbody tr th {\n",
       "        vertical-align: top;\n",
       "    }\n",
       "\n",
       "    .dataframe thead th {\n",
       "        text-align: right;\n",
       "    }\n",
       "</style>\n",
       "<table border=\"1\" class=\"dataframe\">\n",
       "  <thead>\n",
       "    <tr style=\"text-align: right;\">\n",
       "      <th></th>\n",
       "      <th>tag</th>\n",
       "      <th>name</th>\n",
       "      <th>parent</th>\n",
       "      <th>num_idrs</th>\n",
       "      <th>num_tw_idrs</th>\n",
       "    </tr>\n",
       "  </thead>\n",
       "  <tbody>\n",
       "    <tr>\n",
       "      <th>0</th>\n",
       "      <td>achievement</td>\n",
       "      <td>成就</td>\n",
       "      <td>education</td>\n",
       "      <td>2.0</td>\n",
       "      <td>2.0</td>\n",
       "    </tr>\n",
       "    <tr>\n",
       "      <th>1</th>\n",
       "      <td>advanced</td>\n",
       "      <td>進階用途</td>\n",
       "      <td></td>\n",
       "      <td>62.0</td>\n",
       "      <td>35.0</td>\n",
       "    </tr>\n",
       "    <tr>\n",
       "      <th>2</th>\n",
       "      <td>advanced_debt_trade</td>\n",
       "      <td>進階債務 &amp; 貿易</td>\n",
       "      <td>advanced</td>\n",
       "      <td>6.0</td>\n",
       "      <td>0.0</td>\n",
       "    </tr>\n",
       "    <tr>\n",
       "      <th>3</th>\n",
       "      <td>aid_given</td>\n",
       "      <td>提供援助</td>\n",
       "      <td>economy</td>\n",
       "      <td>12.0</td>\n",
       "      <td>0.0</td>\n",
       "    </tr>\n",
       "    <tr>\n",
       "      <th>4</th>\n",
       "      <td>aid_received</td>\n",
       "      <td>獲得援助</td>\n",
       "      <td>economy</td>\n",
       "      <td>3.0</td>\n",
       "      <td>0.0</td>\n",
       "    </tr>\n",
       "  </tbody>\n",
       "</table>\n",
       "</div>"
      ],
      "text/plain": [
       "                   tag       name     parent  num_idrs  num_tw_idrs\n",
       "0          achievement         成就  education       2.0          2.0\n",
       "1             advanced       進階用途                 62.0         35.0\n",
       "2  advanced_debt_trade  進階債務 & 貿易   advanced       6.0          0.0\n",
       "3            aid_given       提供援助    economy      12.0          0.0\n",
       "4         aid_received       獲得援助    economy       3.0          0.0"
      ]
     },
     "execution_count": 1681,
     "metadata": {},
     "output_type": "execute_result"
    }
   ],
   "source": [
    "df_tmp = pd.merge(\n",
    "    df_t, \n",
    "    df[df.type.isin(['top_tag', 'other_tag'])].loc[:, ['name', 'num_idrs', 'num_tw_idrs']], how='left', on='name')\n",
    "df_tmp.loc[df_tmp.isnull().any(axis=1), ['parent']] = ''\n",
    "\n",
    "df_tmp.head()"
   ]
  },
  {
   "cell_type": "markdown",
   "metadata": {},
   "source": [
    "只更改有指標數據的標籤名稱"
   ]
  },
  {
   "cell_type": "code",
   "execution_count": 1682,
   "metadata": {},
   "outputs": [
    {
     "data": {
      "text/html": [
       "<div>\n",
       "<style scoped>\n",
       "    .dataframe tbody tr th:only-of-type {\n",
       "        vertical-align: middle;\n",
       "    }\n",
       "\n",
       "    .dataframe tbody tr th {\n",
       "        vertical-align: top;\n",
       "    }\n",
       "\n",
       "    .dataframe thead th {\n",
       "        text-align: right;\n",
       "    }\n",
       "</style>\n",
       "<table border=\"1\" class=\"dataframe\">\n",
       "  <thead>\n",
       "    <tr style=\"text-align: right;\">\n",
       "      <th></th>\n",
       "      <th>tag</th>\n",
       "      <th>name</th>\n",
       "      <th>parent</th>\n",
       "      <th>num_idrs</th>\n",
       "      <th>num_tw_idrs</th>\n",
       "    </tr>\n",
       "  </thead>\n",
       "  <tbody>\n",
       "    <tr>\n",
       "      <th>0</th>\n",
       "      <td>achievement</td>\n",
       "      <td>成就（2/2）</td>\n",
       "      <td>education</td>\n",
       "      <td>2.0</td>\n",
       "      <td>2.0</td>\n",
       "    </tr>\n",
       "    <tr>\n",
       "      <th>1</th>\n",
       "      <td>advanced</td>\n",
       "      <td>進階用途（35/62）</td>\n",
       "      <td></td>\n",
       "      <td>62.0</td>\n",
       "      <td>35.0</td>\n",
       "    </tr>\n",
       "    <tr>\n",
       "      <th>2</th>\n",
       "      <td>advanced_debt_trade</td>\n",
       "      <td>進階債務 &amp; 貿易（0/6）</td>\n",
       "      <td>advanced</td>\n",
       "      <td>6.0</td>\n",
       "      <td>0.0</td>\n",
       "    </tr>\n",
       "    <tr>\n",
       "      <th>3</th>\n",
       "      <td>aid_given</td>\n",
       "      <td>提供援助（0/12）</td>\n",
       "      <td>economy</td>\n",
       "      <td>12.0</td>\n",
       "      <td>0.0</td>\n",
       "    </tr>\n",
       "    <tr>\n",
       "      <th>4</th>\n",
       "      <td>aid_received</td>\n",
       "      <td>獲得援助（0/3）</td>\n",
       "      <td>economy</td>\n",
       "      <td>3.0</td>\n",
       "      <td>0.0</td>\n",
       "    </tr>\n",
       "  </tbody>\n",
       "</table>\n",
       "</div>"
      ],
      "text/plain": [
       "                   tag            name     parent  num_idrs  num_tw_idrs\n",
       "0          achievement         成就（2/2）  education       2.0          2.0\n",
       "1             advanced     進階用途（35/62）                 62.0         35.0\n",
       "2  advanced_debt_trade  進階債務 & 貿易（0/6）   advanced       6.0          0.0\n",
       "3            aid_given      提供援助（0/12）    economy      12.0          0.0\n",
       "4         aid_received       獲得援助（0/3）    economy       3.0          0.0"
      ]
     },
     "execution_count": 1682,
     "metadata": {},
     "output_type": "execute_result"
    }
   ],
   "source": [
    "df_tmp.loc[~df_tmp.isnull().any(axis=1), 'name'] = \\\n",
    "    df_tmp['name'] + '（' + df_tmp['num_tw_idrs'].fillna(0).map(int).map(str) \\\n",
    "    + '/' + df_tmp['num_idrs'].fillna(0).map(int).map(str) +  '）'\n",
    "df_tmp.head()"
   ]
  },
  {
   "cell_type": "markdown",
   "metadata": {},
   "source": [
    "更新本地端的 tag file 以及 blog 泡泡圖用的 tag file"
   ]
  },
  {
   "cell_type": "code",
   "execution_count": 1683,
   "metadata": {},
   "outputs": [],
   "source": [
    "df_tmp.loc[:, ['tag', 'name', 'parent']].to_csv(TAG_CSV_PATH, index=False)"
   ]
  },
  {
   "cell_type": "code",
   "execution_count": 1684,
   "metadata": {},
   "outputs": [],
   "source": [
    "!cp {TAG_CSV_PATH} {RELATIVE_BLOG_PATH}'output/projects/gapminder-tw/'{TAG_CSV_PATH}"
   ]
  },
  {
   "cell_type": "markdown",
   "metadata": {},
   "source": [
    "## 指標翻譯\n",
    "- 翻譯使用 .backup 檔案，然後產生 .translated 檔案，這樣在更新數字的時候翻譯才不會被蓋掉\n",
    "- 同時利用 `df` 資料確認哪些指標有台灣數據，優先翻譯\n",
    "- 翻譯完之後，利用下個步驟的[更新泡泡圖選單 - 指標](#更新泡泡圖選單---指標) 來為新翻譯好的指標加上 `earilest_year`"
   ]
  },
  {
   "cell_type": "code",
   "execution_count": 2035,
   "metadata": {
    "collapsed": true
   },
   "outputs": [
    {
     "data": {
      "text/plain": [
       "'statistics/ddf--concepts.csv.backup'"
      ]
     },
     "execution_count": 2035,
     "metadata": {},
     "output_type": "execute_result"
    }
   ],
   "source": [
    "BACKUP_CONCEPT_CSV_PATH"
   ]
  },
  {
   "cell_type": "code",
   "execution_count": 2036,
   "metadata": {
    "collapsed": true
   },
   "outputs": [
    {
     "data": {
      "text/html": [
       "<div>\n",
       "<style scoped>\n",
       "    .dataframe tbody tr th:only-of-type {\n",
       "        vertical-align: middle;\n",
       "    }\n",
       "\n",
       "    .dataframe tbody tr th {\n",
       "        vertical-align: top;\n",
       "    }\n",
       "\n",
       "    .dataframe thead th {\n",
       "        text-align: right;\n",
       "    }\n",
       "</style>\n",
       "<table border=\"1\" class=\"dataframe\">\n",
       "  <thead>\n",
       "    <tr style=\"text-align: right;\">\n",
       "      <th></th>\n",
       "      <th>concept</th>\n",
       "      <th>name</th>\n",
       "      <th>name_catalog</th>\n",
       "      <th>earilest_year</th>\n",
       "    </tr>\n",
       "  </thead>\n",
       "  <tbody>\n",
       "    <tr>\n",
       "      <th>0</th>\n",
       "      <td>adults_with_hiv_percent_age_15_49</td>\n",
       "      <td>Adults with HIV (%, age 15-49)</td>\n",
       "      <td>Adults with HIV (%, age 15-49)</td>\n",
       "      <td>0</td>\n",
       "    </tr>\n",
       "    <tr>\n",
       "      <th>1</th>\n",
       "      <td>age_at_1st_marriage_women</td>\n",
       "      <td>Age at 1st marriage (women)</td>\n",
       "      <td>Age at 1st marriage (women)</td>\n",
       "      <td>1905</td>\n",
       "    </tr>\n",
       "    <tr>\n",
       "      <th>2</th>\n",
       "      <td>aged_15_24_employment_rate_percent</td>\n",
       "      <td>Aged 15-24 employment rate (%)</td>\n",
       "      <td>Aged 15-24</td>\n",
       "      <td>1991</td>\n",
       "    </tr>\n",
       "    <tr>\n",
       "      <th>3</th>\n",
       "      <td>aged_15_24_unemployment_rate_percent</td>\n",
       "      <td>Aged 15-24 unemployment rate (%)</td>\n",
       "      <td>Aged 15-24</td>\n",
       "      <td>1978</td>\n",
       "    </tr>\n",
       "    <tr>\n",
       "      <th>4</th>\n",
       "      <td>aged_15_64_labour_force_participation_rate_per...</td>\n",
       "      <td>Aged 15-64 labour force participation rate (%)</td>\n",
       "      <td>Aged 15-64</td>\n",
       "      <td>1990</td>\n",
       "    </tr>\n",
       "  </tbody>\n",
       "</table>\n",
       "</div>"
      ],
      "text/plain": [
       "                                             concept  \\\n",
       "0                  adults_with_hiv_percent_age_15_49   \n",
       "1                          age_at_1st_marriage_women   \n",
       "2                 aged_15_24_employment_rate_percent   \n",
       "3               aged_15_24_unemployment_rate_percent   \n",
       "4  aged_15_64_labour_force_participation_rate_per...   \n",
       "\n",
       "                                             name  \\\n",
       "0                  Adults with HIV (%, age 15-49)   \n",
       "1                     Age at 1st marriage (women)   \n",
       "2                  Aged 15-24 employment rate (%)   \n",
       "3                Aged 15-24 unemployment rate (%)   \n",
       "4  Aged 15-64 labour force participation rate (%)   \n",
       "\n",
       "                     name_catalog  earilest_year  \n",
       "0  Adults with HIV (%, age 15-49)              0  \n",
       "1     Age at 1st marriage (women)           1905  \n",
       "2                      Aged 15-24           1991  \n",
       "3                      Aged 15-24           1978  \n",
       "4                      Aged 15-64           1990  "
      ]
     },
     "execution_count": 2036,
     "metadata": {},
     "output_type": "execute_result"
    }
   ],
   "source": [
    "df_c = pd.read_csv(BACKUP_CONCEPT_CSV_PATH).fillna('')\n",
    "df_c = pd.merge(\n",
    "    df_c, \n",
    "    df.loc[:, ['concept', 'earilest_year']], how='left', on='concept'\n",
    ")\n",
    "df_c.earilest_year = df_c.earilest_year.fillna(0).astype(int)\n",
    "df_c = df_c.fillna('')\n",
    "df_c.loc[:, ['concept', 'name', 'name_catalog', 'earilest_year']].head()"
   ]
  },
  {
   "cell_type": "code",
   "execution_count": 2037,
   "metadata": {},
   "outputs": [],
   "source": [
    "offset, count = 0, 50"
   ]
  },
  {
   "cell_type": "code",
   "execution_count": 2038,
   "metadata": {},
   "outputs": [
    {
     "data": {
      "text/html": [
       "<div>\n",
       "<style scoped>\n",
       "    .dataframe tbody tr th:only-of-type {\n",
       "        vertical-align: middle;\n",
       "    }\n",
       "\n",
       "    .dataframe tbody tr th {\n",
       "        vertical-align: top;\n",
       "    }\n",
       "\n",
       "    .dataframe thead th {\n",
       "        text-align: right;\n",
       "    }\n",
       "</style>\n",
       "<table border=\"1\" class=\"dataframe\">\n",
       "  <thead>\n",
       "    <tr style=\"text-align: right;\">\n",
       "      <th></th>\n",
       "      <th>concept</th>\n",
       "      <th>name</th>\n",
       "      <th>name_catalog</th>\n",
       "      <th>name_short</th>\n",
       "    </tr>\n",
       "  </thead>\n",
       "  <tbody>\n",
       "    <tr>\n",
       "      <th>0</th>\n",
       "      <td>adults_with_hiv_percent_age_15_49</td>\n",
       "      <td>Adults with HIV (%, age 15-49)</td>\n",
       "      <td>Adults with HIV (%, age 15-49)</td>\n",
       "      <td>Adults with HIV</td>\n",
       "    </tr>\n",
       "    <tr>\n",
       "      <th>1</th>\n",
       "      <td>age_at_1st_marriage_women</td>\n",
       "      <td>Age at 1st marriage (women)</td>\n",
       "      <td>Age at 1st marriage (women)</td>\n",
       "      <td>Age at 1st marriage</td>\n",
       "    </tr>\n",
       "    <tr>\n",
       "      <th>2</th>\n",
       "      <td>aged_15_24_employment_rate_percent</td>\n",
       "      <td>Aged 15-24 employment rate (%)</td>\n",
       "      <td>Aged 15-24</td>\n",
       "      <td>Employment rate (%)</td>\n",
       "    </tr>\n",
       "    <tr>\n",
       "      <th>3</th>\n",
       "      <td>aged_15_24_unemployment_rate_percent</td>\n",
       "      <td>Aged 15-24 unemployment rate (%)</td>\n",
       "      <td>Aged 15-24</td>\n",
       "      <td>Unemployment rate (%)</td>\n",
       "    </tr>\n",
       "    <tr>\n",
       "      <th>4</th>\n",
       "      <td>aged_15_64_labour_force_participation_rate_per...</td>\n",
       "      <td>Aged 15-64 labour force participation rate (%)</td>\n",
       "      <td>Aged 15-64</td>\n",
       "      <td>Labour force participation rate (%)</td>\n",
       "    </tr>\n",
       "  </tbody>\n",
       "</table>\n",
       "</div>"
      ],
      "text/plain": [
       "                                             concept  \\\n",
       "0                  adults_with_hiv_percent_age_15_49   \n",
       "1                          age_at_1st_marriage_women   \n",
       "2                 aged_15_24_employment_rate_percent   \n",
       "3               aged_15_24_unemployment_rate_percent   \n",
       "4  aged_15_64_labour_force_participation_rate_per...   \n",
       "\n",
       "                                             name  \\\n",
       "0                  Adults with HIV (%, age 15-49)   \n",
       "1                     Age at 1st marriage (women)   \n",
       "2                  Aged 15-24 employment rate (%)   \n",
       "3                Aged 15-24 unemployment rate (%)   \n",
       "4  Aged 15-64 labour force participation rate (%)   \n",
       "\n",
       "                     name_catalog                           name_short  \n",
       "0  Adults with HIV (%, age 15-49)                      Adults with HIV  \n",
       "1     Age at 1st marriage (women)                  Age at 1st marriage  \n",
       "2                      Aged 15-24                  Employment rate (%)  \n",
       "3                      Aged 15-24                Unemployment rate (%)  \n",
       "4                      Aged 15-64  Labour force participation rate (%)  "
      ]
     },
     "execution_count": 2038,
     "metadata": {},
     "output_type": "execute_result"
    }
   ],
   "source": [
    "# df_tmp = df_c.loc[df_c.earilest_year != 0, ['concept', 'name', 'name_catalog', 'name_short']].iloc[offset:, :]\n",
    "df_tmp = df_c.loc[:, ['concept', 'name', 'name_catalog', 'name_short']].iloc[offset:, :]\n",
    "df_tmp.head()"
   ]
  },
  {
   "cell_type": "markdown",
   "metadata": {},
   "source": [
    "### 利用預先定義的 rule-based 產生翻譯 config"
   ]
  },
  {
   "cell_type": "code",
   "execution_count": 2039,
   "metadata": {},
   "outputs": [],
   "source": [
    "translations_c = {}\n",
    "en_to_ch = [\n",
    "    ('data_quality', '數據品質'),\n",
    "    ('_employment_rate_percent', '就業率（％）'),\n",
    "    ('_unemployment_rate_percent', '失業率（％）'),\n",
    "    ('_labour_force_participation_rate_percent', '勞動參與率（%）'),\n",
    "    ('life_expectancy_', '平均壽命'),\n",
    "    ('_workers_', '勞動比例'),\n",
    "    ('self_employed_', '（自由業）比例'),\n",
    "    ('_cancer_', '癌'),\n",
    "    ('_deaths_', '死亡'),\n",
    "    ('_affected_', '受{}影響人數'),\n",
    "    ('_emission', '排放量'),\n",
    "    ('income_', '所得'),\n",
    "    ('_population', '人口'),\n",
    "    ('population_', '人口'),\n",
    "]\n",
    "ens, chs = [t[0] for t in en_to_ch], [t[1] for t in en_to_ch]"
   ]
  },
  {
   "cell_type": "code",
   "execution_count": 2040,
   "metadata": {},
   "outputs": [
    {
     "name": "stdout",
     "output_type": "stream",
     "text": [
      "crude_birth_rate_births_per_1000_population\n",
      "人口 人口 人口\n",
      "female_population_with_projections\n",
      "女性人口總數, 含預測 女性人口總數 女性人口總數\n",
      "male_population_with_projections\n",
      "男性人口總數, 含預測 男性人口總數 男性人口總數\n",
      "population_density_per_square_km\n",
      "人口密度 人口密度 人口密度\n",
      "population_growth_annual_percent\n",
      "人口成長（％, 每年成長） 人口成長（％） 人口成長（％）\n",
      "population_growth_annual_percent_with_projections\n",
      "人口成長（％, 每年成長）, 含預測 人口成長（％） 人口成長（％）\n",
      "population_in_urban_agglomerations_m_1_million_percent_of_total\n",
      "都市人口集會比例（％, 在超過 100 萬都市的人口佔總人口的比例） 都市人口集會比例 都市人口集會比例\n",
      "population_policies_aid_given_percent_of_aid\n",
      "人口 人口 人口\n",
      "population_total\n",
      "人口總數 人口總數 人口總數\n",
      "smoking_adults_percent_of_population_over_age_15\n",
      "人口 人口 人口\n",
      "tb_programme_dots_population_coverage_percent\n",
      "人口 人口 人口\n",
      "total_population_with_projections\n",
      "人口總數, 含預測 人口總數 人口總數\n",
      "urban_population\n",
      "都市人口 都市人口 都市人口\n",
      "urban_population_growth_annual_percent\n",
      "都市人口成長（％, 每年成長） 都市人口成長（％） 都市人口成長（％）\n",
      "urban_population_percent_of_total\n",
      "都市人口比例（％, 佔總人口的比例） 都市人口比例（％） 都市人口比例（％）\n"
     ]
    }
   ],
   "source": [
    "concepts, names, catalogs, shorts = df_tmp.concept.values, df_tmp.name.values, df_tmp.name_catalog.values, df_tmp.name_short.values\n",
    "for c, n, n_c, n_s in zip(concepts, names, catalogs, shorts):    \n",
    "    # 看指標內有無關鍵字\n",
    "    is_translation_generated = True\n",
    "    \n",
    "    for idx, en in enumerate(ens):\n",
    "        if en in c:\n",
    "#             if c == 'female_self_employed_percent_of_female_employment':\n",
    "#                 print(\"GETIN!\", c, en)\n",
    "            \n",
    "            ch = chs[idx]\n",
    "            terms = c.split('_')\n",
    "            \n",
    "            # general 性別檢視\n",
    "            sex = ''\n",
    "            for t in terms:\n",
    "                if t in ['female', 'females', 'women']: sex = '女性'\n",
    "                elif t in ['male', 'males', 'men']: sex = '男性'\n",
    "                    \n",
    "            # 年齡相關指標（就業率、失業率、人口）\n",
    "            if 'aged' in c:\n",
    "                if terms[0] == 'aged': idx_age = idx_lower = 1\n",
    "                else: idx_age = idx_lower = 2 # 有性別的情況\n",
    "                \n",
    "                idx_high = idx_lower + 1\n",
    "                name_short = ch\n",
    "                if 'plus_' in c:\n",
    "                    age = c.split('_')[idx_age].replace('plus', '')\n",
    "                    name_catalog = age + ' 歲以上'\n",
    "                else:\n",
    "                    low, high = c.split('_')[idx_lower:idx_high + 1]\n",
    "                    name_catalog = f'{low}-{high} 歲'\n",
    "                \n",
    "                name_catalog = name_catalog + ', ' + sex if sex else name_catalog\n",
    "                name = name_catalog + name_short\n",
    "                translations_c[c] = [name, name_catalog, name_short]\n",
    "            # 癌症相關指標\n",
    "            elif en == '_cancer_':\n",
    "                cancers = {\n",
    "                    'prostate': '攝護腺', 'stomach': '胃', 'breast': '乳', 'cervical': '子宮頸',\n",
    "                    'colonandrectum': '大腸直腸', 'liver': '肝', 'lung': '肺'}\n",
    "                for name in cancers:\n",
    "                    if name in c: \n",
    "                        ch = cancers[name] + ch\n",
    "                        break\n",
    "                # sex(2) * per 100,000(2) * death/cases(2) = 8 種排列組合\n",
    "                sex = '女性' if 'female' in c or 'women' in c else '男性'\n",
    "                per = '（每 10 萬人）' if '_per_' in c else ''\n",
    "                _type = '死亡數' if 'deaths' in c else '病例數'\n",
    "                name_catalog = ch + _type + per\n",
    "                name = ch + _type + ', ' + sex + per\n",
    "                translations_c[c] = [name, name_catalog, name_catalog]\n",
    "            # 失業 / 長期失業\n",
    "            elif en == '_unemployment_rate_percent':\n",
    "                if sex: sex = ', ' + sex\n",
    "                long_term = '長期' if 'long_term' in c else ''\n",
    "                name = name_catalog = long_term + ch + sex\n",
    "                translations_c[c] = [name, name_catalog, ch]\n",
    "            # 勞動力（產業別、性別）\n",
    "            elif '_workers_' in c or 'self_employed_' in c:\n",
    "                sectors = {\n",
    "                    'agriculture': '農業', 'family': '家庭', 'industry': '工業',\n",
    "                    'service': '服務業', 'salaried': '受薪', 'self': '自雇'}\n",
    "                \n",
    "                for t in terms:\n",
    "                    if t in sectors: \n",
    "                        s = sectors[t]\n",
    "                        if t == 'salaried': ch = '僱員比例'\n",
    "                            \n",
    "                name_short = name_catalog = sex + s + ch\n",
    "                name = name_catalog + '（％, 佔全體' + sex + '就業比例）'\n",
    "                translations_c[c] = [name, name_catalog, name_short]\n",
    "            # 死亡/受影響數據（兒童/新生兒、每 X 人、每年天災、通報/預估）\n",
    "            elif en in ['_deaths_', '_affected_']:\n",
    "                human_type = ''\n",
    "                if 'in_children' in c: human_type = '1-59 個月兒童'\n",
    "                elif 'in_newborn' in c: human_type = '新生兒'\n",
    "\n",
    "                death_cause = ''\n",
    "                if 'diarrhoeal' in c: death_cause = '痢疾'\n",
    "                elif 'tb_with_hivplus' in c: death_cause = '愛滋與結核病'  \n",
    "                elif 'hiv' in c: death_cause = '愛滋'\n",
    "                elif 'injury' in c: death_cause = '受傷'\n",
    "                elif 'malaria' in c: death_cause = '瘧疾'\n",
    "                elif 'measles' in c: death_cause = '麻疹'\n",
    "                elif 'meningitis' in c: death_cause = '腦膜炎'\n",
    "                elif 'ncd' in c: death_cause = '非傳染性疾病'\n",
    "                elif 'other_infections' in c: death_cause = '其他傳染性疾病'\n",
    "                elif 'pertussis' in c: death_cause = '百日咳'\n",
    "                elif 'pneumonia' in c: death_cause = '肺炎'\n",
    "                elif 'sepsis' in c: death_cause = '敗血症'\n",
    "                elif 'tetanus' in c: death_cause = '破傷風'\n",
    "                elif 'prematurity' in c: death_cause = '早產'\n",
    "                elif 'asphyxia' in c: death_cause = '產時窒息'\n",
    "                elif 'congenital' in c: death_cause = '先天性'\n",
    "                elif '_tb_' in c: death_cause = '結核病'\n",
    "                elif 'other_deaths' in c: death_cause = '其他'\n",
    "                elif 'all_causes' in c: death_cause = '所有'\n",
    "                elif 'tsunami' in c: death_cause = '海嘯'\n",
    "                elif 'drought' in c: death_cause = '旱災'\n",
    "                elif 'earthquake' in c: death_cause = '地震'\n",
    "                elif 'epidemic' in c: death_cause = '傳染病'\n",
    "                elif 'extreme_temperature' in c: death_cause = '極端溫度'\n",
    "                elif 'flood' in c: death_cause = '水災'\n",
    "                elif 'plane_crash' in c: death_cause = '飛機失事'\n",
    "                elif 'storm' in c: death_cause = '暴風雨（雪）'\n",
    "                elif 'traffic' in c: death_cause = '交通事故'\n",
    "                elif 'battle' in c: death_cause = '戰爭'\n",
    "                elif 'motorcycle' in c: death_cause = '摩托車'\n",
    "                elif 'maternal' in c: death_cause = '孕產婦'\n",
    "                elif 'burns' in c: death_cause = '燒傷'\n",
    "                elif 'crude' in c: death_cause = '概略'\n",
    "                elif 'poisonings' in c: death_cause = '中毒'\n",
    "                elif 'falls' in c: death_cause = '摔倒'\n",
    "                elif 'car' in c: death_cause = '車禍'  \n",
    "                    \n",
    "                if not death_cause:\n",
    "                    print(\"No death cause: \", c)\n",
    "                    continue\n",
    "                    \n",
    "                # 天災人禍格式 - per\n",
    "                if '_per_' in c and ('_people' in c or '_population' in c or \\\n",
    "                                     '_estimated' in c or '_reported' in c or '_risk' in c or \\\n",
    "                                     'battle' in c):\n",
    "                    for t in terms:\n",
    "                        # 特別處理，戰爭的 concept name 跟別人不一樣\n",
    "                        if t == 'battle': num_ppl = '10 萬人'\n",
    "                        elif t == '1000': num_ppl = '1,000 人'\n",
    "                        elif t == '100000': num_ppl = '10 萬人'\n",
    "                    \n",
    "                    name_catalog = name_short = death_cause + ch\n",
    "                    if sex: name_catalog += f', {sex}'\n",
    "                    name = name_catalog = name_catalog + f'（每 {num_ppl}）'\n",
    "    \n",
    "                # 天災格式 - 全年\n",
    "                elif 'annual_number' in c:\n",
    "                    if en == '_affected_':\n",
    "                        name_short = name_catalog = ch.format(death_cause)\n",
    "                    else:\n",
    "                        name_short = name_catalog = '因' + death_cause + ch + '人數'\n",
    "                    name = '全年' + name_catalog\n",
    "                # 兒童、新生兒\n",
    "                elif human_type and death_cause:\n",
    "                    death_cause = death_cause + ch\n",
    "                    counts = '（‰, 每 1,000 出生人數）' if '_per_' in c else '（人數）'\n",
    "                    if human_type and death_cause:\n",
    "                        name_catalog = death_cause + counts\n",
    "                        name_short = human_type.split('（')[0] + death_cause\n",
    "                        name = human_type + name_catalog\n",
    "                else:\n",
    "                    name_catalog = name_short = death_cause + ch\n",
    "                    name = '全年' + name_catalog             \n",
    "                translations_c[c] = [name, name_catalog, name_short]    \n",
    "                \n",
    "            # 數據品質\n",
    "            # consumption / production\n",
    "            \n",
    "            # 人口總數/成長\n",
    "            elif en in ['_population', 'population_']:\n",
    "                postfix1, postfix2 = '', ''\n",
    "                if 'growth_' in c:\n",
    "                    postfix1 = '成長（％）'\n",
    "                    postfix2 = '成長（％, 每年成長）'\n",
    "                elif '_density_' in c:\n",
    "                    postfix1 = postfix2 = '密度'\n",
    "                    measure = ''\n",
    "                    if 'square_km' in c:\n",
    "                        measure = '平方公里'\n",
    "                elif 'percent_of_total' in c:\n",
    "                    postfix1 = '比例（％）'\n",
    "                    postfix2 = '比例（％, 佔總人口的比例）'\n",
    "                elif 'total' in c or sex:\n",
    "                    postfix1 = postfix2 = '總數'\n",
    "                    \n",
    "                proj = ''\n",
    "                if '_with_projections' in c:    \n",
    "                    proj = ', 含預測'\n",
    "                    \n",
    "                prefix = ''\n",
    "                if 'urban_' in c:\n",
    "                    prefix = '都市'\n",
    "                \n",
    "                name_catalog = name_short = prefix + sex + ch + postfix1\n",
    "                name = prefix + sex + ch + postfix2 + proj\n",
    "                \n",
    "                #overwrite\n",
    "                if 'agglomerations_'in c:\n",
    "                    name_catalog = name_short = '都市人口集會比例'\n",
    "                    name = '都市人口集會比例（％, 在超過 100 萬都市的人口佔總人口的比例）'\n",
    "                translations_c[c] = [name, name_catalog, name_short]    \n",
    "            # 所得相關指標\n",
    "            elif en == 'income_':\n",
    "                per = '人均' if '_per_' in c else ''\n",
    "                proj = ', 含預測' if 'with_projections' in c else ''\n",
    "                adjust = ''\n",
    "                if 'ppp_inflation_adjusted' in c:\n",
    "                    adjust = '（GDP/人, 購買力平價$, 通膨調整）'\n",
    "                    \n",
    "                if per:\n",
    "                    name_catalog = name_short = per + ch + proj\n",
    "                    name = name_catalog + adjust\n",
    "                \n",
    "                if '_share_' in c:\n",
    "                    dist = '收入份額（％）'\n",
    "                    \n",
    "                    group, perc, second = [''] * 3\n",
    "                    if '2nd_' in c: second = '第 2 '\n",
    "                    if '_10' in c: perc = '10'\n",
    "                    elif '_20' in c: perc = '20'\n",
    "\n",
    "                        \n",
    "                    if 'middle' in c: group = '中間'\n",
    "                    elif 'richest' in c:\n",
    "                        if not second: group = '最富有'\n",
    "                        else: group = '富有'\n",
    "                    elif 'poorest' in c:\n",
    "                        if not second: group = '最貧窮'\n",
    "                        else: group = '貧窮'\n",
    "                    \n",
    "                    group += f'的 {perc}% '\n",
    "                    \n",
    "                    name_catalog = name_short = second + group + dist\n",
    "                    name = second + group + '佔全體' + dist\n",
    "                translations_c[c] = [name, name_catalog, name_short]\n",
    "            # 污染源排放量\n",
    "            elif en == '_emission':\n",
    "                energy = ''\n",
    "                if 'sulfur_' in c: energy = '硫化物'\n",
    "                elif 'co2_' in c: energy = '二氧化碳'\n",
    "                \n",
    "                measure = ''\n",
    "                if '_kilotonnes' in c or '1000_tonnes' in c: measure = '千噸'\n",
    "                elif 'tonnes' in c: measure = '公噸'\n",
    "                elif '_kg' in c: measure = '公斤'\n",
    "                    \n",
    "                per = f'人均' if '_per_' in c else ''\n",
    "                name = name_catalog = name_short = energy + ch\n",
    "\n",
    "                if per: name = name + f'（{measure}/人）'\n",
    "                else: name = name + f'（{measure}）' \n",
    "                translations_c[c] = [name, name_catalog, name_short]\n",
    "    \n",
    "            # 平均壽命\n",
    "            elif en == 'life_expectancy_':\n",
    "                name_short = ch\n",
    "                if 'years' in c:\n",
    "                    name = name_catalog = ch\n",
    "                elif 'at_birth' in c or sex:\n",
    "                    if 'projections' in c or sex:\n",
    "                        name = name_catalog = sex + ch + ', 包含預測'\n",
    "                    elif 'ihme' in c:\n",
    "                        name = name_catalog = ch + ', 數據來源：IHME'\n",
    "                \n",
    "                translations_c[c] = [name, name_catalog, name_short]\n",
    "            else:\n",
    "                pass\n",
    "#                 print(c, f'找到 rule: \"{en}\", 等待進一步處理')\n",
    "            \n",
    "            # find rules, leave\n",
    "            break"
   ]
  },
  {
   "cell_type": "markdown",
   "metadata": {},
   "source": [
    "### 手動添加翻譯"
   ]
  },
  {
   "cell_type": "code",
   "execution_count": 2041,
   "metadata": {},
   "outputs": [],
   "source": [
    "manual = {\n",
    "    'age_at_1st_marriage_women': ['首次結婚年齡（女性）', '首次結婚年齡（女性）', '首次結婚年齡'],\n",
    "    'alternative_gdp_per_capita_ppp_pwt_7_1': ['替代人均 GDP（購買力平價$）, PWT 7.1', '人均 GDP（購買力平價$）, PWT 7.1', '人均 GDP（購買力平價$）'],\n",
    "    'alternative_gdp_per_capita_ppp_pwt_8_0': ['替代人均 GDP（購買力平價$）, PWT 8.0', '人均 GDP（購買力平價$）, PWT 8.0', '人均 GDP（購買力平價$）'],\n",
    "    'alternative_gdppercapita_ppp_inflation_adjusted_from_pwt': ['替代人均 GDP（購買力平價$，通膨調整）, PWT', '人均 GDP（購買力平價$，通膨調整）, PWT', '人均 GDP（購買力平價$）'],\n",
    "    'average_age_of_dollar_billionaires_years': ['億萬富翁平均年齡'],\n",
    "    'blood_pressure_sbp_men_mmhg': ['男性血壓（收縮壓, mmHg）', '男性血壓', '男性血壓'],\n",
    "    'blood_pressure_sbp_women_mmhg': ['女性血壓（收縮壓, mmHg）', '女性血壓', '女性血壓'],\n",
    "    'body_mass_index_bmi_men_kgperm2': ['男性身體質量指數（BMI,  公斤/身高平方）', '男性 BMI', 'BMI'],\n",
    "    'body_mass_index_bmi_women_kgperm2': ['女性身體質量指數（BMI,  公斤/身高平方）', '女性 BMI', 'BMI'],\n",
    "    'drownings_per_100000_people': ['溺水身亡（每 10 萬人）', '溺水身亡（每 10 萬人）', '溺水身亡'],\n",
    "    'malnutrition_weight_for_age_percent_of_children_under_5': ['過輕兒童比例（營養不良）', '過輕兒童比例', '過輕兒童比例（營養不良）'],\n",
    "    'underweight_children': ['過輕兒童比例'],\n",
    "    'ifpri_underweight_children': ['過輕兒童比例, 數據來源：IFPRI', '過輕兒童比例', '過輕兒童比例'],\n",
    "    'number_of_child_deaths': ['兒童死亡人數'],\n",
    "    'newborn_deaths': ['新生兒死亡人數'],\n",
    "    'suicide_total_deaths': ['自殺身亡'],\n",
    "    'murder_total_deaths': ['謀殺身亡'],\n",
    "    'children_per_woman_total_fertility': ['婦女人均嬰兒數'],\n",
    "    'children_per_woman_total_fertility_with_projections': ['婦女人均嬰兒數, 包含預測'],\n",
    "    'teen_fertility_rate_births_per_1000_women_ages_15_19': ['15-19 歲女性青少年生育率（每 1,000 位女性的出生數）', '青少年生育率', '青少年生育率'],\n",
    "    'child_mortality_0_5_year_olds_dying_per_1000_born': ['兒童死亡率（‰, 每 1,000 出生人數的兒童死亡人數）', '兒童死亡率', '兒童死亡率（‰）'],\n",
    "    'child_mortality_0_5_year_olds_more_years_version_7': ['兒童死亡率（‰, 每 1,000 出生人數的兒童死亡人數）, 版本 7, 有更多年數據', '兒童死亡率', '兒童死亡率（‰）'],\n",
    "    'debt_servicing_costs_percent_of_exports_and_net_income_from_abroad': ['償債出口比（％, 債務佔出口以及海外獲利之比例）', '償債出口比（％）', '償債出口比（％）'],\n",
    "    'smoking_adults_percent_of_population_over_age_15': ['吸菸比例（％, 吸菸人數佔 15 歲以上人口比例）', '吸菸比例（％）', '吸菸比例（％）'],\n",
    "    'smoking_men_percent_of_men_over_age_15': ['男性吸菸比例（％, 男性吸菸人數佔 15 歲以上人口比例）', '男性吸菸比例（％）', '男性吸菸比例（％）'],\n",
    "    'smoking_women_percent_of_women_over_age_15': ['吸菸比例（％, 女性吸菸人數佔 15 歲以上人口比例）', '女性吸菸比例（％）', '女性吸菸比例（％）'],\n",
    "    'population_policies_aid_given_percent_of_aid': ['人口政策援助（％, 佔所有援助的比例）', '人口政策援助', '人口政策援助'],\n",
    "    'tb_programme_dots_population_coverage_percent': ['結核病計畫（DOTS）涵蓋率'],\n",
    "    'crude_birth_rate_births_per_1000_population': ['概略出生率（％, 每 1,000 人的出生數）', '概略出生率', '概略出生率'],\n",
    "    'crude_death_rate_deaths_per_1000_population': ['概略死亡率（％, 每 1,000 人的死亡數）', '概略死亡率', '概略死亡率'],\n",
    "    'median_age_years': ['所有人口的年齡中位數', '年齡中位數', '年齡中位數'],\n",
    "    'children_and_elderly_per_100_adults': ['兒童年長者數（每 100 位成人）', '兒童年長者數', '兒童年長者數'],\n",
    "    'new_births_total_number_estimated': ['新生兒人數（估計）', '新生兒人數', '新生兒人數'],\n",
    "    \n",
    "}"
   ]
  },
  {
   "cell_type": "code",
   "execution_count": null,
   "metadata": {},
   "outputs": [],
   "source": []
  },
  {
   "cell_type": "markdown",
   "metadata": {},
   "source": [
    "將手動翻譯加入翻譯字典"
   ]
  },
  {
   "cell_type": "code",
   "execution_count": 2042,
   "metadata": {
    "collapsed": true
   },
   "outputs": [],
   "source": [
    "for c, n in manual.items():\n",
    "    # same name for all three type of names\n",
    "    if len(n) == 1:\n",
    "        n = n * 3\n",
    "    \n",
    "    translations_c[c] = n"
   ]
  },
  {
   "cell_type": "markdown",
   "metadata": {},
   "source": [
    "實際套用產生的翻譯，來修改暫存 CSV 的 `df_c`"
   ]
  },
  {
   "cell_type": "code",
   "execution_count": 2043,
   "metadata": {},
   "outputs": [],
   "source": [
    "names = ['name', 'name_catalog', 'name_short']\n",
    "for c, n in translations_c.items():\n",
    "    df_c.loc[df_c.concept == c, names] = n\n",
    "    \n",
    "    # for easier evaluation\n",
    "    df_tmp.loc[df_tmp.concept == c, names] = n\n",
    "    df_tmp.loc[df_tmp.concept == c, 'translated'] = True"
   ]
  },
  {
   "cell_type": "code",
   "execution_count": 2044,
   "metadata": {},
   "outputs": [
    {
     "data": {
      "text/plain": [
       "(328, 5)"
      ]
     },
     "execution_count": 2044,
     "metadata": {},
     "output_type": "execute_result"
    }
   ],
   "source": [
    "df_tmp[~(df_tmp.translated == True)].sort_values('concept').shape"
   ]
  },
  {
   "cell_type": "markdown",
   "metadata": {},
   "source": [
    "## 翻譯分類名稱"
   ]
  },
  {
   "cell_type": "code",
   "execution_count": 2045,
   "metadata": {},
   "outputs": [],
   "source": [
    "categorizations = {\n",
    "    'main_religion_2008': '2008 年主要宗教',\n",
    "    'geo': '地理位置',\n",
    "    'g77_and_oecd_countries': 'G77 與 OECD 國家',\n",
    "    'landlocked': '內陸 / 海岸線',\n",
    "    'world_4region': '歐美亞非',\n",
    "    'world_6region': '世界 6 大地區',\n",
    "    'color': '顏色',\n",
    "}"
   ]
  },
  {
   "cell_type": "code",
   "execution_count": 2046,
   "metadata": {},
   "outputs": [],
   "source": [
    "for c, ch in categorizations.items():\n",
    "    df_c.loc[df_c.concept == c, 'name'] = ch"
   ]
  },
  {
   "cell_type": "markdown",
   "metadata": {},
   "source": [
    "### 儲存翻譯結果"
   ]
  },
  {
   "cell_type": "code",
   "execution_count": 2047,
   "metadata": {},
   "outputs": [],
   "source": [
    "df_c.loc[:, df_c.columns[:-1]].to_csv(TRANSLATED_CONCEPT_CSV_PATH, index=False)"
   ]
  },
  {
   "cell_type": "code",
   "execution_count": null,
   "metadata": {},
   "outputs": [],
   "source": []
  },
  {
   "cell_type": "code",
   "execution_count": null,
   "metadata": {},
   "outputs": [],
   "source": []
  },
  {
   "cell_type": "markdown",
   "metadata": {},
   "source": [
    "## 更新泡泡圖選單 - 指標\n",
    "跟 tag 一樣，每次都使用翻譯過的檔案 .translated 來產生結果\n",
    "- 改變的是 concept file 裡頭的 `name_catalog`"
   ]
  },
  {
   "cell_type": "code",
   "execution_count": 2048,
   "metadata": {},
   "outputs": [
    {
     "data": {
      "text/html": [
       "<div>\n",
       "<style scoped>\n",
       "    .dataframe tbody tr th:only-of-type {\n",
       "        vertical-align: middle;\n",
       "    }\n",
       "\n",
       "    .dataframe tbody tr th {\n",
       "        vertical-align: top;\n",
       "    }\n",
       "\n",
       "    .dataframe thead th {\n",
       "        text-align: right;\n",
       "    }\n",
       "</style>\n",
       "<table border=\"1\" class=\"dataframe\">\n",
       "  <thead>\n",
       "    <tr style=\"text-align: right;\">\n",
       "      <th></th>\n",
       "      <th>concept</th>\n",
       "      <th>name</th>\n",
       "      <th>name_catalog</th>\n",
       "      <th>earilest_year</th>\n",
       "    </tr>\n",
       "  </thead>\n",
       "  <tbody>\n",
       "    <tr>\n",
       "      <th>0</th>\n",
       "      <td>adults_with_hiv_percent_age_15_49</td>\n",
       "      <td>Adults with HIV (%, age 15-49)</td>\n",
       "      <td>Adults with HIV (%, age 15-49)</td>\n",
       "      <td>0</td>\n",
       "    </tr>\n",
       "    <tr>\n",
       "      <th>1</th>\n",
       "      <td>age_at_1st_marriage_women</td>\n",
       "      <td>首次結婚年齡（女性）</td>\n",
       "      <td>首次結婚年齡（女性）</td>\n",
       "      <td>1905</td>\n",
       "    </tr>\n",
       "    <tr>\n",
       "      <th>2</th>\n",
       "      <td>aged_15_24_employment_rate_percent</td>\n",
       "      <td>15-24 歲就業率（％）</td>\n",
       "      <td>15-24 歲</td>\n",
       "      <td>1991</td>\n",
       "    </tr>\n",
       "    <tr>\n",
       "      <th>3</th>\n",
       "      <td>aged_15_24_unemployment_rate_percent</td>\n",
       "      <td>15-24 歲失業率（％）</td>\n",
       "      <td>15-24 歲</td>\n",
       "      <td>1978</td>\n",
       "    </tr>\n",
       "    <tr>\n",
       "      <th>4</th>\n",
       "      <td>aged_15_64_labour_force_participation_rate_per...</td>\n",
       "      <td>15-64 歲勞動參與率（%）</td>\n",
       "      <td>15-64 歲</td>\n",
       "      <td>1990</td>\n",
       "    </tr>\n",
       "  </tbody>\n",
       "</table>\n",
       "</div>"
      ],
      "text/plain": [
       "                                             concept  \\\n",
       "0                  adults_with_hiv_percent_age_15_49   \n",
       "1                          age_at_1st_marriage_women   \n",
       "2                 aged_15_24_employment_rate_percent   \n",
       "3               aged_15_24_unemployment_rate_percent   \n",
       "4  aged_15_64_labour_force_participation_rate_per...   \n",
       "\n",
       "                             name                    name_catalog  \\\n",
       "0  Adults with HIV (%, age 15-49)  Adults with HIV (%, age 15-49)   \n",
       "1                      首次結婚年齡（女性）                      首次結婚年齡（女性）   \n",
       "2                   15-24 歲就業率（％）                         15-24 歲   \n",
       "3                   15-24 歲失業率（％）                         15-24 歲   \n",
       "4                 15-64 歲勞動參與率（%）                         15-64 歲   \n",
       "\n",
       "   earilest_year  \n",
       "0              0  \n",
       "1           1905  \n",
       "2           1991  \n",
       "3           1978  \n",
       "4           1990  "
      ]
     },
     "execution_count": 2048,
     "metadata": {},
     "output_type": "execute_result"
    }
   ],
   "source": [
    "df_c = pd.read_csv(TRANSLATED_CONCEPT_CSV_PATH).fillna('')\n",
    "df_c = pd.merge(\n",
    "    df_c, \n",
    "    df.loc[:, ['concept', 'earilest_year']], how='left', on='concept'\n",
    ")\n",
    "df_c.earilest_year = df_c.earilest_year.fillna(0).astype(int)\n",
    "df_c = df_c.fillna('')\n",
    "df_c.loc[:, ['concept', 'name', 'name_catalog', 'earilest_year']].head()"
   ]
  },
  {
   "cell_type": "markdown",
   "metadata": {},
   "source": [
    "為清單上的指標加入 `earilest_year`"
   ]
  },
  {
   "cell_type": "code",
   "execution_count": 2049,
   "metadata": {},
   "outputs": [],
   "source": [
    "df_c.loc[df_c.earilest_year != 0, 'name_catalog'] = \\\n",
    "    df_c.name_catalog + '（ ' + df_c.earilest_year.map(str) + ' ~'"
   ]
  },
  {
   "cell_type": "markdown",
   "metadata": {},
   "source": [
    "建立本地端最終版本的檔案 .final 並覆蓋掉 blog 泡泡圖用的 concept file"
   ]
  },
  {
   "cell_type": "code",
   "execution_count": 2050,
   "metadata": {},
   "outputs": [],
   "source": [
    "df_c.loc[:, df_c.columns[:-1]].to_csv(FINAL_CONCEPT_PATH, index=False)"
   ]
  },
  {
   "cell_type": "code",
   "execution_count": 2051,
   "metadata": {},
   "outputs": [],
   "source": [
    "!cp {FINAL_CONCEPT_PATH} {RELATIVE_BLOG_PATH}'output/projects/gapminder-tw/'{CONCEPT_CSV_PATH}"
   ]
  },
  {
   "cell_type": "code",
   "execution_count": 2052,
   "metadata": {},
   "outputs": [
    {
     "ename": "SyntaxError",
     "evalue": "invalid syntax (<ipython-input-2052-8c726f94684c>, line 1)",
     "output_type": "error",
     "traceback": [
      "\u001b[0;36m  File \u001b[0;32m\"<ipython-input-2052-8c726f94684c>\"\u001b[0;36m, line \u001b[0;32m1\u001b[0m\n\u001b[0;31m    stop!\u001b[0m\n\u001b[0m        ^\u001b[0m\n\u001b[0;31mSyntaxError\u001b[0m\u001b[0;31m:\u001b[0m invalid syntax\n"
     ]
    }
   ],
   "source": [
    "stop!"
   ]
  },
  {
   "cell_type": "markdown",
   "metadata": {},
   "source": [
    "## ggplot2 ploting \n",
    "環境是從 `rpy2` 的 Docker image 裡頭執行的"
   ]
  },
  {
   "cell_type": "code",
   "execution_count": null,
   "metadata": {
    "collapsed": true
   },
   "outputs": [],
   "source": [
    "# import rpy2"
   ]
  },
  {
   "cell_type": "code",
   "execution_count": null,
   "metadata": {
    "scrolled": false
   },
   "outputs": [],
   "source": [
    "# %load_ext rpy2.ipython"
   ]
  },
  {
   "cell_type": "code",
   "execution_count": null,
   "metadata": {},
   "outputs": [],
   "source": [
    "# %R require(ggplot2)\n",
    "# %R -i df"
   ]
  },
  {
   "cell_type": "code",
   "execution_count": null,
   "metadata": {},
   "outputs": [],
   "source": [
    "# %%R -w 700\n",
    "\n",
    "# df$tag <- factor(df$tag, levels = df$tag[order(df$num_indicators)])\n",
    "\n",
    "# ggplot(df, aes(x = tag, y = num_indicators), family = \"DFPLiSong\") + \n",
    "#     geom_bar(stat = 'identity') +\n",
    "#     labs(x = '', y = '') +\n",
    "#     coord_flip() + \n",
    "#     theme(\n",
    "#         axis.text.x = element_text(colour=\"grey20\",size=20,angle=0,hjust=.5,vjust=.5,face=\"plain\"),\n",
    "#         axis.text.y = element_text(colour=\"grey20\",size=20,angle=0,hjust=1,vjust=0,face=\"plain\"),  \n",
    "#         axis.title.x = element_text(colour=\"grey20\",size=24,angle=0,hjust=.5,vjust=0,face=\"plain\"),\n",
    "#         axis.title.y = element_text(colour=\"grey20\",size=24,angle=90,hjust=.5,vjust=.5,face=\"plain\"))\n",
    "\n"
   ]
  },
  {
   "cell_type": "code",
   "execution_count": null,
   "metadata": {
    "collapsed": true
   },
   "outputs": [],
   "source": []
  },
  {
   "cell_type": "code",
   "execution_count": null,
   "metadata": {
    "collapsed": true
   },
   "outputs": [],
   "source": []
  }
 ],
 "metadata": {
  "kernelspec": {
   "display_name": "Python 3",
   "language": "python",
   "name": "python3"
  },
  "language_info": {
   "codemirror_mode": {
    "name": "ipython",
    "version": 3
   },
   "file_extension": ".py",
   "mimetype": "text/x-python",
   "name": "python",
   "nbconvert_exporter": "python",
   "pygments_lexer": "ipython3",
   "version": "3.6.5"
  }
 },
 "nbformat": 4,
 "nbformat_minor": 2
}
