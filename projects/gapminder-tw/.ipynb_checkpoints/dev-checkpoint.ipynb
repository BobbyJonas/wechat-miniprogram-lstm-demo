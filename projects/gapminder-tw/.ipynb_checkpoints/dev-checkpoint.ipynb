{
 "cells": [
  {
   "cell_type": "code",
   "execution_count": 1,
   "metadata": {
    "collapsed": true
   },
   "outputs": [],
   "source": [
    "import os\n",
    "import glob\n",
    "import argparse\n",
    "import pandas as pd\n",
    "from collections import defaultdict\n",
    "def rec_dd():\n",
    "    return defaultdict(rec_dd)"
   ]
  },
  {
   "cell_type": "markdown",
   "metadata": {},
   "source": [
    "## 數據位置"
   ]
  },
  {
   "cell_type": "code",
   "execution_count": 17,
   "metadata": {
    "collapsed": true
   },
   "outputs": [],
   "source": [
    "CONCEPT_CSV_PATH = \"statistics/ddf--concepts.csv\"\n",
    "TAG_CSV_PATH = \"statistics/ddf--entities--tag.csv\""
   ]
  },
  {
   "cell_type": "markdown",
   "metadata": {},
   "source": [
    "## 找出有哪些指標有台灣數據"
   ]
  },
  {
   "cell_type": "code",
   "execution_count": 19,
   "metadata": {},
   "outputs": [
    {
     "name": "stdout",
     "output_type": "stream",
     "text": [
      "Total number of indicators: 535, #indicators with Taiwan data: 207\n",
      "38.7% datapoints have Taiwan statistics\n"
     ]
    }
   ],
   "source": [
    "num_available, total = 0, 0\n",
    "indicator_twn_tuples = list()  # format of a single tuple: (indicator_name, #twn rows, earliest available year)\n",
    "concept_metadata = rec_dd()  # {top_tag: second_layer_tag: {concept_name, num_year_available, earliest_year} }\n",
    "\n",
    "# read in concept/tag DDF files for easy-understanding indicator names and build concept structure\n",
    "df_c = pd.read_csv(CONCEPT_CSV_PATH)\n",
    "df_t = pd.read_csv(TAG_CSV_PATH)\n",
    "df_metadata = pd.merge(df_c, df_t, how='left', left_on='tags', right_on='tag')\n",
    "\n",
    "# parse all ddf files provided by GapMinder and find how many of them with Taiwan statistics\n",
    "for f_path in glob.glob(os.path.join('statistics', '*datapoints*.csv')):\n",
    "    total += 1\n",
    "    df = pd.read_csv(f_path)\n",
    "    if 'twn' in df.geo.unique():\n",
    "        num_available += 1\n",
    "        indicator = f_path.replace('statistics/ddf--datapoints--', '').replace('--by--geo--time.csv', '')\n",
    "        df_tw = df[df.geo == 'twn']\n",
    "        num_years, earliest_year = len(df_tw), min(df_tw['time'])\n",
    "        indicator_twn_tuples.append((indicator, num_years, earliest_year))\n",
    "        \n",
    "        # generate concept structure\n",
    "        ancestors = list()\n",
    "        row_values = df_metadata[df_metadata['concept'] == indicator].values[0]\n",
    "        name_catalog, parent, ancestor = (row_values[i] for i in [9, 17, 18])\n",
    "        if type(parent) is str:\n",
    "            ancestors.append(parent)\n",
    "\n",
    "        # get ancestors recursively\n",
    "        while type(ancestor) is str:\n",
    "            tag_row_values = df_t[df_t['tag'] == ancestor].values[0]\n",
    "            ancestors.append(tag_row_values[1])\n",
    "            ancestor = tag_row_values[2]\n",
    "        ancestors = ancestors[::-1]\n",
    "            \n",
    "        # save result into concept dict\n",
    "        d = concept_metadata\n",
    "        for tag in ancestors:\n",
    "            d = d[tag]\n",
    "        d[indicator] = {\n",
    "            'name_catalog': name_catalog,\n",
    "            'raw_name': indicator,\n",
    "            'num_years': num_years,\n",
    "            'earliest_year': earliest_year\n",
    "        }    \n",
    "\n",
    "print(f\"Total number of indicators: {total}, #indicators with Taiwan data: {num_available}\")\n",
    "print(\"{:.1f}% datapoints have Taiwan statistics\".format(num_available / float(total) * 100))\n"
   ]
  },
  {
   "cell_type": "markdown",
   "metadata": {},
   "source": [
    "## 依照指標的大、中分類列出各個指標 meta-data"
   ]
  },
  {
   "cell_type": "code",
   "execution_count": 20,
   "metadata": {},
   "outputs": [
    {
     "name": "stdout",
     "output_type": "stream",
     "text": [
      "工作\n",
      "\t 失業\n",
      "\t\t Females aged 15+ (有 40 年資料，最早年份：1978)\n",
      "\t\t Aged 55+ (有 40 年資料，最早年份：1978)\n",
      "\t\t Males aged 15+ (有 40 年資料，最早年份：1978)\n",
      "\t\t Aged 55-64 (有 40 年資料，最早年份：1978)\n",
      "\t\t Females aged 55-64 (有 40 年資料，最早年份：1978)\n",
      "\t\t Males aged 55-64 (有 40 年資料，最早年份：1978)\n",
      "\t\t Females aged 25-54 (有 40 年資料，最早年份：1978)\n",
      "\t\t Aged 25-54 (有 40 年資料，最早年份：1978)\n",
      "\t\t Males aged 25-54 (有 40 年資料，最早年份：1978)\n",
      "\t\t Males aged 15-24 (有 40 年資料，最早年份：1978)\n",
      "\t\t Males aged 55+ (有 40 年資料，最早年份：1978)\n",
      "\t\t Aged 15+ (有 40 年資料，最早年份：1978)\n",
      "\t\t Aged 15-24 (有 40 年資料，最早年份：1978)\n",
      "\t\t Females aged 15-24 (有 40 年資料，最早年份：1978)\n",
      "\t\t Females aged 65+ (有 40 年資料，最早年份：1978)\n",
      "\t 勞動力參與\n",
      "\t\t Males aged 25-54 (有 41 年資料，最早年份：1990)\n",
      "\t\t Aged 25-54 (有 41 年資料，最早年份：1990)\n",
      "\t\t Males aged 65+ (有 41 年資料，最早年份：1990)\n",
      "\t\t Females aged 25-54 (有 41 年資料，最早年份：1990)\n",
      "\t\t Aged 65+ (有 41 年資料，最早年份：1990)\n",
      "\t\t Females aged 65+ (有 41 年資料，最早年份：1990)\n",
      "\t\t Aged 15-64 (有 41 年資料，最早年份：1990)\n",
      "\t\t Males aged 15-64 (有 41 年資料，最早年份：1990)\n",
      "\t\t Males aged 15+ (有 41 年資料，最早年份：1990)\n",
      "\t\t Aged 15+ (有 41 年資料，最早年份：1990)\n",
      "\t\t Females aged 15-64 (有 41 年資料，最早年份：1990)\n",
      "\t\t Females aged 15+ (有 41 年資料，最早年份：1990)\n",
      "\t 就業（行業別）\n",
      "\t\t Agriculture workers (有 17 年資料，最早年份：2001)\n",
      "\t\t Female agriculture workers (有 32 年資料，最早年份：1991)\n",
      "\t\t Female service workers (有 32 年資料，最早年份：1991)\n",
      "\t\t Service workers (有 17 年資料，最早年份：2001)\n",
      "\t\t Male service workers (有 32 年資料，最早年份：1991)\n",
      "\t\t Male agriculture workers (有 32 年資料，最早年份：1991)\n",
      "\t\t Male industry workers (有 32 年資料，最早年份：1991)\n",
      "\t\t Female industry workers (有 32 年資料，最早年份：1991)\n",
      "\t\t Industry workers (有 17 年資料，最早年份：2001)\n",
      "\t 就業（雇用狀態別）\n",
      "\t\t Female self-employed (有 32 年資料，最早年份：1991)\n",
      "\t\t Male family workers (有 40 年資料，最早年份：1978)\n",
      "\t\t Female family workers (有 40 年資料，最早年份：1978)\n",
      "\t\t Self-employed (有 32 年資料，最早年份：1991)\n",
      "\t\t Family workers (有 40 年資料，最早年份：1978)\n",
      "\t\t Male self-employed (有 32 年資料，最早年份：1991)\n",
      "\t 就業率\n",
      "\t\t Females aged 15+ (有 32 年資料，最早年份：1991)\n",
      "\t\t Females aged 15-24 (有 32 年資料，最早年份：1991)\n",
      "\t\t Males aged 15-24 (有 32 年資料，最早年份：1991)\n",
      "\t\t Aged 15+ (有 32 年資料，最早年份：1991)\n",
      "\t\t Males aged 15+ (有 32 年資料，最早年份：1991)\n",
      "\t\t Aged 15-24 (有 32 年資料，最早年份：1991)\n",
      "工作 48\n",
      "進階用途\n",
      "\t Alternative energy\n",
      "\t\t Energy supply /person (有 1 年資料，最早年份：2010)\n",
      "\t\t Energy from solid biofuels (%) (有 4 年資料，最早年份：2000)\n",
      "\t\t Residential energy use (有 40 年資料，最早年份：1971)\n",
      "\t 預測\n",
      "\t\t Total population, w projections (有 120 年資料，最早年份：1800)\n",
      "\t\t Babies per woman w/ projections (有 214 年資料，最早年份：1800)\n",
      "\t\t Income per person, w projections (有 219 年資料，最早年份：1800)\n",
      "\t\t 平均壽命（包含預測） (有 217 年資料，最早年份：1800)\n",
      "\t 傷亡（依性別、年齡以及道路使用者）\n",
      "\t\t Murdered 45-59 per 100k people (有 6 年資料，最早年份：1964)\n",
      "\t\t Suicide, age 45-59 /100k people (有 6 年資料，最早年份：1964)\n",
      "\t\t Traffic mortality 30-44 /100k (有 6 年資料，最早年份：1964)\n",
      "\t\t Motorcycle deaths /100k people (有 27 年資料，最早年份：1990)\n",
      "\t\t Murdered 0-14 per 100k people (有 6 年資料，最早年份：1964)\n",
      "\t\t Traffic mortality 45-59 /100k (有 6 年資料，最早年份：1964)\n",
      "\t\t Suicide, age 0-14 /100k people (有 6 年資料，最早年份：1964)\n",
      "\t\t Traffic mortality 0-14 /100k (有 6 年資料，最早年份：1964)\n",
      "\t\t Murdered 30-44 per 100k people (有 6 年資料，最早年份：1964)\n",
      "\t\t Suicide, age 30-44 /100k people (有 6 年資料，最早年份：1964)\n",
      "\t\t Suicide, age 15-29 /100k people (有 6 年資料，最早年份：1964)\n",
      "\t\t Murdered 15-29 per 100k people (有 6 年資料，最早年份：1964)\n",
      "\t\t Traffic mortality 15-29 /100k (有 6 年資料，最早年份：1964)\n",
      "\t Data quality (use as color)\n",
      "\t\t Population (有 1 年資料，最早年份：1800)\n",
      "\t\t Income per person (有 82 年資料，最早年份：1700)\n",
      "\t\t Children per woman (有 75 年資料，最早年份：1800)\n",
      "\t\t 平均壽命 (有 213 年資料，最早年份：1800)\n",
      "\t Alternative child mortality data\n",
      "\t\t Child mortality. More years. Version 7. (有 205 年資料，最早年份：1800)\n",
      "\t Alternative GDP data\n",
      "\t\t GDP/cap PPP, PWT 7.1 (有 60 年資料，最早年份：1951)\n",
      "\t\t Income per person, long series (有 220 年資料，最早年份：1800)\n",
      "\t\t Subsistence incomes per person (有 210 年資料，最早年份：1800)\n",
      "\t\t GDP/cap PPP, PWT 8.0 (有 61 年資料，最早年份：1951)\n",
      "\t\t GDP/cap PPP, PWT infl-adjusted (有 54 年資料，最早年份：1951)\n",
      "\t 經濟成長\n",
      "\t\t Economic growth over past 10 years (有 44 年資料，最早年份：1961)\n",
      "\t 家庭\n",
      "\t\t Surviving kids per woman (有 208 年資料，最早年份：1800)\n",
      "\t\t Dead kids per woman (有 208 年資料，最早年份：1800)\n",
      "\t corruption_perception_index_cpi_pre2012\n",
      "\t\t Corruption Perception Index Pre-2012 method\n",
      "\t\t corruption_perception_index_cpi_pre2012\n",
      "\t\t 17\n",
      "\t\t 1995\n",
      "\t Alternative demography indicators\n",
      "\t\t 平均壽命 IHME (有 24 年資料，最早年份：1990)\n",
      "進階用途 38\n",
      "經濟\n",
      "\t 所得與成長\n",
      "\t\t Total GDP (PPP$, inflation-adjusted) (有 214 年資料，最早年份：1800)\n",
      "\t\t GDP/cap growth, next 10 years (有 202 年資料，最早年份：1800)\n",
      "\t\t GDP/capita, yearly growth (有 219 年資料，最早年份：1801)\n",
      "\t\t GDP/working hour (有 32 年資料，最早年份：1991)\n",
      "\t\t GDP total, yearly growth (有 213 年資料，最早年份：1801)\n",
      "\t\t GDP/employee (有 26 年資料，最早年份：1980)\n",
      "\t 貧困與不平等\n",
      "\t\t Dollar billionaires /1M people (有 4 年資料，最早年份：2004)\n",
      "\t\t Average age of dollar billionaires (有 4 年資料，最早年份：2004)\n",
      "\t\t Dollar billionaires (有 4 年資料，最早年份：2004)\n",
      "經濟 9\n",
      "健康\n",
      "\t 兒童死亡原因\n",
      "\t\t Meningitis deaths (有 27 年資料，最早年份：1990)\n",
      "\t\t NCD deaths (有 27 年資料，最早年份：1990)\n",
      "\t\t HIV deaths (有 27 年資料，最早年份：1990)\n",
      "\t\t Malaria deaths (有 27 年資料，最早年份：1990)\n",
      "\t\t Measles deaths (有 27 年資料，最早年份：1990)\n",
      "\t\t Injury deaths in children, total (有 27 年資料，最早年份：1990)\n",
      "\t 癌症（男性）\n",
      "\t\t Prostate c. new cases (有 27 年資料，最早年份：1990)\n",
      "\t\t Prostate c. deaths /100k men (有 27 年資料，最早年份：1990)\n",
      "\t\t Prostate c. new cases /100k men (有 27 年資料，最早年份：1990)\n",
      "\t\t Lung c. deaths /100k men (有 27 年資料，最早年份：1990)\n",
      "\t\t Colon&Rectum c. new cases, men (有 27 年資料，最早年份：1990)\n",
      "\t\t Stomach c. deaths /100k men (有 27 年資料，最早年份：1990)\n",
      "\t\t Liver c. deaths /100k men (有 27 年資料，最早年份：1990)\n",
      "\t\t Colon&Rectum c. new cases /100k men (有 27 年資料，最早年份：1990)\n",
      "\t\t Colon&Rectum c. deaths /100k men (有 27 年資料，最早年份：1990)\n",
      "\t\t Liver c. new cases, men (有 27 年資料，最早年份：1990)\n",
      "\t\t Stomach c. new cases, men (有 27 年資料，最早年份：1990)\n",
      "\t\t Stomach c. new cases /100k men (有 27 年資料，最早年份：1990)\n",
      "\t\t Liver c. new cases /100k men (有 27 年資料，最早年份：1990)\n",
      "\t\t Liver c. deaths, men (有 27 年資料，最早年份：1990)\n",
      "\t\t Lung c. deaths, men (有 27 年資料，最早年份：1990)\n",
      "\t\t Stomach c. deaths, men (有 27 年資料，最早年份：1990)\n",
      "\t\t Lung c. new cases /100k men (有 27 年資料，最早年份：1990)\n",
      "\t\t Lung c. new cases, men (有 27 年資料，最早年份：1990)\n",
      "\t\t Colon&Rectum c. deaths, men (有 27 年資料，最早年份：1990)\n",
      "\t 癌症（女性）\n",
      "\t\t Lung c. deaths, women (有 27 年資料，最早年份：1990)\n",
      "\t\t Colon&Rectum c. deaths /100k women (有 27 年資料，最早年份：1990)\n",
      "\t\t Liver c. new cases, women (有 27 年資料，最早年份：1990)\n",
      "\t\t Breast c. deaths /100k women (有 27 年資料，最早年份：1990)\n",
      "\t\t Liver c. new cases /100k women (有 27 年資料，最早年份：1990)\n",
      "\t\t Colon&Rectum c. deaths, women (有 27 年資料，最早年份：1990)\n",
      "\t\t Lung c. deaths /100k women (有 27 年資料，最早年份：1990)\n",
      "\t\t Cervical c. new cases, women (有 27 年資料，最早年份：1990)\n",
      "\t\t Breast c. new cases (有 27 年資料，最早年份：1990)\n",
      "\t\t Breast c. new cases /100k women (有 27 年資料，最早年份：1990)\n",
      "\t\t Cervical c. new cases /100k women (有 27 年資料，最早年份：1990)\n",
      "\t\t Breast c. deaths (有 27 年資料，最早年份：1990)\n",
      "\t\t Colon&Rectum c. new cases /100k women (有 27 年資料，最早年份：1990)\n",
      "\t\t Cervical c. deaths /100k women (有 27 年資料，最早年份：1990)\n",
      "\t\t Liver c. deaths /100k women (有 27 年資料，最早年份：1990)\n",
      "\t\t Colon&Rectum c. new cases, women (有 27 年資料，最早年份：1990)\n",
      "\t\t Lung c. new cases /100k women (有 27 年資料，最早年份：1990)\n",
      "\t\t Lung c. new cases, women (有 27 年資料，最早年份：1990)\n",
      "\t\t Stomach c. deaths /100k women (有 27 年資料，最早年份：1990)\n",
      "\t\t Stomach c. new cases /100k women (有 27 年資料，最早年份：1990)\n",
      "\t\t Stomach c. new cases, women (有 27 年資料，最早年份：1990)\n",
      "\t\t Cervical c. deaths, women (有 27 年資料，最早年份：1990)\n",
      "\t\t Liver c. deaths, women (有 27 年資料，最早年份：1990)\n",
      "\t\t Stomach c. deaths, women (有 27 年資料，最早年份：1990)\n",
      "\t 精神健康\n",
      "\t\t Suicide, total deaths (有 6 年資料，最早年份：1964)\n",
      "\t 危險因子\n",
      "\t\t Body Mass Index, men (有 29 年資料，最早年份：1980)\n",
      "\t\t Fat in blood, women (有 29 年資料，最早年份：1980)\n",
      "\t\t Fat in blood, men (有 29 年資料，最早年份：1980)\n",
      "\t\t Body Mass Index, women (有 29 年資料，最早年份：1980)\n",
      "\t\t Blood pressure, men (有 29 年資料，最早年份：1980)\n",
      "\t\t Blood pressure, women (有 29 年資料，最早年份：1980)\n",
      "\t 事故 & 受傷\n",
      "\t\t Burns deaths /100k people (有 27 年資料，最早年份：1990)\n",
      "\t\t Falls, deaths /100k people (有 27 年資料，最早年份：1990)\n",
      "\t\t Poisonings, deaths /100k people (有 27 年資料，最早年份：1990)\n",
      "\t 營養\n",
      "\t\t Sugar per person (有 53 年資料，最早年份：1961)\n",
      "\t\t Food supply (有 53 年資料，最早年份：1961)\n",
      "\t 新生兒與嬰幼兒\n",
      "\t\t Infant mortality (有 56 年資料，最早年份：1950)\n",
      "\t 孕產婦健康\n",
      "\t\t Maternal mortality (有 3 年資料，最早年份：1980)\n",
      "健康 63\n",
      "婦女人均嬰兒數 1800 (有 219 年資料，最早年份：1800)\n",
      "children_per_woman_total_fertility 1\n",
      "人口\n",
      "\t age_at_1st_marriage_women\n",
      "\t\t 女性首次結婚的年齡\n",
      "\t\t age_at_1st_marriage_women\n",
      "\t\t 13\n",
      "\t\t 1905\n",
      "\t 人口成長\n",
      "\t\t Teen fertility rate (有 66 年資料，最早年份：1910)\n",
      "\t\t Crude birth rate (有 150 年資料，最早年份：1800)\n",
      "\t population_total\n",
      "\t\t 人口總計\n",
      "\t\t population_total\n",
      "\t\t 219\n",
      "\t\t 1800\n",
      "人口 10\n",
      "能源\n",
      "\t 電力\n",
      "\t\t Residential electricity use (有 38 年資料，最早年份：1971)\n",
      "\t\t Residential electricity use /person (有 38 年資料，最早年份：1971)\n",
      "\t\t Electricity generation /person (有 32 年資料，最早年份：1985)\n",
      "\t\t Electricity generation, total (有 32 年資料，最早年份：1985)\n",
      "\t 煤\n",
      "\t\t Coal consumption /person (有 52 年資料，最早年份：1965)\n",
      "\t\t Coal consumption, total (有 52 年資料，最早年份：1965)\n",
      "\t 石油\n",
      "\t\t Oil consumption (有 52 年資料，最早年份：1965)\n",
      "\t\t Oil consumption /person (有 52 年資料，最早年份：1965)\n",
      "能源 8\n",
      "教育\n",
      "\t 平均在校年數\n",
      "\t\t Men 25 to 34 years (有 46 年資料，最早年份：1970)\n",
      "\t\t Women 65 years and older (有 46 年資料，最早年份：1970)\n",
      "\t\t Women 25 years and older (有 40 年資料，最早年份：1970)\n",
      "\t\t Women 45 to 54 years (有 46 年資料，最早年份：1970)\n",
      "\t\t Women 15 to 44 (有 40 年資料，最早年份：1970)\n",
      "\t\t Women 15 to 24 years (有 46 年資料，最早年份：1970)\n",
      "\t\t Women 35 to 44 years (有 46 年資料，最早年份：1970)\n",
      "\t\t Men 25 years and older (有 40 年資料，最早年份：1970)\n",
      "\t\t Women 55 to 64 years (有 46 年資料，最早年份：1970)\n",
      "\t\t Men 65 years and older (有 46 年資料，最早年份：1970)\n",
      "\t\t Men 15 to 24 years (有 46 年資料，最早年份：1970)\n",
      "\t\t Women 25 to 34 years (有 46 年資料，最早年份：1970)\n",
      "\t\t Men 45 to 54 years (有 46 年資料，最早年份：1970)\n",
      "\t\t Men 55 to 64 years (有 46 年資料，最早年份：1970)\n",
      "\t\t Men 35 to 44 years (有 46 年資料，最早年份：1970)\n",
      "\t Achievement\n",
      "\t\t Math achievement, 4th grade (有 2 年資料，最早年份：2003)\n",
      "\t\t Math achievement, 8th grade (有 3 年資料，最早年份：1999)\n",
      "\t 性別平等\n",
      "\t\t Gender ratio of mean years in school (women % men, 25 to 34 years) (有 46 年資料，最早年份：1970)\n",
      "教育 18\n",
      "環境\n",
      "\t 排放量\n",
      "\t\t Total sulfur emission (有 151 年資料，最早年份：1850)\n",
      "\t\t CO2 emissions yearly (有 119 年資料，最早年份：1896)\n",
      "\t\t Cumulative CO2 emissions (有 119 年資料，最早年份：1896)\n",
      "\t\t Sulfur emissions /person (有 151 年資料，最早年份：1850)\n",
      "\t 災難\n",
      "\t\t Epidemic deaths (有 38 年資料，最早年份：1970)\n",
      "\t\t Plane crash deaths (有 39 年資料，最早年份：1970)\n",
      "\t\t Flood deaths (有 39 年資料，最早年份：1970)\n",
      "\t\t Earthquake affected (有 39 年資料，最早年份：1970)\n",
      "\t\t Earthquake deaths (有 39 年資料，最早年份：1970)\n",
      "\t\t Storm affected (有 39 年資料，最早年份：1970)\n",
      "\t\t Flood affected (有 39 年資料，最早年份：1970)\n",
      "\t\t Epidemic affected (有 38 年資料，最早年份：1970)\n",
      "\t\t Storm deaths (有 39 年資料，最早年份：1970)\n",
      "\t\t Plane crash affected (有 39 年資料，最早年份：1970)\n",
      "環境 14\n",
      "社會\n",
      "\t murder_total_deaths\n",
      "\t\t 謀殺\n",
      "\t\t murder_total_deaths\n",
      "\t\t 6\n",
      "\t\t 1964\n",
      "\t corruption_perception_index_cpi\n",
      "\t\t 清廉印象指數\n",
      "\t\t corruption_perception_index_cpi\n",
      "\t\t 6\n",
      "\t\t 2012\n",
      "\t democracy_score_use_as_color\n",
      "\t\t 民主指數\n",
      "\t\t democracy_score_use_as_color\n",
      "\t\t 63\n",
      "\t\t 1949\n",
      "社會 12\n",
      "所得收入 1800 (有 219 年資料，最早年份：1800)\n",
      "income_per_person_gdppercapita_ppp_inflation_adjusted 1\n",
      "二氧化碳排放量 1896 (有 119 年資料，最早年份：1896)\n",
      "co2_emissions_tonnes_per_person 1\n",
      "平均壽命 1800 (有 217 年資料，最早年份：1800)\n",
      "life_expectancy_years 1\n",
      "公共建設\n",
      "\t 交通\n",
      "\t\t Traffic deaths (有 6 年資料，最早年份：1964)\n",
      "公共建設 1\n"
     ]
    }
   ],
   "source": [
    "dic = {}\n",
    "for top_tag, d in concept_metadata.items():\n",
    "    num_indicators = 0\n",
    "    if type(d) is dict:\n",
    "        print(d['name_catalog'], d['earliest_year'], '(有 {} 年資料，最早年份：{})'.format(d['num_years'], d['earliest_year']))\n",
    "        num_indicators += 1\n",
    "    else:\n",
    "        print(top_tag)\n",
    "        \n",
    "        for secondary_tag, dd in d.items():\n",
    "            print('\\t', secondary_tag)\n",
    "            for _, info in dd.items():\n",
    "                if type(info) is dict:\n",
    "                    print('\\t\\t', info['name_catalog'], '(有 {} 年資料，最早年份：{})'.format(info['num_years'], info['earliest_year']))\n",
    "                else:\n",
    "                    print('\\t\\t', info)\n",
    "                \n",
    "                num_indicators += 1\n",
    "    print(top_tag, num_indicators)\n",
    "    dic[top_tag] = num_indicators"
   ]
  },
  {
   "cell_type": "code",
   "execution_count": 21,
   "metadata": {},
   "outputs": [
    {
     "data": {
      "text/plain": [
       "{'工作': 48,\n",
       " '進階用途': 38,\n",
       " '經濟': 9,\n",
       " '健康': 63,\n",
       " '人口': 10,\n",
       " '能源': 8,\n",
       " '教育': 18,\n",
       " '環境': 14,\n",
       " '社會': 12,\n",
       " '公共建設': 1}"
      ]
     },
     "execution_count": 21,
     "metadata": {},
     "output_type": "execute_result"
    }
   ],
   "source": [
    "d = {k: v for k, v in dic.items() if 'c' not in k}\n",
    "d"
   ]
  },
  {
   "cell_type": "code",
   "execution_count": 22,
   "metadata": {},
   "outputs": [
    {
     "data": {
      "text/html": [
       "<div>\n",
       "<style scoped>\n",
       "    .dataframe tbody tr th:only-of-type {\n",
       "        vertical-align: middle;\n",
       "    }\n",
       "\n",
       "    .dataframe tbody tr th {\n",
       "        vertical-align: top;\n",
       "    }\n",
       "\n",
       "    .dataframe thead th {\n",
       "        text-align: right;\n",
       "    }\n",
       "</style>\n",
       "<table border=\"1\" class=\"dataframe\">\n",
       "  <thead>\n",
       "    <tr style=\"text-align: right;\">\n",
       "      <th></th>\n",
       "      <th>tag</th>\n",
       "      <th>num_indicators</th>\n",
       "    </tr>\n",
       "  </thead>\n",
       "  <tbody>\n",
       "    <tr>\n",
       "      <th>9</th>\n",
       "      <td>公共建設</td>\n",
       "      <td>1</td>\n",
       "    </tr>\n",
       "    <tr>\n",
       "      <th>5</th>\n",
       "      <td>能源</td>\n",
       "      <td>8</td>\n",
       "    </tr>\n",
       "    <tr>\n",
       "      <th>2</th>\n",
       "      <td>經濟</td>\n",
       "      <td>9</td>\n",
       "    </tr>\n",
       "    <tr>\n",
       "      <th>4</th>\n",
       "      <td>人口</td>\n",
       "      <td>10</td>\n",
       "    </tr>\n",
       "    <tr>\n",
       "      <th>8</th>\n",
       "      <td>社會</td>\n",
       "      <td>12</td>\n",
       "    </tr>\n",
       "    <tr>\n",
       "      <th>7</th>\n",
       "      <td>環境</td>\n",
       "      <td>14</td>\n",
       "    </tr>\n",
       "    <tr>\n",
       "      <th>6</th>\n",
       "      <td>教育</td>\n",
       "      <td>18</td>\n",
       "    </tr>\n",
       "    <tr>\n",
       "      <th>1</th>\n",
       "      <td>進階用途</td>\n",
       "      <td>38</td>\n",
       "    </tr>\n",
       "    <tr>\n",
       "      <th>0</th>\n",
       "      <td>工作</td>\n",
       "      <td>48</td>\n",
       "    </tr>\n",
       "    <tr>\n",
       "      <th>3</th>\n",
       "      <td>健康</td>\n",
       "      <td>63</td>\n",
       "    </tr>\n",
       "  </tbody>\n",
       "</table>\n",
       "</div>"
      ],
      "text/plain": [
       "    tag  num_indicators\n",
       "9  公共建設               1\n",
       "5    能源               8\n",
       "2    經濟               9\n",
       "4    人口              10\n",
       "8    社會              12\n",
       "7    環境              14\n",
       "6    教育              18\n",
       "1  進階用途              38\n",
       "0    工作              48\n",
       "3    健康              63"
      ]
     },
     "execution_count": 22,
     "metadata": {},
     "output_type": "execute_result"
    }
   ],
   "source": [
    "df = pd.DataFrame.from_dict(d, orient='index')\n",
    "df = df.reset_index()\n",
    "df.columns = ['tag', 'num_indicators']\n",
    "df = df.sort_values('num_indicators', ascending=True)\n",
    "df"
   ]
  },
  {
   "cell_type": "markdown",
   "metadata": {},
   "source": [
    "## 統計各個分類有多少指標包含台灣數據並畫圖\n",
    "生成後放到 blog 資料夾"
   ]
  },
  {
   "cell_type": "code",
   "execution_count": 23,
   "metadata": {},
   "outputs": [],
   "source": [
    "import matplotlib.pyplot as plt\n",
    "%matplotlib inline\n",
    "plt.style.use('fivethirtyeight')"
   ]
  },
  {
   "cell_type": "code",
   "execution_count": 24,
   "metadata": {},
   "outputs": [],
   "source": [
    "plt.rcParams['font.sans-serif'] = ['SimHei']\n",
    "plt.rcParams['axes.unicode_minus'] = False"
   ]
  },
  {
   "cell_type": "code",
   "execution_count": 25,
   "metadata": {},
   "outputs": [
    {
     "name": "stdout",
     "output_type": "stream",
     "text": [
      "../../blog/leemengtaiwan.github.io/content/images/gapminder/gapminder-indicators-with-twn.svg\n"
     ]
    }
   ],
   "source": [
    "!ls ../../blog/leemengtaiwan.github.io/content/images/gapminder/gapminder-indicators-with-twn.svg"
   ]
  },
  {
   "cell_type": "code",
   "execution_count": 29,
   "metadata": {},
   "outputs": [
    {
     "data": {
      "image/png": "[encoded data removed]",
      "text/plain": [
       "<Figure size 720x504 with 1 Axes>"
      ]
     },
     "metadata": {},
     "output_type": "display_data"
    }
   ],
   "source": [
    "num_tags = len(df.tag)\n",
    "ax = df.plot('tag', 'num_indicators', kind='barh', figsize=(10, 7))\n",
    "ax.legend().set_visible(False)\n",
    "plt.title('GapMinder 各分類中，包含台灣數據的指標數\\n', fontsize=25)\n",
    "plt.xlabel('包含台灣數據的指標數', fontsize=20)\n",
    "plt.ylabel('', fontsize=20) \n",
    "plt.yticks(range(num_tags), df.tag, fontsize=20)\n",
    "plt.xticks(fontsize=20)\n",
    "\n",
    "rects = ax.get_children()[:num_tags]\n",
    "for rect in rects:\n",
    "    width = rect.get_width()\n",
    "    if width < 5: continue\n",
    "    plt.gca().text(width - 1, rect.get_y() + 0.08,\n",
    "                '{}'.format(int(width)) , fontsize=15,\n",
    "                ha='center', va='bottom', color='white')\n",
    "\n",
    "plt.savefig('../../blog/leemengtaiwan.github.io/content/images/gapminder/gapminder-indicators-with-twn.svg', bbox_inches='tight')"
   ]
  },
  {
   "cell_type": "markdown",
   "metadata": {},
   "source": [
    "## 更新泡泡圖選單\n",
    "- 為選單裡頭每個分類加上「台灣指標數」，並為每個指標加上「最早年份」。\n",
    "- 泡泡圖選單由 `ddf--entities--tag.csv` 定義"
   ]
  },
  {
   "cell_type": "code",
   "execution_count": null,
   "metadata": {},
   "outputs": [],
   "source": []
  },
  {
   "cell_type": "code",
   "execution_count": null,
   "metadata": {},
   "outputs": [],
   "source": []
  },
  {
   "cell_type": "code",
   "execution_count": null,
   "metadata": {},
   "outputs": [],
   "source": []
  },
  {
   "cell_type": "markdown",
   "metadata": {},
   "source": [
    "## Translation"
   ]
  },
  {
   "cell_type": "code",
   "execution_count": null,
   "metadata": {
    "collapsed": true
   },
   "outputs": [],
   "source": [
    "CSV_PATH = \"statistics/ddf--concepts.csv\""
   ]
  },
  {
   "cell_type": "code",
   "execution_count": null,
   "metadata": {
    "collapsed": true
   },
   "outputs": [],
   "source": [
    "df = pd.read_csv(CSV_PATH)\n",
    "df.head()"
   ]
  },
  {
   "cell_type": "code",
   "execution_count": null,
   "metadata": {
    "collapsed": true
   },
   "outputs": [],
   "source": [
    "df.loc[df.concept == 'income_groups']"
   ]
  },
  {
   "cell_type": "code",
   "execution_count": null,
   "metadata": {
    "collapsed": true
   },
   "outputs": [],
   "source": [
    "df.loc[df.concept == 'income_groups', 'name'] = '所得區間'"
   ]
  },
  {
   "cell_type": "code",
   "execution_count": null,
   "metadata": {
    "collapsed": true
   },
   "outputs": [],
   "source": [
    "df.to_csv(CSV_PATH, index=False)"
   ]
  },
  {
   "cell_type": "code",
   "execution_count": null,
   "metadata": {
    "collapsed": true
   },
   "outputs": [],
   "source": []
  },
  {
   "cell_type": "markdown",
   "metadata": {},
   "source": [
    "## Find file structure for concepts with Taiwan data"
   ]
  },
  {
   "cell_type": "code",
   "execution_count": 10,
   "metadata": {
    "collapsed": true
   },
   "outputs": [],
   "source": [
    "CONCEPT_CSV_PATH = \"statistics/ddf--concepts.csv\"\n",
    "TAG_CSV_PATH = \"statistics/ddf--entities--tag.csv\""
   ]
  },
  {
   "cell_type": "code",
   "execution_count": null,
   "metadata": {
    "collapsed": true
   },
   "outputs": [],
   "source": [
    "df_c = pd.read_csv(CONCEPT_CSV_PATH)\n",
    "df_c.head()"
   ]
  },
  {
   "cell_type": "code",
   "execution_count": null,
   "metadata": {
    "collapsed": true
   },
   "outputs": [],
   "source": [
    "df_c[df_c['concept'] == 'aged_15_24_unemployment_rate_percent']"
   ]
  },
  {
   "cell_type": "code",
   "execution_count": null,
   "metadata": {
    "collapsed": true
   },
   "outputs": [],
   "source": [
    "df_t = pd.read_csv(TAG_CSV_PATH)\n",
    "df_t.head(3)"
   ]
  },
  {
   "cell_type": "code",
   "execution_count": null,
   "metadata": {
    "collapsed": true
   },
   "outputs": [],
   "source": [
    "df = pd.merge(df_c, df_t, how='left', left_on='tags', right_on='tag')\n",
    "df.head()"
   ]
  },
  {
   "cell_type": "code",
   "execution_count": null,
   "metadata": {
    "collapsed": true
   },
   "outputs": [],
   "source": [
    "df[df['concept'] == 'aged_15_24_unemployment_rate_percent']"
   ]
  },
  {
   "cell_type": "code",
   "execution_count": null,
   "metadata": {
    "collapsed": true
   },
   "outputs": [],
   "source": [
    "df_t[df_t['tag'] == 'work']"
   ]
  },
  {
   "cell_type": "code",
   "execution_count": null,
   "metadata": {
    "collapsed": true
   },
   "outputs": [],
   "source": [
    "indicators = ['aged_15_24_unemployment_rate_percent']\n",
    "for idr in indicators:\n",
    "    ancestors = list()\n",
    "    \n",
    "    row_values = df[df['concept'] == idr].values[0]\n",
    "    name_catalog, parent, ancestor = (row_values[i] for i in [9, 17, 18])\n",
    "    ancestors.append(parent)\n",
    "    \n",
    "    # get ancestors recursively\n",
    "    while type(ancestor) is str:\n",
    "        tag_row_values = df_t[df_t['tag'] == ancestor].values[0]\n",
    "        ancestors.append(tag_row_values[1])\n",
    "        ancestor = tag_row_values[2]\n",
    "\n",
    "    # build concept structure\n",
    "    ancestors.insert(0, name_catalog)\n",
    "    print('/'.join(ancestors[::-1]))\n",
    "    \n"
   ]
  },
  {
   "cell_type": "code",
   "execution_count": null,
   "metadata": {},
   "outputs": [],
   "source": []
  },
  {
   "cell_type": "code",
   "execution_count": null,
   "metadata": {},
   "outputs": [],
   "source": []
  },
  {
   "cell_type": "code",
   "execution_count": null,
   "metadata": {},
   "outputs": [],
   "source": []
  },
  {
   "cell_type": "markdown",
   "metadata": {},
   "source": [
    "## ggplot2 ploting \n",
    "環境是從 `rpy2` 的 Docker image 裡頭執行的"
   ]
  },
  {
   "cell_type": "code",
   "execution_count": 42,
   "metadata": {
    "collapsed": true
   },
   "outputs": [],
   "source": [
    "import rpy2"
   ]
  },
  {
   "cell_type": "code",
   "execution_count": 43,
   "metadata": {
    "scrolled": false
   },
   "outputs": [
    {
     "name": "stdout",
     "output_type": "stream",
     "text": [
      "The rpy2.ipython extension is already loaded. To reload it, use:\n",
      "  %reload_ext rpy2.ipython\n"
     ]
    }
   ],
   "source": [
    "%load_ext rpy2.ipython"
   ]
  },
  {
   "cell_type": "code",
   "execution_count": 46,
   "metadata": {},
   "outputs": [],
   "source": [
    "%R require(ggplot2)\n",
    "%R -i df"
   ]
  },
  {
   "cell_type": "code",
   "execution_count": 74,
   "metadata": {},
   "outputs": [
    {
     "data": {
      "image/png": "[encoded data removed]"
     },
     "metadata": {},
     "output_type": "display_data"
    }
   ],
   "source": [
    "%%R -w 700\n",
    "\n",
    "df$tag <- factor(df$tag, levels = df$tag[order(df$num_indicators)])\n",
    "\n",
    "ggplot(df, aes(x = tag, y = num_indicators), family = \"DFPLiSong\") + \n",
    "    geom_bar(stat = 'identity') +\n",
    "    labs(x = '', y = '') +\n",
    "    coord_flip() + \n",
    "    theme(\n",
    "        axis.text.x = element_text(colour=\"grey20\",size=20,angle=0,hjust=.5,vjust=.5,face=\"plain\"),\n",
    "        axis.text.y = element_text(colour=\"grey20\",size=20,angle=0,hjust=1,vjust=0,face=\"plain\"),  \n",
    "        axis.title.x = element_text(colour=\"grey20\",size=24,angle=0,hjust=.5,vjust=0,face=\"plain\"),\n",
    "        axis.title.y = element_text(colour=\"grey20\",size=24,angle=90,hjust=.5,vjust=.5,face=\"plain\"))\n",
    "\n"
   ]
  },
  {
   "cell_type": "code",
   "execution_count": null,
   "metadata": {
    "collapsed": true
   },
   "outputs": [],
   "source": []
  },
  {
   "cell_type": "code",
   "execution_count": null,
   "metadata": {
    "collapsed": true
   },
   "outputs": [],
   "source": []
  }
 ],
 "metadata": {
  "kernelspec": {
   "display_name": "Python 3",
   "language": "python",
   "name": "python3"
  },
  "language_info": {
   "codemirror_mode": {
    "name": "ipython",
    "version": 3
   },
   "file_extension": ".py",
   "mimetype": "text/x-python",
   "name": "python",
   "nbconvert_exporter": "python",
   "pygments_lexer": "ipython3",
   "version": "3.6.5"
  }
 },
 "nbformat": 4,
 "nbformat_minor": 2
}
