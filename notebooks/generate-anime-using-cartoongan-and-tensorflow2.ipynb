{
 "cells": [
  {
   "cell_type": "markdown",
   "metadata": {},
   "source": [
    "- author: Lee Meng\n",
    "- date: 2019-05-06 09:00\n",
    "- title: Generate Anime using CartoonGAN and TensorFlow 2.0\n",
    "- slug: generate-anime-using-cartoongan-and-tensorflow2\n",
    "- tags: GAN, TensorFlow, TensorFlow.js\n",
    "- description: \n",
    "- summary: \n",
    "- image: finan-akbar-429027-unsplash-transformed.jpg\n",
    "- image_credit_url: https://unsplash.com/photos/hwLAI5lRhdM?utm_source=unsplash&utm_medium=referral&utm_content=creditCopyText\n",
    "- status: draft\n",
    "- lang: en"
   ]
  },
  {
   "cell_type": "code",
   "execution_count": null,
   "metadata": {},
   "outputs": [],
   "source": [
    "#ignore\n",
    "下一個 markdown cell 引入 cartoogan 用的 css"
   ]
  },
  {
   "cell_type": "markdown",
   "metadata": {},
   "source": [
    "<link rel=\"stylesheet\" href=\"{static}tfjs-apps/cartoongan/cartoongan.css\" />"
   ]
  },
  {
   "cell_type": "code",
   "execution_count": null,
   "metadata": {},
   "outputs": [],
   "source": [
    "#ignore\n",
    "CartoonGAN css 引入結束"
   ]
  },
  {
   "cell_type": "markdown",
   "metadata": {},
   "source": [
    "I'm a big fan of Japanese animators [Shinkai Makoto](https://en.wikipedia.org/wiki/Makoto_Shinkai) and [Miyazaki Hayao](https://en.wikipedia.org/wiki/Hayao_Miyazaki). After reading this paper, I decided to build a [TensorFlow.js](https://www.tensorflow.org/js) application to make it available to everyone."
   ]
  },
  {
   "cell_type": "markdown",
   "metadata": {},
   "source": [
    "!mp4\n",
    "- images/cartoongan/giphy_1554480048.mp4"
   ]
  },
  {
   "cell_type": "markdown",
   "metadata": {},
   "source": [
    "This page demonstrated [CartoonGAN](http://openaccess.thecvf.com/content_cvpr_2018/papers/Chen_CartoonGAN_Generative_Adversarial_CVPR_2018_paper.pdf), a [Generative Adversarial Network(GAN)](https://youtu.be/yFBFl1cLYx8?list=PLtBw6njQRU-rwp5__7C0oIVt26ZgjG9NI&t=1879) proposed by [Chen et al.,](http://cg.cs.tsinghua.edu.cn/people/~Yongjin/Yongjin.htm) to transform real world pictures into anime."
   ]
  },
  {
   "cell_type": "markdown",
   "metadata": {},
   "source": [
    "<center>\n",
    "    <img src=\"{static}/images/cartoongan/paper-demo.jpg\">\n",
    "</center>\n",
    "<center>\n",
    "    CartoonGAN result using different artistic styles\n",
    "    （<a href=\"http://openaccess.thecvf.com/content_cvpr_2018/papers/Chen_CartoonGAN_Generative_Adversarial_CVPR_2018_paper.pdf\" target=\"_blank\">Image Source</a>）\n",
    "    <br>\n",
    "    <br>\n",
    "</center>"
   ]
  },
  {
   "cell_type": "markdown",
   "metadata": {},
   "source": [
    "CartoonGAN is not the latest GAN proposed, but it is definitly one of the most interesting one for me.\n",
    "\n",
    "And this is how the tfjs app work:"
   ]
  },
  {
   "cell_type": "markdown",
   "metadata": {},
   "source": [
    "!image\n",
    "- cartoongan/tfjs-demo.gif"
   ]
  },
  {
   "cell_type": "markdown",
   "metadata": {},
   "source": [
    "!mp4\n",
    "- images/cartoongan/tfjs-demo.mp4"
   ]
  },
  {
   "cell_type": "markdown",
   "metadata": {},
   "source": [
    "That's it. Under the hood, TensorFlow.js load the pretrained models converted from [here](https://github.com/Yijunmaverick/CartoonGAN-Test-Pytorch-Torch) and use them to transform uploaded images.\n",
    "\n",
    "Currently, you can cartoonize images with following artistic styles:\n",
    "- [Shinkai Makoto](https://en.wikipedia.org/wiki/Makoto_Shinkai)\n",
    "- [Miyazaki Hayao](https://en.wikipedia.org/wiki/Hayao_Miyazaki)\n",
    "- [Hosoda Mamoru](https://en.wikipedia.org/wiki/Mamoru_Hosoda)\n",
    "- [Paprika](https://bit.ly/2ZGZM55)"
   ]
  },
  {
   "cell_type": "markdown",
   "metadata": {},
   "source": [
    "Without further ado, try it yourself:\n",
    "\n",
    "(It may take sometime to load the models if your network speed is slow) "
   ]
  },
  {
   "cell_type": "code",
   "execution_count": null,
   "metadata": {},
   "outputs": [],
   "source": [
    "#ignore\n",
    "cartoongan demo input / output 開始"
   ]
  },
  {
   "cell_type": "markdown",
   "metadata": {},
   "source": [
    "<div id=\"container\" class=\"row\">\n",
    "    <div class=\"column50\">\n",
    "        <div>\n",
    "            <img id=\"input\" class=\"cartoongan_image\" src=\"{static}tfjs-apps/cartoongan/cat.png\"/>\n",
    "        </div>\n",
    "    </div>\n",
    "    <div class=\"column50\">\n",
    "        <div>\n",
    "            <img id=\"pregenerated_output\" class=\"cartoongan_image\" src=\"{static}tfjs-apps/cartoongan/cat_shinkai.jpg\"/>\n",
    "            <canvas id=\"output\" style=\"display:none\"></canvas>\n",
    "        </div> \n",
    "        <div id=\"app-status\" style=\"display:none;padding:70px 0\"></div>\n",
    "    </div> \n",
    "</div>\n",
    "<div class=\"row\" style=\"margin-bottom:6rem;\">\n",
    "    <div class=\"column50\">\n",
    "        <label class=\"btn\" style=\"margin-top: 2rem;height: 3rem;line-height:2.8rem;color:white;padding: 0 1rem\">\n",
    "            Upload Image\n",
    "            <input type=\"file\" id=\"files\" name=\"files[]\" multiple=\"\" style=\"display:none\">\n",
    "        </label>\n",
    "    </div> \n",
    "    <div class=\"column50\">\n",
    "        <select id=\"styles\" name=\"styles\" style=\"margin: auto;display: block;margin-top: 0.8rem\">\n",
    "            <option value=\"shinkai\" selected=\"selected\"><b>Shinkai Makoto</b> Style</option>\n",
    "            <option value=\"hayao\"><b>Miyazaki Hayao</b> Style</option>\n",
    "            <option value=\"hosoda\"><b>Hosoda Mamoru</b> Style</option>\n",
    "            <option value=\"paprika\"><b>Paprika</b> Style</option>\n",
    "        </select>\n",
    "    </div> \n",
    "</div>"
   ]
  },
  {
   "cell_type": "code",
   "execution_count": null,
   "metadata": {},
   "outputs": [],
   "source": [
    "#ignore\n",
    "cartoongan demo input / output 結束"
   ]
  },
  {
   "cell_type": "markdown",
   "metadata": {},
   "source": []
  },
  {
   "cell_type": "code",
   "execution_count": null,
   "metadata": {},
   "outputs": [],
   "source": []
  },
  {
   "cell_type": "markdown",
   "metadata": {},
   "source": [
    "## Some Generated Result"
   ]
  },
  {
   "cell_type": "code",
   "execution_count": null,
   "metadata": {},
   "outputs": [],
   "source": []
  },
  {
   "cell_type": "code",
   "execution_count": null,
   "metadata": {},
   "outputs": [],
   "source": []
  },
  {
   "cell_type": "markdown",
   "metadata": {},
   "source": [
    "## Why We Made This"
   ]
  },
  {
   "cell_type": "code",
   "execution_count": null,
   "metadata": {},
   "outputs": [],
   "source": []
  },
  {
   "cell_type": "code",
   "execution_count": null,
   "metadata": {},
   "outputs": [],
   "source": [
    "#ignore\n",
    "tfjs setup in next markdown cell"
   ]
  },
  {
   "cell_type": "markdown",
   "metadata": {},
   "source": [
    "<script src=\"{static}tfjs-apps/cartoongan/dist/tf.js\"></script>\n",
    "<script src=\"{static}tfjs-apps/cartoongan/cartoongan.js\"></script>"
   ]
  },
  {
   "cell_type": "code",
   "execution_count": null,
   "metadata": {},
   "outputs": [],
   "source": [
    "#ignore\n",
    "tfjs 引入完畢"
   ]
  }
 ],
 "metadata": {
  "kernelspec": {
   "display_name": "Python 3",
   "language": "python",
   "name": "python3"
  },
  "language_info": {
   "codemirror_mode": {
    "name": "ipython",
    "version": 3
   },
   "file_extension": ".py",
   "mimetype": "text/x-python",
   "name": "python",
   "nbconvert_exporter": "python",
   "pygments_lexer": "ipython3",
   "version": "3.7.0"
  }
 },
 "nbformat": 4,
 "nbformat_minor": 2
}
