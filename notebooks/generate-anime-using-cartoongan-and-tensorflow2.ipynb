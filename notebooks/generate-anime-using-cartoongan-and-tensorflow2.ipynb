{
 "cells": [
  {
   "cell_type": "markdown",
   "metadata": {},
   "source": [
    "- author: Lee Meng\n",
    "- date: 2019-05-06 09:00\n",
    "- title: 用 CartoonGAN 及 TensorFlow 2 畫動漫\n",
    "- slug: generate-anime-using-cartoongan-and-tensorflow2\n",
    "- tags: GAN, TensorFlow, TensorFlow.js\n",
    "- description: \n",
    "- summary: \n",
    "- image: finan-akbar-429027-unsplash-transformed.jpg\n",
    "- image_credit_url: https://unsplash.com/photos/hwLAI5lRhdM?utm_source=unsplash&utm_medium=referral&utm_content=creditCopyText\n",
    "- status: draft"
   ]
  },
  {
   "cell_type": "code",
   "execution_count": null,
   "metadata": {},
   "outputs": [],
   "source": [
    "#ignore\n",
    "- 選出要 demo 的圖\n",
    "- 測試 light G 的 tfjs model\n",
    "- 加入 CartoonGAN 訓練過程介紹\n",
    "- 翻譯中文\n",
    "- 測試 tfjs model (using constant pad)\n",
    "- 將 mnicnc 新 train 出來的加入 model option\n",
    "- 將 tfjs demo 改成中文版\n"
   ]
  },
  {
   "cell_type": "code",
   "execution_count": null,
   "metadata": {},
   "outputs": [],
   "source": [
    "#ignore\n",
    "下一個 markdown cell 引入 cartoogan 用的 css"
   ]
  },
  {
   "cell_type": "markdown",
   "metadata": {},
   "source": [
    "<link rel=\"stylesheet\" href=\"{static}tfjs-apps/cartoongan/cartoongan.css\" />"
   ]
  },
  {
   "cell_type": "code",
   "execution_count": null,
   "metadata": {},
   "outputs": [],
   "source": [
    "#ignore\n",
    "CartoonGAN css 引入結束"
   ]
  },
  {
   "cell_type": "markdown",
   "metadata": {},
   "source": [
    "!quote\n",
    "- 如果能讓 AI 幫我們將圖片自動轉換成新海誠或是宮崎駿等人的動漫風格，豈不是很有意思？"
   ]
  },
  {
   "cell_type": "markdown",
   "metadata": {},
   "source": [
    "這篇文章展示了一個用 [TensorFlow.js](https://www.tensorflow.org/js) 實作的 [CartoonGAN](http://openaccess.thecvf.com/content_cvpr_2018/papers/Chen_CartoonGAN_Generative_Adversarial_CVPR_2018_paper.pdf)，讓你可以直接在瀏覽器裡頭產生動漫風格圖片。\n",
    "\n",
    "CartoonGAN 於 2018 [CVPR](http://cvpr2019.thecvf.com/) 推出，是一個嘗試將真實世界圖片轉換成動漫的[對抗生成網路（Generative Adversarial Network, GAN）](https://youtu.be/yFBFl1cLYx8?list=PLtBw6njQRU-rwp5__7C0oIVt26ZgjG9NI&t=1879)。"
   ]
  },
  {
   "cell_type": "markdown",
   "metadata": {},
   "source": [
    "!mp4\n",
    "- images/cartoongan/cat_cover.mp4\n",
    "- images/cartoongan/cat_cover.jpg\n",
    "- 左上為原圖，其餘三圖則為使用 CartoonGAN 以不同動漫風格對原圖轉換後的結果"
   ]
  },
  {
   "cell_type": "markdown",
   "metadata": {},
   "source": [
    "當初看到這篇[論文](http://openaccess.thecvf.com/content_cvpr_2018/papers/Chen_CartoonGAN_Generative_Adversarial_CVPR_2018_paper.pdf)覺得很有趣，且裡頭正好展示了我喜愛的兩位日本動畫作家：[新海誠](https://zh.wikipedia.org/wiki/%E6%96%B0%E6%B5%B7%E8%AA%A0)及[宮崎駿](https://zh.wikipedia.org/zh-tw/%E5%AE%AB%E5%B4%8E%E9%AA%8F)的風格轉換結果，因此決定寫個 [TensorFlow.js](https://www.tensorflow.org/js) 應用，讓更多人可以輕鬆地體驗這個有趣的 CartoonGAN。\n",
    "\n",
    "使用方法很直覺，選擇風格並上傳照片，完成！"
   ]
  },
  {
   "cell_type": "markdown",
   "metadata": {},
   "source": [
    "!mp4\n",
    "- images/cartoongan/tfjs-demo.mp4"
   ]
  },
  {
   "cell_type": "markdown",
   "metadata": {},
   "source": [
    "你馬上就可在下一節試試這個 CartoonGAN。"
   ]
  },
  {
   "cell_type": "markdown",
   "metadata": {},
   "source": [
    "## 動手玩 CartoonGAN"
   ]
  },
  {
   "cell_type": "markdown",
   "metadata": {},
   "source": [
    "因為 TensorFlow.js 在瀏覽器裡運行，符合以下條件能讓你獲得較好的體驗：\n",
    "- 使用桌電 / 筆電等**計算能力**較強的設備\n",
    "- 在網速快的環境測試（減少**載入模型**時間）\n",
    "\n",
    "以下就是實際的應用："
   ]
  },
  {
   "cell_type": "code",
   "execution_count": null,
   "metadata": {},
   "outputs": [],
   "source": [
    "#ignore\n",
    "cartoongan demo input / output 開始"
   ]
  },
  {
   "cell_type": "markdown",
   "metadata": {},
   "source": [
    "<div id=\"container\" class=\"row\">\n",
    "    <div class=\"column50\">\n",
    "        <div>\n",
    "            <img id=\"input\" class=\"cartoongan_image\" src=\"{static}tfjs-apps/cartoongan/cat.png\"/>\n",
    "        </div>\n",
    "    </div>\n",
    "    <div class=\"column50\">\n",
    "        <div>\n",
    "            <img id=\"pregenerated_output\" class=\"cartoongan_image\" src=\"{static}tfjs-apps/cartoongan/cat_shinkai.jpg\"/>\n",
    "            <canvas id=\"output\" style=\"display:none\"></canvas>\n",
    "        </div> \n",
    "        <div id=\"app-status\" style=\"display:none;padding:70px 0\"></div>\n",
    "    </div> \n",
    "</div>\n",
    "<div class=\"row\" style=\"margin-bottom:6rem;\">\n",
    "    <div class=\"column50\">\n",
    "        <label class=\"btn\" style=\"margin-top: 2rem;height: 3rem;line-height:2.8rem;color:white;padding: 0 1rem\">\n",
    "            選擇圖片\n",
    "            <input type=\"file\" id=\"files\" name=\"files[]\" multiple=\"\" style=\"display:none\">\n",
    "        </label>\n",
    "    </div> \n",
    "    <div class=\"column50\">\n",
    "        <select id=\"styles\" name=\"styles\" style=\"margin: auto;display: block;margin-top: 0.8rem\">\n",
    "            <option value=\"shinkai\" selected=\"selected\"><b>新海誠</b>風格</option>\n",
    "            <option value=\"hayao\"><b>宮崎駿</b>風格</option>\n",
    "            <option value=\"hosoda\"><b>細田守</b>風格</option>\n",
    "            <option value=\"paprika\"><b>盜夢偵探</b>風格</option>\n",
    "        </select>\n",
    "    </div> \n",
    "</div>"
   ]
  },
  {
   "cell_type": "code",
   "execution_count": null,
   "metadata": {},
   "outputs": [],
   "source": [
    "#ignore\n",
    "cartoongan demo input / output 結束"
   ]
  },
  {
   "cell_type": "markdown",
   "metadata": {},
   "source": [
    "如果你的設備（如手機）在上傳圖片後一直停在 `Cartoonizing images`，可能代表著運算資源的不足。不過別走開！下一節提供更強大的方法讓你轉換任意圖片。"
   ]
  },
  {
   "cell_type": "markdown",
   "metadata": {},
   "source": [
    "## TensorFlow 2 畫動漫"
   ]
  },
  {
   "cell_type": "markdown",
   "metadata": {},
   "source": [
    "適逢 [PoweredByTF 2.0 挑戰](https://tensorflow.devpost.com/)，我與夥伴 [mnicnc404](https://github.com/mnicnc404) 也用 [TensorFlow 2.0 Alpha](https://www.tensorflow.org/alpha) 實作了 CartoonGAN。\n",
    "\n",
    "如果你想要轉換更大尺寸的圖片或是動圖，可以參考我們的 [CartoonGan-tensorflow](https://github.com/mnicnc404/CartoonGan-tensorflow) 或是馬上點擊[這個 Colab 筆記本](https://colab.research.google.com/drive/1WIZBHix_cYIGsBKa4phIwCq5qXwO8fRX)來轉換圖片： "
   ]
  },
  {
   "cell_type": "markdown",
   "metadata": {},
   "source": [
    "!mp4\n",
    "- images/cartoongan/colab-demo.mp4\n",
    "- images/cartoongan/colab-demo.jpg\n",
    "- 使用我們的 Colab 筆記本可以讓你使用 TensorFlow 2 轉換任何圖片"
   ]
  },
  {
   "cell_type": "markdown",
   "metadata": {},
   "source": [
    "[Google Colaboratory](https://colab.research.google.com/) 是一個雲端 [Jupyter 筆記本](https://jupyter.org/)環境，提供 GPU 讓任何人都可以立即開始一個深度學習專案。\n",
    "\n",
    "在[這個筆記本](https://colab.research.google.com/drive/1WIZBHix_cYIGsBKa4phIwCq5qXwO8fRX)裡頭，以下步驟都幫你寫好了：\n",
    "- 建置 TensorFlow 2.0 環境\n",
    "- 下載 Github Repo 及預訓練模型 \n",
    "- 下載任意網路圖片 / gif\n",
    "- 使用 CartoonGAN 轉換圖片\n",
    "\n",
    "你只需打開筆記本並依照指示一步步執行，即可為你的圖片添加動漫風格。"
   ]
  },
  {
   "cell_type": "markdown",
   "metadata": {},
   "source": [
    "## 一些轉換後的動漫成果"
   ]
  },
  {
   "cell_type": "markdown",
   "metadata": {},
   "source": [
    "獨樂樂不如眾樂樂。這一節讓我和你分享一些使用 CartoonGAN 產生的結果。\n",
    "\n",
    "以下的結果從左到右、由上而下分別為：\n",
    "- 原始圖片\n",
    "- [新海誠](https://zh.wikipedia.org/wiki/%E6%96%B0%E6%B5%B7%E8%AA%A0)風格\n",
    "- [宮崎駿](https://zh.wikipedia.org/zh-tw/%E5%AE%AB%E5%B4%8E%E9%AA%8F)風格\n",
    "- [細田守](https://zh.wikipedia.org/wiki/%E7%B4%B0%E7%94%B0%E5%AE%88)風格"
   ]
  },
  {
   "cell_type": "markdown",
   "metadata": {},
   "source": []
  },
  {
   "cell_type": "code",
   "execution_count": null,
   "metadata": {},
   "outputs": [],
   "source": [
    "#ignore\n",
    "引進圖庫用的 css, 畫 gallery"
   ]
  },
  {
   "cell_type": "markdown",
   "metadata": {},
   "source": [
    "<style>\n",
    "<!-- https://www.w3schools.com/w3css/w3css_slideshow.asp -->\n",
    ".w3-content,\n",
    ".w3-auto {\n",
    "\tmargin-left: auto;\n",
    "\tmargin-right: auto\n",
    "}\n",
    "\n",
    ".w3-content {\n",
    "\tmax-width: 980px\n",
    "}\n",
    "\n",
    ".w3-display-container:hover .w3-display-hover {\n",
    "\tdisplay: block\n",
    "}\n",
    "\n",
    ".w3-display-container:hover span.w3-display-hover {\n",
    "\tdisplay: inline-block\n",
    "}\n",
    "\n",
    ".w3-display-container {\n",
    "\tposition: relative\n",
    "}\n",
    "\n",
    ".w3-button:hover {\n",
    "\tcolor: #000!important;\n",
    "\tbackground-color: #ccc!important\n",
    "}\n",
    "\n",
    ".w3-button {\n",
    "\tborder: none;\n",
    "\tdisplay: inline-block;\n",
    "\tpadding: 8px 16px;\n",
    "\tvertical-align: middle;\n",
    "\toverflow: hidden;\n",
    "\ttext-decoration: none;\n",
    "\tcolor: inherit;\n",
    "\tbackground-color: inherit;\n",
    "\ttext-align: center;\n",
    "\tcursor: pointer;\n",
    "\twhite-space: nowrap\n",
    "}\n",
    "\n",
    ".w3-button {\n",
    "\t-webkit-touch-callout: none;\n",
    "\t-webkit-user-select: none;\n",
    "\t-khtml-user-select: none;\n",
    "\t-moz-user-select: none;\n",
    "\t-ms-user-select: none;\n",
    "\tuser-select: none\n",
    "}\n",
    "\n",
    ".w3-button:disabled {\n",
    "\tcursor: not-allowed;\n",
    "\topacity: 0.3\n",
    "}\n",
    "\n",
    ".w3-display-left {\n",
    "\tposition: absolute;\n",
    "\ttop: 50%;\n",
    "\tleft: 0%;\n",
    "\ttransform: translate(0%, -50%);\n",
    "\t-ms-transform: translate(-0%, -50%)\n",
    "}\n",
    "\n",
    ".w3-display-right {\n",
    "\tposition: absolute;\n",
    "\ttop: 50%;\n",
    "\tright: 0%;\n",
    "\ttransform: translate(0%, -50%);\n",
    "\t-ms-transform: translate(0%, -50%)\n",
    "}\n",
    "    \n",
    ".mySlides {display:none;}\n",
    "</style>\n",
    "\n",
    "<div class=\"w3-content w3-display-container\">\n",
    "  <img class=\"mySlides\" src=\"{static}images/cartoongan/gallery/static-woman-face.jpg\" style=\"width:100%\">\n",
    "  <img class=\"mySlides\" src=\"{static}images/cartoongan/gallery/static-temple.jpg\" style=\"width:100%\">\n",
    "  <img class=\"mySlides\" src=\"{static}images/cartoongan/gallery/giphy.gif\" style=\"width:100%\">\n",
    "  <video class=\"mySlides\" loop muted autoplay playsinline style=\"width:100%\">\n",
    "      <source src=\"{static}images/cartoongan/gallery/giphy_1554478201.mp4\" type=\"video/mp4\">\n",
    "        您的瀏覽器不支援影片標籤，請留言通知我：S\n",
    "    </video>\n",
    "\n",
    "  <button class=\"w3-button w3-black w3-display-left\" onclick=\"plusDivs(-1)\">&#10094;</button>\n",
    "  <button class=\"w3-button w3-black w3-display-right\" onclick=\"plusDivs(1)\">&#10095;</button>\n",
    "</div>\n",
    "\n",
    "<script>\n",
    "var slideIndex = 1;\n",
    "showDivs(slideIndex);\n",
    "\n",
    "function plusDivs(n) {\n",
    "  showDivs(slideIndex += n);\n",
    "}\n",
    "\n",
    "function showDivs(n) {\n",
    "  var i;\n",
    "  var x = document.getElementsByClassName(\"mySlides\");\n",
    "  if (n > x.length) {slideIndex = 1}\n",
    "  if (n < 1) {slideIndex = x.length}\n",
    "  for (i = 0; i < x.length; i++) {\n",
    "    x[i].style.display = \"none\";  \n",
    "  }\n",
    "  x[slideIndex-1].style.display = \"block\";  \n",
    "}\n",
    "</script>"
   ]
  },
  {
   "cell_type": "code",
   "execution_count": null,
   "metadata": {},
   "outputs": [],
   "source": [
    "#ignore\n",
    "完成 rendering gallery"
   ]
  },
  {
   "cell_type": "code",
   "execution_count": null,
   "metadata": {},
   "outputs": [],
   "source": []
  },
  {
   "cell_type": "code",
   "execution_count": null,
   "metadata": {},
   "outputs": [],
   "source": []
  },
  {
   "cell_type": "markdown",
   "metadata": {},
   "source": []
  },
  {
   "cell_type": "markdown",
   "metadata": {},
   "source": []
  },
  {
   "cell_type": "code",
   "execution_count": null,
   "metadata": {},
   "outputs": [],
   "source": []
  },
  {
   "cell_type": "code",
   "execution_count": null,
   "metadata": {},
   "outputs": [],
   "source": []
  },
  {
   "cell_type": "markdown",
   "metadata": {},
   "source": [
    "CartoonGAN 的動漫生成當然還有不少改善空間，但已經有些不錯的成果了。"
   ]
  },
  {
   "cell_type": "markdown",
   "metadata": {},
   "source": [
    "## 推薦的 GAN 學習資源"
   ]
  },
  {
   "cell_type": "markdown",
   "metadata": {},
   "source": [
    "近年以深度學習為基礎的生成模型（Generative Models）領域蓬勃發展，其中最亮眼的發展之一當屬對抗生成網路了。而本文的 CartoonGAN 也是[眾多 GANs](https://github.com/hindupuravinash/the-gan-zoo) 裡頭的其中一個小夥子。"
   ]
  },
  {
   "cell_type": "markdown",
   "metadata": {},
   "source": [
    "!image\n",
    "- cartoongan/tf-dcgan.png\n",
    "- 對抗生成網路 GAN 實際上由兩個獨立的神經網路相互「對抗」\n",
    "- https://www.tensorflow.org/alpha/tutorials/generative/dcgan"
   ]
  },
  {
   "cell_type": "markdown",
   "metadata": {},
   "source": [
    "本文希望專注在 CartoonGAN 的實際應用。對訓練模型、推論的實作細節有興趣的讀者請參考我們以 [TensorFlow 2.0 API](https://www.tensorflow.org/versions/r2.0/api_docs/python/tf) 實作的 [CartoonGan-tensorflow](https://github.com/mnicnc404/CartoonGan-tensorflow)。\n",
    "\n",
    "對 GAN 的理論 & 基礎知識有興趣的讀者，我則推薦以下的學習資源：\n",
    "\n",
    "- [李宏毅教授在 Youtube 上的 GAN 教學影片](https://www.youtube.com/watch?v=DQNNMiAP5lw&list=PLJV_el3uVTsMq6JEFPW35BCiOQTsoqwNw)\n",
    "- [MIT 6.S191 的 Deep Generative Models](https://www.youtube.com/watch?v=yFBFl1cLYx8&index=1&list=PLtBw6njQRU-rwp5__7C0oIVt26ZgjG9NI)\n",
    "- [GAN Lab 讓你在瀏覽器上訓練並學習 GAN](https://poloclub.github.io/ganlab/)\n",
    "- [Andrej Karpathy 的簡單 GAN Demo](https://cs.stanford.edu/people/karpathy/gan/)\n",
    "- [TensorFlow 官方教學帶你生成 MNIST](https://www.tensorflow.org/alpha/tutorials/generative/dcgan)\n",
    "- [機器之心講解 CartoonGAN 運作原理](https://www.jiqizhixin.com/articles/CVPR2018-CartoonGAN)\n",
    "- [Synced: Reproducing Japanese Anime Styles With CartoonGAN AI](https://medium.com/syncedreview/reproducing-japanese-anime-styles-with-cartoongan-ai-cf30d583736e)"
   ]
  },
  {
   "cell_type": "markdown",
   "metadata": {},
   "source": [
    "!image\n",
    "- cartoongan/mit-gan.png\n",
    "- MIT 6.S191 的 Deep Generative Models 適合入門\n",
    "- https://www.youtube.com/watch?v=yFBFl1cLYx8&index=1&list=PLtBw6njQRU-rwp5__7C0oIVt26ZgjG9NI"
   ]
  },
  {
   "cell_type": "markdown",
   "metadata": {},
   "source": [
    "更多學習資源則請參閱[由淺入深的深度學習資源整理](https://leemeng.tw/deep-learning-resources.html)。另外如果你有其他推薦的學習資源，還請不吝留言與我及其他讀者分享，謝謝！"
   ]
  },
  {
   "cell_type": "markdown",
   "metadata": {},
   "source": [
    "## 結語"
   ]
  },
  {
   "cell_type": "markdown",
   "metadata": {},
   "source": [
    "CartoonGAN 是我第一次嘗試用 [TensorFlow 2.0](https://www.tensorflow.org/alpha) 以及 [TensorFlow.js](https://www.tensorflow.org/js) 實作的生成對抗網路，從過程中學到了很多。感謝大神 [mnicnc404](https://github.com/mnicnc404) 強大的實作支援以及許多寶貴見解，獲益良多。\n",
    "\n",
    "希望透過這篇文章能讓更多人對強大的 GAN 以及生成模型產生興趣，並進一步探索相關知識，嘗試更多可能性，做出更多有趣的應用：）"
   ]
  },
  {
   "cell_type": "code",
   "execution_count": null,
   "metadata": {},
   "outputs": [],
   "source": [
    "#ignore\n",
    "tfjs setup in next markdown cell"
   ]
  },
  {
   "cell_type": "markdown",
   "metadata": {},
   "source": [
    "<script src=\"{static}tfjs-apps/cartoongan/dist/tf.js\"></script>\n",
    "<script src=\"{static}tfjs-apps/cartoongan/cartoongan.js\"></script>"
   ]
  },
  {
   "cell_type": "code",
   "execution_count": null,
   "metadata": {},
   "outputs": [],
   "source": [
    "#ignore\n",
    "tfjs 引入完畢"
   ]
  }
 ],
 "metadata": {
  "kernelspec": {
   "display_name": "Python 3",
   "language": "python",
   "name": "python3"
  },
  "language_info": {
   "codemirror_mode": {
    "name": "ipython",
    "version": 3
   },
   "file_extension": ".py",
   "mimetype": "text/x-python",
   "name": "python",
   "nbconvert_exporter": "python",
   "pygments_lexer": "ipython3",
   "version": "3.7.0"
  }
 },
 "nbformat": 4,
 "nbformat_minor": 2
}
