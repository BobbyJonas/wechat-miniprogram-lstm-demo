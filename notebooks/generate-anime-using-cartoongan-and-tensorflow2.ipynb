{
 "cells": [
  {
   "cell_type": "markdown",
   "metadata": {},
   "source": [
    "- author: Lee Meng\n",
    "- date: 2019-05-06 09:00\n",
    "- title: 用 CartoonGAN 及 TensorFlow 2 畫動漫\n",
    "- slug: generate-anime-using-cartoongan-and-tensorflow2\n",
    "- tags: GAN, TensorFlow, TensorFlow.js\n",
    "- description: \n",
    "- summary: \n",
    "- image: finan-akbar-429027-unsplash-transformed.jpg\n",
    "- image_credit_url: https://unsplash.com/photos/hwLAI5lRhdM?utm_source=unsplash&utm_medium=referral&utm_content=creditCopyText\n",
    "- status: draft"
   ]
  },
  {
   "cell_type": "code",
   "execution_count": null,
   "metadata": {},
   "outputs": [],
   "source": [
    "#ignore\n",
    "- 加入 CartoonGAN 訓練過程介紹\n",
    "- 翻譯中文\n",
    "- 測試 tfjs model (using constant pad)\n",
    "- 將 mnicnc 新 train 出來的加入 model option\n",
    "- 將 tfjs demo 改成中文版\n",
    "- 改善 gallery style\n"
   ]
  },
  {
   "cell_type": "code",
   "execution_count": null,
   "metadata": {},
   "outputs": [],
   "source": [
    "#ignore\n",
    "下一個 markdown cell 引入 cartoogan 用的 css"
   ]
  },
  {
   "cell_type": "markdown",
   "metadata": {},
   "source": [
    "<link rel=\"stylesheet\" href=\"{static}tfjs-apps/cartoongan/cartoongan.css\" />"
   ]
  },
  {
   "cell_type": "code",
   "execution_count": null,
   "metadata": {},
   "outputs": [],
   "source": [
    "#ignore\n",
    "CartoonGAN css 引入結束"
   ]
  },
  {
   "cell_type": "markdown",
   "metadata": {},
   "source": [
    "!quote\n",
    "- 如果能讓 AI 幫我們將圖片自動轉換成新海誠或是宮崎駿等人的動漫風格，豈不是很有意思？"
   ]
  },
  {
   "cell_type": "markdown",
   "metadata": {},
   "source": [
    "這篇文章介紹我與夥伴 [mnicnc404](https://github.com/mnicnc404) 最近以 [TensorFlow 2.0 Alpha](https://www.tensorflow.org/alpha) 實作的 [CartoonGAN-TensorFlow2\n",
    "](https://github.com/mnicnc404/CartoonGan-tensorflow) 專案。我們同時也展示一個 [TensorFlow.js](https://www.tensorflow.org/js) 應用，讓你可以直接在瀏覽器上產生動漫。\n",
    "\n",
    "[CartoonGAN](http://openaccess.thecvf.com/content_cvpr_2018/papers/Chen_CartoonGAN_Generative_Adversarial_CVPR_2018_paper.pdf) 於 2018 [CVPR](http://cvpr2019.thecvf.com/) 推出，是一個嘗試將真實世界圖片轉換成動漫的[對抗生成網路（Generative Adversarial Network, GAN）](https://youtu.be/yFBFl1cLYx8?list=PLtBw6njQRU-rwp5__7C0oIVt26ZgjG9NI&t=1879)。"
   ]
  },
  {
   "cell_type": "markdown",
   "metadata": {},
   "source": [
    "!mp4\n",
    "- images/cartoongan/cat_cover.mp4\n",
    "- images/cartoongan/cat_cover.jpg\n",
    "- 左上為原圖，其餘三圖則為我們使用 CartoonGAN 將不同動漫風格套用到原圖上的結果"
   ]
  },
  {
   "cell_type": "markdown",
   "metadata": {},
   "source": [
    "當初看到這篇[論文](http://openaccess.thecvf.com/content_cvpr_2018/papers/Chen_CartoonGAN_Generative_Adversarial_CVPR_2018_paper.pdf)覺得很有趣，且裡頭正好展示了我喜愛的兩位日本動畫作家：[新海誠](https://zh.wikipedia.org/wiki/%E6%96%B0%E6%B5%B7%E8%AA%A0)及[宮崎駿](https://zh.wikipedia.org/zh-tw/%E5%AE%AB%E5%B4%8E%E9%AA%8F)的風格轉換結果，因此決定寫個 [TensorFlow.js](https://www.tensorflow.org/js) 應用，讓更多人可以輕鬆地體驗這個有趣的 CartoonGAN。\n",
    "\n",
    "使用方法很直覺，選擇風格並上傳照片，完成！"
   ]
  },
  {
   "cell_type": "markdown",
   "metadata": {},
   "source": [
    "!mp4\n",
    "- images/cartoongan/tfjs-demo.mp4"
   ]
  },
  {
   "cell_type": "markdown",
   "metadata": {},
   "source": [
    "背後處理主要分為兩個步驟：\n",
    "- 下載模型\n",
    "- 轉換圖片\n",
    "\n",
    "TensorFlow.js 完全在瀏覽器裡運行，此頁面背後並沒有任何伺服器。因此確保以下條件能讓你獲得較好的體驗：\n",
    "- 使用桌電 / 筆電等**計算能力**較強的設備\n",
    "- 在網速快的環境測試（減少**載入模型**時間）"
   ]
  },
  {
   "cell_type": "markdown",
   "metadata": {},
   "source": [
    "## 動手玩 CartoonGAN"
   ]
  },
  {
   "cell_type": "markdown",
   "metadata": {},
   "source": [
    "以下就是實際的應用："
   ]
  },
  {
   "cell_type": "code",
   "execution_count": null,
   "metadata": {},
   "outputs": [],
   "source": [
    "#ignore\n",
    "cartoongan demo input / output 開始"
   ]
  },
  {
   "cell_type": "markdown",
   "metadata": {},
   "source": [
    "<div id=\"container\" class=\"row\">\n",
    "    <div class=\"column50\">\n",
    "        <div>\n",
    "            <img id=\"input\" class=\"cartoongan_image\" src=\"{static}tfjs-apps/cartoongan/cat.png\"/>\n",
    "        </div>\n",
    "    </div>\n",
    "    <div class=\"column50\">\n",
    "        <div>\n",
    "            <img id=\"pregenerated_output\" class=\"cartoongan_image\" src=\"{static}tfjs-apps/cartoongan/cat_shinkai.jpg\"/>\n",
    "            <canvas id=\"output\" style=\"display:none\"></canvas>\n",
    "        </div> \n",
    "        <div id=\"app-status\" style=\"display:none;padding:70px 0\"></div>\n",
    "    </div> \n",
    "</div>\n",
    "<div class=\"row\" style=\"margin-bottom:6rem;\">\n",
    "    <div class=\"column50\">\n",
    "        <label class=\"btn\" style=\"margin-top: 2rem;height: 3rem;line-height:2.8rem;color:white;padding: 0 1rem\">\n",
    "            選擇圖片\n",
    "            <input type=\"file\" id=\"files\" name=\"files[]\" multiple=\"\" style=\"display:none\">\n",
    "        </label>\n",
    "    </div> \n",
    "    <div class=\"column50\">\n",
    "        <select id=\"styles\" name=\"styles\" style=\"margin: auto;display: block;margin-top: 0.8rem\">\n",
    "            <option value=\"shinkai\" selected=\"selected\"><b>新海誠</b>風格</option>\n",
    "            <option value=\"hayao\"><b>宮崎駿</b>風格</option>\n",
    "            <option value=\"hosoda\"><b>細田守</b>風格</option>\n",
    "            <option value=\"paprika\"><b>盜夢偵探</b>風格</option>\n",
    "        </select>\n",
    "    </div> \n",
    "</div>"
   ]
  },
  {
   "cell_type": "code",
   "execution_count": null,
   "metadata": {},
   "outputs": [],
   "source": [
    "#ignore\n",
    "cartoongan demo input / output 結束"
   ]
  },
  {
   "cell_type": "markdown",
   "metadata": {},
   "source": [
    "如何？結果出來了嗎？\n",
    "\n",
    "如果你的設備（如手機）在上傳圖片後一直停在：\n",
    "- `Loading Models`（網路速度不夠快，下載耗時）\n",
    "- `Cartoonizing images`（設備運算資源的不足）\n",
    "\n",
    "可以嘗試使用下一節介紹的方法來做轉換。保證有效。"
   ]
  },
  {
   "cell_type": "markdown",
   "metadata": {},
   "source": [
    "## TensorFlow 2 畫動漫"
   ]
  },
  {
   "cell_type": "markdown",
   "metadata": {},
   "source": [
    "適逢 [PoweredByTF 2.0 挑戰](https://tensorflow.devpost.com/)，我們也用 TensorFlow 2.0 Alpha 實作了 CartoonGAN。\n",
    "\n",
    "如果你想要轉換大圖或是動圖，可以執行[這個 Colab 筆記本](https://colab.research.google.com/drive/1WIZBHix_cYIGsBKa4phIwCq5qXwO8fRX)： "
   ]
  },
  {
   "cell_type": "markdown",
   "metadata": {},
   "source": [
    "!mp4\n",
    "- images/cartoongan/colab-demo.mp4\n",
    "- images/cartoongan/colab-demo.jpg\n",
    "- 執行我們準備的 Colab 筆記本可以讓你用 CartoonGAN 轉換任何圖片"
   ]
  },
  {
   "cell_type": "markdown",
   "metadata": {},
   "source": [
    "[Google Colaboratory](https://colab.research.google.com/) 是一個雲端 [Jupyter 筆記本](https://jupyter.org/)環境，提供 GPU 讓任何人都可以立即開始一個深度學習專案。\n",
    "\n",
    "在[這個筆記本](https://colab.research.google.com/drive/1WIZBHix_cYIGsBKa4phIwCq5qXwO8fRX)裡頭，以下步驟都幫你寫好了：\n",
    "- 建置 TensorFlow 2.0 環境\n",
    "- 下載 Github Repo 及預訓練模型 \n",
    "- 下載任意網路圖片 / gif\n",
    "- 使用 CartoonGAN 轉換圖片\n",
    "\n",
    "你只需打開筆記本並依照指示一步步執行，即可為你的圖片添加動漫風格。"
   ]
  },
  {
   "cell_type": "markdown",
   "metadata": {},
   "source": [
    "## 一些轉換後的動漫結果"
   ]
  },
  {
   "cell_type": "markdown",
   "metadata": {},
   "source": [
    "獨樂樂不如眾樂樂。這一節讓我和你分享一些我們用 CartoonGAN 得到的結果。\n",
    "\n",
    "以下每張圖片都分為四個區塊，從左到右、由上而下分別為：\n",
    "- 原始圖片\n",
    "- [新海誠](https://zh.wikipedia.org/wiki/%E6%96%B0%E6%B5%B7%E8%AA%A0)風格\n",
    "- [宮崎駿](https://zh.wikipedia.org/zh-tw/%E5%AE%AB%E5%B4%8E%E9%AA%8F)風格\n",
    "- [細田守](https://zh.wikipedia.org/wiki/%E7%B4%B0%E7%94%B0%E5%AE%88)風格\n",
    "\n",
    "你可以點擊下圖左右兩側的小箭頭來切換不同圖片："
   ]
  },
  {
   "cell_type": "code",
   "execution_count": null,
   "metadata": {},
   "outputs": [],
   "source": [
    "#ignore\n",
    "Gallery 的 CSS / JS / HTML "
   ]
  },
  {
   "cell_type": "markdown",
   "metadata": {},
   "source": [
    "<style>\n",
    "<!-- https://www.w3schools.com/w3css/w3css_slideshow.asp -->\n",
    ".w3-content,\n",
    ".w3-auto {\n",
    "\tmargin-left: auto;\n",
    "\tmargin-right: auto\n",
    "}\n",
    "\n",
    ".w3-content {\n",
    "\tmax-width: 980px\n",
    "}\n",
    "\n",
    ".w3-display-container:hover .w3-display-hover {\n",
    "\tdisplay: block\n",
    "}\n",
    "\n",
    ".w3-display-container:hover span.w3-display-hover {\n",
    "\tdisplay: inline-block\n",
    "}\n",
    "\n",
    ".w3-display-container {\n",
    "\tposition: relative\n",
    "}\n",
    "\n",
    ".w3-button:hover {\n",
    "\tcolor: #000!important;\n",
    "\tbackground-color: inherit;\n",
    "}\n",
    "\n",
    ".w3-button {\n",
    "\tborder: none;\n",
    "\tdisplay: inline-block;\n",
    "\tpadding: 8px 16px;\n",
    "\tvertical-align: middle;\n",
    "\toverflow: hidden;\n",
    "\ttext-decoration: none;\n",
    "\tcolor: inherit;\n",
    "\tbackground-color: inherit;\n",
    "\ttext-align: center;\n",
    "\tcursor: pointer;\n",
    "\twhite-space: nowrap\n",
    "}\n",
    "\n",
    ".w3-button {\n",
    "\t-webkit-touch-callout: none;\n",
    "\t-webkit-user-select: none;\n",
    "\t-khtml-user-select: none;\n",
    "\t-moz-user-select: none;\n",
    "\t-ms-user-select: none;\n",
    "\tuser-select: none\n",
    "}\n",
    "\n",
    ".w3-button:disabled {\n",
    "\tcursor: not-allowed;\n",
    "\topacity: 0.3\n",
    "}\n",
    "\n",
    ".w3-display-left {\n",
    "\tposition: absolute;\n",
    "\ttop: 50%;\n",
    "\tleft: 0%;\n",
    "\ttransform: translate(0%, -50%);\n",
    "\t-ms-transform: translate(-0%, -50%)\n",
    "}\n",
    "\n",
    ".w3-display-right {\n",
    "\tposition: absolute;\n",
    "\ttop: 50%;\n",
    "\tright: 0%;\n",
    "\ttransform: translate(0%, -50%);\n",
    "\t-ms-transform: translate(0%, -50%)\n",
    "}\n",
    "    \n",
    ".mySlides {display:none;}\n",
    "</style>\n",
    "\n",
    "<div class=\"w3-content w3-display-container\">\n",
    "  <video class=\"mySlides\" loop muted autoplay playsinline style=\"width:100%\">\n",
    "      <source src=\"{static}images/cartoongan/gallery/dance.mp4\" type=\"video/mp4\">\n",
    "        您的瀏覽器不支援影片標籤，請留言通知我：S\n",
    "  </video>\n",
    "  \n",
    "  <!--marvel-->\n",
    "  <video class=\"mySlides\" loop muted autoplay playsinline style=\"width:100%\">\n",
    "      <source src=\"{static}images/cartoongan/gallery/iron-man-face.mp4\" type=\"video/mp4\">\n",
    "        您的瀏覽器不支援影片標籤，請留言通知我：S\n",
    "  </video>\n",
    "  <video class=\"mySlides\" loop muted autoplay playsinline style=\"width:100%\">\n",
    "      <source src=\"{static}images/cartoongan/gallery/iron-man.mp4\" type=\"video/mp4\">\n",
    "        您的瀏覽器不支援影片標籤，請留言通知我：S\n",
    "  </video>\n",
    "\n",
    "  <img class=\"mySlides\" src=\"{static}images/cartoongan/gallery/static-woman-face.jpg\" style=\"width:100%\">\n",
    "  <img class=\"mySlides\" src=\"{static}images/cartoongan/gallery/static-temple.jpg\" style=\"width:100%\">\n",
    "  \n",
    "  <!--cat-->\n",
    "  <video class=\"mySlides\" loop muted autoplay playsinline style=\"width:100%\">\n",
    "      <source src=\"{static}images/cartoongan/gallery/cat-shake-meme.mp4\" type=\"video/mp4\">\n",
    "        您的瀏覽器不支援影片標籤，請留言通知我：S\n",
    "  </video>\n",
    "  <video class=\"mySlides\" loop muted autoplay playsinline style=\"width:100%\">\n",
    "      <source src=\"{static}images/cartoongan/gallery/cat-being-poked.mp4\" type=\"video/mp4\">\n",
    "        您的瀏覽器不支援影片標籤，請留言通知我：S\n",
    "  </video>\n",
    "  <video class=\"mySlides\" loop muted autoplay playsinline style=\"width:100%\">\n",
    "      <source src=\"{static}images/cartoongan/gallery/cat-computer.mp4\" type=\"video/mp4\">\n",
    "        您的瀏覽器不支援影片標籤，請留言通知我：S\n",
    "  </video>\n",
    "  \n",
    "  <!--scenary-->\n",
    "  <video class=\"mySlides\" loop muted autoplay playsinline style=\"width:100%\">\n",
    "      <source src=\"{static}images/cartoongan/gallery/big-ben.mp4\" type=\"video/mp4\">\n",
    "        您的瀏覽器不支援影片標籤，請留言通知我：S\n",
    "  </video>\n",
    "  <video class=\"mySlides\" loop muted autoplay playsinline style=\"width:100%\">\n",
    "      <source src=\"{static}images/cartoongan/gallery/city-street.mp4\" type=\"video/mp4\">\n",
    "        您的瀏覽器不支援影片標籤，請留言通知我：S\n",
    "  </video>\n",
    "  <video class=\"mySlides\" loop muted autoplay playsinline style=\"width:100%\">\n",
    "      <source src=\"{static}images/cartoongan/gallery/church.mp4\" type=\"video/mp4\">\n",
    "        您的瀏覽器不支援影片標籤，請留言通知我：S\n",
    "  </video>\n",
    "  \n",
    "  <!--idol-->\n",
    "  <video class=\"mySlides\" loop muted autoplay playsinline style=\"width:100%\">\n",
    "      <source src=\"{static}images/cartoongan/gallery/demo.mp4\" type=\"video/mp4\">\n",
    "        您的瀏覽器不支援影片標籤，請留言通知我：S\n",
    "  </video>\n",
    "  <video class=\"mySlides\" loop muted autoplay playsinline style=\"width:100%\">\n",
    "      <source src=\"{static}images/cartoongan/gallery/arakaki.mp4\" type=\"video/mp4\">\n",
    "        您的瀏覽器不支援影片標籤，請留言通知我：S\n",
    "  </video>\n",
    "  \n",
    "  <video class=\"mySlides\" loop muted autoplay playsinline style=\"width:100%\">\n",
    "      <source src=\"{static}images/cartoongan/gallery/harry-potter.mp4\" type=\"video/mp4\">\n",
    "        您的瀏覽器不支援影片標籤，請留言通知我：S\n",
    "  </video>\n",
    "  \n",
    "  <!--virtual character-->\n",
    "  <video class=\"mySlides\" loop muted autoplay playsinline style=\"width:100%\">\n",
    "      <source src=\"{static}images/cartoongan/gallery/pikachu.mp4\" type=\"video/mp4\">\n",
    "        您的瀏覽器不支援影片標籤，請留言通知我：S\n",
    "  </video>\n",
    "  <video class=\"mySlides\" loop muted autoplay playsinline style=\"width:100%\">\n",
    "      <source src=\"{static}images/cartoongan/gallery/kumamon.mp4\" type=\"video/mp4\">\n",
    "        您的瀏覽器不支援影片標籤，請留言通知我：S\n",
    "  </video>\n",
    "\n",
    "  <button class=\"w3-button w3-black w3-display-left\" onclick=\"plusDivs(-1)\">&#10094;</button>\n",
    "  <button class=\"w3-button w3-black w3-display-right\" onclick=\"plusDivs(1)\">&#10095;</button>\n",
    "</div>\n",
    "\n",
    "<script>\n",
    "var slideIndex = 1;\n",
    "showDivs(slideIndex);\n",
    "\n",
    "function plusDivs(n) {\n",
    "  showDivs(slideIndex += n);\n",
    "}\n",
    "\n",
    "function showDivs(n) {\n",
    "  var i;\n",
    "  var x = document.getElementsByClassName(\"mySlides\");\n",
    "  if (n > x.length) {slideIndex = 1}\n",
    "  if (n < 1) {slideIndex = x.length}\n",
    "  for (i = 0; i < x.length; i++) {\n",
    "    x[i].style.display = \"none\";  \n",
    "  }\n",
    "  x[slideIndex-1].style.display = \"block\";  \n",
    "}\n",
    "</script>"
   ]
  },
  {
   "cell_type": "code",
   "execution_count": null,
   "metadata": {},
   "outputs": [],
   "source": [
    "#ignore\n",
    "完成 rendering gallery"
   ]
  },
  {
   "cell_type": "markdown",
   "metadata": {},
   "source": [
    "<br>\n",
    "<br>\n",
    "\n",
    "從漫威電影到可愛貓咪，從自然風景到人氣偶像，任何你想得到的圖片都可以進行轉換。\n",
    "\n",
    "一旦訓練完成，我們就能使用 CartoonGAN 在彈指之間將各式各樣的圖片跟動漫做連結。當然，未來類似的應用的效果會更好，且能幫助一般人創造自己的動漫，也能讓動漫作家更快速地畫出草稿、測試自己的新點子。"
   ]
  },
  {
   "cell_type": "markdown",
   "metadata": {},
   "source": [
    "!quote\n",
    "- 如 CartoonGAN 這樣的生成模型能讓我們看到未來更多的可能性。"
   ]
  },
  {
   "cell_type": "markdown",
   "metadata": {},
   "source": [
    "類似的道理我們在[讓 AI 寫點金庸：如何用 TensorFlow 2.0 及 TensorFlow.js 寫天龍八部](https://leemeng.tw/how-to-generate-interesting-text-with-tensorflow2-and-tensorflow-js.html)也已經聊過。"
   ]
  },
  {
   "cell_type": "markdown",
   "metadata": {},
   "source": [
    "## 訓練你自己的 CartoonGAN"
   ]
  },
  {
   "cell_type": "markdown",
   "metadata": {},
   "source": [
    "此文篇幅有限。專注在 CartoonGAN 的實際應用，而非演算法細節是因為：\n",
    "- 網路上已有不少 GAN 理論及演算法的介紹，但能馬上拿來用的例子還不多\n",
    "- 比起自己花時間訓練出可以用的 GAN，許多人應該只是想自己產生有趣結果\n",
    "\n",
    "因此，對訓練模型、推論的實作細節有興趣的讀者還請自行參考 [CartoonGan-tensorflow](https://github.com/mnicnc404/CartoonGan-tensorflow)。\n",
    "\n",
    "不過基本上只要依照指示裝好開發環境以及準備好圖片，你甚至可以一鍵訓練 CartoonGAN："
   ]
  },
  {
   "cell_type": "markdown",
   "metadata": {},
   "source": [
    "!image\n",
    "- cartoongan/train-demo.gif\n",
    "- 我們的 python script 在訓練過程中提供了詳盡的訊息，方便你理解訓練過程究竟發生什麼事情"
   ]
  },
  {
   "cell_type": "markdown",
   "metadata": {},
   "source": [
    "因為所有邏輯皆以 TF2 實作，該 Repo 非常適合想要跟上最新 TensorFlow 發展的讀者：\n",
    "- 使用 [tf.keras](https://www.tensorflow.org/alpha/guide/keras/overview) 實作自定義的 Layers 以及 GAN\n",
    "- 使用 [tf.data](https://www.tensorflow.org/alpha/guide/data_performance) 讀取大量圖片並進行前處理\n",
    "- 自定義訓練步驟並使用 [tf.function](https://youtu.be/Up9CvRLIIIw?list=PLQY2H8rRoyvzoUYI26kHmKSJBedn3SQuB) 加快處理速度\n",
    "- 完整整合 [TensorBoard](https://www.tensorflow.org/tensorboard/r2/get_started#using_tensorboard_with_other_methods\n",
    ") 以顯示生成圖片與 metrics"
   ]
  },
  {
   "cell_type": "markdown",
   "metadata": {},
   "source": [
    "!image\n",
    "- cartoongan/tensorboard-demo.jpg\n",
    "- 直接在 TensorBoard 上監控 metrics 及生成圖片在訓練 GAN 時非常有效率（圖為我們實際的訓練結果）"
   ]
  },
  {
   "cell_type": "markdown",
   "metadata": {},
   "source": [
    "跟訓練一個[簡單分類器](https://www.tensorflow.org/tutorials/keras/basic_classification)比起來，訓練一個 GAN 的難度可說是完全不同級別。但我們盡量讓[專案](https://github.com/mnicnc404/CartoonGan-tensorflow)裡頭的程式碼邏輯簡單易懂，希望能讓更多人入門 TensorFlow 2.0 以及 GAN 的訓練。\n",
    "\n",
    "你可以前往 [CartoonGan-tensorflow](https://github.com/mnicnc404/CartoonGan-tensorflow) 查看所有細節。"
   ]
  },
  {
   "cell_type": "markdown",
   "metadata": {},
   "source": [
    "## 推薦的 GAN 學習資源"
   ]
  },
  {
   "cell_type": "markdown",
   "metadata": {},
   "source": [
    "近年以深度學習為基礎的生成模型（Generative Models）領域蓬勃發展，其中最亮眼的發展之一當屬對抗生成網路了。而本文的 CartoonGAN 也是[眾多 GANs](https://github.com/hindupuravinash/the-gan-zoo) 裡頭的其中一個小夥子。"
   ]
  },
  {
   "cell_type": "markdown",
   "metadata": {},
   "source": [
    "!image\n",
    "- cartoongan/tf-dcgan.png\n",
    "- 對抗生成網路 GAN 實際上由兩個獨立的神經網路相互「對抗」\n",
    "- https://www.tensorflow.org/alpha/tutorials/generative/dcgan"
   ]
  },
  {
   "cell_type": "markdown",
   "metadata": {},
   "source": [
    "對 GAN 的理論 & 基礎知識有興趣的讀者，我推薦以下的學習資源：\n",
    "\n",
    "- [李宏毅教授在 Youtube 上的 GAN 教學影片](https://www.youtube.com/watch?v=DQNNMiAP5lw&list=PLJV_el3uVTsMq6JEFPW35BCiOQTsoqwNw)\n",
    "- [MIT 6.S191 的 Deep Generative Models](https://www.youtube.com/watch?v=yFBFl1cLYx8&index=1&list=PLtBw6njQRU-rwp5__7C0oIVt26ZgjG9NI)\n",
    "- [GAN Lab 讓你在瀏覽器上訓練並學習 GAN](https://poloclub.github.io/ganlab/)\n",
    "- [Andrej Karpathy 的簡單 GAN Demo](https://cs.stanford.edu/people/karpathy/gan/)\n",
    "- [TensorFlow 官方教學帶你生成 MNIST](https://www.tensorflow.org/alpha/tutorials/generative/dcgan)\n",
    "- [機器之心講解 CartoonGAN 運作原理](https://www.jiqizhixin.com/articles/CVPR2018-CartoonGAN)\n",
    "- [Synced: Reproducing Japanese Anime Styles With CartoonGAN AI](https://medium.com/syncedreview/reproducing-japanese-anime-styles-with-cartoongan-ai-cf30d583736e)"
   ]
  },
  {
   "cell_type": "markdown",
   "metadata": {},
   "source": [
    "!image\n",
    "- cartoongan/mit-gan.png\n",
    "- MIT 6.S191 的 Deep Generative Models 適合入門\n",
    "- https://www.youtube.com/watch?v=yFBFl1cLYx8&index=1&list=PLtBw6njQRU-rwp5__7C0oIVt26ZgjG9NI"
   ]
  },
  {
   "cell_type": "markdown",
   "metadata": {},
   "source": [
    "更多學習資源則請參閱[由淺入深的深度學習資源整理](https://leemeng.tw/deep-learning-resources.html)。另外如果你有其他推薦的學習資源，還請不吝留言與我及其他讀者分享，謝謝！"
   ]
  },
  {
   "cell_type": "markdown",
   "metadata": {},
   "source": [
    "## 結語"
   ]
  },
  {
   "cell_type": "markdown",
   "metadata": {},
   "source": [
    "CartoonGAN 是我第一次嘗試用 [TensorFlow 2.0](https://www.tensorflow.org/alpha) 以及 [TensorFlow.js](https://www.tensorflow.org/js) 實作的生成對抗網路，從過程中學到了不少東西。感謝大神 [mnicnc404](https://github.com/mnicnc404) 強大的實作支援以及許多寶貴見解，獲益良多。\n",
    "\n",
    "希望透過這篇文章以及專案能讓更多人對強大的 GAN 以及生成模型產生興趣，並進一步探索相關知識，嘗試更多可能性，做出更多有趣的 AI 應用：）"
   ]
  },
  {
   "cell_type": "code",
   "execution_count": null,
   "metadata": {},
   "outputs": [],
   "source": [
    "#ignore\n",
    "tfjs setup in next markdown cell"
   ]
  },
  {
   "cell_type": "markdown",
   "metadata": {},
   "source": [
    "<script src=\"{static}tfjs-apps/cartoongan/dist/tf.js\"></script>\n",
    "<script src=\"{static}tfjs-apps/cartoongan/cartoongan.js\"></script>"
   ]
  },
  {
   "cell_type": "code",
   "execution_count": null,
   "metadata": {},
   "outputs": [],
   "source": [
    "#ignore\n",
    "tfjs 引入完畢"
   ]
  }
 ],
 "metadata": {
  "kernelspec": {
   "display_name": "Python 3",
   "language": "python",
   "name": "python3"
  },
  "language_info": {
   "codemirror_mode": {
    "name": "ipython",
    "version": 3
   },
   "file_extension": ".py",
   "mimetype": "text/x-python",
   "name": "python",
   "nbconvert_exporter": "python",
   "pygments_lexer": "ipython3",
   "version": "3.7.0"
  }
 },
 "nbformat": 4,
 "nbformat_minor": 2
}
