{
 "cells": [
  {
   "cell_type": "markdown",
   "metadata": {},
   "source": [
    "- author: Lee Meng\n",
    "- date: 2019-07-22 09:00\n",
    "- title: Pandas\n",
    "- slug: pandas-cheatsheet-tutorial\n",
    "- tags: Python\n",
    "- description: \n",
    "- summary: \n",
    "- image: doors-1767562_1280.jpg\n",
    "- image_credit_url: https://pixabay.com/en/doors-choices-choose-decision-1767562/\n",
    "- status: draft"
   ]
  },
  {
   "cell_type": "markdown",
   "metadata": {},
   "source": [
    "toc\n",
    "- 每個章節都是點擊看更多\n",
    "- pandas還有numpy使用vertorization 還有 broadcasting來加快運算, 多使用內建函數\n",
    "- 建立 dataframe\n",
    "    - 基本用用鐵達尼號資料夾展示\n",
    "    - clipboard\n",
    "    - csv / 結合多個 csvs (row / columns) `pd.concat`\n",
    "        - 去頭\n",
    "        - 只讀取特定 column `usecol` in read_csv\n",
    "        - 使用 `df.info` 看記憶體使用量並將 numerical 轉成 categorical 省資源\n",
    "    - 線上爬 html (from url) \n",
    "    - dummy data frame\n",
    "        - created for fast testing\n",
    "            - pd.util.testing.makeDataFrame() ➡️ contains random values\n",
    "            - .makeMissingDataframe() ➡️ some values missing\n",
    "            - .makeTimeDataFrame() ➡️ has DateTimeIndex\n",
    "            - .makeMixedDataFrame() ➡️ mixed data type\n",
    "        - made from `dict`: key = col, v = list of values\n",
    "        - np.rand.(#row, #col)\n",
    "- 數據清理 / 整理\n",
    "    - drop columns\n",
    "        - https://gist.github.com/600474cca52227129872d44559d312f2\n",
    "    - rename columns\n",
    "    - reindex 然後 drop\n",
    "    - fillna\n",
    "    - (conditional) drop columns\n",
    "    - 將字串 split 成兩個 columns\n",
    "    - 將 numerical 切成 categorical (pd.cut)\n",
    "- select data\n",
    "    - 記得loc, iloc, ix, at, iat都不是function, 而是attribute, 所以是使用[], 而不是()\n",
    "    - reserve row / col orders\n",
    "    - row and/or columns slicer \n",
    "        - [col_a:col_b]\n",
    "    - mask and `query`\n",
    "    - 選出任何一行有 NLL 值的 rows\n",
    "        - `df[df.isnull().any(axis=1)]`\n",
    "    - 選擇 dtype 為特定型態的 column\n",
    "    - 選擇某些 column 特定值 (`isin`)\n",
    "    - 選擇某些 column 為 top k 值的 row\n",
    "    - `df.filter`\n",
    "        - 下面的例子把string的columns 還有 年份從20XX年的columns取出來 (19XX的columns被過濾掉)\n",
    "            - `cols = ['RegionID', 'RegionName', 'State', 'Metro', 'CountyName', 'SizeRank', '20.*']`\n",
    "            - `df.filter(regex='|'.join(cols), axis=1).head()`\n",
    "    - iterows 做特定處理\n",
    "    - 依照某個string column值來選擇row\n",
    "        - `df2[df2['comment'].str.contains('yoooo')]`\n",
    "- sorting\n",
    "\n",
    "```python\n",
    "df1.index = pd.CategoricalIndex(df1.index, \n",
    "                               categories=['Monday', 'Tuesday', 'Wednesday', 'Thursday', 'Friday','Saturday', 'Sunday'], \n",
    "                               sorted=True)\n",
    "df1.sort_index().plot(kind='bar', figsize=(15, 12))\n",
    "```\n",
    "\n",
    "- 數據處理\n",
    "    - apply\n",
    "    - 將一個 list column 轉成多個 columns\n",
    "    - 切兩個 subset\n",
    "    - to_datetime\n",
    "        - https://twitter.com/justmarkham/status/1148217934298406912?s=20\n",
    "    - join dataframe\n",
    "        - `df.merge`\n",
    "- 匯總\n",
    "    - value_counts + sorted value\n",
    "    - unique\n",
    "    - groupby + (multi-agg func or describe())\n",
    "        - 對時間的匯總可以用 `resample`\n",
    "            - https://twitter.com/justmarkham/status/1151846604216971264?s=20\n",
    "    - group by custom lambda func\n",
    "    - transform 函式\n",
    "    - multi-index groupby (`unstack`) VS pivot_table\n",
    "- 簡單畫圖\n",
    "    - easy plot + nice style\n",
    "        - `df.plot()`\n",
    "    - 改變 display options / style obj.\n",
    "        - chain your operations!\n",
    "        - https://t.co/6xlytNLmGm\n",
    "        - https://t.co/mhz9GiueaN\n",
    "- output\n",
    "    - windows friendly output: `to_csv(encoding=\"cp932\")`\n",
    "- powerful tools\n",
    "    - pandas profiling\n",
    "        - `pip install pandas-profiling`\n",
    "        - 適合用在 numerical features 的分析\n",
    "    - qgrid\n",
    "        - https://www.evernote.com/l/AET7-dpk349LNJcQVCWP-rGWdnyGA6-mz2w\n",
    "    - tqdm\n",
    "        - https://www.evernote.com/l/AETKpFnXeB5B84M5PbPBwXR_dMDZ4vAu0Xw\n",
    "    - swifter\n",
    "    - Facets\n",
    "        - https://www.evernote.com/l/AETaGMqtguRAKbEF9z4hWtF9HazEVkWr70c\n",
    "    - cufflinks and plotly\n",
    "        - https://www.kdnuggets.com/2019/07/10-simple-hacks-speed-data-analysis-python.html\n",
    "- good reference\n",
    "    - youtube\n",
    "    - pocket 那篇 10 個\n",
    "    - safari\n",
    "    - dataquest cheat sheet\n",
    "        - https://storage.googleapis.com/molten/lava/2018/09/f0c721d9-pandas-cheat-sheet-dataquest.jpg\n",
    "    \n",
    "    "
   ]
  },
  {
   "cell_type": "code",
   "execution_count": null,
   "metadata": {},
   "outputs": [],
   "source": []
  },
  {
   "cell_type": "markdown",
   "metadata": {},
   "source": [
    "## 選擇子集"
   ]
  },
  {
   "cell_type": "code",
   "execution_count": null,
   "metadata": {},
   "outputs": [],
   "source": [
    "customers = customers[customers >= 35]\n",
    "products = products[products >= 20]\n",
    "\n",
    "reduced_df = df.merge(pd.DataFrame({'customer_id': customers.index})).merge(pd.DataFrame({'product_id': products.index}))"
   ]
  },
  {
   "cell_type": "markdown",
   "metadata": {},
   "source": [
    "## 看 columns 裡頭的值的分佈"
   ]
  },
  {
   "cell_type": "code",
   "execution_count": null,
   "metadata": {},
   "outputs": [],
   "source": [
    "customers = df['customer_id'].value_counts()\n",
    "products = df['product_id'].value_counts()\n",
    "\n",
    "quantiles = [0, 0.1, 0.25, 0.5, 0.75, 0.8, 0.85, 0.9, 0.95, 0.96, 0.97, 0.98, 0.99, 0.995, 0.999, 0.9999, 1]\n",
    "print('customers\\n', customers.quantile(quantiles))\n",
    "print('products\\n', products.quantile(quantiles))"
   ]
  },
  {
   "cell_type": "code",
   "execution_count": null,
   "metadata": {},
   "outputs": [],
   "source": []
  },
  {
   "cell_type": "code",
   "execution_count": null,
   "metadata": {},
   "outputs": [],
   "source": []
  }
 ],
 "metadata": {
  "kernelspec": {
   "display_name": "Python 3",
   "language": "python",
   "name": "python3"
  },
  "language_info": {
   "codemirror_mode": {
    "name": "ipython",
    "version": 3
   },
   "file_extension": ".py",
   "mimetype": "text/x-python",
   "name": "python",
   "nbconvert_exporter": "python",
   "pygments_lexer": "ipython3",
   "version": "3.7.2"
  }
 },
 "nbformat": 4,
 "nbformat_minor": 2
}
