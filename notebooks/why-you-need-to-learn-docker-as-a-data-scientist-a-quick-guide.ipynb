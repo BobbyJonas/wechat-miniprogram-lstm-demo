{
 "cells": [
  {
   "cell_type": "markdown",
   "metadata": {},
   "source": [
    "- author: Lee Meng\n",
    "- date: 2018-09-03 07:00\n",
    "- title: 為何身為資料科學家的你需要學習 Docker：一個快速指南\n",
    "- slug: why-you-need-to-learn-docker-as-a-data-scientist-a-quick-guide\n",
    "- tags: 資料科學, Docker\n",
    "- description: TEST\n",
    "- summary: TEST\n",
    "- image: docker-cover.png\n",
    "- image_credit_url: https://www.threatstack.com/blog/why-docker-cant-solve-all-your-problems-in-the-cloud\n",
    "- status: draft"
   ]
  },
  {
   "cell_type": "code",
   "execution_count": null,
   "metadata": {},
   "outputs": [],
   "source": []
  },
  {
   "cell_type": "markdown",
   "metadata": {},
   "source": [
    "\n",
    "\n",
    "身為一個 DS ，你會想說沒時間學這些，但你只要學 Docker 就夠了，leverage the power of devops。\n",
    "\n",
    "> the antacode to complexity is abstraction\n",
    "\n",
    "\n",
    "\n",
    "\n",
    "\n",
    "章節\n",
    "* Big pictures - why docker?\n",
    "* 範例\n",
    "* Hands on \n",
    "\n",
    "\n",
    "如何快速建立環境，效率化\n",
    "\n",
    "嘗試各種新 tools 而不需要建環境\n",
    "* Superset\n",
    "* JupyterHub\n",
    "* Machine learning / data product\n",
    "    *  以貓咪 app 為例\n",
    "    * 最近幾篇用 Keras + flask 的文章看有沒有 docker\n",
    "* 快速進入 production\n",
    "    * AWS ECR\n",
    "    * sagemaker\n",
    "\n",
    "\n",
    "別人寫好的分析\n"
   ]
  },
  {
   "cell_type": "markdown",
   "metadata": {},
   "source": []
  },
  {
   "cell_type": "markdown",
   "metadata": {},
   "source": [
    "```sh\n",
    "docker pull leemeng/cat\n",
    "docker run -p 1234:5000 leemeng/cat\n",
    "```\n",
    "\n",
    "```text\n",
    "Using default tag: latest\n",
    "latest: Pulling from leemeng/cat\n",
    "85b1f47fba49: Pull complete\n",
    "ba6bd283713a: Pull complete\n",
    "817c8cd48a09: Pull complete\n",
    "47cc0ed96dc3: Pull complete\n",
    "4a36819a59dc: Pull complete\n",
    "db9a0221399f: Pull complete\n",
    "7a511a7689b6: Pull complete\n",
    "1223757f6914: Pull complete\n",
    "1402462a2f89: Pull complete\n",
    "99f801751722: Pull complete\n",
    "da1f8a029642: Pull complete\n",
    "Digest: sha256:7a65f2a9d60b73320733541d4a3263de7b512b0963ff2ab12139f763af67aa47\n",
    "Status: Downloaded newer image for leemeng/cat:latest\n",
    "```"
   ]
  },
  {
   "cell_type": "markdown",
   "metadata": {},
   "source": [
    "\n",
    "<center>\n",
    "    <img src=\"{filename}images/docker/cat-demo.jpg\" style=\"width:90%\"/>\n",
    "</center>\n",
    "<center>\n",
    "    貓咪測試員一號\n",
    "    <br>\n",
    "    <br>\n",
    "    <br>\n",
    "</center>"
   ]
  },
  {
   "cell_type": "code",
   "execution_count": null,
   "metadata": {},
   "outputs": [],
   "source": [
    "```\n",
    "sudo  docker ps --format \"table {{.ID}}\\t{{.Image}}\\t{{.Names}}\"\n",
    "CONTAINER ID        IMAGE               NAMES\n",
    "6c358757fcca        jupyterhub-user     jupyter-leemengtaiwan\n",
    "83d70c2584ac        jupyterhub          jupyterhub\n",
    "5da5308aab6f        postgres:9.5        jupyterhub-db\n",
    "```"
   ]
  },
  {
   "cell_type": "code",
   "execution_count": null,
   "metadata": {},
   "outputs": [],
   "source": []
  },
  {
   "cell_type": "code",
   "execution_count": null,
   "metadata": {},
   "outputs": [],
   "source": []
  },
  {
   "cell_type": "markdown",
   "metadata": {},
   "source": [
    "## Docker Cheat Sheet\n",
    "我會新增，你可能提供我沒講到的。"
   ]
  },
  {
   "cell_type": "code",
   "execution_count": null,
   "metadata": {},
   "outputs": [],
   "source": []
  },
  {
   "cell_type": "code",
   "execution_count": null,
   "metadata": {},
   "outputs": [],
   "source": []
  },
  {
   "cell_type": "code",
   "execution_count": null,
   "metadata": {},
   "outputs": [],
   "source": []
  },
  {
   "cell_type": "code",
   "execution_count": null,
   "metadata": {},
   "outputs": [],
   "source": []
  },
  {
   "cell_type": "code",
   "execution_count": null,
   "metadata": {},
   "outputs": [],
   "source": [
    "下次問問別人：你的 Docker Image 呢？"
   ]
  }
 ],
 "metadata": {
  "kernelspec": {
   "display_name": "Python 3",
   "language": "python",
   "name": "python3"
  },
  "language_info": {
   "codemirror_mode": {
    "name": "ipython",
    "version": 3
   },
   "file_extension": ".py",
   "mimetype": "text/x-python",
   "name": "python",
   "nbconvert_exporter": "python",
   "pygments_lexer": "ipython3",
   "version": "3.7.0"
  }
 },
 "nbformat": 4,
 "nbformat_minor": 2
}
