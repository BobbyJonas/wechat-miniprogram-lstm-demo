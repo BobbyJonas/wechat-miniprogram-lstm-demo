{
 "cells": [
  {
   "cell_type": "markdown",
   "metadata": {},
   "source": [
    "- author: Lee Meng\n",
    "- date: 2018-09-04 23:45\n",
    "- title: 4 種你能在數據科學中活用 Docker 的方式\n",
    "- slug: 4-ways-you-can-leverge-the-power-of-docker-in-data-science-area\n",
    "- tags: 資料科學, Docker\n",
    "- description: TEST\n",
    "- summary: TEST\n",
    "- image: docker-cover.jpg\n",
    "- image_credit_url: https://www.flickr.com/photos/134416355@N07/31518965950\n",
    "- status: draft"
   ]
  },
  {
   "cell_type": "markdown",
   "metadata": {},
   "source": [
    "今天我們來聊聊如何將 [Docker](https://zh.wikipedia.org/wiki/Docker_(%E8%BB%9F%E9%AB%94) 應用在資料科學領域裡頭吧！\n",
    "\n",
    "在這篇文章裡頭，我們會用一些簡單的比喻來說明何謂 Docker，以及身為資料科學家的我常使用 Docker 的 4 種方式。我們不會深入探討 Docker 本身的實作技術，但會讓你對如何在資料科學領域使用 Docker 有個高層次的理解。\n",
    "\n",
    "這篇適合 2 種讀者：\n",
    "- 對 Docker 有基本知識，想讓自己的 Workflow 更有效率的資料科學家\n",
    "- 熟悉 Docker，但想了解如何將其應用到資料科學領域的工程師\n",
    "\n",
    "讓我們開始吧！"
   ]
  },
  {
   "cell_type": "markdown",
   "metadata": {},
   "source": [
    "## 什麼是 Docker：一隻大鯨魚"
   ]
  },
  {
   "cell_type": "markdown",
   "metadata": {},
   "source": [
    "在解釋何謂 Docker 之前，讓我把你可能已經非常熟悉的雲端運算（Cloud Computing）老朋友叫出來。\n",
    "\n",
    "[Amazon Web Service（AWS）](https://aws.amazon.com/tw/)、[Google 雲端平台（GCP）](https://cloud.google.com/) 以及 [Microsoft Azure](https://azure.microsoft.com/zh-tw/) 大概是大家最耳熟能詳的幾家雲端計算 / 服務平台了。隨著時代的演進，這些平台提供越來越多樣的機器學習 API，讓使用者不需做複雜的開發，透過一個 HTTP 要求就能直接使用各種酷炫的服務，比方說：\n",
    "- [Amazon Lex](https://aws.amazon.com/tw/lex/) 讓你使用 Amazon Alexa 的深度學習技術建立聊天機器人\n",
    "- [Google Cloud Vision API](https://cloud.google.com/vision/) 讓你快速建立一個圖像辨識服務\n",
    "- [Azure Content Moderate API](https://azure.microsoft.com/zh-tw/services/cognitive-services/content-moderator/) 讓你自動審核網路上的圖片以及文字\n",
    "\n",
    "儘管如此，很多時候只使用這些現成的 API 並不能滿足我們這些資料科學家（**D**ata **S**cientist）的野心。"
   ]
  },
  {
   "cell_type": "markdown",
   "metadata": {},
   "source": [
    "<center>\n",
    "    <img src=\"{filename}images/docker/network-2402637_1280.jpg\" style=\"width:90%\"/>\n",
    "</center>\n",
    "<center>\n",
    "    如何運用雲端運算來 scale 各種數據處理工作是一個 DS / DE 常問的問題\n",
    "    <br>\n",
    "    <br>\n",
    "    <br>\n",
    "</center>"
   ]
  },
  {
   "cell_type": "markdown",
   "metadata": {},
   "source": [
    "除了各家雲端平台提供的 API 以外，事實上很多時候一個 DS 會利用雲端運算來完成一些日常工作：\n",
    "- 開發並訓練自己的機器學習模型\n",
    "- 部署（上線）機器學習服務 & Data Product\n",
    "- 對大量數據做批次處理，將結果儲存後顯示在儀表板上\n",
    "- 部署一些新的分析工具來提升工作效率"
   ]
  },
  {
   "cell_type": "markdown",
   "metadata": {},
   "source": [
    "對，我知道你在想什麼，以上工作並不只包含「資料科學」啊！\n",
    "\n",
    "除了統計分析以及演算法，你可能還需要了解軟體工程、資料工程以及 [DevOps](https://zh.wikipedia.org/wiki/DevOps) ...\n",
    "\n",
    "你可能覺得一個 DS 要在各種 deadlines 內完成以上所有事情是不可能的。不過後面我們會發現，活用 Docker 的超能力能讓你事半功倍："
   ]
  },
  {
   "cell_type": "code",
   "execution_count": null,
   "metadata": {},
   "outputs": [],
   "source": [
    "#blockquote\n",
    "Docker - Build, Ship, and Run Any App, Anywhere"
   ]
  },
  {
   "cell_type": "markdown",
   "metadata": {},
   "source": [
    "想像時間。\n",
    "\n",
    "如果你把雲端運算的平台想像成一個充滿運算能力的大海的話，Docker 就是一隻可愛的大鯨魚，將上述所有我們想要做的數據處理工作，一個個封裝成獨立的貨櫃，載著它們在這大海上漫遊。"
   ]
  },
  {
   "cell_type": "markdown",
   "metadata": {},
   "source": [
    "<center>\n",
    "    <img src=\"{filename}images/docker/1_JAJ910fg52ODIRZjHXASBQ.png\" style=\"width:90%\"/>\n",
    "</center>\n",
    "<center>\n",
    "    <a href=\"https://towardsdatascience.com/how-docker-can-help-you-become-a-more-effective-data-scientist-7fc048ef91d5\" target=\"_blank\">Docker</a> 提供的抽象化讓我們能輕鬆地運行任何想使用的資料科學工具、軟體而不需糾結於建置底層的環境\n",
    "    <br>\n",
    "    <br>\n",
    "    <br>\n",
    "</center>"
   ]
  },
  {
   "cell_type": "markdown",
   "metadata": {},
   "source": [
    "如果你稍微暸解 Docker 術語的話，就會明白這一個個貨櫃實際上就代表著 Docker 裡頭一個個所謂的容器（Container）。\n",
    "\n",
    "每個容器（貨櫃）裡頭，理想上都是一個完整的 App。且最重要的是，包含了能讓這個 App 完整執行的所有必要的環境。這邊說的環境可以是\n",
    "- App 需要的各種 Python 函式庫，如特定版本的 TensorFlow、Pandas 及 Scikit-learn\n",
    "- MySQL、MongoDB 等 App 會用到的資料庫\n",
    "- App 會用到的資料集（如果資料量不大的話）\n",
    "- 特定的作業系統如 Linux\n",
    "\n",
    "也就是你平常在本地端（local）開發一個專案時會需要的所有東西。\n",
    "\n",
    "實際上每個容器的執行都是自給自足的（self-contained），跟啟動該容器的大環境沒有關係。以我們前面的比喻來說的話，每個貨櫃（容器）就是我們想要 Docker 幫我們運送（執行）的東西，而不管 Docker 這隻鯨魚現在在哪個海洋（大環境），它都能幫我們完成工作。\n",
    "\n",
    "這邊所謂的「海洋」則只是一個擁有計算資源的地方，可以是任何一家雲端服務平台如 AWS、GCP、Azure，甚至是你現在在用的那台筆電（只是以運算資源來看，可能只能稱得上是小湖泊）。\n",
    "\n",
    "這些說明很抽象，讓我們實際操作 Docker 來體會一下這些概念。"
   ]
  },
  {
   "cell_type": "code",
   "execution_count": null,
   "metadata": {},
   "outputs": [],
   "source": [
    "把"
   ]
  },
  {
   "cell_type": "markdown",
   "metadata": {},
   "source": [
    "## 實戰演練：貓咪辨識 App\n",
    "\n",
    "scale, 開一百個貨櫃"
   ]
  },
  {
   "cell_type": "markdown",
   "metadata": {},
   "source": [
    "## 4 種活用 Docker 的方式 "
   ]
  },
  {
   "cell_type": "code",
   "execution_count": null,
   "metadata": {},
   "outputs": [],
   "source": []
  },
  {
   "cell_type": "code",
   "execution_count": null,
   "metadata": {},
   "outputs": [],
   "source": []
  },
  {
   "cell_type": "markdown",
   "metadata": {},
   "source": [
    "\n",
    "\n",
    "身為一個 DS ，你會想說沒時間學這些，但你只要學 Docker 就夠了，leverage the power of devops。\n",
    "\n",
    "> the antacode to complexity is abstraction\n",
    "\n",
    "\n",
    "\n",
    "\n",
    "\n",
    "章節\n",
    "* Big pictures - why docker?\n",
    "* 範例\n",
    "* Hands on \n",
    "\n",
    "\n",
    "如何快速建立環境，效率化\n",
    "\n",
    "嘗試各種新 tools 而不需要建環境\n",
    "* Superset\n",
    "* JupyterHub\n",
    "* Machine learning / data product\n",
    "    *  以貓咪 app 為例\n",
    "    * 最近幾篇用 Keras + flask 的文章看有沒有 docker\n",
    "* 快速進入 production\n",
    "    * AWS ECR\n",
    "    * sagemaker\n",
    "\n",
    "\n",
    "別人寫好的分析\n"
   ]
  },
  {
   "cell_type": "markdown",
   "metadata": {},
   "source": []
  },
  {
   "cell_type": "markdown",
   "metadata": {},
   "source": [
    "```sh\n",
    "docker pull leemeng/cat\n",
    "docker run -p 1234:5000 leemeng/cat\n",
    "```\n",
    "\n",
    "```text\n",
    "Using default tag: latest\n",
    "latest: Pulling from leemeng/cat\n",
    "85b1f47fba49: Pull complete\n",
    "ba6bd283713a: Pull complete\n",
    "817c8cd48a09: Pull complete\n",
    "47cc0ed96dc3: Pull complete\n",
    "4a36819a59dc: Pull complete\n",
    "db9a0221399f: Pull complete\n",
    "7a511a7689b6: Pull complete\n",
    "1223757f6914: Pull complete\n",
    "1402462a2f89: Pull complete\n",
    "99f801751722: Pull complete\n",
    "da1f8a029642: Pull complete\n",
    "Digest: sha256:7a65f2a9d60b73320733541d4a3263de7b512b0963ff2ab12139f763af67aa47\n",
    "Status: Downloaded newer image for leemeng/cat:latest\n",
    "```"
   ]
  },
  {
   "cell_type": "markdown",
   "metadata": {},
   "source": [
    "\n",
    "<center>\n",
    "    <img src=\"{filename}images/docker/cat-demo.jpg\" style=\"width:90%\"/>\n",
    "</center>\n",
    "<center>\n",
    "    貓咪測試員一號\n",
    "    <br>\n",
    "    <br>\n",
    "    <br>\n",
    "</center>"
   ]
  },
  {
   "cell_type": "code",
   "execution_count": null,
   "metadata": {},
   "outputs": [],
   "source": [
    "```\n",
    "sudo  docker ps --format \"table {{.ID}}\\t{{.Image}}\\t{{.Names}}\"\n",
    "CONTAINER ID        IMAGE               NAMES\n",
    "6c358757fcca        jupyterhub-user     jupyter-leemengtaiwan\n",
    "83d70c2584ac        jupyterhub          jupyterhub\n",
    "5da5308aab6f        postgres:9.5        jupyterhub-db\n",
    "```"
   ]
  },
  {
   "cell_type": "code",
   "execution_count": null,
   "metadata": {},
   "outputs": [],
   "source": []
  },
  {
   "cell_type": "code",
   "execution_count": null,
   "metadata": {},
   "outputs": [],
   "source": []
  },
  {
   "cell_type": "markdown",
   "metadata": {},
   "source": [
    "## Docker Cheat Sheet\n",
    "我會新增，你可能提供我沒講到的。"
   ]
  },
  {
   "cell_type": "code",
   "execution_count": null,
   "metadata": {},
   "outputs": [],
   "source": []
  },
  {
   "cell_type": "code",
   "execution_count": null,
   "metadata": {},
   "outputs": [],
   "source": []
  },
  {
   "cell_type": "code",
   "execution_count": null,
   "metadata": {},
   "outputs": [],
   "source": []
  },
  {
   "cell_type": "code",
   "execution_count": null,
   "metadata": {},
   "outputs": [],
   "source": [
    "抽象化"
   ]
  },
  {
   "cell_type": "code",
   "execution_count": null,
   "metadata": {},
   "outputs": [],
   "source": [
    "下次問問別人：你的 Docker Image 呢？"
   ]
  }
 ],
 "metadata": {
  "kernelspec": {
   "display_name": "Python 3",
   "language": "python",
   "name": "python3"
  },
  "language_info": {
   "codemirror_mode": {
    "name": "ipython",
    "version": 3
   },
   "file_extension": ".py",
   "mimetype": "text/x-python",
   "name": "python",
   "nbconvert_exporter": "python",
   "pygments_lexer": "ipython3",
   "version": "3.7.0"
  }
 },
 "nbformat": 4,
 "nbformat_minor": 2
}
