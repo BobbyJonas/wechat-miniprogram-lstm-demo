{
 "cells": [
  {
   "cell_type": "markdown",
   "metadata": {},
   "source": [
    "- author: Lee Meng\n",
    "- date: 2019-03-04 08:00\n",
    "- title: 在 AI 時代你想扮演什麼角色？我從 AI For Everyone 學到的 10 個重要概念\n",
    "- slug: 10-key-takeaways-i-got-from-ai-for-everyone\n",
    "- tags: 人工智慧, 資料科學, 機器學習\n",
    "- description: \n",
    "- summary: \n",
    "- image: joseph-barrientos-93565-unsplash.jpg\n",
    "- image_credit_url: https://unsplash.com/photos/eUMEWE-7Ewg?utm_source=unsplash&utm_medium=referral&utm_content=creditCopyText"
   ]
  },
  {
   "cell_type": "markdown",
   "metadata": {},
   "source": [
    "!quote\n",
    "- 在這個人機共存的年代，每個人都應該去嘗試瞭解、運用人工智慧，並思考自己在這個變化快速的世界中的定位。"
   ]
  },
  {
   "cell_type": "markdown",
   "metadata": {},
   "source": [
    "曾經領導 Google Brain 的[吳恩達](https://zh.wikipedia.org/wiki/%E5%90%B4%E6%81%A9%E8%BE%BE)這幾天公開了新的 [Coursera](https://www.coursera.org/) 課程：[AI For Everyone](https://www.coursera.org/learn/ai-for-everyone)。這堂課不談技術術語，專注在與非技術人士以及企業經理人說明：\n",
    "- 何謂 AI\n",
    "- 如何建立 AI 專案\n",
    "- 如何在企業內部建立 AI 基礎\n",
    "- AI 與社會的關係\n",
    "\n",
    "課程內容精要，總結了不少他多年在 Google、百度裡領導 AI 團隊所累積的經驗。這堂課也提到了不少 [AI Transformation Playbook](https://landing.ai/ai-transformation-playbook/) 裡頭的內容。"
   ]
  },
  {
   "cell_type": "markdown",
   "metadata": {},
   "source": [
    "!image\n",
    "- ai-for-everyone/course.png\n",
    "- AI For Everyone\n",
    "- https://www.coursera.org/learn/ai-for-everyone"
   ]
  },
  {
   "cell_type": "markdown",
   "metadata": {},
   "source": [
    "本文列舉我認為這堂課裡頭最值得記住的 10 個 AI 概念，希望能讓沒有時間上課的你也能馬上學到些東西。"
   ]
  },
  {
   "cell_type": "markdown",
   "metadata": {},
   "source": [
    "## 10 秒懶人包"
   ]
  },
  {
   "cell_type": "markdown",
   "metadata": {},
   "source": [
    "你的閱讀時間寶貴，因此讓我在此先將所有概念列出：\n",
    "- 我們在說的 AI 只能完成特定任務，不是殺人機器 \n",
    "- AI 策略不是第一項\n",
    "- 在 AI 時代，想好你要扮演的角色\n",
    "    - 你在找的是這個金 DS 還是這個銀 MLE?\n",
    "- 擁抱 AI 的最好方法是將其與你的領域專業結合\n",
    "- 終身學習的重要\n",
    "- 消除 AI 的 Bias 不容易，但或許比消除人類偏見簡單\n",
    "- 只需要花費你一秒時間做出判斷的事情，大都可以由 AI 來做"
   ]
  },
  {
   "cell_type": "code",
   "execution_count": null,
   "metadata": {},
   "outputs": [],
   "source": []
  },
  {
   "cell_type": "code",
   "execution_count": null,
   "metadata": {},
   "outputs": [],
   "source": [
    "在 AI 時代，你想扮演什麼角色？"
   ]
  },
  {
   "cell_type": "code",
   "execution_count": null,
   "metadata": {},
   "outputs": [],
   "source": []
  },
  {
   "cell_type": "code",
   "execution_count": null,
   "metadata": {},
   "outputs": [],
   "source": [
    "個人角度"
   ]
  },
  {
   "cell_type": "code",
   "execution_count": null,
   "metadata": {},
   "outputs": [],
   "source": [
    "導航"
   ]
  },
  {
   "cell_type": "code",
   "execution_count": null,
   "metadata": {},
   "outputs": [],
   "source": [
    "終身學習"
   ]
  },
  {
   "cell_type": "code",
   "execution_count": null,
   "metadata": {},
   "outputs": [],
   "source": [
    "\n",
    "\n",
    "Framework\n",
    "* Think what is your role in AI-powered company / society?\n",
    "* Education 的改變，你不需要 master, 而只需要幾門 online courses 就能開始\n",
    "* 就連我們都有 bias、更不用說用我們資料學的 Ai。但好處是消除 ai 的 bias 比消除人的簡單\n",
    "* \n",
    "\n",
    "Get started and keep the momentum\n",
    "\n",
    "* A to B mapping\n",
    "* Big data, big neural network\n",
    "* What is a truly AI company? \n",
    "* Software (software 2.0 那篇文章), NN has nothing to do with brain\n",
    "* Machine learning vs data science\n",
    "    * 產出不一樣，前者是 software, 後者是 insight\n",
    "* What ai can / can’t do: One second rule\n",
    "* ML PJ steps: Prepare data -> train model -> deploy model\n",
    "* DS PJ steps: Prepare data -> analyze data -> suggested hypothesis / actions\n",
    "* 3 ideas for brainstorming AI pj\n",
    "* build vs buy\n"
   ]
  },
  {
   "cell_type": "code",
   "execution_count": null,
   "metadata": {},
   "outputs": [],
   "source": []
  },
  {
   "cell_type": "code",
   "execution_count": null,
   "metadata": {},
   "outputs": [],
   "source": []
  },
  {
   "cell_type": "code",
   "execution_count": null,
   "metadata": {},
   "outputs": [],
   "source": []
  }
 ],
 "metadata": {
  "kernelspec": {
   "display_name": "Python 3",
   "language": "python",
   "name": "python3"
  },
  "language_info": {
   "codemirror_mode": {
    "name": "ipython",
    "version": 3
   },
   "file_extension": ".py",
   "mimetype": "text/x-python",
   "name": "python",
   "nbconvert_exporter": "python",
   "pygments_lexer": "ipython3",
   "version": "3.7.0"
  }
 },
 "nbformat": 4,
 "nbformat_minor": 2
}
