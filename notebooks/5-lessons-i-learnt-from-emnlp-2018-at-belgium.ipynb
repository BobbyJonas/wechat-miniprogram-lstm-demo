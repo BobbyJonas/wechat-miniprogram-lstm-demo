{
 "cells": [
  {
   "cell_type": "markdown",
   "metadata": {},
   "source": [
    "- author: Lee Meng\n",
    "- date: 2018-11-19 08:00\n",
    "- title: 我從比利時 EMNLP 之旅學到的 5 堂課\n",
    "- slug: 5-lessons-i-learnt-from-emnlp-2018-at-belgium\n",
    "- tags: 隨筆, 自然語言處理, 深度學習\n",
    "- description: \n",
    "- summary: \n",
    "- image: bruxelles-post-cover.jpg\n",
    "- image_credit_url: \n",
    "- status: draft"
   ]
  },
  {
   "cell_type": "markdown",
   "metadata": {},
   "source": [
    "作為此部落格的第一篇隨筆，我想將最近在比利時首都，[布魯塞爾](https://zh.wikipedia.org/wiki/%E5%B8%83%E9%B2%81%E5%A1%9E%E5%B0%94)參加 [EMNLP 2018 學術會議](http://emnlp2018.org/)的心得簡單地記錄下來，整理這段時間的想法並與你分享。\n",
    "\n",
    "事先聲明：我並非 NLP 專家，因此本篇不會詳細介紹任何論文內容。\n",
    "\n",
    "反之，我把數天參加會議、悠遊市區時所感受到的個人想法總結為 5 個我認為最重要的 lessons。希望你在閱讀本文以後，一樣也能從中獲得些什麼。\n",
    "\n",
    "最後在文末，我則會說明這些想法將如何影響今後部落格的走向。如果你是忠實讀者，或許會有興趣了解這個故事：）"
   ]
  },
  {
   "cell_type": "markdown",
   "metadata": {},
   "source": [
    "## 計畫之外的 NLP 之旅"
   ]
  },
  {
   "cell_type": "markdown",
   "metadata": {},
   "source": [
    "今年 10 月底，我跟公司請了一個禮拜的假參加在布魯塞爾舉辦的 [EMNLP 會議](http://emnlp2018.org/)。\n",
    "\n",
    "EMNLP 作為世界頂尖的[自然語言處理](https://zh.wikipedia.org/wiki/%E8%87%AA%E7%84%B6%E8%AF%AD%E8%A8%80%E5%A4%84%E7%90%86)會議之一，每年都有無以數計的專業人士聚集在此，與他人分享自己最近的研究成果。你可以在[這邊看到所有議程以及論文](http://emnlp2018.org/schedule)。"
   ]
  },
  {
   "cell_type": "markdown",
   "metadata": {},
   "source": [
    "!image\n",
    "- emnlp2018/emnlp-entrance.jpg\n",
    "- EMNLP 2018 會場門口"
   ]
  },
  {
   "cell_type": "markdown",
   "metadata": {},
   "source": [
    "不過老實說，在同事跟我提及此會議之前，我並沒有聽過它的名號，更不用說認真考慮過要參加了。我本來預計是要參加跟資料工程相關的 [DataEngConf](https://www.dataengconf.com/) 會議。（你可能已經從[我寫過的幾篇資料工程文章](https://leemeng.tw/tag/zi-liao-gong-cheng.html)了解我對 DE 的興趣）\n",
    "\n",
    "但我想説難得有機會去歐洲，況且人多有個照應，稍微衡量一下就決定參加 EMNLP 了。\n",
    "\n",
    "當時的我還不曉得，這趟旅程為自己帶來的改變，遠比想像中來得多、來得好。"
   ]
  },
  {
   "cell_type": "markdown",
   "metadata": {},
   "source": [
    "## 幾萬呎高空上的兩本書"
   ]
  },
  {
   "cell_type": "markdown",
   "metadata": {},
   "source": [
    "從東京到比利時，飛行距離大約有 1 萬公里，直飛也需快 12 小時。\n",
    "\n",
    "在長途旅行中沒有網路什麼都做不了，因此我這次帶了兩本買了好一陣子都沒翻開的書，打算去程與回程各看一本。"
   ]
  },
  {
   "cell_type": "markdown",
   "metadata": {},
   "source": [
    "中途因為沒有任何如 Facebook 通知的干擾，我在快抵達比利時時就看完了《你要如何衡量你的人生？》。"
   ]
  },
  {
   "cell_type": "markdown",
   "metadata": {},
   "source": [
    "!image\n",
    "- emnlp2018/two-books.jpg\n",
    "- 這次跟我去比利時的兩本書\n",
    "- https://leemeng.tw/books.html"
   ]
  },
  {
   "cell_type": "markdown",
   "metadata": {},
   "source": [
    "透過此書我了解，你在職場上或是人生的任何策略、計劃以及夢想，在實際展開行動去執行它們之前，什麼都不是。\n",
    "\n",
    "為了確實地達成你的人生目標，你得實際分配資源如精力、時間在上面，而非空想或說大話。\n",
    "\n",
    "而在回東京時，我則閱讀了《華頓商學院最受歡迎的談判課》。戴蒙教授用深入淺出的真實案例，再次提醒我在進行溝通或談判時，以「人」為本、設身處地的重要性。"
   ]
  },
  {
   "cell_type": "markdown",
   "metadata": {},
   "source": [
    "!image\n",
    "- emnlp2018/aaron-burden-236415-unsplash.jpg"
   ]
  },
  {
   "cell_type": "markdown",
   "metadata": {},
   "source": [
    "這兩本書值得推薦，但在這邊，這兩本書的內容並不是重點。在閱讀完《你要如何衡量你的人生？》時飛機正好抵達比利時，我則驚覺："
   ]
  },
  {
   "cell_type": "markdown",
   "metadata": {},
   "source": [
    "!quote\n",
    "- 我能從閱讀一本書就獲得那麼多寶貴的人生經驗，為什麼拖到現在才看？"
   ]
  },
  {
   "cell_type": "markdown",
   "metadata": {},
   "source": [
    "你的書櫃上是否也放了不少很久沒看的書？當初買書時你的決心是什麼？沒看完的原因又是什麼呢？\n",
    "\n",
    "如果「沒時間」是你的理由，那麼正說明了你跟當時的我一樣，沒有下定決心將自己的資源（時間）花在策略上面（看書變聰明、豐富人生）。\n",
    "\n",
    "資訊爆炸時代，很多時候跟看 Youtube 影片比起來，我們會覺得讀一本書的「投資報酬率」太低：花費時間太多，帶來的刺激太少。\n",
    "\n",
    "但其實並不是那麼一回事。好的書籍能改變你的一生，讓你終身受惠。而這次的機上閱讀帶給我的第一堂課即是："
   ]
  },
  {
   "cell_type": "markdown",
   "metadata": {},
   "source": [
    "!quote\n",
    "- 閱讀書籍是最好的長期投資，能豐富並改變你的人生。記得確保你會實際花時間與精力去閱讀你感興趣的書籍。"
   ]
  },
  {
   "cell_type": "markdown",
   "metadata": {},
   "source": [
    "的確，你不需要像我一樣在幾萬呎高空下閱讀才能得到一樣的感想。但這的確是我在這趟旅行的一開始就深刻體會到的一堂課。"
   ]
  },
  {
   "cell_type": "markdown",
   "metadata": {},
   "source": [
    "## "
   ]
  },
  {
   "cell_type": "code",
   "execution_count": null,
   "metadata": {},
   "outputs": [],
   "source": []
  },
  {
   "cell_type": "code",
   "execution_count": null,
   "metadata": {},
   "outputs": [],
   "source": [
    "無時無刻用最有效率的方式學習新知，我們最大的潛力在於能多快 pick up 新事物，而非現有知識"
   ]
  },
  {
   "cell_type": "code",
   "execution_count": null,
   "metadata": {},
   "outputs": [],
   "source": []
  },
  {
   "cell_type": "markdown",
   "metadata": {},
   "source": [
    "!image\n",
    "- emnlp2018/La-place-Royale.jpg\n",
    "- 從東京坐 12 小時的飛機到達布魯塞爾。綿綿細雨迎接我的到來（圖為皇家廣場）"
   ]
  },
  {
   "cell_type": "code",
   "execution_count": null,
   "metadata": {},
   "outputs": [],
   "source": []
  },
  {
   "cell_type": "code",
   "execution_count": null,
   "metadata": {},
   "outputs": [],
   "source": [
    "\n",
    "\n",
    "\n",
    "\n",
    "\n",
    "* Pick up 一個知識不應該需要數年，也不該是這樣\n",
    "    * 學了半年，跟的教授好的啟示\n",
    "    * 李鴻毅教授說的\n",
    "    * 幼稚園進到大學的感受\n",
    "* 旅行的定義重點不在地點，而在心態\n",
    "    * 身在東京久了，忘了旅行的意義\n",
    "    * 只待在布魯塞爾，沒有去所謂的旅遊勝地是個浪費？\n",
    "* 我們真最大的潛力在於能多快 pick up 新事物，而非現有知識\n",
    "    * 你需要 focus 減少 distraction \n",
    "\n",
    "這趟旅程改變人生在於我相信這是一個轉捩點\n",
    "開啟全新的機會\n",
    "\n",
    "我的行動\n",
    "\n",
    "\n",
    "結論：成為一般人到深度學習專家的橋樑"
   ]
  },
  {
   "cell_type": "markdown",
   "metadata": {},
   "source": []
  },
  {
   "cell_type": "markdown",
   "metadata": {},
   "source": [
    "\n",
    "\n",
    "\n",
    "\n",
    "\n",
    "\n",
    "\n",
    "\n",
    "儘管一直以來都對 NLP（**N**atural **L**anguage **P**rocessing）抱持著不少興趣，我從來沒有仔細花時間去了解近年[深度學習（Deep Learning）](https://zh.wikipedia.org/zh-hant/%E6%B7%B1%E5%BA%A6%E5%AD%A6%E4%B9%A0)在 NLP 的快速發展以及創新。從今年年初開始，我已經可以用 [Google 翻譯](https://translate.google.com/?hl=zh-TW)跟烏克蘭以及法國的朋友開心聊天，儘管我對俄文以及法文一無所知。\n",
    "\n",
    "因此趁著這次的旅行，我打算盡可能地了解這個領域裡頭有哪些關鍵字、參加會議後我該怎麼開始有效率地學習 NLP，並在會議空閑的時候逛逛布魯塞爾。\n",
    "\n",
    "就結果而言，我的成果還算是差強人意。\n",
    "\n",
    "## 記憶大量關鍵字\n",
    "\n",
    "## 教堂巡迴之旅\n",
    "\n",
    "## 啤酒、淡菜以及鬆餅\n",
    "\n",
    "## Social Event 驗收成果\n",
    "結果：在 social event 被誇說 NLP 不錯👍\n",
    "\n",
    "## 全力衝刺 NLP\n",
    "any recommendation?"
   ]
  },
  {
   "cell_type": "code",
   "execution_count": null,
   "metadata": {},
   "outputs": [],
   "source": [
    "!image\n",
    "- emnlp2018/emnlp-entrance.jpg\n",
    "\n",
    "但首先我得先承認，跟與會人士擁有的 NLP 知識比起來，我對 NLP 的理解彷彿無知地令人讚嘆。"
   ]
  },
  {
   "cell_type": "code",
   "execution_count": null,
   "metadata": {},
   "outputs": [],
   "source": [
    "趁這個機會，把 NLP 最近的資源處理出來，方便自己上路，也幫助別人。"
   ]
  },
  {
   "cell_type": "markdown",
   "metadata": {},
   "source": [
    "## Connect the dots\n",
    "- IR \n",
    "- Coursera 課程(andrew, machine learning)\n",
    "- \n"
   ]
  },
  {
   "cell_type": "markdown",
   "metadata": {},
   "source": [
    "## 素材\n",
    "- 自己的 EMNLP 筆記、關鍵字蒐集\n",
    "- 其他人的見聞\n",
    "    - [Patrick Lewis(UCL 的自然语言处理博士生，同时他也参与 Facebook 人工智能研究院的研究)](https://www.leiphone.com/news/201811/6xESoGatFLejrh7x.html?type=preview&viewType=weixin)\n",
    "    - [EMNLP 2018 | 最佳论文出炉：谷歌、Facebook、CMU上榜](https://www.jiqizhixin.com/articles/2018-09-21-12)\n",
    "        - 亮點是 Facebook 的無監督試 NMT\n",
    "    - [學界| FAIR新一代無監督機器翻譯：模型更簡潔，性能更優](https://mp.weixin.qq.com/s?__biz=MzA3MzI4MjgzMw==&mid=2650741621&idx=4&sn=210c9b3694f56508267e95235fb99f3c&chksm=871adf0bb06d561dc99a89a5f56cf835bc92aa25401294216262128402490918d2787fe7fd09&scene=21#wechat_redirect)"
   ]
  },
  {
   "cell_type": "code",
   "execution_count": null,
   "metadata": {},
   "outputs": [],
   "source": []
  },
  {
   "cell_type": "code",
   "execution_count": null,
   "metadata": {},
   "outputs": [],
   "source": [
    "人生都會有轉捩點，我相信這是其中一個。"
   ]
  },
  {
   "cell_type": "markdown",
   "metadata": {},
   "source": [
    "* 旅行本身沒有意義，但它能激發你思考人生的意義\n",
    "* 出社會前我為了別人（的期望）而學；現在我為自己而學\n",
    "\n",
    "* 我想說的是，你最近從零開始學會的東西是什麼？更重要的，一直想學但是沒有碰的東西是什麼？為什麼沒有進展？在這個變化快速的世界，我們最需要的是快速學習任何東西的方法（如果你是要學 NLP 接下來可以跟著我）\n",
    "* 你不需要花 years 學深度學習（也不實際），但你要做到，你要用最有效率的方式、最好的資源\n",
    "\n",
    "\n",
    "Todo\n",
    "* Emnlp Twitter tag\n",
    "* 中文新聞報導\n",
    "\n",
    "\n",
    "Strategy： 學會關鍵字\n",
    "\n",
    "\n",
    "* 想做 MT 是想要讓台灣人還有自己更聰明：collective intelligence 。我不認為歐美人比較聰明，只是因為他們有比較多（英文）資源\n",
    "* 成為一般人學習深度學習的橋樑、Hub\n",
    "\n"
   ]
  }
 ],
 "metadata": {
  "kernelspec": {
   "display_name": "Python 3",
   "language": "python",
   "name": "python3"
  },
  "language_info": {
   "codemirror_mode": {
    "name": "ipython",
    "version": 3
   },
   "file_extension": ".py",
   "mimetype": "text/x-python",
   "name": "python",
   "nbconvert_exporter": "python",
   "pygments_lexer": "ipython3",
   "version": "3.7.0"
  }
 },
 "nbformat": 4,
 "nbformat_minor": 2
}
