{
 "cells": [
  {
   "cell_type": "markdown",
   "metadata": {},
   "source": [
    "- author: Lee Meng\n",
    "- date: 2018-11-19 08:00\n",
    "- title: 初訪比利時，EMNLP 2018 見聞錄 \n",
    "- slug: some-thoughts-visiting-belgium-and-emnlp-2018\n",
    "- tags: 隨筆, 自然語言處理, 深度學習\n",
    "- description: \n",
    "- summary: \n",
    "- image: bruxelles-post-cover.jpg\n",
    "- image_credit_url: \n",
    "- status: draft"
   ]
  },
  {
   "cell_type": "markdown",
   "metadata": {},
   "source": [
    "\n",
    "應該帶相機，"
   ]
  },
  {
   "cell_type": "code",
   "execution_count": null,
   "metadata": {},
   "outputs": [],
   "source": []
  },
  {
   "cell_type": "code",
   "execution_count": null,
   "metadata": {},
   "outputs": [],
   "source": [
    "趁這個機會，把 NLP 最近的資源處理出來，方便自己上路，也幫助別人。"
   ]
  },
  {
   "cell_type": "markdown",
   "metadata": {},
   "source": [
    "## Connect the dots\n",
    "- IR \n",
    "- Coursera 課程(andrew, machine learning)\n",
    "- \n"
   ]
  },
  {
   "cell_type": "markdown",
   "metadata": {},
   "source": [
    "## 素材\n",
    "- 自己的 EMNLP 筆記、關鍵字蒐集\n",
    "- 其他人的見聞\n",
    "    - [Patrick Lewis(UCL 的自然语言处理博士生，同时他也参与 Facebook 人工智能研究院的研究)](https://www.leiphone.com/news/201811/6xESoGatFLejrh7x.html?type=preview&viewType=weixin)\n",
    "    - [EMNLP 2018 | 最佳论文出炉：谷歌、Facebook、CMU上榜](https://www.jiqizhixin.com/articles/2018-09-21-12)\n",
    "        - 亮點是 Facebook 的無監督試 NMT\n",
    "    - [學界| FAIR新一代無監督機器翻譯：模型更簡潔，性能更優](https://mp.weixin.qq.com/s?__biz=MzA3MzI4MjgzMw==&mid=2650741621&idx=4&sn=210c9b3694f56508267e95235fb99f3c&chksm=871adf0bb06d561dc99a89a5f56cf835bc92aa25401294216262128402490918d2787fe7fd09&scene=21#wechat_redirect)"
   ]
  },
  {
   "cell_type": "code",
   "execution_count": null,
   "metadata": {},
   "outputs": [],
   "source": []
  },
  {
   "cell_type": "code",
   "execution_count": null,
   "metadata": {},
   "outputs": [],
   "source": []
  },
  {
   "cell_type": "markdown",
   "metadata": {},
   "source": [
    "* 旅行本身沒有意義，但它能激發你思考人生的意義\n",
    "* 出社會前我為了別人（的期望）而學；現在我為自己而學\n",
    "* 想做 MT 是想要讓台灣人還有自己更聰明：collective intelligence 。我不認為歐美人比較聰明，只是因為他們有比較多（英文）資源\n",
    "* 我想說的是，你最近從零開始學會的東西是什麼？更重要的，一直想學但是沒有碰的東西是什麼？為什麼沒有進展？在這個變化快速的世界，我們最需要的是快速學習任何東西的方法（如果你是要學 NLP 接下來可以跟著我）\n",
    "* 你不需要花 years 學深度學習（也不實際），但你要做到，你要用最有效率的方式、最好的資源\n",
    "\n",
    "\n",
    "Todo\n",
    "* Emnlp Twitter tag\n",
    "* 中文新聞報導\n",
    "\n",
    "\n",
    "Strategy： 學會關鍵字\n",
    "結果：在 social event 被誇說 NLP 不錯👍\n",
    "\n",
    "\n",
    "\n"
   ]
  }
 ],
 "metadata": {
  "kernelspec": {
   "display_name": "Python 3",
   "language": "python",
   "name": "python3"
  },
  "language_info": {
   "codemirror_mode": {
    "name": "ipython",
    "version": 3
   },
   "file_extension": ".py",
   "mimetype": "text/x-python",
   "name": "python",
   "nbconvert_exporter": "python",
   "pygments_lexer": "ipython3",
   "version": "3.7.0"
  }
 },
 "nbformat": 4,
 "nbformat_minor": 2
}
