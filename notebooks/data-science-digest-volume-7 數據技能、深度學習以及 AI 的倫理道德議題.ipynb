{
 "cells": [
  {
   "cell_type": "markdown",
   "metadata": {},
   "source": [
    "- author: Lee Meng\n",
    "- date: 2018-10-24 08:00\n",
    "- title: 資料科學文摘 Vol.7 \n",
    "- slug: data-science-digest-volume-7 數據技能、深度學習以及 AI 的倫理道德議題\n",
    "- tags: 文摘, 資料科學\n",
    "- description: \n",
    "- summary: \n",
    "- image: alisa-anton-393305-unsplash.jpg\n",
    "- image_credit_url: https://unsplash.com/photos/rjhLxgmP8bA?utm_source=unsplash&utm_medium=referral&utm_content=creditCopyText"
   ]
  },
  {
   "cell_type": "markdown",
   "metadata": {},
   "source": [
    "這週將跟你分享與數據以及人工智慧相關的 5 篇文章。\n",
    "\n",
    "在第一篇文章，我們將看到如何用一個簡單、有效的方式來決定應該學習什麼「數據技能」；在第二篇文章，我們則會看到如何透過數據，了解網際網路是如何快速發展成為人們每天不可或缺的一部分。\n",
    "\n",
    "接著我們會聽聽在計算神經科學領域的先驅之一，泰倫斯教授解釋何謂「深度學習」；再看看 LinkedIn 裡頭的 AI 是怎麼做的。最後，我們將一窺 AI 的倫理道德議題。\n",
    "\n",
    "前言說夠了，讓我們開始閱讀吧！\n",
    "\n",
    "本週閱讀清單：\n",
    "- [Which Data Skills Do You Actually Need? This 2×2 Matrix Will Tell You.](#Which-Data-Skills-Do-You-Actually-Need?-This-2×2-Matrix-Will-Tell-You.)\n",
    "- [The internet's history has just begun](#The-internet-history-has-just-begun)\n",
    "- [A pioneering scientist explains \"deep learning\"](#A-pioneering-scientist-explains-)\n",
    "- [An Introduction to AI at LinkedIn](#An-Introduction-to-AI-at-LinkedIn)\n",
    "- [Establishing an AI code of ethics will be harder than people think](#Establishing-an-AI-code-of-ethics-will-be-harder-than-people-think)"
   ]
  },
  {
   "cell_type": "markdown",
   "metadata": {},
   "source": [
    "!article\n",
    "- Which Data Skills Do You Actually Need? This 2×2 Matrix Will Tell You.\n",
    "- https://hbr.org/2018/10/which-data-skills-do-you-actually-need-this-2x2-matrix-will-tell-you\n",
    "- oct18_18_607367679.jpg"
   ]
  },
  {
   "cell_type": "markdown",
   "metadata": {},
   "source": [
    "!article\n",
    "- The internet history has just begun\n",
    "- https://ourworldindata.org/internet-history-just-begun\n",
    "- Share-of-internet-users-cover.jpg"
   ]
  },
  {
   "cell_type": "markdown",
   "metadata": {},
   "source": [
    "!article\n",
    "- A pioneering scientist explains \"deep learning\"\n",
    "- https://www.theverge.com/2018/10/16/17985168/deep-learning-revolution-terrence-sejnowski-artificial-intelligence-technology\n",
    "- jbareham_170215_1460_0001_v2_4.jpg"
   ]
  },
  {
   "cell_type": "markdown",
   "metadata": {},
   "source": [
    "!article\n",
    "- An Introduction to AI at LinkedIn\n",
    "- https://engineering.linkedin.com/blog/2018/10/an-introduction-to-ai-at-linkedin\n",
    "- how-we-do-ai-1-linkedin.png"
   ]
  },
  {
   "cell_type": "markdown",
   "metadata": {},
   "source": [
    "!article\n",
    "- Establishing an AI code of ethics will be harder than people think\n",
    "- https://www.technologyreview.com/s/612318/establishing-an-ai-code-of-ethics-will-be-harder-than-people-think/\n",
    "- timeline-ai-now_1.jpg"
   ]
  },
  {
   "cell_type": "markdown",
   "metadata": {},
   "source": [
    "跟之前文摘出現的 艾森豪 matrix 一樣， 在一個數據時代，提升你的數據力很重要，但是要學的東西太多，你需要 focus 以及 priority. 識別出每個 data skills 對你或公司來說的重要程度以及需要花費的時間，就能知道該計畫學什麼、該馬上幹什麼、已經放棄學什麼。"
   ]
  },
  {
   "cell_type": "code",
   "execution_count": null,
   "metadata": {},
   "outputs": [],
   "source": []
  },
  {
   "cell_type": "code",
   "execution_count": null,
   "metadata": {},
   "outputs": [],
   "source": []
  },
  {
   "cell_type": "code",
   "execution_count": null,
   "metadata": {},
   "outputs": [],
   "source": []
  },
  {
   "cell_type": "code",
   "execution_count": null,
   "metadata": {},
   "outputs": [],
   "source": []
  },
  {
   "cell_type": "code",
   "execution_count": null,
   "metadata": {},
   "outputs": [],
   "source": []
  },
  {
   "cell_type": "markdown",
   "metadata": {},
   "source": [
    "!image\n",
    "- digests/gan-example.jpg\n",
    "- GAN 有很多用途，像是自動產生高畫質圖片\n",
    "- https://youtu.be/AJVyzd0rqdc?t=575\n",
    "- NIPS 2016 Tutorial"
   ]
  },
  {
   "cell_type": "markdown",
   "metadata": {},
   "source": [
    "!image\n",
    "- digests/gan-lab.jpg\n",
    "- GAN lab 讓你可以利用網頁瀏覽器直接探索 GAN 並了解其運作原理\n",
    "- https://poloclub.github.io/ganlab/"
   ]
  },
  {
   "cell_type": "markdown",
   "metadata": {},
   "source": [
    "!image\n",
    "- digests/P1-BP885_NIKE3_GR_20140421170339.jpg"
   ]
  },
  {
   "cell_type": "markdown",
   "metadata": {},
   "source": [
    "!quote\n",
    "- 當使用者發現你產品的價值以後，他們會主動回來。"
   ]
  },
  {
   "cell_type": "markdown",
   "metadata": {},
   "source": [
    "## 結語\n",
    "\n",
    "呼！這就是本週文摘的內容啦！希望你閱讀後有感覺自己腦中多了點東西，變得聰明了一點。\n",
    "\n",
    "社會人口、機器學習、產品分析以及數據隱私的議題，你會發現這些文章儘管領域大相徑庭，他們都與「數據」脫離不了關係。\n",
    "\n",
    "在這個時代，任何人的日常生活中都充斥著大量數據。我們需要重新思考、檢視並理解身邊的數據，甚至活用它們來創造更好的世界。\n",
    "\n",
    "這也是我寫這系列文章的原因，希望讓更多人（包含我自己）能更輕鬆地用數據理解這個世界。歡迎你點擊下面的訂閱按鈕，未來跟著我一起繼續探索這個世界：）"
   ]
  }
 ],
 "metadata": {
  "kernelspec": {
   "display_name": "Python 3",
   "language": "python",
   "name": "python3"
  },
  "language_info": {
   "codemirror_mode": {
    "name": "ipython",
    "version": 3
   },
   "file_extension": ".py",
   "mimetype": "text/x-python",
   "name": "python",
   "nbconvert_exporter": "python",
   "pygments_lexer": "ipython3",
   "version": "3.7.0"
  }
 },
 "nbformat": 4,
 "nbformat_minor": 2
}
