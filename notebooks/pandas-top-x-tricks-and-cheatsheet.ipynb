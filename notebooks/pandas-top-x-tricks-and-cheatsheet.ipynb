{
 "cells": [
  {
   "cell_type": "markdown",
   "metadata": {},
   "source": [
    "- author: Lee Meng\n",
    "- date: 2019-07-22 09:00\n",
    "- title: 輕鬆把玩數據：X 個常用 Pandas 技巧\n",
    "- slug: pandas-top-x-tricks-and-cheatsheet\n",
    "- tags: Python\n",
    "- description: \n",
    "- summary: \n",
    "- image: doors-1767562_1280.jpg\n",
    "- image_credit_url: \n",
    "- status: draft"
   ]
  },
  {
   "cell_type": "code",
   "execution_count": null,
   "metadata": {},
   "outputs": [],
   "source": []
  },
  {
   "cell_type": "code",
   "execution_count": 9,
   "metadata": {},
   "outputs": [
    {
     "data": {
      "text/plain": [
       "'0.23.4'"
      ]
     },
     "execution_count": 9,
     "metadata": {},
     "output_type": "execute_result"
    }
   ],
   "source": [
    "import pandas as pd\n",
    "pd.__version__"
   ]
  },
  {
   "cell_type": "markdown",
   "metadata": {},
   "source": [
    "## 建立 DataFrame"
   ]
  },
  {
   "cell_type": "markdown",
   "metadata": {},
   "source": [
    "### 用 Python dict 建立 DataFrame"
   ]
  },
  {
   "cell_type": "code",
   "execution_count": 10,
   "metadata": {},
   "outputs": [
    {
     "data": {
      "text/html": [
       "<div>\n",
       "<style scoped>\n",
       "    .dataframe tbody tr th:only-of-type {\n",
       "        vertical-align: middle;\n",
       "    }\n",
       "\n",
       "    .dataframe tbody tr th {\n",
       "        vertical-align: top;\n",
       "    }\n",
       "\n",
       "    .dataframe thead th {\n",
       "        text-align: right;\n",
       "    }\n",
       "</style>\n",
       "<table border=\"1\" class=\"dataframe\">\n",
       "  <thead>\n",
       "    <tr style=\"text-align: right;\">\n",
       "      <th></th>\n",
       "      <th>col_1</th>\n",
       "      <th>col_2</th>\n",
       "    </tr>\n",
       "  </thead>\n",
       "  <tbody>\n",
       "    <tr>\n",
       "      <th>0</th>\n",
       "      <td>a</td>\n",
       "      <td>1</td>\n",
       "    </tr>\n",
       "    <tr>\n",
       "      <th>1</th>\n",
       "      <td>b</td>\n",
       "      <td>2</td>\n",
       "    </tr>\n",
       "    <tr>\n",
       "      <th>2</th>\n",
       "      <td>c</td>\n",
       "      <td>3</td>\n",
       "    </tr>\n",
       "  </tbody>\n",
       "</table>\n",
       "</div>"
      ],
      "text/plain": [
       "  col_1  col_2\n",
       "0     a      1\n",
       "1     b      2\n",
       "2     c      3"
      ]
     },
     "execution_count": 10,
     "metadata": {},
     "output_type": "execute_result"
    }
   ],
   "source": [
    "d = {\"col_1\": ['a', 'b', 'c'], \"col_2\": [1, 2, 3]}\n",
    "pd.DataFrame(d)"
   ]
  },
  {
   "cell_type": "markdown",
   "metadata": {},
   "source": [
    "### 使用 pd.util.testing 隨機建立 DataFrame"
   ]
  },
  {
   "cell_type": "markdown",
   "metadata": {},
   "source": [
    "在你只是想要測試 pandas 的一些功能時十分好用。"
   ]
  },
  {
   "cell_type": "code",
   "execution_count": 12,
   "metadata": {},
   "outputs": [
    {
     "data": {
      "text/html": [
       "<div>\n",
       "<style scoped>\n",
       "    .dataframe tbody tr th:only-of-type {\n",
       "        vertical-align: middle;\n",
       "    }\n",
       "\n",
       "    .dataframe tbody tr th {\n",
       "        vertical-align: top;\n",
       "    }\n",
       "\n",
       "    .dataframe thead th {\n",
       "        text-align: right;\n",
       "    }\n",
       "</style>\n",
       "<table border=\"1\" class=\"dataframe\">\n",
       "  <thead>\n",
       "    <tr style=\"text-align: right;\">\n",
       "      <th></th>\n",
       "      <th>A</th>\n",
       "      <th>B</th>\n",
       "      <th>C</th>\n",
       "      <th>D</th>\n",
       "    </tr>\n",
       "  </thead>\n",
       "  <tbody>\n",
       "    <tr>\n",
       "      <th>NWJOmfCirM</th>\n",
       "      <td>1.625947</td>\n",
       "      <td>1.804767</td>\n",
       "      <td>-0.710319</td>\n",
       "      <td>-1.052005</td>\n",
       "    </tr>\n",
       "    <tr>\n",
       "      <th>EUs7nTWHOi</th>\n",
       "      <td>-1.366118</td>\n",
       "      <td>0.309858</td>\n",
       "      <td>-0.627835</td>\n",
       "      <td>1.990895</td>\n",
       "    </tr>\n",
       "    <tr>\n",
       "      <th>DJjqLicICV</th>\n",
       "      <td>-0.700180</td>\n",
       "      <td>-0.398182</td>\n",
       "      <td>-0.485865</td>\n",
       "      <td>-3.076456</td>\n",
       "    </tr>\n",
       "    <tr>\n",
       "      <th>mcpdpreFVO</th>\n",
       "      <td>0.583953</td>\n",
       "      <td>0.608293</td>\n",
       "      <td>-0.796824</td>\n",
       "      <td>-2.932026</td>\n",
       "    </tr>\n",
       "    <tr>\n",
       "      <th>qkdYp98dtN</th>\n",
       "      <td>-1.259726</td>\n",
       "      <td>-0.502375</td>\n",
       "      <td>-1.614751</td>\n",
       "      <td>-2.366699</td>\n",
       "    </tr>\n",
       "    <tr>\n",
       "      <th>qt6RJD3jXz</th>\n",
       "      <td>2.145456</td>\n",
       "      <td>-0.297916</td>\n",
       "      <td>-1.163679</td>\n",
       "      <td>0.803670</td>\n",
       "    </tr>\n",
       "    <tr>\n",
       "      <th>FUH5HSmVvK</th>\n",
       "      <td>-0.811520</td>\n",
       "      <td>-0.378954</td>\n",
       "      <td>0.127611</td>\n",
       "      <td>0.694116</td>\n",
       "    </tr>\n",
       "    <tr>\n",
       "      <th>aGm5IiKTpN</th>\n",
       "      <td>0.358053</td>\n",
       "      <td>0.283839</td>\n",
       "      <td>0.411738</td>\n",
       "      <td>-0.304223</td>\n",
       "    </tr>\n",
       "    <tr>\n",
       "      <th>fPWPGd1zB3</th>\n",
       "      <td>0.388082</td>\n",
       "      <td>-0.671565</td>\n",
       "      <td>1.406873</td>\n",
       "      <td>1.106747</td>\n",
       "    </tr>\n",
       "    <tr>\n",
       "      <th>wzrNzTVd4c</th>\n",
       "      <td>0.652690</td>\n",
       "      <td>-0.834069</td>\n",
       "      <td>2.102678</td>\n",
       "      <td>1.277090</td>\n",
       "    </tr>\n",
       "  </tbody>\n",
       "</table>\n",
       "</div>"
      ],
      "text/plain": [
       "                   A         B         C         D\n",
       "NWJOmfCirM  1.625947  1.804767 -0.710319 -1.052005\n",
       "EUs7nTWHOi -1.366118  0.309858 -0.627835  1.990895\n",
       "DJjqLicICV -0.700180 -0.398182 -0.485865 -3.076456\n",
       "mcpdpreFVO  0.583953  0.608293 -0.796824 -2.932026\n",
       "qkdYp98dtN -1.259726 -0.502375 -1.614751 -2.366699\n",
       "qt6RJD3jXz  2.145456 -0.297916 -1.163679  0.803670\n",
       "FUH5HSmVvK -0.811520 -0.378954  0.127611  0.694116\n",
       "aGm5IiKTpN  0.358053  0.283839  0.411738 -0.304223\n",
       "fPWPGd1zB3  0.388082 -0.671565  1.406873  1.106747\n",
       "wzrNzTVd4c  0.652690 -0.834069  2.102678  1.277090"
      ]
     },
     "execution_count": 12,
     "metadata": {},
     "output_type": "execute_result"
    }
   ],
   "source": [
    "pd.util.testing.makeDataFrame().head(10)"
   ]
  },
  {
   "cell_type": "markdown",
   "metadata": {},
   "source": [
    "### 將剪貼簿內容轉換成 DataFrame"
   ]
  },
  {
   "cell_type": "code",
   "execution_count": 17,
   "metadata": {},
   "outputs": [
    {
     "data": {
      "text/html": [
       "<div>\n",
       "<style scoped>\n",
       "    .dataframe tbody tr th:only-of-type {\n",
       "        vertical-align: middle;\n",
       "    }\n",
       "\n",
       "    .dataframe tbody tr th {\n",
       "        vertical-align: top;\n",
       "    }\n",
       "\n",
       "    .dataframe thead th {\n",
       "        text-align: right;\n",
       "    }\n",
       "</style>\n",
       "<table border=\"1\" class=\"dataframe\">\n",
       "  <thead>\n",
       "    <tr style=\"text-align: right;\">\n",
       "      <th></th>\n",
       "      <th>A</th>\n",
       "      <th>B</th>\n",
       "      <th>C</th>\n",
       "      <th>D</th>\n",
       "    </tr>\n",
       "  </thead>\n",
       "  <tbody>\n",
       "    <tr>\n",
       "      <th>NWJOmfCirM</th>\n",
       "      <td>1.625947</td>\n",
       "      <td>1.804767</td>\n",
       "      <td>-0.710319</td>\n",
       "      <td>-1.052005</td>\n",
       "    </tr>\n",
       "    <tr>\n",
       "      <th>EUs7nTWHOi</th>\n",
       "      <td>-1.366118</td>\n",
       "      <td>0.309858</td>\n",
       "      <td>-0.627835</td>\n",
       "      <td>1.990895</td>\n",
       "    </tr>\n",
       "    <tr>\n",
       "      <th>DJjqLicICV</th>\n",
       "      <td>-0.700180</td>\n",
       "      <td>-0.398182</td>\n",
       "      <td>-0.485865</td>\n",
       "      <td>-3.076456</td>\n",
       "    </tr>\n",
       "    <tr>\n",
       "      <th>mcpdpreFVO</th>\n",
       "      <td>0.583953</td>\n",
       "      <td>0.608293</td>\n",
       "      <td>-0.796824</td>\n",
       "      <td>-2.932026</td>\n",
       "    </tr>\n",
       "  </tbody>\n",
       "</table>\n",
       "</div>"
      ],
      "text/plain": [
       "                   A         B         C         D\n",
       "NWJOmfCirM  1.625947  1.804767 -0.710319 -1.052005\n",
       "EUs7nTWHOi -1.366118  0.309858 -0.627835  1.990895\n",
       "DJjqLicICV -0.700180 -0.398182 -0.485865 -3.076456\n",
       "mcpdpreFVO  0.583953  0.608293 -0.796824 -2.932026"
      ]
     },
     "execution_count": 17,
     "metadata": {},
     "output_type": "execute_result"
    }
   ],
   "source": [
    "df = pd.read_clipboard()\n",
    "df"
   ]
  },
  {
   "cell_type": "markdown",
   "metadata": {},
   "source": [
    "不過要注意 reproduciblity 問題，記得另外存成檔案供後人使用。"
   ]
  },
  {
   "cell_type": "markdown",
   "metadata": {},
   "source": [
    "### 讀取 CSV 檔案"
   ]
  },
  {
   "cell_type": "markdown",
   "metadata": {},
   "source": [
    "不限於本地，只要有 URL 以及網路連線就可以將網路上任意 CSV 檔案轉成 DataFrame。"
   ]
  },
  {
   "cell_type": "code",
   "execution_count": 4,
   "metadata": {},
   "outputs": [],
   "source": [
    "titanic = pd.read_csv('http://bit.ly/kaggletrain')"
   ]
  },
  {
   "cell_type": "code",
   "execution_count": 5,
   "metadata": {},
   "outputs": [
    {
     "data": {
      "text/html": [
       "<div>\n",
       "<style scoped>\n",
       "    .dataframe tbody tr th:only-of-type {\n",
       "        vertical-align: middle;\n",
       "    }\n",
       "\n",
       "    .dataframe tbody tr th {\n",
       "        vertical-align: top;\n",
       "    }\n",
       "\n",
       "    .dataframe thead th {\n",
       "        text-align: right;\n",
       "    }\n",
       "</style>\n",
       "<table border=\"1\" class=\"dataframe\">\n",
       "  <thead>\n",
       "    <tr style=\"text-align: right;\">\n",
       "      <th></th>\n",
       "      <th>PassengerId</th>\n",
       "      <th>Survived</th>\n",
       "      <th>Pclass</th>\n",
       "      <th>Name</th>\n",
       "      <th>Sex</th>\n",
       "      <th>Age</th>\n",
       "      <th>SibSp</th>\n",
       "      <th>Parch</th>\n",
       "      <th>Ticket</th>\n",
       "      <th>Fare</th>\n",
       "      <th>Cabin</th>\n",
       "      <th>Embarked</th>\n",
       "    </tr>\n",
       "  </thead>\n",
       "  <tbody>\n",
       "    <tr>\n",
       "      <th>0</th>\n",
       "      <td>1</td>\n",
       "      <td>0</td>\n",
       "      <td>3</td>\n",
       "      <td>Braund, Mr. Owen Harris</td>\n",
       "      <td>male</td>\n",
       "      <td>22.0</td>\n",
       "      <td>1</td>\n",
       "      <td>0</td>\n",
       "      <td>A/5 21171</td>\n",
       "      <td>7.2500</td>\n",
       "      <td>NaN</td>\n",
       "      <td>S</td>\n",
       "    </tr>\n",
       "    <tr>\n",
       "      <th>1</th>\n",
       "      <td>2</td>\n",
       "      <td>1</td>\n",
       "      <td>1</td>\n",
       "      <td>Cumings, Mrs. John Bradley (Florence Briggs Th...</td>\n",
       "      <td>female</td>\n",
       "      <td>38.0</td>\n",
       "      <td>1</td>\n",
       "      <td>0</td>\n",
       "      <td>PC 17599</td>\n",
       "      <td>71.2833</td>\n",
       "      <td>C85</td>\n",
       "      <td>C</td>\n",
       "    </tr>\n",
       "    <tr>\n",
       "      <th>2</th>\n",
       "      <td>3</td>\n",
       "      <td>1</td>\n",
       "      <td>3</td>\n",
       "      <td>Heikkinen, Miss. Laina</td>\n",
       "      <td>female</td>\n",
       "      <td>26.0</td>\n",
       "      <td>0</td>\n",
       "      <td>0</td>\n",
       "      <td>STON/O2. 3101282</td>\n",
       "      <td>7.9250</td>\n",
       "      <td>NaN</td>\n",
       "      <td>S</td>\n",
       "    </tr>\n",
       "    <tr>\n",
       "      <th>3</th>\n",
       "      <td>4</td>\n",
       "      <td>1</td>\n",
       "      <td>1</td>\n",
       "      <td>Futrelle, Mrs. Jacques Heath (Lily May Peel)</td>\n",
       "      <td>female</td>\n",
       "      <td>35.0</td>\n",
       "      <td>1</td>\n",
       "      <td>0</td>\n",
       "      <td>113803</td>\n",
       "      <td>53.1000</td>\n",
       "      <td>C123</td>\n",
       "      <td>S</td>\n",
       "    </tr>\n",
       "    <tr>\n",
       "      <th>4</th>\n",
       "      <td>5</td>\n",
       "      <td>0</td>\n",
       "      <td>3</td>\n",
       "      <td>Allen, Mr. William Henry</td>\n",
       "      <td>male</td>\n",
       "      <td>35.0</td>\n",
       "      <td>0</td>\n",
       "      <td>0</td>\n",
       "      <td>373450</td>\n",
       "      <td>8.0500</td>\n",
       "      <td>NaN</td>\n",
       "      <td>S</td>\n",
       "    </tr>\n",
       "  </tbody>\n",
       "</table>\n",
       "</div>"
      ],
      "text/plain": [
       "   PassengerId  Survived  Pclass  \\\n",
       "0            1         0       3   \n",
       "1            2         1       1   \n",
       "2            3         1       3   \n",
       "3            4         1       1   \n",
       "4            5         0       3   \n",
       "\n",
       "                                                Name     Sex   Age  SibSp  \\\n",
       "0                            Braund, Mr. Owen Harris    male  22.0      1   \n",
       "1  Cumings, Mrs. John Bradley (Florence Briggs Th...  female  38.0      1   \n",
       "2                             Heikkinen, Miss. Laina  female  26.0      0   \n",
       "3       Futrelle, Mrs. Jacques Heath (Lily May Peel)  female  35.0      1   \n",
       "4                           Allen, Mr. William Henry    male  35.0      0   \n",
       "\n",
       "   Parch            Ticket     Fare Cabin Embarked  \n",
       "0      0         A/5 21171   7.2500   NaN        S  \n",
       "1      0          PC 17599  71.2833   C85        C  \n",
       "2      0  STON/O2. 3101282   7.9250   NaN        S  \n",
       "3      0            113803  53.1000  C123        S  \n",
       "4      0            373450   8.0500   NaN        S  "
      ]
     },
     "execution_count": 5,
     "metadata": {},
     "output_type": "execute_result"
    }
   ],
   "source": [
    "titanic.head()"
   ]
  },
  {
   "cell_type": "markdown",
   "metadata": {},
   "source": [
    "### 將 Google Sheet 表格轉成 DataFrame"
   ]
  },
  {
   "cell_type": "code",
   "execution_count": null,
   "metadata": {},
   "outputs": [],
   "source": [
    "!pip install --upgrade -q gspread"
   ]
  },
  {
   "cell_type": "code",
   "execution_count": null,
   "metadata": {},
   "outputs": [],
   "source": [
    "from google.colab import auth\n",
    "auth.authenticate_user()\n",
    "\n",
    "import gspread\n",
    "from oauth2client.client import GoogleCredentials\n",
    "\n",
    "gc = gspread.authorize(GoogleCredentials.get_application_default())\n",
    "\n",
    "spreadsheet_name = \"text summarization evaluation dataset (DS research week)\"\n",
    "worksheet = gc.open(spreadsheet_name).sheet1\n",
    "\n",
    "# get_all_values gives a list of rows.\n",
    "rows = worksheet.get_all_values()\n",
    "print(rows)\n",
    "\n",
    "# Convert to a DataFrame and render.\n",
    "df = pd.DataFrame.from_records(rows)"
   ]
  },
  {
   "cell_type": "markdown",
   "metadata": {},
   "source": []
  },
  {
   "cell_type": "code",
   "execution_count": null,
   "metadata": {},
   "outputs": [],
   "source": []
  },
  {
   "cell_type": "markdown",
   "metadata": {},
   "source": []
  },
  {
   "cell_type": "markdown",
   "metadata": {},
   "source": [
    "toc\n",
    "- pandas還有numpy使用vertorization 還有 broadcasting來加快運算, 多使用內建函數\n",
    "- 建立 dataframe\n",
    "    - 基本用用鐵達尼號資料夾展示\n",
    "    - csv / 結合多個 csvs (row / columns) `pd.concat`\n",
    "        - 去頭\n",
    "        - 只讀取特定 column `usecol` in read_csv\n",
    "        - 使用 `df.info` 看記憶體使用量並將 numerical 轉成 categorical 省資源\n",
    "    - dummy data frame\n",
    "        - created for fast testing\n",
    "            - pd.util.testing.makeDataFrame() ➡️ contains random values\n",
    "            - .makeMissingDataframe() ➡️ some values missing\n",
    "            - .makeTimeDataFrame() ➡️ has DateTimeIndex\n",
    "            - .makeMixedDataFrame() ➡️ mixed data type\n",
    "        - made from `dict`: key = col, v = list of values\n",
    "        - np.rand.(#row, #col)\n",
    "- 數據清理 / 整理\n",
    "    - drop columns\n",
    "        - https://gist.github.com/600474cca52227129872d44559d312f2\n",
    "    - rename columns\n",
    "    - reindex 然後 drop\n",
    "    - fillna\n",
    "    - (conditional) drop columns\n",
    "    - 將字串 split 成兩個 columns\n",
    "    - 將 numerical 切成 categorical (pd.cut)\n",
    "- select data\n",
    "    - 記得loc, iloc, ix, at, iat都不是function, 而是attribute, 所以是使用[], 而不是()\n",
    "    - reserve row / col orders\n",
    "    - row and/or columns slicer \n",
    "        - [col_a:col_b]\n",
    "    - mask and `query`\n",
    "    - 選出任何一行有 NLL 值的 rows\n",
    "        - `df[df.isnull().any(axis=1)]`\n",
    "    - 選擇 dtype 為特定型態的 column\n",
    "    - 選擇某些 column 特定值 (`isin`)\n",
    "    - 選擇某些 column 為 top k 值的 row\n",
    "    - `df.filter`\n",
    "        - 下面的例子把string的columns 還有 年份從20XX年的columns取出來 (19XX的columns被過濾掉)\n",
    "            - `cols = ['RegionID', 'RegionName', 'State', 'Metro', 'CountyName', 'SizeRank', '20.*']`\n",
    "            - `df.filter(regex='|'.join(cols), axis=1).head()`\n",
    "    - iterows 做特定處理\n",
    "    - 依照某個string column值來選擇row\n",
    "        - `df2[df2['comment'].str.contains('yoooo')]`\n",
    "- sorting\n",
    "\n",
    "```python\n",
    "df1.index = pd.CategoricalIndex(df1.index, \n",
    "                               categories=['Monday', 'Tuesday', 'Wednesday', 'Thursday', 'Friday','Saturday', 'Sunday'], \n",
    "                               sorted=True)\n",
    "df1.sort_index().plot(kind='bar', figsize=(15, 12))\n",
    "```\n",
    "\n",
    "- 數據處理\n",
    "    - apply\n",
    "    - 將一個 list column 轉成多個 columns\n",
    "    - 切兩個 subset\n",
    "    - to_datetime\n",
    "        - https://twitter.com/justmarkham/status/1148217934298406912?s=20\n",
    "    - join dataframe\n",
    "        - `df.merge`\n",
    "- 匯總\n",
    "    - value_counts + sorted value\n",
    "    - unique\n",
    "    - groupby + (multi-agg func or describe())\n",
    "        - 對時間的匯總可以用 `resample`\n",
    "            - https://twitter.com/justmarkham/status/1151846604216971264?s=20\n",
    "    - group by custom lambda func\n",
    "    - transform 函式\n",
    "    - multi-index groupby (`unstack`) VS pivot_table\n",
    "- 簡單畫圖\n",
    "    - easy plot + nice style\n",
    "        - `df.plot()`\n",
    "    - 改變 display options / style obj.\n",
    "        - chain your operations!\n",
    "        - https://t.co/6xlytNLmGm\n",
    "        - https://t.co/mhz9GiueaN\n",
    "- output\n",
    "    - windows friendly output: `to_csv(encoding=\"cp932\")`\n",
    "- powerful tools\n",
    "    - pandas profiling\n",
    "        - `pip install pandas-profiling`\n",
    "        - 適合用在 numerical features 的分析\n",
    "    - qgrid\n",
    "        - https://www.evernote.com/l/AET7-dpk349LNJcQVCWP-rGWdnyGA6-mz2w\n",
    "    - tqdm\n",
    "        - https://www.evernote.com/l/AETKpFnXeB5B84M5PbPBwXR_dMDZ4vAu0Xw\n",
    "    - swifter\n",
    "    - Facets\n",
    "        - https://www.evernote.com/l/AETaGMqtguRAKbEF9z4hWtF9HazEVkWr70c\n",
    "    - cufflinks and plotly\n",
    "        - https://www.kdnuggets.com/2019/07/10-simple-hacks-speed-data-analysis-python.html\n",
    "- good reference\n",
    "    - youtube\n",
    "    - pocket 那篇 10 個\n",
    "    - safari\n",
    "    - dataquest cheat sheet\n",
    "        - https://storage.googleapis.com/molten/lava/2018/09/f0c721d9-pandas-cheat-sheet-dataquest.jpg\n",
    "    \n",
    "    "
   ]
  },
  {
   "cell_type": "code",
   "execution_count": null,
   "metadata": {},
   "outputs": [],
   "source": []
  },
  {
   "cell_type": "markdown",
   "metadata": {},
   "source": [
    "## 選擇子集"
   ]
  },
  {
   "cell_type": "code",
   "execution_count": null,
   "metadata": {},
   "outputs": [],
   "source": [
    "customers = customers[customers >= 35]\n",
    "products = products[products >= 20]\n",
    "\n",
    "reduced_df = df.merge(pd.DataFrame({'customer_id': customers.index})).merge(pd.DataFrame({'product_id': products.index}))"
   ]
  },
  {
   "cell_type": "markdown",
   "metadata": {},
   "source": [
    "## 看 columns 裡頭的值的分佈"
   ]
  },
  {
   "cell_type": "code",
   "execution_count": null,
   "metadata": {},
   "outputs": [],
   "source": [
    "customers = df['customer_id'].value_counts()\n",
    "products = df['product_id'].value_counts()\n",
    "\n",
    "quantiles = [0, 0.1, 0.25, 0.5, 0.75, 0.8, 0.85, 0.9, 0.95, 0.96, 0.97, 0.98, 0.99, 0.995, 0.999, 0.9999, 1]\n",
    "print('customers\\n', customers.quantile(quantiles))\n",
    "print('products\\n', products.quantile(quantiles))"
   ]
  },
  {
   "cell_type": "code",
   "execution_count": null,
   "metadata": {},
   "outputs": [],
   "source": []
  },
  {
   "cell_type": "code",
   "execution_count": null,
   "metadata": {},
   "outputs": [],
   "source": []
  }
 ],
 "metadata": {
  "kernelspec": {
   "display_name": "Python 3",
   "language": "python",
   "name": "python3"
  },
  "language_info": {
   "codemirror_mode": {
    "name": "ipython",
    "version": 3
   },
   "file_extension": ".py",
   "mimetype": "text/x-python",
   "name": "python",
   "nbconvert_exporter": "python",
   "pygments_lexer": "ipython3",
   "version": "3.7.2"
  }
 },
 "nbformat": 4,
 "nbformat_minor": 2
}
