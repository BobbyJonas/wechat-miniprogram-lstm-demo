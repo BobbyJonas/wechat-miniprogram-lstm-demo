{
 "cells": [
  {
   "cell_type": "markdown",
   "metadata": {},
   "source": [
    "- author: Lee Meng\n",
    "- date: 2019-05-06 09:00\n",
    "- title: 用 CartoonGAN 產生卡通風格圖\n",
    "- slug: generate-anime-using-cartoongan\n",
    "- tags: GAN, TensorFlow, TensorFlow.js\n",
    "- description: \n",
    "- summary: \n",
    "- image: finan-akbar-429027-unsplash-transformed.jpg\n",
    "- image_credit_url: https://unsplash.com/photos/hwLAI5lRhdM?utm_source=unsplash&utm_medium=referral&utm_content=creditCopyText\n",
    "- status: draft"
   ]
  },
  {
   "cell_type": "code",
   "execution_count": null,
   "metadata": {},
   "outputs": [],
   "source": [
    "#ignore\n",
    "下一個 markdown cell 引入 cartoogan 用的 css"
   ]
  },
  {
   "cell_type": "markdown",
   "metadata": {},
   "source": [
    "<link rel=\"stylesheet\" href=\"{static}tfjs-apps/cartoongan/cartoongan.css\" />"
   ]
  },
  {
   "cell_type": "code",
   "execution_count": null,
   "metadata": {},
   "outputs": [],
   "source": [
    "#ignore\n",
    "CartoonGAN css 引入結束"
   ]
  },
  {
   "cell_type": "markdown",
   "metadata": {},
   "source": [
    "!quote\n",
    "- 如果能讓 AI 幫我們將圖片自動加入卡通風格，該有多好？"
   ]
  },
  {
   "cell_type": "markdown",
   "metadata": {},
   "source": [
    "這篇文章展示了一個用 [TensorFlow.js](https://www.tensorflow.org/js) 實作的 [CartoonGAN](http://openaccess.thecvf.com/content_cvpr_2018/papers/Chen_CartoonGAN_Generative_Adversarial_CVPR_2018_paper.pdf)，讓你可以直接在瀏覽器裡頭產生卡通風格圖片。\n",
    "\n",
    "CartoonGAN 由[劉永進教授](http://cg.cs.tsinghua.edu.cn/people/~Yongjin/Yongjin.htm)等人於 2018 [CVPR](http://cvpr2019.thecvf.com/) 推出，是一個嘗試將真實世界圖片轉換成卡通的[對抗生成網路（GAN）](https://youtu.be/yFBFl1cLYx8?list=PLtBw6njQRU-rwp5__7C0oIVt26ZgjG9NI&t=1879)："
   ]
  },
  {
   "cell_type": "markdown",
   "metadata": {},
   "source": [
    "!mp4\n",
    "- images/cartoongan/cat_cover.mp4\n",
    "- images/cartoongan/cat_cover.jpg\n",
    "- 左上為原圖，其餘三圖則為使用 CartoonGAN 以不同風格對原圖轉換後的結果"
   ]
  },
  {
   "cell_type": "markdown",
   "metadata": {},
   "source": [
    "[論文](http://openaccess.thecvf.com/content_cvpr_2018/papers/Chen_CartoonGAN_Generative_Adversarial_CVPR_2018_paper.pdf)裡頭剛好展示了兩位我很喜愛的日本動畫作家：[新海誠](https://zh.wikipedia.org/wiki/%E6%96%B0%E6%B5%B7%E8%AA%A0)以及[宮崎駿](https://zh.wikipedia.org/zh-tw/%E5%AE%AB%E5%B4%8E%E9%AA%8F)的風格轉換結果，因此我決定寫個 [TensorFlow.js](https://www.tensorflow.org/js) 應用，讓更多人可以輕鬆地體驗有趣的 CartoonGAN。\n",
    "\n",
    "使用方法也很直覺，選擇風格並上傳照片，完成！"
   ]
  },
  {
   "cell_type": "markdown",
   "metadata": {},
   "source": [
    "!mp4\n",
    "- images/cartoongan/tfjs-demo.mp4"
   ]
  },
  {
   "cell_type": "markdown",
   "metadata": {},
   "source": [
    "## CartoonGAN Demo"
   ]
  },
  {
   "cell_type": "markdown",
   "metadata": {},
   "source": [
    "你可以現在就試試我以 TensorFlow.js 實作的 CartoonGAN。不過強烈建議：\n",
    "- 使用桌電 / 筆電等計算能力較強的機器\n",
    "- 在網速快的環境\n",
    "\n",
    "下測試以獲得最佳體驗。"
   ]
  },
  {
   "cell_type": "code",
   "execution_count": null,
   "metadata": {},
   "outputs": [],
   "source": [
    "#ignore\n",
    "cartoongan demo input / output 開始"
   ]
  },
  {
   "cell_type": "markdown",
   "metadata": {},
   "source": [
    "<div id=\"container\" class=\"row\">\n",
    "    <div class=\"column50\">\n",
    "        <div>\n",
    "            <img id=\"input\" class=\"cartoongan_image\" src=\"{static}tfjs-apps/cartoongan/cat.png\"/>\n",
    "        </div>\n",
    "    </div>\n",
    "    <div class=\"column50\">\n",
    "        <div>\n",
    "            <img id=\"pregenerated_output\" class=\"cartoongan_image\" src=\"{static}tfjs-apps/cartoongan/cat_shinkai.jpg\"/>\n",
    "            <canvas id=\"output\" style=\"display:none\"></canvas>\n",
    "        </div> \n",
    "        <div id=\"app-status\" style=\"display:none;padding:70px 0\"></div>\n",
    "    </div> \n",
    "</div>\n",
    "<div class=\"row\" style=\"margin-bottom:6rem;\">\n",
    "    <div class=\"column50\">\n",
    "        <label class=\"btn\" style=\"margin-top: 2rem;height: 3rem;line-height:2.8rem;color:white;padding: 0 1rem\">\n",
    "            Upload Image\n",
    "            <input type=\"file\" id=\"files\" name=\"files[]\" multiple=\"\" style=\"display:none\">\n",
    "        </label>\n",
    "    </div> \n",
    "    <div class=\"column50\">\n",
    "        <select id=\"styles\" name=\"styles\" style=\"margin: auto;display: block;margin-top: 0.8rem\">\n",
    "            <option value=\"shinkai\" selected=\"selected\"><b>新海誠</b>風格</option>\n",
    "            <option value=\"hayao\"><b>宮崎駿</b>風格</option>\n",
    "            <option value=\"hosoda\"><b>細田守</b>風格</option>\n",
    "            <option value=\"paprika\"><b>盜夢偵探</b>風格</option>\n",
    "        </select>\n",
    "    </div> \n",
    "</div>"
   ]
  },
  {
   "cell_type": "code",
   "execution_count": null,
   "metadata": {},
   "outputs": [],
   "source": [
    "#ignore\n",
    "cartoongan demo input / output 結束"
   ]
  },
  {
   "cell_type": "markdown",
   "metadata": {},
   "source": [
    "如果你的設備（如手機）在上傳圖片以後一直停在 `Loading Model`，下一節提供別的方法讓你轉換自己的圖片。"
   ]
  },
  {
   "cell_type": "markdown",
   "metadata": {},
   "source": [
    "## 使用 TensorFlow 2.0 來轉換圖片"
   ]
  },
  {
   "cell_type": "markdown",
   "metadata": {},
   "source": [
    "除了 TensorFlow.js 以外，我們也使用 [TensorFlow 2.0](https://www.tensorflow.org/alpha) 實作了 CartoonGAN。\n",
    "\n",
    "如果你想要轉換更大尺寸的圖片或是動圖，可以參考 [Github Repo：CartoonGan-tensorflow](https://github.com/mnicnc404/CartoonGan-tensorflow) 或是直接使用[這個 Colab 筆記本](https://colab.research.google.com/drive/1WIZBHix_cYIGsBKa4phIwCq5qXwO8fRX)來轉換圖片： "
   ]
  },
  {
   "cell_type": "markdown",
   "metadata": {},
   "source": [
    "!mp4\n",
    "- images/cartoongan/colab-demo.mp4\n",
    "- images/cartoongan/colab-demo.jpg\n",
    "- 使用我們預先為你準備的 Colab 筆記本可以讓你轉換任何圖片"
   ]
  },
  {
   "cell_type": "code",
   "execution_count": null,
   "metadata": {},
   "outputs": [],
   "source": []
  },
  {
   "cell_type": "code",
   "execution_count": null,
   "metadata": {},
   "outputs": [],
   "source": []
  },
  {
   "cell_type": "code",
   "execution_count": null,
   "metadata": {},
   "outputs": [],
   "source": []
  },
  {
   "cell_type": "code",
   "execution_count": null,
   "metadata": {},
   "outputs": [],
   "source": [
    "#ignore\n",
    "tfjs setup in next markdown cell"
   ]
  },
  {
   "cell_type": "markdown",
   "metadata": {},
   "source": [
    "<script src=\"{static}tfjs-apps/cartoongan/dist/tf.js\"></script>\n",
    "<script src=\"{static}tfjs-apps/cartoongan/cartoongan.js\"></script>"
   ]
  },
  {
   "cell_type": "code",
   "execution_count": null,
   "metadata": {},
   "outputs": [],
   "source": [
    "#ignore\n",
    "tfjs 引入完畢"
   ]
  }
 ],
 "metadata": {
  "kernelspec": {
   "display_name": "Python 3",
   "language": "python",
   "name": "python3"
  },
  "language_info": {
   "codemirror_mode": {
    "name": "ipython",
    "version": 3
   },
   "file_extension": ".py",
   "mimetype": "text/x-python",
   "name": "python",
   "nbconvert_exporter": "python",
   "pygments_lexer": "ipython3",
   "version": "3.7.0"
  }
 },
 "nbformat": 4,
 "nbformat_minor": 2
}
