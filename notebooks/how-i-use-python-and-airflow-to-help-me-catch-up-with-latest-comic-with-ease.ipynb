{
 "cells": [
  {
   "cell_type": "markdown",
   "metadata": {},
   "source": [
    "- author: Lee Meng\n",
    "- date: 2018-08-19 17:00\n",
    "- title: 如何用 Python 追漫畫連載 - Airflow 從零到專精之路\n",
    "- slug: how-i-use-python-and-airflow-to-help-me-catch-up-with-latest-comic-with-ease\n",
    "- tags: Python, Airflow, 資料工程, Selenium, Slack\n",
    "- description: Airflow 是一個以 Python 開發的工作流管理系統，也是資料工程不可或缺的利器之一。近年不管是資料科學家、資料工程師還是任何需要處理數據的軟體工程師，Airflow 都是他們用來建構 ETL 以及處理批量資料的首選之一。這篇文章希望以一個簡易的漫畫連載通知 App 作為引子，讓讀者直觀地了解 Airflow 背後的運作原理、建立資料工程的知識基礎，並在閱讀本文後發揮自己的創意，實際應用 Airflow 來解決並自動化自己及企業的數據問題。\n",
    "- summary: Airflow 是一個以 Python 開發的工作流管理系統，也是資料工程不可或缺的利器之一。近年不管是資料科學家、資料工程師還是任何需要處理數據的軟體工程師，Airflow 都是他們用來建構 ETL 以及處理批量資料的首選之一。這篇文章希望以一個簡易的漫畫連載通知 App 作為引子，讓讀者直觀地了解 Airflow 背後的運作原理、建立資料工程的知識基礎，並在閱讀本文後發揮自己的創意，實際應用 Airflow 來解決並自動化自己及企業的數據問題。\n",
    "- image: raj-eiamworakul-603747-unsplash.jpg\n",
    "- image_credit_url: https://unsplash.com/photos/o4c2zoVhjSw?utm_source=unsplash&utm_medium=referral&utm_content=creditCopyText\n",
    "- status: draft"
   ]
  },
  {
   "cell_type": "markdown",
   "metadata": {},
   "source": [
    "[Airflow](https://airflow.apache.org/) 是一個從 Airbnb 誕生並開源，以 [Python](https://www.python.org/) 寫成的[工作流程管理系統（Workflow Management System）](https://zh.wikipedia.org/wiki/%E5%B7%A5%E4%BD%9C%E6%B5%81%E7%AE%A1%E7%90%86%E7%B3%BB%E7%BB%9F)，也是[各大企業](https://github.com/apache/incubator-airflow#who-uses-airflow)的資料工程環節中不可或缺的利器之一。\n",
    "\n",
    "近年不管是資料科學家、資料工程師還是任何需要處理數據的軟體工程師，Airflow 都是他們用來建構可靠的 ETL 以及定期處理批量資料的首選之一。（事實上在 [SmartNews](https://www.smartnews.com/en/)，除了 DS/DE，會使用 Airflow 的軟體工程師也不在少數）\n",
    "\n",
    "<center>\n",
    "    <img src=\"{filename}images/journal/smartnews-dmp.png\" style=\"width:90%\"/>\n",
    "</center>\n",
    "<center>\n",
    "    我們在\n",
    "    <a href=\"https://leemengtaiwan.github.io/journey-of-data-scientist-L-part-1-two-must-ask-questions-when-on-board.html#%E5%84%80%E8%A1%A8%E6%9D%BF%E4%B8%8A%E7%9A%84-KPI-%E6%98%AF%E6%80%8E%E9%BA%BC%E7%94%A2%E7%94%9F%E7%9A%84%EF%BC%9F\" target=\"_blank\">「資料科學家 L 的奇幻旅程(1)：新人不得不問的 2 個問題</a>\n",
    "    」一文提到 SmartNews 如何利用 Airflow 建立資料管道並管理各種 ETL\n",
    "    <br>\n",
    "    <br>\n",
    "    <br>\n",
    "</center>\n",
    "\n",
    "\n",
    "儘管它的方便以及強大，在完全熟悉 Airflow 之前，因為有些專業術語以及資料工程概念的存在，不少初學者（包含當時的我）在剛開始的時候容易四處撞壁。另外如果一開始就以 ETL 當作 Airflow 的入門的話，未免難度過高且缺少共鳴。"
   ]
  },
  {
   "cell_type": "code",
   "execution_count": null,
   "metadata": {},
   "outputs": [],
   "source": [
    "#blockquote\n",
    "這是一篇當初我在入門資料工程以及 Airflow 時希望有人能寫好並告訴我的文章。"
   ]
  },
  {
   "cell_type": "markdown",
   "metadata": {},
   "source": [
    "## 追連載：一個 Airflow 的輕鬆使用案例\n",
    "\n",
    "這篇文章希望以一個簡易的漫畫連載通知 App 作為引子，讓讀者能夠在了解工作流程的概念以及 Airflow 的使用方式的同時不失趣味性。讀者也將學會如何建立一個能在 Airflow 上運行的工作流程。等掌握基礎以後，你將能輕鬆地用從本文學到的知識做更進階的應用。\n",
    "\n",
    "如果你對資料工程有興趣，不太熟悉 Airflow 但有基本的 Python 程式基礎的話（或是純粹對用 Python 寫一個漫畫連載通知 App 有興趣），我相信這篇文章應該會很適合你。"
   ]
  },
  {
   "cell_type": "markdown",
   "metadata": {},
   "source": [
    "<center>\n",
    "    <a href=\"https://airflow.apache.org/\" target=\"_blank\">\n",
    "        <img src=\"{filename}images/airflow/app.jpg\" style=\"width:90%\"/>\n",
    "    </a>\n",
    "    <p>Slack 截圖：追漫畫應該要是件輕鬆的事情。<br/>我們將利用 Airflow 及\n",
    "        <a href=\"http://selenium-python.readthedocs.io/\" target=\"_blank\">Selenium </a>來實作一個像這樣會每天從 <a href=\"https://slack.com/\" target=\"_blank\">Slack</a> 推送最新漫畫連載的 App\n",
    "    <br/>\n",
    "    <br/>\n",
    "</center>"
   ]
  },
  {
   "cell_type": "markdown",
   "metadata": {},
   "source": [
    "想重新複習 ETL 概念的讀者可以參考先前的文章：[資料科學家為何需要了解資料工程](https://leemengtaiwan.github.io/why-you-need-to-learn-data-engineering-as-a-data-scientist.html#%E8%B3%87%E6%96%99%E7%AE%A1%E9%81%93)。"
   ]
  },
  {
   "cell_type": "markdown",
   "metadata": {},
   "source": [
    "## 章節傳送門\n",
    "- [了解需求：所以為何要這 App ？](#所以為何要這-App-？)\n",
    "- [工作流概念 & Airflow](#工作流概念-&-Airflow)\n",
    "- [Python 實作 & Airflow 操作](#Python-&-Airflow-實作)\n",
    "    - [建置 Airflow 環境](#建置-Airflow-環境)\n",
    "    - [Airflow 基本概念](#Airflow-基本概念)\n",
    "    - [App 版本一：大鍋炒](#App-版本一：大鍋炒)\n",
    "        - [輕鬆排程](#輕鬆排程)\n",
    "        - [Operator 概念](#將實作邏輯跟-DAG-排程分離)\n",
    "        - [測試開發 Airflow 工作](#測試開發-Airflow-工作)\n",
    "    - [App 版本二：模組化](#App-版本二：模組化)\n",
    "    - [App 版本三：填填樂](#App-版本三：填填樂)\n",
    "- [結語](#結語)\n",
    "\n",
    "為讓讀者完整了解開發這個 App 的背景脈絡、此 App 的執行邏輯以及使用 Airflow 來定期執行 App 的原因，在我們實際開始寫 Python 之前有兩小節的解說。\n",
    "\n",
    "如果你已經有 Airflow 及工作流程的基礎知識，且迫不及待想看 Python 程式碼，可以直接跳到 [Python 實作 & Airflow 操作](#Python-&-Airflow-實作)章節之後再回來查看前面段落。（儘管我推薦按照順序閱讀）"
   ]
  },
  {
   "cell_type": "markdown",
   "metadata": {},
   "source": [
    "## 所以為何要這 App ？"
   ]
  },
  {
   "cell_type": "markdown",
   "metadata": {},
   "source": [
    "平常有在網路上追漫畫連載的讀者們應該都了解，市面上的漫畫網站通常都不是會員制的。更不用說「在新連載出的時候自動通知您！」這種推送功能（Push Notification）了。也因為這樣，導致我常常三不五時上去這些漫畫網站，看每個關注的漫畫到底出了最新一話了沒。可想而知，答案通常是否定的。（一週出一次每天檢查也沒用啊啊啊）\n",
    "\n",
    "如果你只看海賊王一個漫畫（索隆好帥！），這或許沒什麼負擔。但就像上面 Slack 截圖顯示的，我不只關注海賊王，還看很多其他漫畫。讓事情更糟的是，到最後你會發現：\n",
    "- 不記得自己到底在追哪些漫畫\n",
    "- 每一部漫畫最後到底是看到第幾話\n",
    "- 上一話是什麼時候出的\n",
    "- 有幾話是新出而你還沒看的 \n",
    "\n",
    "<center>\n",
    "    <a href=\"https://airflow.apache.org/\" target=\"_blank\">\n",
    "        <img src=\"{filename}images/airflow/tim-gouw-68319-unsplash.jpg\" style=\"width:90%\"/>\n",
    "    </a>\n",
    "    <p>手動追最新連載經常讓我追到懷疑人生</p>\n",
    "    <br/>\n",
    "</center>\n",
    "\n",
    "追漫畫連載應該要是個輕鬆且享受的事情。在一個人人會寫 code 的時代，何不自己做個 App 幫我們自動「檢查新連載」這件事情呢？"
   ]
  },
  {
   "cell_type": "markdown",
   "metadata": {},
   "source": [
    "## 工作流概念 & Airflow"
   ]
  },
  {
   "cell_type": "markdown",
   "metadata": {},
   "source": [
    "概念上我們可以把此 App 需要做的工作按照「先後順序」由上往下列出來：\n",
    "- 取得使用者的閱讀紀錄\n",
    "- 去漫畫網站看有沒有新的章節\n",
    "- 跟紀錄比較，有沒有新連載？\n",
    "    - 沒有：\n",
    "        - 什麼都不幹，結束\n",
    "    - 有：\n",
    "        - 寄 Slack 通知\n",
    "        - 更新閱讀紀錄\n",
    "\n",
    "想像上述的工作清單由上往下流動，就形成了一個工作流程（Workflow）：前一個工作如寄 Slack 通知就是下一個工作：更新閱讀紀錄的上游工作（Upstream Task）。\n",
    "\n",
    "反過來說，更新閱讀紀錄則是寄 Slack 通知的下游工作（Downstream Task）。\n",
    "\n",
    "定義出工作之間的上下游關係的好處是什麼？\n",
    "\n",
    "可以讓我們確保工作之間的相依性（Dependencies）並讓如 Airflow 這種工作流程管理系統幫我們管理。一般而言，下游工作只能在上游「成功」完成之後被執行；如果上游工作失敗的話，下游工作應該被終止，通常也沒有繼續執行的意義（例：如果 App 在執行上游工作「使用者閱讀紀錄」時就失敗的話，不需要也不應該執行下游的「更新閱讀紀錄」工作）。"
   ]
  },
  {
   "cell_type": "markdown",
   "metadata": {},
   "source": [
    "<center>\n",
    "    <a href=\"https://airflow.apache.org/\" target=\"_blank\">\n",
    "        <img src=\"{filename}images/airflow/www-headsmartmedia-com-179929-unsplash.jpg\" style=\"width:90%\"/>\n",
    "    </a>\n",
    "    <p>我們的 App 實際上就是一個完整的工作流程。<br/>\n",
    "       App 從工作 A 執行到工作 B 就像是水從上游 A 流動到下游 B 一樣。</p>\n",
    "    <br/>\n",
    "</center>"
   ]
  },
  {
   "cell_type": "markdown",
   "metadata": {},
   "source": [
    "我知道你在想什麼。\n",
    "\n",
    "屏除剛剛介紹的工作流程概念，要實作這 App 的邏輯一點都不難。事實上我們只需要寫個 Python script，把每個工作各別用一個函式（Function）實作後再按照順序呼叫它們就好，為何需要 Airflow？\n",
    "\n",
    "在你往下滑前給個提示：這個 App 不是 real-time 執行，而是一個批次工作（Batch Job ）。"
   ]
  },
  {
   "cell_type": "markdown",
   "metadata": {},
   "source": [
    "<center>\n",
    "    <img src=\"{filename}images/airflow/thought-2123970_1280.jpg\" style=\"width:90%\"/>\n",
    "    <br/>\n",
    "    <br/>\n",
    "</center>"
   ]
  },
  {
   "cell_type": "markdown",
   "metadata": {},
   "source": [
    "對！顯而易見的，因為這個 App / 工作流程設計的方式不是即時工作（Realtime Job），而是批次工作，執行一次以後就結束它的生命了。\n",
    "\n",
    "我們可不希望它只在明天早上（比方說早上 9 點）去檢查新連載。我們希望它明天、下個月或是明年的今天早上都在運作。這也是為何我們需要一個像是 Airflow 的工作流程管理系統：\n",
    "1. 定期執行工作流程\n",
    "2. 維護相依性，確保工作流程從上游到下游執行，不會在上游沒完成前執行到下游\n",
    "3. 各個工作失敗時自動重試（[墨菲定律](https://zh.wikipedia.org/wiki/%E6%91%A9%E8%8F%B2%E5%AE%9A%E7%90%86)，所有你認為邏輯上萬無一失的工作都會因為各種無法預期的情況給你失敗的驚喜）\n",
    "4. 簡單易懂的 [Web UI](https://airflow.apache.org/) 方便管理工作流程"
   ]
  },
  {
   "cell_type": "code",
   "execution_count": null,
   "metadata": {},
   "outputs": [],
   "source": [
    "#blockquote\n",
    "Airflow 非常適合用來管理相依性複雜，且具批次處理性質的工作流程。"
   ]
  },
  {
   "cell_type": "markdown",
   "metadata": {},
   "source": [
    "<center>\n",
    "    <a href=\"https://airflow.apache.org/\" target=\"_blank\">\n",
    "        <img src=\"{filename}images/airflow/airflow.gif\" style=\"width:90%\"/>\n",
    "    </a>\n",
    "    <p>Airflow 的 <a href=\"https://airflow.apache.org/\" target=\"_blank\">Web UI</a> 讓我們能更輕鬆地管理及排程工作流程（後面我們會實際利用此 UI 管理並開發 App）</p> \n",
    "    <br/>\n",
    "</center>"
   ]
  },
  {
   "cell_type": "markdown",
   "metadata": {},
   "source": [
    "事實上我們也可以透過 Linux 排程工具 [Cron](https://zh.wikipedia.org/wiki/Cron) 來定期執行我們的 App。但 Cron 本身沒有工作流程的概念，沒辦法管理上下游工作的相依性、失敗時無法自動重跑、當然也沒有易懂的 Web UI。因此以 2, 3, 4 項的角度來看，Airflow 是一個比較好的選擇。"
   ]
  },
  {
   "cell_type": "markdown",
   "metadata": {},
   "source": [
    "到此為止，我們已經了解\n",
    "- 做這個 App 的需求\n",
    "- 工作流程（Workflow）的基本概念以及此 App 的工作流程\n",
    "- 為何要使用 Airflow 來幫我們管理 App 的工作流程\n",
    "\n",
    "接著只差用 Python 將 App 的邏輯以 Airflow 工作流程的方式實現了，讓我們開始實作吧！"
   ]
  },
  {
   "cell_type": "markdown",
   "metadata": {},
   "source": [
    "<center>\n",
    "    <img src=\"{filename}images/airflow/show-me-the-code.jpg\" style=\"width:90%\"/>\n",
    "    <p>接下來都是 Python，保證沒有更多 blabla</p>\n",
    "</center>"
   ]
  },
  {
   "cell_type": "markdown",
   "metadata": {},
   "source": [
    "## Python & Airflow 實作\n",
    "程式碼都會放在這個 [Github Repo](https://github.com/leemengtaiwan/airflow-tutorials) 裡頭供你在閱讀完文章後參考。但如果你正在用電腦瀏覽的話且想趕快熟悉 Airflow 開發的話，可以 `git clone` 下來以後跟著文章走。\n",
    "\n",
    "開啟一個新的 terminal，移動到你平常放新專案的資料夾，然後輸入：\n",
    "\n",
    "```bash\n",
    "git clone https://github.com/leemengtaiwan/airflow-tutorials.git\n",
    "cd airflow-tutorials\n",
    "```\n",
    "\n",
    "之後沒特別明說的話，指令都會是在 `airflow-tutorials` 資料夾底下執行。"
   ]
  },
  {
   "cell_type": "markdown",
   "metadata": {},
   "source": [
    "### 建置 Airflow 環境\n",
    "雖然 production 環境需要很多調整，以建構測試環境來說，基本上參考官方的 [Quick Start](https://airflow.apache.org/start.html#quick-start) 就可以很輕鬆地完成。因為 Airflow 是以 Python 實作的，我們可以很輕易地用 `pip install` 來安裝所有需要的東西。用 [Anaconda](https://anaconda.org/) 則是能讓你事後管理不同專案的環境時輕鬆不少："
   ]
  },
  {
   "cell_type": "markdown",
   "metadata": {},
   "source": [
    "```bash\n",
    "conda create -n airflow-tutorials python=3.6 -y\n",
    "source activate airflow-tutorials\n",
    "pip install \"apache-airflow[crypto, slack]\"\n",
    "export AIRFLOW_HOME=\"$(pwd)\"\n",
    "airflow initdb\n",
    "```"
   ]
  },
  {
   "cell_type": "markdown",
   "metadata": {},
   "source": [
    "以上的指令幫我們：\n",
    "- 建立並啟動一個新的 Anaconda 環境\n",
    "- 在此環境下安裝 Airflow 以及[支援 Slack 功能的額外函式庫](https://airflow.apache.org/installation.html#extra-packages)\n",
    "- 設定專用路徑以讓 Airflow 之後知道要在哪找檔案、存 log\n",
    "- 初始化 Airflow Metadata DB。此 DB 被用來記錄所有工作流程的執行狀況"
   ]
  },
  {
   "cell_type": "markdown",
   "metadata": {},
   "source": [
    "理想上把 `AIRFLOW_HOME` 加入到 `~/.bash_profile` 裡頭之後會比較輕鬆，不過現在不做也沒關係。\n",
    "\n",
    "在環境都搞定之後，我們可以啟動 Airflow 的網頁伺服器："
   ]
  },
  {
   "cell_type": "markdown",
   "metadata": {},
   "source": [
    "```bash\n",
    "airflow webserver -p 8080\n",
    "```"
   ]
  },
  {
   "cell_type": "markdown",
   "metadata": {},
   "source": [
    "接著在瀏覽器輸入 `localhost:8080` 就能看到 Airflow 簡潔的 Web UI 了："
   ]
  },
  {
   "cell_type": "markdown",
   "metadata": {},
   "source": [
    "<center>\n",
    "    <img src=\"{filename}images/airflow/first-impression-of-airflow-web-ui.jpg\" style=\"width:90%\"/>\n",
    "    <p>Airflow Web UI 首頁：顯示所有已定義的工作流程（DAG）。<br/>\n",
    "        圖中的 3 個 DAG 就對應到我們接下來逐漸改善 App 時產生的三個 App 版本</p> \n",
    "</center>"
   ]
  },
  {
   "cell_type": "markdown",
   "metadata": {},
   "source": [
    "### Airflow 基本概念\n",
    "\n",
    "這邊值得注意的是 Airflow 利用 [DAG](https://airflow.apache.org/concepts.html#dags) 一詞來代表一種特殊的工作流程（Workflow）。如工作流程一樣，DAG 定義了我們有什麼工作、工作之間的執行順序以及依賴關係。DAG 的最終目標是將所有工作依照上下游關係全部執行，而不是關注個別的工作實際上是怎麼被實作的（這點在後面的 [Operator](#Operator：將實作邏輯跟-DAG-排程分離) 章節會有詳細解釋）。\n",
    "\n",
    "另外從它的全名[有向無環圖（**D**irected **A**cyclic **G**raph）](http://www.csie.ntnu.edu.tw/~u91029/DirectedAcyclicGraph.html)你可以看出它具備兩個特色：「有向」及「無環」。事實上我們的 App 邏輯就是一個理想的 DAG。首先，裡頭包含多個邏輯上的工作：\n",
    "- 取得使用者的閱讀紀錄\n",
    "- 去漫畫網站看有沒有新的章節\n",
    "- 跟紀錄比較，有沒有新連載？\n",
    "    - 沒有：\n",
    "        - 什麼都不幹，結束\n",
    "    - 有：\n",
    "        - 寄 Slack 通知\n",
    "        - 更新閱讀紀錄\n",
    "\n",
    "很明顯地， App 是從上而下地執行每個工作，即為「有向」；同時 App 不會在更新閱讀紀錄以後（下游工作），還跑回去漫畫網站看有沒有新的章節（上游工作）：上游會指向下游，但下游不會指回上游，此即「無環」。 \n",
    "\n",
    "有了這個理解以後，我們的目標就很明顯了：將 App 的工作流程轉換成一個能在 Airflow 上執行的 DAG，然後排程它，就能讓它每天去找新連載！"
   ]
  },
  {
   "cell_type": "markdown",
   "metadata": {},
   "source": [
    "### App 版本一：大鍋炒"
   ]
  },
  {
   "cell_type": "markdown",
   "metadata": {},
   "source": [
    "在 Airflow 世界裡，一個 DAG 是由一個 Python script 所定義的。\n",
    "\n",
    "以下是我們 App 的第一個版本，也是最簡單的 DAG `comic_app_v1` 的程式碼（`airflow-tutorials/dags` 資料夾底下的 `comic_app_v1.py`）：\n",
    "\n",
    "```python\n",
    "import time\n",
    "from datetime import datetime, timedelta\n",
    "from airflow import DAG\n",
    "from airflow.operators.python_operator import PythonOperator\n",
    "\n",
    "default_args = {\n",
    "    'owner': 'Meng Lee',\n",
    "    'start_date': datetime(2100, 1, 1, 0, 0),\n",
    "    'schedule_interval': '@daily',\n",
    "    'retries': 2,\n",
    "    'retry_delay': timedelta(minutes=1)\n",
    "}\n",
    "\n",
    "\n",
    "def fn_superman():\n",
    "    print(\"取得使用者的閱讀紀錄\")\n",
    "    print(\"去漫畫網站看有沒有新的章節\")\n",
    "    print(\"跟紀錄比較，有沒有新連載？\")\n",
    "\n",
    "    # Murphy's Law\n",
    "    accident_occur = time.time() % 2 > 1\n",
    "    if accident_occur:\n",
    "        print(\"\\n天有不測風雲,人有旦夕禍福\")\n",
    "        print(\"工作遇到預期外狀況被中斷\\n\")\n",
    "        return\n",
    "\n",
    "    new_comic_available = time.time() % 2 > 1\n",
    "    if new_comic_available:\n",
    "        print(\"寄 Slack 通知\")\n",
    "        print(\"更新閱讀紀錄\")\n",
    "    else:\n",
    "        print(\"什麼都不幹，工作順利結束\")\n",
    "\n",
    "\n",
    "with DAG('comic_app_v1', default_args=default_args) as dag:\n",
    "    superman_task = PythonOperator(\n",
    "        task_id='superman_task',\n",
    "        python_callable=fn_superman\n",
    "    )\n",
    "```"
   ]
  },
  {
   "cell_type": "markdown",
   "metadata": {},
   "source": [
    "為了讓你能專注在 Airflow 及 DAG 最核心的概念，讓我先用 `print()` 假裝我們已經在一個函式 `fn_superman` 裡頭實作所有工作的邏輯了。在修改完代表一個 DAG 的 Python script 後，要確保 Airflow 能正確地將其視為一個 DAG，最基本的檢查就是用 Python 直接執行該 script。\n",
    "\n",
    "你目前的 terminal 應該正被 Airflow 的網頁伺服器所使用。如果你還沒有把 `AIRFLOW_HOME` 加到 `~/.bash_profile` 裡頭的話，開啟一個新的 terminal，重新進入 `airflow-tutorials` 資料夾以後執行：\n",
    "\n",
    "```bash\n",
    "source activate airflow-tutorials\n",
    "export AIRFLOW_HOME=\"$(pwd)\"\n",
    "```\n",
    "\n",
    "這邊我們為新的 terminal 啟動 Anaconda 環境並設定跟先前的 Airflow 網頁伺服器相同的路徑。（之後要打開新的 terminal 也要做一樣的事情）\n",
    "\n",
    "接著我們就可以用 Python 測試 script 的正確性：\n",
    "\n",
    "```bash\n",
    "python dags/comic_app_v1.py\n",
    "```\n",
    "\n",
    "如果沒有任何錯誤跑出來，恭喜！Airflow 能將其視為一個正常的 DAG 並顯示在 Web UI 上。之後只要你有修改 DAG 裡頭的程式碼，都應該做這個檢查。\n",
    "\n",
    "這個 DAG 的程式碼雖不長，卻隱含了一些非常重要的概念。"
   ]
  },
  {
   "cell_type": "markdown",
   "metadata": {},
   "source": [
    "#### 輕鬆排程\n",
    "\n",
    "```python\n",
    "with DAG('comic_app_v1', default_args=default_args) as dag:\n",
    "    ...\n",
    "```\n",
    "\n",
    "這行實際上就定義了我們的 DAG 並將它命名為 `comic_app_v1`。而此 DAG 的排程（Scheduling）設定如\n",
    "- `'start_date': datetime(2100, 1, 1, 0, 0)` 代表從西元 2100 年開始第一次執行此 DAG \n",
    "- 每次執行之間間隔多久。`'schedule_interval': '@daily'` 代表每天執行一次\n",
    "- `'retries': 2` 則允許 Airflow 在 DAG 失敗時重試 2 次 \n",
    "-  DAG 失敗後等多久後開始重試（`'retry_delay': timedelta(minutes=1)`　代表等一分鐘）\n",
    "- 更多更多 ...\n",
    "\n",
    "乍看之下沒什麼了不起的，就是些設定。\n",
    "\n",
    "但如果你有自己從頭實作過資料管道的經驗或者使用過 [Cron](https://zh.wikipedia.org/wiki/Cron) 排程 ETL，就能體會 Airflow 這樣的「Configuration as Code」有多麽的強大：你只做一些設定（Config），Airflow 就幫你自動建立可靠、穩定的工作流程。\n",
    "\n",
    "<center>\n",
    "    <img src=\"{filename}images/airflow/utah-mechanical-contractors-1103725_1280.jpg\" style=\"width:90%\"/>\n",
    "    <p>按幾個按鈕就能做出可靠的工作流程，將自動化、失敗重試、相依性管理全部交給 Airflow</p>\n",
    "</center>\n",
    "\n",
    "\n",
    "這些排程設定為了方便管理，一般都另外定義在 `default_args` 變數並放在 script 的最上面。"
   ]
  },
  {
   "cell_type": "markdown",
   "metadata": {},
   "source": [
    "#### Operator：將實作邏輯跟 DAG 排程分離\n",
    "最有趣的是我們使用 `with` 關鍵字來定義一個只屬於 `comic_app_v1` DAG 的領域。在這裡頭我們則定義了唯一一個工作 `superman_task` 處理所有事情（你應該能猜到為何它被這樣命名）：\n",
    "\n",
    "```python\n",
    "with DAG('comic_app_v1', ...\n",
    "    superman_task = PythonOperator(\n",
    "        task_id='superman_task',\n",
    "        python_callable=fn_superman\n",
    "    )\n",
    "```\n",
    "\n",
    "這段程式碼用白話翻譯的話，就是說：\n",
    "- 在 DAG `comic_app_v1` 裡頭，利用 `PythonOperator` 建立一個名為 `superman_task` 的工作，而實際執行這個工作的時候，呼叫 `fn_superman` 函式。\n",
    "\n",
    "一個非常重要且需要你搞懂的概念是，現在說的工作（Task），是指那些實際透過程式碼宣告，在 DAG 裡頭被定義出來的工作，如 `superman_task`。\n",
    "\n",
    "前面我們提到，App 概念上本身就包含了多個工作（步驟）：\n",
    "- 取得使用者的閱讀紀錄\n",
    "- 去漫畫網站看有沒有新的章節\n",
    "- 跟紀錄比較，有沒有新連載？\n",
    "    - 沒有：\n",
    "        - 什麼都不幹，結束\n",
    "    - 有：\n",
    "        - 寄 Slack 通知\n",
    "        - 更新閱讀紀錄\n",
    "\n",
    "這些是「邏輯上」的工作，而在 `comic_app_v1` DAG 裡頭，為了方便說明，我們將它們全部包起來，定義成一個 Airflow 理解的工作如 `superman_task`。（在 [App 版本二：模組化](#App-版本二：模組化)章節裡，我們則會分別為這些「邏輯工作」建立他們自己的 Airflow 工作）。\n",
    "\n",
    "回到 Opeartor 的話題。在 Airflow 裡頭，DAG 只知道有哪些工作以及這些工作之間的執行順序。而實際上這些工作要怎麼被完成，其實作邏輯則是由各種 [Operator](https://airflow.apache.org/code.html#operators) 負責。\n",
    "\n",
    "你可以想像 [Opeartors](https://airflow.apache.org/code.html#airflow.operators) 就是幫我們完成特定種類工作的小幫手，像是一些常見的例子：\n",
    "- [PythonOperator](https://airflow.apache.org/code.html#airflow.operators.PythonOperator) 執行一個 Python 函式\n",
    "- [BashOperator](https://airflow.apache.org/code.html#airflow.operators.BashOperator) 執行 Bash 指令\n",
    "- [S3KeySensor](https://airflow.apache.org/code.html#airflow.operators.S3KeySensor) 監測 S3 上的檔案存不存在\n",
    "- [SlackAPIPostOperator](https://airflow.apache.org/code.html#airflow.operators.SlackAPIPostOperator) 送訊息給 Slack\n",
    "- ...\n",
    "\n",
    "要建立一個 DAG 裡的工作（Task）就是依照你想要它完成的特定目標，來選擇合適的 Operator。比方說上面的 `superman_task` 就是透過 `PythonOperator` 來執行特定的 Python 函式 `fn_superman`，而該函式則把整個 App 裡頭所有的「邏輯工作」實作了。"
   ]
  },
  {
   "cell_type": "markdown",
   "metadata": {},
   "source": [
    "#### 測試開發 Airflow 工作"
   ]
  },
  {
   "cell_type": "markdown",
   "metadata": {},
   "source": [
    "你現在應該已經可以了解 DAG 負責的是排程，而不是各個工作的實作邏輯。因此在我們用 `python dags/comic_app_v1.py` 確保 DAG 本身定義沒有問題以後，接著就是要確保裡頭每個工作（Task）的執行結果如我們預期。\n",
    "\n",
    "在 `comic_app_v1` DAG 裡頭，我們只有一個工作 `superman_task` （其透過一個函式 `fn_superman` 幫我們做所有邏輯上的工作）：\n",
    "```python \n",
    "def fn_superman():\n",
    "    print(\"取得使用者的閱讀紀錄\")\n",
    "    print(\"去漫畫網站看有沒有新的章節\")\n",
    "    print(\"跟紀錄比較，有沒有新連載？\")\n",
    "\n",
    "    # Murphy's Law\n",
    "    accident_occur = time.time() % 2 > 1\n",
    "    if accident_occur:\n",
    "        print(\"\\n天有不測風雲,人有旦夕禍福\")\n",
    "        print(\"工作遇到預期外狀況被中斷\\n\")\n",
    "        return\n",
    "\n",
    "    new_comic_available = time.time() % 2 > 1\n",
    "    if new_comic_available:\n",
    "        print(\"寄 Slack 通知\")\n",
    "        print(\"更新閱讀紀錄\")\n",
    "    else:\n",
    "        print(\"什麼都不幹，工作順利結束\")\n",
    "        \n",
    "        \n",
    "with DAG('comic_app_v1', default_args=default_args) as dag:\n",
    "    superman_task = PythonOperator(\n",
    "        task_id='superman_task',\n",
    "        python_callable=fn_superman\n",
    "    )\n",
    "```\n",
    "    \n",
    "這樣的設計有什麼優點？\n",
    "\n",
    "很明顯的，因為整個 DAG 裡頭只有一個工作，一人吃全家飽。只要測試且確保 `superman_task` 工作的執行結果如我們預期，就代表 DAG `comic_app_v1` 能順利完成，簡單易懂！\n",
    "\n",
    "我們可以使用 Airflow 的 `test` 指令來幫我們測試這個工作：\n",
    "\n",
    "```bash\n",
    "airflow test comic_app_v1 superman_task 2018-08-18\n",
    "```\n",
    "\n",
    "這行指令是讓 Airflow 幫我們測試 `comic_app_v1` DAG 裡頭的 `superman_task` 工作，並假設這個 DAG 是在 `2018-08-18` 這個日期被執行。"
   ]
  },
  {
   "cell_type": "markdown",
   "metadata": {},
   "source": [
    "從上面的程式碼你可能已經注意到，我埋了個小彩蛋，每次執行都會有不同的執行結果。\n",
    "\n",
    "幸運的話你會得到下面這種：\n",
    "\n",
    "```bash\n",
    "airflow test comic_app_v1 superman_task 2018-08-01\n",
    "取得使用者的閱讀紀錄\n",
    "去漫畫網站看有沒有新的章節\n",
    "跟紀錄比較，有沒有新連載？\n",
    "什麼都不幹，工作順利結束\n",
    "```\n",
    "\n",
    "喔耶！這執行結果如我們預期，可以讓 DAG 上線定期執行了！"
   ]
  },
  {
   "cell_type": "markdown",
   "metadata": {},
   "source": [
    "不過別高興得太早。多執行幾次看看。如果墨菲定律發生，你會得到失敗的結果："
   ]
  },
  {
   "cell_type": "markdown",
   "metadata": {},
   "source": [
    "```bash\n",
    "airflow test comic_app_v1 superman_task 2018-08-01\n",
    "取得使用者的閱讀紀錄\n",
    "去漫畫網站看有沒有新的章節\n",
    "跟紀錄比較，有沒有新連載？\n",
    "\n",
    "天有不測風雲,人有旦夕禍福\n",
    "工作遇到預期外狀況被中斷\n",
    "\n",
    "```"
   ]
  },
  {
   "cell_type": "markdown",
   "metadata": {},
   "source": [
    "假設此執行結果不是我們預期的結果，該怎麼辦？\n",
    "\n",
    "如果你反應夠快，會說：\n",
    "\n",
    "「那又怎麼樣？墨菲定律不會每次發生，而且就算遇到而導致工作失敗的話， Airflow 不是會自己幫我們重試嗎？」\n",
    "\n",
    "的確，這是我們在前面[輕鬆排程](#輕鬆排程)章節提到 Airflow 的強處。畢竟我們這 App 只是在檢查最新連載，不是做什麼很複雜的運算。基本上就算 DAG 裡頭這唯一一個工作 `superman_task` 失敗了導致整個 DAG 要重跑，Airflow 也可以應付得來。\n",
    "\n",
    "但問題在於企業在運行資料管道的時候，常常需要分成很多步驟，某些步驟可能需要龐大的計算資源跟時間，有些則很輕量。\n",
    "\n",
    "現在假設你無視這些不同步驟的性質差異，將它們全部放在一個 `fn_superman` 函式裡頭並只建立一個 Airflow 工作，當該 Airflow 工作裡頭任何一個輕量的步驟失敗，Airflow 得重跑整個工作，導致所有龐大計算的步驟也得跟著重新執行，重試的時間/計算成本會大到你哭出來。"
   ]
  },
  {
   "cell_type": "code",
   "execution_count": null,
   "metadata": {},
   "outputs": [],
   "source": [
    "#blockquote\n",
    "雞蛋不要放在同個籃子裡。為邏輯上獨立的工作/步驟分別建立 Airflow 工作，可以讓 Airflow 只從失敗的工作開始重新做起。"
   ]
  },
  {
   "cell_type": "markdown",
   "metadata": {},
   "source": [
    "因此一個比較好的 Airflow DAG 設計模式是為我們 App 裡頭每個邏輯上獨立的工作：\n",
    "- 取得使用者的閱讀紀錄\n",
    "- 去漫畫網站看有沒有新的章節\n",
    "- 跟紀錄比較，有沒有新連載？\n",
    "    - 沒有：\n",
    "        - 什麼都不幹，結束\n",
    "    - 有：\n",
    "        - 寄 Slack 通知\n",
    "        - 更新閱讀紀錄\n",
    "\n",
    "都分別建立如同 `superman_task` 的 Airflow 工作，並定義好它們之間的相依性（Dependencies）。而這將是我們下一節的重點。\n"
   ]
  },
  {
   "cell_type": "markdown",
   "metadata": {},
   "source": [
    "### App 版本二：模組化"
   ]
  },
  {
   "cell_type": "markdown",
   "metadata": {},
   "source": [
    "所以現在我們要做的改善（Refactoring）很簡單，將 App 邏輯從 `comic_app_v1` DAG 中的函式 `fn_superman` 中拿出來，為 App 的每個步驟分別定義一個 Python 函式，接著在 `comic_app_v2` DAG 裡頭利用 `PythonOperator` 建立多個 Airflow 工作，分別呼叫這些函式。\n",
    "\n",
    "版本二的 App 如下："
   ]
  },
  {
   "cell_type": "markdown",
   "metadata": {},
   "source": [
    "```python\n",
    "import time\n",
    "from datetime import datetime, timedelta\n",
    "from airflow import DAG\n",
    "from airflow.operators.python_operator import PythonOperator, BranchPythonOperator\n",
    "from airflow.operators.dummy_operator import DummyOperator\n",
    "from airflow.operators.slack_operator import SlackAPIPostOperator\n",
    "\n",
    "default_args = {\n",
    "    'owner': 'Meng Lee',\n",
    "    'start_date': datetime(2100, 1, 1, 0, 0),\n",
    "    'schedule_interval': '@daily',\n",
    "    'retries': 2,\n",
    "    'retry_delay': timedelta(minutes=1)\n",
    "}\n",
    "\n",
    "\n",
    "def process_metadata(mode, **context):\n",
    "    if mode == 'read':\n",
    "        print(\"取得使用者的閱讀紀錄\")\n",
    "    elif mode == 'write':\n",
    "        print(\"更新閱讀紀錄\")\n",
    "\n",
    "\n",
    "def check_comic_info(**context):\n",
    "    all_comic_info = context['task_instance'].xcom_pull(task_ids='get_read_history')\n",
    "    print(\"去漫畫網站看有沒有新的章節\")\n",
    "\n",
    "    anything_new = time.time() % 2 > 1\n",
    "    return anything_new, all_comic_info\n",
    "\n",
    "\n",
    "def decide_what_to_do(**context):\n",
    "    anything_new, all_comic_info = context['task_instance'].xcom_pull(task_ids='check_comic_info')\n",
    "\n",
    "    print(\"跟紀錄比較，有沒有新連載？\")\n",
    "    if anything_new:\n",
    "        return 'yes_generate_notification'\n",
    "    else:\n",
    "        return 'no_do_nothing'\n",
    "\n",
    "\n",
    "def generate_message(**context):\n",
    "    _, all_comic_info = context['task_instance'].xcom_pull(task_ids='check_comic_info')\n",
    "    print(\"產生要寄給 Slack 的訊息內容並存成檔案\")\n",
    "\n",
    "\n",
    "with DAG('comic_app_v2', default_args=default_args) as dag:\n",
    "\n",
    "    get_read_history = PythonOperator(\n",
    "        task_id='get_read_history',\n",
    "        python_callable=process_metadata,\n",
    "        op_args=['read']\n",
    "    )\n",
    "\n",
    "    check_comic_info = PythonOperator(\n",
    "        task_id='check_comic_info',\n",
    "        python_callable=check_comic_info,\n",
    "        provide_context=True\n",
    "    )\n",
    "\n",
    "    decide_what_to_do = BranchPythonOperator(\n",
    "        task_id='new_comic_available',\n",
    "        python_callable=decide_what_to_do,\n",
    "        provide_context=True\n",
    "    )\n",
    "\n",
    "    update_read_history = PythonOperator(\n",
    "        task_id='update_read_history',\n",
    "        python_callable=process_metadata,\n",
    "        op_args=['write'],\n",
    "        provide_context=True\n",
    "    )\n",
    "\n",
    "    generate_notification = PythonOperator(\n",
    "        task_id='yes_generate_notification',\n",
    "        python_callable=generate_message,\n",
    "        provide_context=True\n",
    "    )\n",
    "\n",
    "    send_notification = SlackAPIPostOperator(\n",
    "        task_id='send_notification',\n",
    "        token=\"YOUR_SLACK_TOKEN\",\n",
    "        channel='#comic-notification',\n",
    "        text=\"[Slack Message] 海賊王有新番了!\",\n",
    "        icon_url='http://airbnb.io/img/projects/airflow3.png'\n",
    "    )\n",
    "\n",
    "    do_nothing = DummyOperator(task_id='no_do_nothing')\n",
    "\n",
    "    # define workflow\n",
    "    get_read_history >> check_comic_info >> decide_what_to_do\n",
    "    \n",
    "    decide_what_to_do >> generate_notification\n",
    "    decide_what_to_do >> do_nothing\n",
    "    \n",
    "    generate_notification >> send_notification >> update_read_history\n",
    "```"
   ]
  },
  {
   "cell_type": "markdown",
   "metadata": {},
   "source": [
    "天啊這可比 `comic_app_v1` DAG 的程式碼長了不少！\n",
    "\n",
    "但實際上從上到下，這個 `comic_app_v2` DAG 的架構也就分三個區塊：\n",
    "1. 用 `def` 定義負責實作的 Python 函式（們）\n",
    "2. 在 DAG 利用各種 `Operator` 定義 DAG 工作（大部分是 `PythonOperator`，並使用 `python_callable` 指定執行步驟 1 定義的函式）\n",
    "3. 定義這些 DAG 工作的的執行順序（Workflow）\n",
    "\n",
    "回頭再看一遍，有沒有清楚一點了？\n",
    "\n",
    "在講解 `comic_app_v2` 的程式碼前，先讓我們用 Airflow Web UI 研究一下這個 DAG 在做什麼："
   ]
  },
  {
   "cell_type": "markdown",
   "metadata": {},
   "source": [
    "<center>\n",
    "    <a href=\"{filename}images/airflow/comic_app_v2_graph_view.gif\", target=\"_blank\">\n",
    "        <img src=\"{filename}images/airflow/comic_app_v2_graph_view.png\" style=\"width:90%\"/> \n",
    "    </a>\n",
    "    <p>Airflow Web UI 裡頭的 Graph View 幫我們視覺化 DAG 的工作流程<br/>\n",
    "        （<a href=\"{filename}images/airflow/comic_app_v2_graph_view.gif\", target=\"_blank\">這個 GIF 展示如何從 Airflow 開啟此畫面</a>）\n",
    "</center>"
   ]
  },
  {
   "cell_type": "markdown",
   "metadata": {},
   "source": [
    "Airflow 工作寫成英文是為了方便使用 `airflow test` 指令測試每個工作。\n",
    "\n",
    "儘管如此，這不就是我們 App 的邏輯嗎？\n",
    "- 取得使用者的閱讀紀錄（get_read_history）\n",
    "- 去漫畫網站看有沒有新的章節（check_comic_info）\n",
    "- 跟紀錄比較，有沒有新連載？（new_comic_available）\n",
    "    - 沒有（no_do_nothing）\n",
    "    - 有（yes_generate_notification）\n",
    "        - 寄 Slack 通知（send_notification）\n",
    "        - 更新閱讀紀錄（update_read_history）"
   ]
  },
  {
   "cell_type": "code",
   "execution_count": null,
   "metadata": {},
   "outputs": [],
   "source": []
  },
  {
   "cell_type": "code",
   "execution_count": null,
   "metadata": {},
   "outputs": [],
   "source": []
  },
  {
   "cell_type": "code",
   "execution_count": null,
   "metadata": {},
   "outputs": [],
   "source": []
  },
  {
   "cell_type": "markdown",
   "metadata": {},
   "source": [
    "#### 定義工作流程"
   ]
  },
  {
   "cell_type": "code",
   "execution_count": null,
   "metadata": {},
   "outputs": [],
   "source": []
  },
  {
   "cell_type": "markdown",
   "metadata": {},
   "source": [
    "#### 工作之間的訊息交換"
   ]
  },
  {
   "cell_type": "markdown",
   "metadata": {},
   "source": [
    "#### 開始排程"
   ]
  },
  {
   "cell_type": "markdown",
   "metadata": {},
   "source": [
    "第一則 Slack 訊息\n",
    "\n",
    "```bash\n",
    "python dags/comic_app_v2.py\n",
    "```"
   ]
  },
  {
   "cell_type": "code",
   "execution_count": null,
   "metadata": {},
   "outputs": [],
   "source": []
  },
  {
   "cell_type": "markdown",
   "metadata": {},
   "source": [
    "```\n",
    "airflow test comic_app_v2 get_read_history 2018-01-01\n",
    "```"
   ]
  },
  {
   "cell_type": "markdown",
   "metadata": {},
   "source": [
    "```\n",
    "airflow unpause comic_app_v2\n",
    "airflow trigger_dag comic_app_v2\n",
    "```\n"
   ]
  },
  {
   "cell_type": "code",
   "execution_count": null,
   "metadata": {},
   "outputs": [],
   "source": []
  },
  {
   "cell_type": "code",
   "execution_count": null,
   "metadata": {},
   "outputs": [],
   "source": []
  },
  {
   "cell_type": "code",
   "execution_count": null,
   "metadata": {},
   "outputs": [],
   "source": []
  },
  {
   "cell_type": "code",
   "execution_count": null,
   "metadata": {},
   "outputs": [],
   "source": []
  },
  {
   "cell_type": "markdown",
   "metadata": {},
   "source": [
    "### App 版本三：填填樂"
   ]
  },
  {
   "cell_type": "markdown",
   "metadata": {},
   "source": [
    "#### Selenium "
   ]
  },
  {
   "cell_type": "code",
   "execution_count": null,
   "metadata": {},
   "outputs": [],
   "source": [
    "\n",
    "—-\n",
    "一步步開發 app, iteration 1,2, 3\n",
    "\n",
    "從只有一個 dummy task(do everything here!) 的 一個 dag 開始\n",
    "介紹 dag\n",
    "測試單一 task \n",
    "測試整個 dag \n",
    "\n",
    "加所有dummy  task， 設定整個 dependencies \n",
    "介紹 xcom \n",
    "測試整個 dag\n",
    "\n",
    "實際加功能進去\n",
    "分每個 function 介紹\n",
    "\n",
    "事後監控\n",
    "\n",
    "看漫畫"
   ]
  },
  {
   "cell_type": "code",
   "execution_count": null,
   "metadata": {},
   "outputs": [],
   "source": [
    "\n"
   ]
  },
  {
   "cell_type": "code",
   "execution_count": null,
   "metadata": {},
   "outputs": [],
   "source": []
  },
  {
   "cell_type": "markdown",
   "metadata": {},
   "source": [
    "<center>\n",
    "    <img src=\"{filename}images/airflow/airflow-architecture.png\" style=\"width:90%\"/>\n",
    "    <p>\n",
    "        <a href=\"https://medium.com/@dustinstansbury/understanding-apache-airflows-key-concepts-a96efed52b1a\" target=\"_blank\">Airflow 架構圖</a>\n",
    "    </p> \n",
    "    <br/>\n",
    "</center>\n",
    "\n"
   ]
  },
  {
   "cell_type": "code",
   "execution_count": null,
   "metadata": {},
   "outputs": [],
   "source": []
  },
  {
   "cell_type": "markdown",
   "metadata": {},
   "source": [
    "## 為何要 Airflow？"
   ]
  },
  {
   "cell_type": "code",
   "execution_count": null,
   "metadata": {},
   "outputs": [],
   "source": [
    "Why bother airflow?\n",
    "你想要做的是資料處理，而不是建立 ＷＭＳ\n",
    "* Why not python script? 墨菲定律， Retry automatically\n",
    "* Schedule: Corn possible, but dependencies 難以管理\n",
    "* why airflow not Azakaban? Apache incubator ，簡單 UI\n",
    "\n",
    "在我們的漫畫 case 中 airflow 是一個 overkill, 但這篇文章希望透過go though 這個問題讓讀者熟悉 airflow 的運作，為解決企業等級的問題做好準備。"
   ]
  },
  {
   "cell_type": "markdown",
   "metadata": {},
   "source": [
    "## 結語"
   ]
  },
  {
   "cell_type": "code",
   "execution_count": null,
   "metadata": {},
   "outputs": [],
   "source": [
    "\n",
    "\n",
    "你甚至也可以選擇時用其它語言 (e.g., JAVA)\n",
    "\n",
    "\n",
    "this app is batch-based, not realtime, which is not a fit for airflow\n",
    "\n",
    "期望在讀者們能在閱讀文章之後實際應用 Airflow 來解決自己以及企業的問題。\n",
    "\n",
    "「你也可以推薦漫畫給我」\n",
    "不過老實說，我偶爾還是習慣動作會去檢查新的漫畫出來了沒。\n",
    "- 結語： 你想自動化什麼？ implement it and tell me! \n",
    "\n",
    "\n",
    "之後將在奇幻旅程 2 提到我在 SmartNews 裡頭是怎麼使用 Airflow 的，歡迎訂閱"
   ]
  }
 ],
 "metadata": {
  "kernelspec": {
   "display_name": "Python 3",
   "language": "python",
   "name": "python3"
  },
  "language_info": {
   "codemirror_mode": {
    "name": "ipython",
    "version": 3
   },
   "file_extension": ".py",
   "mimetype": "text/x-python",
   "name": "python",
   "nbconvert_exporter": "python",
   "pygments_lexer": "ipython3",
   "version": "3.7.0"
  }
 },
 "nbformat": 4,
 "nbformat_minor": 2
}
