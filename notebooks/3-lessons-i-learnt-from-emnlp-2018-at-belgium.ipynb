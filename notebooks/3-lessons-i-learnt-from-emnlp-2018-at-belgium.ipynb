{
 "cells": [
  {
   "cell_type": "markdown",
   "metadata": {},
   "source": [
    "- author: Lee Meng\n",
    "- date: 2018-11-19 08:00\n",
    "- title: 我在比利時 EMNLP 之旅中學到的 3 堂課\n",
    "- slug: 3-lessons-i-learnt-from-emnlp-2018-at-belgium\n",
    "- tags: 隨筆, 自然語言處理, 深度學習\n",
    "- description: \n",
    "- summary: \n",
    "- image: bruxelles-post-cover.jpg\n",
    "- image_credit_url: \n",
    "- status: draft"
   ]
  },
  {
   "cell_type": "markdown",
   "metadata": {},
   "source": [
    "作為此部落格的第一篇隨筆，我想將最近在比利時首都，[布魯塞爾](https://zh.wikipedia.org/wiki/%E5%B8%83%E9%B2%81%E5%A1%9E%E5%B0%94)參加 [EMNLP 2018 學術會議](http://emnlp2018.org/)的心得簡單地記錄下來，整理這段時間的想法並與你分享。\n",
    "\n",
    "事先聲明：我並非 NLP （**N**atural **L**anguage **P**rocessing，即自然語言處理）研究學者，因此本篇不會列出一長串會議論文的心得摘要。"
   ]
  },
  {
   "cell_type": "markdown",
   "metadata": {},
   "source": [
    "!image\n",
    "- emnlp2018/emnlp-line-up.jpg\n",
    "- Workshops / Tutorials 第一天報到的人龍"
   ]
  },
  {
   "cell_type": "markdown",
   "metadata": {},
   "source": [
    "相反的，我會把數天參加 EMNLP 會議、悠遊布魯塞爾市區時所感受到的個人想法總結成我在這次旅程中學到最重要的 3 個 lessons。希望你在閱讀本文以後，一樣也能從中獲得一些啟發。\n",
    "\n",
    "最後在文末，我則會說明這些想法將如何影響今後部落格的走向。如果你是忠實讀者，或許也會有興趣了解這個故事：）"
   ]
  },
  {
   "cell_type": "markdown",
   "metadata": {},
   "source": [
    "## 計畫之外的 NLP 之旅"
   ]
  },
  {
   "cell_type": "markdown",
   "metadata": {},
   "source": [
    "今年 10 月底，我跟公司請了一個禮拜的假參加在布魯塞爾舉辦的 [EMNLP 會議](http://emnlp2018.org/)。\n",
    "\n",
    "EMNLP 作為世界頂尖的[自然語言處理](https://zh.wikipedia.org/wiki/%E8%87%AA%E7%84%B6%E8%AF%AD%E8%A8%80%E5%A4%84%E7%90%86)會議之一，每年都有無以數計的專業人士聚集在此，與他人分享自己最新的研究成果。你可以在[這邊看到所有議程以及論文](http://emnlp2018.org/schedule)。"
   ]
  },
  {
   "cell_type": "markdown",
   "metadata": {},
   "source": [
    "!image\n",
    "- emnlp2018/emnlp-entrance.jpg\n",
    "- EMNLP 2018 會場門口，可以看到非常多知名公司的贊助"
   ]
  },
  {
   "cell_type": "markdown",
   "metadata": {},
   "source": [
    "不過老實說，在同事提及此會議之前，我並沒有聽過它的名號，更不用說考慮報名參加了。我本來預計是要參加跟資料工程相關的 [DataEngConf](https://www.dataengconf.com/) 會議。（你可能已經從[我寫過的幾篇資料工程文章](https://leemeng.tw/tag/zi-liao-gong-cheng.html)了解我對 DE 的興趣）\n",
    "\n",
    "但我想説難得有機會深入了解現在 NLP 的研究趨勢，況且人多有個照應，稍微衡量一下就決定參加 EMNLP 了。\n",
    "\n",
    "當時的我還不曉得，這趟旅程為自己帶來的收穫，比原先預想地來得多。"
   ]
  },
  {
   "cell_type": "markdown",
   "metadata": {},
   "source": [
    "## 幾萬呎高空上的兩本書"
   ]
  },
  {
   "cell_type": "markdown",
   "metadata": {},
   "source": [
    "從東京到比利時，飛行距離大約有 1 萬公里，直飛也需快 12 小時。在長途飛行中沒有網路，因此我這次決定帶兩本買了好一陣子都沒翻開的書，計畫去程與回程各看一本。"
   ]
  },
  {
   "cell_type": "markdown",
   "metadata": {},
   "source": [
    "中途因為沒有任何如 Facebook 通知的干擾，我在飛機快抵達布魯塞爾時消化完《你要如何衡量你的人生？》的內容。"
   ]
  },
  {
   "cell_type": "markdown",
   "metadata": {},
   "source": [
    "!image\n",
    "- emnlp2018/two-books.jpg\n",
    "- 這次跟我一起去比利時的兩本書\n",
    "- https://leemeng.tw/books.html"
   ]
  },
  {
   "cell_type": "markdown",
   "metadata": {},
   "source": [
    "透過此書我學到，那些你在職場或人生中設定的策略以及計劃，在實際展開行動去執行它們之前，什麼都不是。為了達成你要的目標，你得實際分配精力、時間等資源在上面，而非只是空想或說大話。\n",
    "\n",
    "在回東京時，我則閱讀了[《華頓商學院最受歡迎的談判課》](https://gettingmore.com/)。戴蒙教授用深入淺出的說明以及大量真實案例，再次提醒我在進行溝通或談判時，以「人」為本、設身處地的重要性。"
   ]
  },
  {
   "cell_type": "markdown",
   "metadata": {},
   "source": [
    "!image\n",
    "- emnlp2018/aaron-burden-236415-unsplash.jpg"
   ]
  },
  {
   "cell_type": "markdown",
   "metadata": {},
   "source": [
    "這兩本書值得推薦，但在這裏，重點其實並不在於這兩本書的內容。在閱讀完《你要如何衡量你的人生？》時飛機正好抵達比利時，我則恍然大悟："
   ]
  },
  {
   "cell_type": "markdown",
   "metadata": {},
   "source": [
    "!quote\n",
    "- 為何我早知道能從閱讀此書而獲得許多寶貴的思想，卻拖到現在才看？"
   ]
  },
  {
   "cell_type": "markdown",
   "metadata": {},
   "source": [
    "沒有下定決心來花費資源以執行策略。\n",
    "\n",
    "你的書櫃上是否也放了不少買了卻沒看的書？當初買書時你期望透過書本學到什麼？沒看完的原因又是什麼呢？\n",
    "\n",
    "如果「沒時間」是你的理由，那麼正說明了你跟當時的我一樣，沒有下定決心將自己的資源（時間）花在執行策略上面（看書變聰明、豐富人生）。"
   ]
  },
  {
   "cell_type": "markdown",
   "metadata": {},
   "source": [
    "!image\n",
    "- emnlp2018/chuttersnap-412981-unsplash.jpg"
   ]
  },
  {
   "cell_type": "markdown",
   "metadata": {},
   "source": [
    "資訊爆炸時代，我們的閱讀時間極度零碎，也難以長時間集中自己的注意力。很多時候跟看 Youtube 影片比起來，我們會覺得讀一本書的「投資報酬率」太低：花費時間太多，帶來的刺激太少。\n",
    "\n",
    "但其實並不是那麼一回事。好的書籍能改變你的一生，讓你終身受惠。而這次的機上閱讀帶給我的第一堂課即是："
   ]
  },
  {
   "cell_type": "markdown",
   "metadata": {},
   "source": [
    "!quote\n",
    "- 閱讀好書是最好的長期投資，能豐富並讓你的人生更好。隨時確保你會實際花時間與精力去閱讀自己感興趣的書籍。"
   ]
  },
  {
   "cell_type": "markdown",
   "metadata": {},
   "source": [
    "的確，你不需要像我一樣在幾萬呎高空下閱讀才能得到一樣的感想。但這的確是我在這趟旅行的一開始就重新深刻地體會到的一堂課。（多虧了長途飛行給我的無干擾時間！）"
   ]
  },
  {
   "cell_type": "markdown",
   "metadata": {},
   "source": [
    "## 從零開始的 NLP 之路 "
   ]
  },
  {
   "cell_type": "markdown",
   "metadata": {},
   "source": [
    "!image\n",
    "- emnlp2018/La-place-Royale.jpg\n",
    "- 到達布魯塞爾的當天飄著綿綿細雨"
   ]
  },
  {
   "cell_type": "markdown",
   "metadata": {},
   "source": [
    "下了飛機，坐車來到市區，EMNLP 就要展開。讓我們回到 NLP 的話題。"
   ]
  },
  {
   "cell_type": "markdown",
   "metadata": {},
   "source": [
    "儘管我一直都對 NLP 抱持著不少興趣，卻沒有花過時間去了解近年[深度學習（Deep Learning）](https://zh.wikipedia.org/zh-hant/%E6%B7%B1%E5%BA%A6%E5%AD%A6%E4%B9%A0)在 NLP 領域的快速發展以及創新。"
   ]
  },
  {
   "cell_type": "markdown",
   "metadata": {},
   "source": [
    "!image\n",
    "- emnlp2018/emnlp-conference.jpg\n",
    "- EMNLP 其中一個會議廳"
   ]
  },
  {
   "cell_type": "markdown",
   "metadata": {},
   "source": [
    "因此我明白以我當下的 NLP 知識水平（幾乎是 0），要在會場內理解演講者的論文發表並提問的難度是很高的。\n",
    "\n",
    "基於這樣的背景，我將此次參加會議的目標下修，設定為「掌握 NLP 基本概念以及趨勢」。\n",
    "\n",
    "為了達到這樣的目標，我有一個非常 naive 的策略，其分為三個步驟：\n",
    "- 選擇有興趣的 Sessions 聆聽\n",
    "- 將講者提到，但我不熟悉的關鍵字記下來\n",
    "- 當天 Session 結束後上網 Google 關鍵字（及美食）了解其含義"
   ]
  },
  {
   "cell_type": "markdown",
   "metadata": {},
   "source": [
    "!image\n",
    "- emnlp2018/food-in-belgium.jpg\n",
    "- 來比利時當然不能錯過淡菜及啤酒"
   ]
  },
  {
   "cell_type": "markdown",
   "metadata": {},
   "source": [
    "當然，你可以想像一開始的幾場演講，作者的一句話或是一張投影片就能讓我瘋狂打下關鍵字的樣子。\n",
    "\n",
    "不過會議每進行一天，我就記越少關鍵字。這很合理，因為畢竟大部分論文運用的基本 NLP 概念是相通的。\n",
    "\n",
    "以下節錄一些我紀錄下來的關鍵字：\n",
    "- Recurrent Neural Network（RNN）\n",
    "    - [LSTM](https://zh.wikipedia.org/wiki/%E9%95%B7%E7%9F%AD%E6%9C%9F%E8%A8%98%E6%86%B6)\n",
    "    - [BiLSTM](https://datascience.stackexchange.com/a/25657)\n",
    "    - [GRU](https://zhuanlan.zhihu.com/p/32481747)\n",
    "    - [SRNN](http://www.sohu.com/a/240293276_610300)\n",
    "    - [Transformer](https://bigdatafinance.tw/index.php/news/578-transformer-rnn-lstm)\n",
    "- Word Embedding\n",
    "    - [ELMo](https://allennlp.org/elmo)\n",
    "    - [GloVe](https://nlp.stanford.edu/projects/glove/)\n",
    "    - [BERT](https://arxiv.org/abs/1810.04805)\n",
    "- Evaluation\n",
    "    - [BLEU](https://en.wikipedia.org/wiki/BLEU)\n",
    "    - [SQuAD](https://rajpurkar.github.io/SQuAD-explorer/)\n",
    "- NLP Tasks\n",
    "    - [Named Entity Recognition](https://1fly2sky.wordpress.com/2016/04/02/%E5%91%BD%E5%90%8D%E5%AF%A6%E9%AB%94%E8%AD%98%E5%88%A5%E6%8A%80%E8%A1%93named-entity-recognition/)\n",
    "    - [Machine Translation](https://en.wikipedia.org/wiki/Machine_translation)\n",
    "    - [Question Answering](https://zh.wikipedia.org/wiki/%E5%95%8F%E7%AD%94%E7%B3%BB%E7%B5%B1)\n",
    "    - [Text Generation and Summarization](https://machinelearningmastery.com/gentle-introduction-text-summarization/)\n",
    "    - [Style Transfer](https://arxiv.org/abs/1711.06861)\n",
    "    - [Reading Comprehension](https://towardsdatascience.com/nlp-building-a-question-answering-model-ed0529a68c54)\n",
    "    - [Open / Closed Domain Conversation](http://www.wildml.com/2016/04/deep-learning-for-chatbots-part-1-introduction/)\n",
    "- [Attention Mechanism](https://skymind.ai/wiki/attention-mechanism-memory-network)\n",
    "- ..."
   ]
  },
  {
   "cell_type": "markdown",
   "metadata": {},
   "source": [
    "原汁原味的英文。"
   ]
  },
  {
   "cell_type": "markdown",
   "metadata": {},
   "source": [
    "!image\n",
    "- emnlp2018/nlp-word-cloud.jpg"
   ]
  },
  {
   "cell_type": "markdown",
   "metadata": {},
   "source": [
    "別擔心，我沒有打算也沒有時間在這裡一一介紹這些 NLP 術語，不過附上當初我在比利時 Google 這些詞彙時參考的連結，你可以之後查閱。\n",
    "\n",
    "EMNLP 當然不只談了上述東西，但它們肯定是現在 NLP 研究/應用領域裡頭常用的關鍵字。了解這些詞彙的意義，能讓你快速掌握大部分現在 NLP 領域最新的知識並與專家交流。"
   ]
  },
  {
   "cell_type": "markdown",
   "metadata": {},
   "source": [
    "!image\n",
    "- emnlp2018/pan-xiaozhen-423533-unsplash.jpg"
   ]
  },
  {
   "cell_type": "markdown",
   "metadata": {},
   "source": [
    "這個「高頻關鍵字策略」很間單，就跟我們從小學外語的方式如出一轍。在初學語言時，比較有效率的學習方法通常是先拿起「英文高頻 5000 單字」或是「常用日本會話 1000 句」來看，而不是去背「[火山矽肺症](https://www.ettoday.net/news/20121228/146060.htm)」的英文。"
   ]
  },
  {
   "cell_type": "markdown",
   "metadata": {},
   "source": [
    "## 到了驗收時刻"
   ]
  },
  {
   "cell_type": "markdown",
   "metadata": {},
   "source": [
    "效率"
   ]
  },
  {
   "cell_type": "code",
   "execution_count": null,
   "metadata": {},
   "outputs": [],
   "source": []
  },
  {
   "cell_type": "markdown",
   "metadata": {},
   "source": [
    "但人類利用深度學習，在 NLP 領域披荊斬棘，進展非常快速。説說我最感興趣的機器翻譯（**M**achine **T**ranslation, MT）吧！"
   ]
  },
  {
   "cell_type": "markdown",
   "metadata": {},
   "source": [
    "最近我甚至已經可以用以[神經機器翻譯（**N**eural **M**achine **T**ranslation, NMT）](https://scitechvista.nat.gov.tw/c/sgtQ.html)為基礎的 [Google 翻譯](https://translate.google.com/?hl=zh-TW)來跟烏克蘭以及法國的朋友開心聊天，儘管我對俄文以及法文一無所知。\n",
    "\n",
    "在幾年前，主流是透過[統計機器翻譯（**S**tatistical **M**achine **T**ranslation, SMT）](https://zh.wikipedia.org/wiki/%E7%BB%9F%E8%AE%A1%E6%9C%BA%E5%99%A8%E7%BF%BB%E8%AF%91)，對大量的平行語料進行統計分析，構建出語言模型以後進行翻譯。\n",
    "\n",
    "因此趁著這次的旅行，我打算盡可能地了解這個領域裡頭有哪些關鍵字、參加會議後我該怎麼開始有效率地學習 NLP，並在會議空閑的時候逛逛布魯塞爾。\n",
    "\n",
    "就結果而言，我的成果還算是差強人意。"
   ]
  },
  {
   "cell_type": "markdown",
   "metadata": {},
   "source": [
    "## 劉佬佬進大觀園"
   ]
  },
  {
   "cell_type": "code",
   "execution_count": null,
   "metadata": {},
   "outputs": [],
   "source": [
    "emnlp-conference"
   ]
  },
  {
   "cell_type": "markdown",
   "metadata": {},
   "source": [
    "## 驗收時刻"
   ]
  },
  {
   "cell_type": "code",
   "execution_count": null,
   "metadata": {},
   "outputs": [],
   "source": [
    "social event"
   ]
  },
  {
   "cell_type": "code",
   "execution_count": null,
   "metadata": {},
   "outputs": [],
   "source": [
    "無時無刻用最有效率的方式學習新知，我們最大的潛力在於能多快 pick up 新事物，而非現有知識"
   ]
  },
  {
   "cell_type": "code",
   "execution_count": null,
   "metadata": {},
   "outputs": [],
   "source": []
  },
  {
   "cell_type": "code",
   "execution_count": null,
   "metadata": {},
   "outputs": [],
   "source": []
  },
  {
   "cell_type": "code",
   "execution_count": null,
   "metadata": {},
   "outputs": [],
   "source": []
  },
  {
   "cell_type": "markdown",
   "metadata": {},
   "source": [
    "## 旅行的定義重點不在地點，而在心態"
   ]
  },
  {
   "cell_type": "code",
   "execution_count": null,
   "metadata": {},
   "outputs": [],
   "source": []
  },
  {
   "cell_type": "code",
   "execution_count": null,
   "metadata": {},
   "outputs": [],
   "source": []
  },
  {
   "cell_type": "markdown",
   "metadata": {},
   "source": [
    "## 實際行動\n",
    "## 結語"
   ]
  },
  {
   "cell_type": "code",
   "execution_count": null,
   "metadata": {},
   "outputs": [],
   "source": [
    "\n",
    "\n",
    "\n",
    "\n",
    "\n",
    "* Pick up 一個知識不應該需要數年，也不該是這樣\n",
    "    * 學了半年，跟的教授好的啟示\n",
    "    * 李鴻毅教授說的\n",
    "    * 幼稚園進到大學的感受\n",
    "* 旅行的定義重點不在地點，而在心態\n",
    "    * 身在東京久了，忘了旅行的意義\n",
    "    * 只待在布魯塞爾，沒有去所謂的旅遊勝地是個浪費？\n",
    "* 我們真最大的潛力在於能多快 pick up 新事物，而非現有知識\n",
    "    * 你需要 focus 減少 distraction \n",
    "\n",
    "這趟旅程改變人生在於我相信這是一個轉捩點\n",
    "開啟全新的機會\n",
    "\n",
    "我的行動\n",
    "\n",
    "\n",
    "結論：成為一般人到深度學習專家的橋樑"
   ]
  },
  {
   "cell_type": "markdown",
   "metadata": {},
   "source": []
  },
  {
   "cell_type": "markdown",
   "metadata": {},
   "source": [
    "\n",
    "\n",
    "\n",
    "\n",
    "\n",
    "\n",
    "\n",
    "\n",
    "\n",
    "\n",
    "## 記憶大量關鍵字\n",
    "\n",
    "## 教堂巡迴之旅\n",
    "\n",
    "## 啤酒、淡菜以及鬆餅\n",
    "\n",
    "## Social Event 驗收成果\n",
    "結果：在 social event 被誇說 NLP 不錯👍\n",
    "\n",
    "## 全力衝刺 NLP\n",
    "any recommendation?"
   ]
  },
  {
   "cell_type": "code",
   "execution_count": null,
   "metadata": {},
   "outputs": [],
   "source": [
    "!image\n",
    "- emnlp2018/emnlp-entrance.jpg\n",
    "\n",
    "但首先我得先承認，跟與會人士擁有的 NLP 知識比起來，我對 NLP 的理解彷彿無知地令人讚嘆。"
   ]
  },
  {
   "cell_type": "code",
   "execution_count": null,
   "metadata": {},
   "outputs": [],
   "source": [
    "趁這個機會，把 NLP 最近的資源處理出來，方便自己上路，也幫助別人。"
   ]
  },
  {
   "cell_type": "markdown",
   "metadata": {},
   "source": [
    "## Connect the dots\n",
    "- IR \n",
    "- Coursera 課程(andrew, machine learning)\n",
    "- \n"
   ]
  },
  {
   "cell_type": "markdown",
   "metadata": {},
   "source": [
    "## 素材\n",
    "- 自己的 EMNLP 筆記、關鍵字蒐集\n",
    "- 其他人的見聞\n",
    "    - [Patrick Lewis(UCL 的自然语言处理博士生，同时他也参与 Facebook 人工智能研究院的研究)](https://www.leiphone.com/news/201811/6xESoGatFLejrh7x.html?type=preview&viewType=weixin)\n",
    "    - [EMNLP 2018 | 最佳论文出炉：谷歌、Facebook、CMU上榜](https://www.jiqizhixin.com/articles/2018-09-21-12)\n",
    "        - 亮點是 Facebook 的無監督試 NMT\n",
    "    - [學界| FAIR新一代無監督機器翻譯：模型更簡潔，性能更優](https://mp.weixin.qq.com/s?__biz=MzA3MzI4MjgzMw==&mid=2650741621&idx=4&sn=210c9b3694f56508267e95235fb99f3c&chksm=871adf0bb06d561dc99a89a5f56cf835bc92aa25401294216262128402490918d2787fe7fd09&scene=21#wechat_redirect)"
   ]
  },
  {
   "cell_type": "code",
   "execution_count": null,
   "metadata": {},
   "outputs": [],
   "source": []
  },
  {
   "cell_type": "code",
   "execution_count": null,
   "metadata": {},
   "outputs": [],
   "source": [
    "人生都會有轉捩點，我相信這是其中一個。"
   ]
  },
  {
   "cell_type": "markdown",
   "metadata": {},
   "source": [
    "* 旅行本身沒有意義，但它能激發你思考人生的意義\n",
    "* 出社會前我為了別人（的期望）而學；現在我為自己而學\n",
    "\n",
    "* 我想說的是，你最近從零開始學會的東西是什麼？更重要的，一直想學但是沒有碰的東西是什麼？為什麼沒有進展？在這個變化快速的世界，我們最需要的是快速學習任何東西的方法（如果你是要學 NLP 接下來可以跟著我）\n",
    "* 你不需要花 years 學深度學習（也不實際），但你要做到，你要用最有效率的方式、最好的資源\n",
    "\n",
    "\n",
    "Todo\n",
    "* Emnlp Twitter tag\n",
    "* 中文新聞報導\n",
    "\n",
    "\n",
    "Strategy： 學會關鍵字\n",
    "\n",
    "\n",
    "* 想做 MT 是想要讓台灣人還有自己更聰明：collective intelligence 。我不認為歐美人比較聰明，只是因為他們有比較多（英文）資源\n",
    "* 成為一般人學習深度學習的橋樑、Hub\n",
    "\n"
   ]
  }
 ],
 "metadata": {
  "kernelspec": {
   "display_name": "Python 3",
   "language": "python",
   "name": "python3"
  },
  "language_info": {
   "codemirror_mode": {
    "name": "ipython",
    "version": 3
   },
   "file_extension": ".py",
   "mimetype": "text/x-python",
   "name": "python",
   "nbconvert_exporter": "python",
   "pygments_lexer": "ipython3",
   "version": "3.7.0"
  }
 },
 "nbformat": 4,
 "nbformat_minor": 2
}
