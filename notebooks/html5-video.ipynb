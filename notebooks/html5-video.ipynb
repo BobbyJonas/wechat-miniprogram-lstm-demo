{
 "cells": [
  {
   "cell_type": "markdown",
   "metadata": {},
   "source": [
    "- author: Lee Meng\n",
    "- date: 2018-10-07 08:00\n",
    "- title: HTML5 Video Test\n",
    "- slug: html5-video\n",
    "- tags: test\n",
    "- description: \n",
    "- summary: \n",
    "- image_credit_url: https://earth.google.com/\n",
    "- status: draft"
   ]
  },
  {
   "cell_type": "markdown",
   "metadata": {},
   "source": [
    "<video loop muted autoplay playsinline>\n",
    "  <source src=\"{filename}images/gapminder/taiwan-development.webm\" type=\"video/webm\">\n",
    "   <source src=\"{filename}images/gapminder/taiwan-development.mp4\" type=\"video/mp4\">\n",
    "    <source src=\"{filename}images/gapminder/taiwan-development.ogg\" type=\"video/ogg\">\n",
    "    Your browser does not support the video tag.\n",
    "</video>"
   ]
  }
 ],
 "metadata": {
  "kernelspec": {
   "display_name": "Python 3",
   "language": "python",
   "name": "python3"
  },
  "language_info": {
   "codemirror_mode": {
    "name": "ipython",
    "version": 3
   },
   "file_extension": ".py",
   "mimetype": "text/x-python",
   "name": "python",
   "nbconvert_exporter": "python",
   "pygments_lexer": "ipython3",
   "version": "3.7.0"
  }
 },
 "nbformat": 4,
 "nbformat_minor": 2
}
