{
 "cells": [
  {
   "cell_type": "markdown",
   "metadata": {},
   "source": [
    "- author: Lee Meng\n",
    "- date: 2018-10-07 08:00\n",
    "- title: HTML5 Video Test\n",
    "- slug: html5-video\n",
    "- tags: test\n",
    "- description: \n",
    "- summary: \n",
    "- image_credit_url: https://earth.google.com/\n",
    "- status: draft"
   ]
  },
  {
   "cell_type": "markdown",
   "metadata": {},
   "source": [
    "<video loop muted autoplay playsinline>\n",
    "  <source src=\"{filename}images/gapminder/taiwan-development.webm\" type=\"video/webm\">\n",
    "   <source src=\"{filename}images/gapminder/taiwan-development.mp4\" type=\"video/mp4\">\n",
    "    <source src=\"{filename}images/gapminder/taiwan-development.ogg\" type=\"video/ogg\">\n",
    "    Your browser does not support the video tag.\n",
    "</video>"
   ]
  },
  {
   "cell_type": "markdown",
   "metadata": {},
   "source": [
    "use ffmpeg and specify both vcodec and acodec"
   ]
  },
  {
   "cell_type": "markdown",
   "metadata": {},
   "source": [
    "<video loop muted autoplay playsinline>\n",
    "\n",
    "   <source src=\"{filename}images/gapminder/taiwan-development-test.mp4\" type=\"video/mp4\">\n",
    "\n",
    "    Your browser does not support the video tag.\n",
    "</video>"
   ]
  },
  {
   "cell_type": "markdown",
   "metadata": {},
   "source": [
    "direct from giphy"
   ]
  },
  {
   "cell_type": "markdown",
   "metadata": {},
   "source": [
    "<video loop muted autoplay playsinline>\n",
    "\n",
    "   <source src=\"{filename}images/gapminder/direct-from-giphy.mp4\" type=\"video/mp4\">\n",
    "\n",
    "    Your browser does not support the video tag.\n",
    "</video>\n"
   ]
  },
  {
   "cell_type": "markdown",
   "metadata": {},
   "source": [
    "compressed giphy"
   ]
  },
  {
   "cell_type": "markdown",
   "metadata": {},
   "source": [
    "<video loop muted autoplay playsinline>\n",
    "\n",
    "   <source src=\"{filename}images/gapminder/crf-direct-from-giphy.mp4\" type=\"video/mp4\">\n",
    "\n",
    "    Your browser does not support the video tag.\n",
    "</video>\n",
    "\n"
   ]
  },
  {
   "cell_type": "markdown",
   "metadata": {},
   "source": [
    "VideoJS mp4 first"
   ]
  },
  {
   "cell_type": "markdown",
   "metadata": {},
   "source": [
    "<video id=\"my-video\" class=\"video-js\" controls preload=\"auto\" width=\"640\" height=\"264\"\n",
    "  poster=\"{filename}images/gapminder/tw-demo.jpg\" data-setup=\"{}\">\n",
    "    <source src=\"{filename}images/gapminder/taiwan-development.mp4\" type='video/mp4'>\n",
    "    <source src=\"{filename}images/gapminder/taiwan-development.webm\" type='video/webm'>\n",
    "    <p class=\"vjs-no-js\">\n",
    "      To view this video please enable JavaScript, and consider upgrading to a web browser that\n",
    "      <a href=\"https://videojs.com/html5-video-support/\" target=\"_blank\">supports HTML5 video</a>\n",
    "    </p>\n",
    "  </video>"
   ]
  },
  {
   "cell_type": "markdown",
   "metadata": {},
   "source": [
    "Video JS webm first"
   ]
  },
  {
   "cell_type": "markdown",
   "metadata": {},
   "source": [
    "<video id=\"my-video\" class=\"video-js\" controls preload=\"auto\" width=\"640\" height=\"264\"\n",
    "  poster=\"{filename}images/gapminder/tw-demo.jpg\" data-setup=\"{}\">\n",
    "    <source src=\"{filename}images/gapminder/taiwan-development.webm\" type='video/webm'>\n",
    "    <source src=\"{filename}images/gapminder/taiwan-development.mp4\" type='video/mp4'>\n",
    "    \n",
    "    <p class=\"vjs-no-js\">\n",
    "      To view this video please enable JavaScript, and consider upgrading to a web browser that\n",
    "      <a href=\"https://videojs.com/html5-video-support/\" target=\"_blank\">supports HTML5 video</a>\n",
    "    </p>\n",
    "  </video>"
   ]
  },
  {
   "cell_type": "markdown",
   "metadata": {},
   "source": [
    "VIDEOJS default"
   ]
  },
  {
   "cell_type": "markdown",
   "metadata": {},
   "source": [
    "<video\n",
    "    id=\"my-player\"\n",
    "    class=\"video-js\"\n",
    "    controls\n",
    "    preload=\"auto\"\n",
    "    poster=\"//vjs.zencdn.net/v/oceans.png\"\n",
    "    data-setup='{}'>\n",
    "  <source src=\"//vjs.zencdn.net/v/oceans.mp4\" type=\"video/mp4\"></source>\n",
    "  <source src=\"//vjs.zencdn.net/v/oceans.webm\" type=\"video/webm\"></source>\n",
    "  <source src=\"//vjs.zencdn.net/v/oceans.ogv\" type=\"video/ogg\"></source>\n",
    "  <p class=\"vjs-no-js\">\n",
    "    To view this video please enable JavaScript, and consider upgrading to a\n",
    "    web browser that\n",
    "    <a href=\"http://videojs.com/html5-video-support/\" target=\"_blank\">\n",
    "      supports HTML5 video\n",
    "    </a>\n",
    "  </p>\n",
    "</video>"
   ]
  },
  {
   "cell_type": "markdown",
   "metadata": {},
   "source": [
    "change vcodec"
   ]
  },
  {
   "cell_type": "markdown",
   "metadata": {},
   "source": [
    "<video id=\"my-video\" class=\"video-js\" controls preload=\"auto\" width=\"640\" height=\"264\"\n",
    "  poster=\"{filename}images/gapminder/tw-demo.jpg\" data-setup=\"{}\">\n",
    "    <source src=\"{filename}images/gapminder/output.mp4\" type='video/mp4'>\n",
    "    <source src=\"{filename}images/gapminder/taiwan-development.webm\" type='video/webm'>\n",
    "    <p class=\"vjs-no-js\">\n",
    "      To view this video please enable JavaScript, and consider upgrading to a web browser that\n",
    "      <a href=\"https://videojs.com/html5-video-support/\" target=\"_blank\">supports HTML5 video</a>\n",
    "    </p>\n",
    "  </video>"
   ]
  },
  {
   "cell_type": "markdown",
   "metadata": {},
   "source": [
    "video/mpeg4-generic"
   ]
  },
  {
   "cell_type": "markdown",
   "metadata": {},
   "source": [
    "<video id=\"my-video\" class=\"video-js\" controls preload=\"auto\" width=\"640\" height=\"264\"\n",
    "  poster=\"{filename}images/gapminder/tw-demo.jpg\" data-setup=\"{}\">\n",
    "    <source src=\"{filename}images/gapminder/taiwan-development.mp4\" type='video/mpeg4-generic'>\n",
    "    <source src=\"{filename}images/gapminder/taiwan-development.webm\" type='video/webm'>\n",
    "    <p class=\"vjs-no-js\">\n",
    "      To view this video please enable JavaScript, and consider upgrading to a web browser that\n",
    "      <a href=\"https://videojs.com/html5-video-support/\" target=\"_blank\">supports HTML5 video</a>\n",
    "    </p>\n",
    "  </video>"
   ]
  },
  {
   "cell_type": "markdown",
   "metadata": {},
   "source": [
    "video/H264\t[RFC6184]\n",
    "H264-RCDO\tvideo/H264-RCDO\t[RFC6185]\n",
    "H264-SVC\tvideo/H264-SVC\n",
    "video/mp4\t[RFC4337][RFC6381]\n",
    "MP4V-ES\tvideo/MP4V-ES"
   ]
  },
  {
   "cell_type": "markdown",
   "metadata": {},
   "source": [
    "<video id=\"my-video\" class=\"video-js\" controls preload=\"auto\" width=\"640\" height=\"264\"\n",
    "  poster=\"{filename}images/gapminder/tw-demo.jpg\" data-setup=\"{}\">\n",
    "    <source src=\"{filename}images/gapminder/taiwan-development.mp4\" type='video/mpeg4-generic'>\n",
    "    <source src=\"{filename}images/gapminder/taiwan-development.mp4\" type='video/H264'>\n",
    "    <source src=\"{filename}images/gapminder/taiwan-development.mp4\" type='video/H264-RCDO'>\n",
    "    <source src=\"{filename}images/gapminder/taiwan-development.mp4\" type='video/H264-SVC'>\n",
    "    <source src=\"{filename}images/gapminder/taiwan-development.mp4\" type='video/mp4'>\n",
    "    <source src=\"{filename}images/gapminder/taiwan-development.mp4\" type='MP4V-ES\tvideo/MP4V-ES'>\n",
    "    <p class=\"vjs-no-js\">\n",
    "      To view this video please enable JavaScript, and consider upgrading to a web browser that\n",
    "      <a href=\"https://videojs.com/html5-video-support/\" target=\"_blank\">supports HTML5 video</a>\n",
    "    </p>\n",
    "  </video>"
   ]
  },
  {
   "cell_type": "code",
   "execution_count": null,
   "metadata": {},
   "outputs": [],
   "source": []
  }
 ],
 "metadata": {
  "kernelspec": {
   "display_name": "Python 3",
   "language": "python",
   "name": "python3"
  },
  "language_info": {
   "codemirror_mode": {
    "name": "ipython",
    "version": 3
   },
   "file_extension": ".py",
   "mimetype": "text/x-python",
   "name": "python",
   "nbconvert_exporter": "python",
   "pygments_lexer": "ipython3",
   "version": "3.7.0"
  }
 },
 "nbformat": 4,
 "nbformat_minor": 2
}
