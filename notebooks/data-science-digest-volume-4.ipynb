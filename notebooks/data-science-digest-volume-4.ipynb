{
 "cells": [
  {
   "cell_type": "markdown",
   "metadata": {},
   "source": [
    "- author: Lee Meng\n",
    "- date: 2018-08-27 09:00\n",
    "- title: 身為資料科學家，不可不知的 7 個職涯趨勢\n",
    "- slug: data-science-digest-volume-4\n",
    "- tags: 文摘, 資料科學\n",
    "- description: \n",
    "- summary: \n",
    "- image: doors-1767562_1280.jpg\n",
    "- image_credit_url: https://pixabay.com/en/doors-choices-choose-decision-1767562/\n",
    "- status: draft"
   ]
  },
  {
   "cell_type": "markdown",
   "metadata": {},
   "source": [
    "- 「現在資料科學家都在做些什麼？」\n",
    "- 「資料科學或是資料科學家未來有前途嗎？」\n",
    "- 「所以想開始資料科學相關工作，我應該學些什麼技能？」\n",
    "- 「資料科學家的職涯趨勢是什麼？」\n",
    "- ... \n",
    "\n",
    "我想這些是有志成為資料科學家，或是剛剛成為資料科學家的你最常問的一些問題了。\n",
    "\n",
    "這週跟你分享幾篇從 Airbnb、哈佛商業評論\n",
    "\n",
    "\n",
    "\n",
    "資料科學這週將跟你分享幾篇跟資料科學家的職涯相關的文章。"
   ]
  },
  {
   "cell_type": "markdown",
   "metadata": {},
   "source": [
    "- What Data Scientists Really Do, According to 35 Data Scientists\n",
    "- The Death of the Data Scientist\n",
    "- One Data Science Job Doesn’t Fit All\n",
    "- How to be a bad data scientist!\n",
    "\n",
    "- Beyond Interactive: Notebook Innovation at Netflix – Netflix TechBlog – Medium\n",
    "\n",
    "- A new hope: AI for news media\n"
   ]
  },
  {
   "cell_type": "markdown",
   "metadata": {},
   "source": [
    "## 推薦閱讀\n",
    "- "
   ]
  }
 ],
 "metadata": {
  "kernelspec": {
   "display_name": "Python 3",
   "language": "python",
   "name": "python3"
  },
  "language_info": {
   "codemirror_mode": {
    "name": "ipython",
    "version": 3
   },
   "file_extension": ".py",
   "mimetype": "text/x-python",
   "name": "python",
   "nbconvert_exporter": "python",
   "pygments_lexer": "ipython3",
   "version": "3.7.0"
  }
 },
 "nbformat": 4,
 "nbformat_minor": 2
}
