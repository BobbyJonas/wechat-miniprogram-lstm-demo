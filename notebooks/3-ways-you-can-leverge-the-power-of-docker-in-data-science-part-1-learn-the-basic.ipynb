{
 "cells": [
  {
   "cell_type": "markdown",
   "metadata": {},
   "source": [
    "- author: Lee Meng\n",
    "- date: 2018-09-08 12:45\n",
    "- title: 3 種你能在數據科學中活用 Docker 的方式（上篇）\n",
    "- slug: 3-ways-you-can-leverge-the-power-of-docker-in-data-science-part-1-learn-the-basic\n",
    "- tags: 資料科學, Docker\n",
    "- description: 本系列文章將分上下篇，本篇說明資料科學家能如何利用 Docker 來改善自己的開發效率，下篇則分享作者在實際從事資料科學家時，經常看到的 3 個 Docker 的使用案例。在本篇中，我們將透過一些簡單的比喻來直觀地理解何謂 Docker，並讓讀者能在閱讀本文後馬上利用 Docker 來加速自己的開發效率， 並為下篇的進階內容做準備。\n",
    "- summary: 本系列文章將分上下篇，本篇說明資料科學家能如何利用 Docker 來改善自己的開發效率，下篇則分享作者在實際從事資料科學家時，經常看到的 3 個 Docker 的使用案例。在本篇中，我們將透過一些簡單的比喻來直觀地理解何謂 Docker，並讓讀者能在閱讀本文後馬上利用 Docker 來加速自己的開發效率， 並為下篇的進階內容做準備。\n",
    "- image: docker-cover.jpg\n",
    "- image_credit_url: https://www.flickr.com/photos/134416355@N07/31518965950\n",
    "- status: draft"
   ]
  },
  {
   "cell_type": "markdown",
   "metadata": {},
   "source": [
    "今天我們來聊聊如何將 <a href=\"https://zh.wikipedia.org/wiki/Docker_(%E8%BB%9F%E9%AB%94)\" target=\"_blank\">Docker</a> 應用在資料科學領域裡頭吧！\n",
    "\n",
    "全文共分上下 2 篇，在這篇裡頭，我們將透過一些簡單的比喻來直觀地理解何謂 Docker，並讓你能在閱讀本文後馬上利用 Docker 來加速你的開發效率；在下篇的內容裡頭，我則會分享身為一個資料科學家，我經常在業界裡看到的 3 個 Docker 使用案例。\n",
    "\n",
    "不管是哪一篇，我們都不會深入探討 Docker 本身是以什麼技術被實現的。反之，我們將會專注在「應用」層面：如何把 Docker 實際應用在資料科學領域裡頭。\n",
    "\n",
    "這系列文章非常適合 2 種讀者：\n",
    "- 對 Docker 完全沒有概念，但想讓自己的 Workflow 更有效率的資料科學家\n",
    "- 熟悉 Docker，但想了解如何應用到資料科學領域的工程師\n",
    "\n",
    "讓我們開始吧！"
   ]
  },
  {
   "cell_type": "markdown",
   "metadata": {},
   "source": [
    "## 雲端運算 & Docker"
   ]
  },
  {
   "cell_type": "markdown",
   "metadata": {},
   "source": [
    "在解釋何謂 Docker 之前，讓我把你已經非常熟悉的雲端運算（Cloud Computing）老朋友叫出來。\n",
    "\n",
    "[Amazon Web Service（AWS）](https://aws.amazon.com/tw/)、[Google 雲端平台（GCP）](https://cloud.google.com/) 以及 [Microsoft Azure](https://azure.microsoft.com/zh-tw/) 大概是大家最耳熟能詳的幾家雲端計算 / 服務平台了。隨著時代的演進，這些平台提供越來越多樣的機器學習 API，讓開發人員不需做複雜的開發，透過一個 HTTP 要求就能直接使用各種酷炫的服務，比方說：\n",
    "- [Amazon Lex](https://aws.amazon.com/tw/lex/) 讓你使用 Amazon Alexa 的深度學習技術建立聊天機器人\n",
    "- [Google Cloud Vision API](https://cloud.google.com/vision/) 讓你快速建立一個圖像辨識服務\n",
    "- [Azure Content Moderate API](https://azure.microsoft.com/zh-tw/services/cognitive-services/content-moderator/) 讓你自動審核網路上的圖片以及文字\n",
    "\n",
    "儘管如此，很多時候只使用這些現成的 API 並不能滿足我們這些資料科學家（**D**ata **S**cientist）的野心。"
   ]
  },
  {
   "cell_type": "markdown",
   "metadata": {},
   "source": [
    "<center>\n",
    "    <img src=\"{filename}images/docker/network-2402637_1280.jpg\" style=\"width:90%\"/>\n",
    "</center>\n",
    "<center>\n",
    "    比起使用現成 API，如何運用雲端運算來 scale 各種數據處理工作是一個 DS / DE 更常問的問題\n",
    "    <br>\n",
    "    <br>\n",
    "    <br>\n",
    "</center>"
   ]
  },
  {
   "cell_type": "markdown",
   "metadata": {},
   "source": [
    "<a name=\"three-tasks\"></a>除了直接用各家雲端平台提供的 API 以外，一個 DS 可能更常需要利用雲端上的計算資源來完成以下的工作：\n",
    "1. 部署一些新的分析工具來提升分析團隊的效率\n",
    "2. 開發、訓練並部署自己的機器學習模型\n",
    "3. 對大量數據做批次處理，將結果儲存後顯示在儀表板上\n",
    "\n",
    "事實上，這就是本篇文章想要說明的 **3 件 DS 可以活用 Docker 完成的事情**。在我們熟悉 Docker 基本概念以後，就會分小節討論這些案例。\n",
    "\n",
    "（如果你已經非常熟悉 Docker，可以點擊以上任一工作的連結來跳過接下來的 Docker 教學，直接開始了解如何在這些案例裡頭應用 Docker）\n"
   ]
  },
  {
   "cell_type": "markdown",
   "metadata": {},
   "source": [
    "再看一次上面的 3 個工作，裡頭可不只包含「資料科學」。除了統計分析以及演算法以外，這些工作還包含了不少軟體工程、資料工程甚至 [DevOps](https://zh.wikipedia.org/wiki/DevOps) 成分。當然資料工程師（**D**ata **E**ngineer）可以幫助你，但如果你想要自己快速地兜出一個解法呢？"
   ]
  },
  {
   "cell_type": "markdown",
   "metadata": {},
   "source": [
    "<center>\n",
    "    <img src=\"{filename}images/docker/work-2005640_1280.jpg\" style=\"width:90%\"/>\n",
    "    <br>\n",
    "    <br>\n",
    "</center>"
   ]
  },
  {
   "cell_type": "markdown",
   "metadata": {},
   "source": [
    "你可能覺得一個 DS 要在各種 deadlines 內完成以上所有的事情是不可能的。不過後面我們會發現，活用 Docker 能讓這些工作變得簡單許多。\n",
    "\n",
    "對那些不太熟悉 Docker 的你，不用擔心，讓我們花點篇幅以 DS 的角度了解 Docker 到底是什麼技術。我相信閱讀接下來的文章，對你之後開發效率的提升是一個非常好的投資。"
   ]
  },
  {
   "cell_type": "markdown",
   "metadata": {},
   "source": [
    "## Docker：可愛的大鯨魚"
   ]
  },
  {
   "cell_type": "markdown",
   "metadata": {},
   "source": [
    "首先看看以下這張 Docker 示意圖："
   ]
  },
  {
   "cell_type": "markdown",
   "metadata": {},
   "source": [
    "<center>\n",
    "    <img src=\"{filename}images/docker/1_JAJ910fg52ODIRZjHXASBQ.png\" style=\"width:90%\"/>\n",
    "</center>\n",
    "<center>\n",
    "    <br>\n",
    "    <br>\n",
    "</center>"
   ]
  },
  {
   "cell_type": "markdown",
   "metadata": {},
   "source": [
    "有什麼感覺嗎？讓我們看著上圖，同時發揮點想像力。"
   ]
  },
  {
   "cell_type": "markdown",
   "metadata": {},
   "source": [
    "如果你把雲端運算的平台想像成一個充滿運算資源的大海的話，Docker 就是如圖中在裡頭悠遊的大鯨魚。這隻鯨魚將上述所有 DS 想要做的數據處理工作、執行的 App，一個個封裝成彼此獨立的貨櫃，並載著它們在這大海上運行。\n",
    "\n",
    "<a href=\"https://towardsdatascience.com/how-docker-can-help-you-become-a-more-effective-data-scientist-7fc048ef91d5\" target=\"_blank\">Docker</a> 提供的抽象化讓我們能輕鬆地運行任何想使用的資料科學工具、軟體而不需花費過多時間在建置底層環境。\n",
    "\n",
    "還是沒什麼感覺？讓我們看下去。"
   ]
  },
  {
   "cell_type": "markdown",
   "metadata": {},
   "source": [
    "## 鯨魚背上的貨櫃：Docker 容器\n",
    "\n",
    "實際上這一個個假想的貨櫃就代表著 Docker 術語裡頭的容器（Container）。\n",
    "\n",
    "「容器」顧名思義，是一個包含了「什麼東西」的器具。\n",
    "\n",
    "一般而言，一個容器裡包含了一個「完整」的 App。DS 常用的 App 可以是：\n",
    "- 一個包含 [TensorFlow](https://www.tensorflow.org/) 函式庫的 [Jupyter Notebook 伺服器](http://jupyter.org/)\n",
    "- 一個 ML 產品，如透過已訓練的模型來判斷圖片裡頭有沒有貓咪的 [Flask App](https://github.com/leemengtaiwan/cat-recognition-app)\n",
    "- 一個 SQL 查詢以及資料視覺化的工具，如 [Superset](https://github.com/apache/incubator-superset)\n",
    "- 一個簡單的 Python Script，針對輸入的大量數據做處理\n",
    "\n",
    "要從頭建構這些 App 的環境不是不可能，但除了基本的 `pip install` 以外你還需要花不少工夫，而且很多時候超出一個 DS 的能力。\n",
    "\n",
    "如果有人先幫我們把環境建好，我們不是就能馬上開始使用各種分析工具，進行各種有趣的分析，而不用苦惱著 google 哪個函式庫要怎麼安裝了嗎？\n",
    "\n",
    "Docker 的容器就是這樣的一個概念，幫你把一個 App 所需要的所有環境都「容」納在一起。"
   ]
  },
  {
   "cell_type": "markdown",
   "metadata": {},
   "source": [
    "<center>\n",
    "    <img src=\"{filename}images/docker/docker-inside-container.png\" style=\"width:90%\"/>\n",
    "</center>\n",
    "<center>\n",
    "    <a href=\"https://stackoverflow.com/a/50489813/2447655\" target=\"_blank\">Docker</a> 將一個 App 會使用到的 Python 函式庫、資料庫、甚至作業系統（OS）都包在一個自給自足的容器（CONTAINER）裡頭。想使用某個 App 的 DS 不用從頭建置環境，只需利用 Docker 啟動該容器即可開始工作\n",
    "    <br>\n",
    "    <br>\n",
    "    <br>\n",
    "</center>"
   ]
  },
  {
   "cell_type": "markdown",
   "metadata": {},
   "source": [
    "容器裡頭不只包含 App 自己本身的程式碼，也涵蓋了所有能讓這個 App 順利執行的必要環境。\n",
    "\n",
    "從上面的示意圖你可以猜到，這邊說的「環境」包含：\n",
    "- App 需要的各種 Python 函式庫，如特定版本的 TensorFlow、Pandas 及 Jupyter Notebook\n",
    "- MySQL、MongoDB 等 App 會用到的資料庫\n",
    "- App 會用到的各種 metadata、資料集\n",
    "- 各種 OS 限定的驅動程式（drivers）、依賴函式庫\n",
    "- （把所有你想得到的東西填進來）\n",
    "\n",
    "包羅萬象。\n",
    "\n",
    "因此只要我們能利用 Docker 把一個 App 需要執行的環境全部包在一個容器裡頭，我們就能在任何有 Docker 的地方啟動並運行該容器，而不用每次重新建置環境。\n",
    "\n",
    "而這正是 Docker 想要傳達給你的訊息："
   ]
  },
  {
   "cell_type": "code",
   "execution_count": null,
   "metadata": {},
   "outputs": [],
   "source": [
    "#blockquote\n",
    "Docker - Build, Ship, and Run Any App, Anywhere"
   ]
  },
  {
   "cell_type": "markdown",
   "metadata": {},
   "source": [
    "因為連 OS 都被包起來了，實際上每個容器（container）的執行環境都是自給自足的（self-contained）。\n",
    "\n",
    "你可以把它想像成非常輕量的[虛擬機器](https://zh.wikipedia.org/wiki/%E8%99%9B%E6%93%AC%E6%A9%9F%E5%99%A8)，其執行結果不會因為啟動該容器的」計算環境」不同而受到影響，在任何地方（Anywhere）都能執行，且執行的結果都是一樣的。\n",
    "\n",
    "以我們前面的比喻來說的話，每個貨櫃（容器 / App）都是我們想要 Docker 幫我們運送（執行）的東西，而不管 Docker 這隻鯨魚（或大船）現在在哪個海洋（計算環境）裡頭，它都能使命必達。"
   ]
  },
  {
   "cell_type": "markdown",
   "metadata": {},
   "source": [
    "<center>\n",
    "    <img src=\"{filename}images/docker/container-on-the-sea.png\" style=\"width:90%\"/>\n",
    "</center>\n",
    "<center>\n",
    "    <a href=\"https://flipboard.com/topic/container\" target=\"_blank\">Docker</a> 就像艘大船，幫我們在任何海洋（計算環境）上運送我們的貨櫃（容器）\n",
    "    <br>\n",
    "    <br>\n",
    "    <br>\n",
    "</center>"
   ]
  },
  {
   "cell_type": "markdown",
   "metadata": {},
   "source": [
    "天下沒有白吃的午餐。\n",
    "\n",
    "就算 Docker 幫我們抽象化建置一個 App 環境的工作，在執行一個容器的時候，我們還是需要實際的計算資源來跑這些容器。\n",
    "\n",
    "因此前面所謂的「計算環境」指的是一個擁有計算資源，且我們實際運行 Docker 的地方。這計算環境可以是任何一家雲端服務平台，如 AWS 的某台 [EC2 機器](https://aws.amazon.com/tw/ec2/)之上、[GCP](https://cloud.google.com/kubernetes-engine/) 上一個包含數千台機器的群集（Cluster），或是你現在用來看本文的筆電。只要 Docker 能在該計算環境下運行，它就能幫我們在該環境「之上」運送任何貨櫃（執行任何容器 / App）。\n",
    "\n",
    "簡單來說："
   ]
  },
  {
   "cell_type": "code",
   "execution_count": null,
   "metadata": {},
   "outputs": [],
   "source": [
    "#blockquote\n",
    "Docker 幫我們抽象化在任何 OS 上建置資料科學環境的工作。只要給 Docker 一個容器，它就能在任何地方執行該容器以供你使用。"
   ]
  },
  {
   "cell_type": "markdown",
   "metadata": {},
   "source": [
    "現在你對 Docker 有個高層次的理解了，讓我們來看看這些 Docker 容器實際上是怎麼來的吧！"
   ]
  },
  {
   "cell_type": "markdown",
   "metadata": {},
   "source": [
    "## 貨櫃（Docker 容器）從哪來"
   ]
  },
  {
   "cell_type": "markdown",
   "metadata": {},
   "source": [
    "在了解 Docker 這隻大鯨魚能幫我們運行任意的容器 / App 以後，你腦中浮現的第一個問題應該是：\n",
    "- 這些容器（貨櫃）最初是怎麼被產生的？"
   ]
  },
  {
   "cell_type": "markdown",
   "metadata": {},
   "source": [
    "非常好的一個問題。\n",
    "\n",
    "事實上，要產生一個新的 Docker 容器，Docker 需要一份「環境安裝步驟書」來讓它幫我們自動地建置容器內的環境，比方說使用什麼 OS，用什麼版本的 TensorFlow 等等。這份步驟書在 Docker 的世界裡被稱作 [Dockerfile](https://docs.docker.com/engine/reference/builder/)。\n",
    "\n",
    "舉個例子，以下是 Tensorflow 官方釋出的一個 [Dockerfile](https://github.com/tensorflow/tensorflow/blob/master/tensorflow/tools/docker/Dockerfile)（截錄重要部分）：\n",
    "\n",
    "```dockerfile\n",
    "FROM ubuntu:16.04\n",
    "\n",
    "...\n",
    "\n",
    "RUN pip --no-cache-dir install \\\n",
    "        ipykernel \\\n",
    "        jupyter \\\n",
    "        numpy \\\n",
    "        pandas \\\n",
    "        sklearn \\\n",
    "        && \\\n",
    "    python -m ipykernel.kernelspec\n",
    "\n",
    "...\n",
    "\n",
    "# Install TensorFlow CPU version from central repo\n",
    "RUN pip --no-cache-dir install \\\n",
    "    http://storage.googleapis.com/tensorflow/linux/cpu/tensorflow-0.0.0-cp27-none-linux_x86_64.whl\n",
    "\n",
    "...\n",
    "\n",
    "CMD [\"/run_jupyter.sh\", \"--allow-root\"]\n",
    "```\n",
    "\n",
    "除了 `RUN`、`CMD` 等 Docker 專屬的關鍵字以後，你會發現這份 Dockfile 其實就只是記錄了你平常可能在本地開發時也會使用的 `pip install` 指令來安裝 Python 函式庫。差別在於利用第一行的 `FROM ubuntu:16.04` 的指令，我們要求 Docker 在這個容器裡頭建置一個 Ubuntu OS 後，在其之上安裝這些函式庫。\n",
    "\n",
    "## 追求規模性：Docker 映像檔的誕生\n",
    "\n",
    "聽完以上的解釋，你可能會覺得在我們每次要啟動一個新的容器的時候，Docker 就得拿出 Dockerfile，一步步建置該容器的環境以後，再交給我們使用。\n",
    "\n",
    "這樣的實作也不是不行，但很沒有效率。為什麼？"
   ]
  },
  {
   "cell_type": "markdown",
   "metadata": {},
   "source": [
    "<center>\n",
    "    <img src=\"{filename}images/airflow/thought-2123970_1280.jpg\" style=\"width:90%\"/>\n",
    "    <br/>\n",
    "    <br/>\n",
    "</center>"
   ]
  },
  {
   "cell_type": "markdown",
   "metadata": {},
   "source": [
    "因為有時為了規模性（Scalability）的考量，你會想要用同一份 Dockerfile 在短時間內迅速地產生好幾個一模一樣的容器(s)：\n",
    "- 用多個相同的機器學習模型，同時對大量的新數據做預測\n",
    "- 使用多個相同的 Python Script 來處理大量數據\n",
    "\n",
    "這時候與其在每次要啟動新的容器時拿出 Dockerfile 從頭建置環境，Docker 可以先用這個 Dockerfile 把建置環境所需的步驟先做好一遍，然後存成一個 Docker 映像檔（image）等待使用者使用。\n",
    "\n",
    "等你之後決定要開始使用容器的時候， Docker 就能馬上利用該映像檔，啟動 1 個（或 100 個）相同的容器給你。"
   ]
  },
  {
   "cell_type": "markdown",
   "metadata": {},
   "source": [
    "<center>\n",
    "    <img src=\"{filename}images/docker/docker-three-basic-elements.png\" style=\"width:90%\"/>\n",
    "</center>\n",
    "<center>\n",
    "    <a href=\"https://medium.com/platformer-blog/practical-guide-on-writing-a-dockerfile-for-your-application-89376f88b3b5\" target=\"_blank\">Docker 三元素</a>： Dockerfile、Docker 映像檔以及 Docker 容器\n",
    "    <br>\n",
    "    <br>\n",
    "    <br>\n",
    "</center>"
   ]
  },
  {
   "cell_type": "markdown",
   "metadata": {},
   "source": [
    "到了這邊，我們已經了解 Docker 最基本也是最重要的概念："
   ]
  },
  {
   "cell_type": "code",
   "execution_count": null,
   "metadata": {},
   "outputs": [],
   "source": [
    "#blockquote\n",
    "Docker 利用 Dockerfile 預先建置（build）好一個 Docker 映像檔，在使用者想要使用容器的時候，以該映像檔為基礎，運行（run）一個對應的 Docker 容器"
   ]
  },
  {
   "cell_type": "markdown",
   "metadata": {},
   "source": [
    "坐而言不如起而行。\n",
    "\n",
    "在掌握了這些概念以後，我相信你也迫不及待地想要開始使用 Docker 了，接下來就讓我們實際操作一下 Docker 來體會一下它的威力。"
   ]
  },
  {
   "cell_type": "markdown",
   "metadata": {},
   "source": [
    "## Docker 映像檔：千層派"
   ]
  },
  {
   "cell_type": "markdown",
   "metadata": {},
   "source": [
    "不管你是 Windows 或是 Mac 用戶，你都可以很輕鬆地在[官方網站](https://www.docker.com/get-started)下載 Docker 並安裝。\n",
    "\n",
    "下載完以後啟動 Docker，大鯨魚就會在你的筆電上開始閒晃等待你的指示。一般而言，我們會在 terminal 使用各式 `docker` 指令來跟大鯨魚溝通。\n",
    "\n",
    "當 Docker 就緒以後，依照我們前面的所學，你會需要一個 Dockerfile 或是 Docker 映像檔來產生一個 Docker 容器。就像 [Github](https://github.com/) 是一個被大家拿來分享程式碼的地方，[Dockerhub](https://hub.docker.com/) 是一個被用來分享 Dockerfile 以及 Docker 映像檔的地方。\n",
    "\n",
    "假設我們現在想要開始使用 TensorFlow 開發機器學習專案，最方便的當然是直接使用一個 Docker 映像檔來產生一個 Docker 容器。現在馬上就讓我們利用 `docker` 指令來呼叫 Docker 幫我們從 Dockerhub 上面下載一個 TensorFlow 的映像檔：\n",
    "\n",
    "```sh\n",
    "docker pull tensorflow/tensorflow\n",
    "```\n",
    "\n",
    "\n",
    "\n",
    "千層派登場：\n",
    "\n",
    "```sh\n",
    "$ docker pull tensorflow/tensorflow\n",
    "Using default tag: latest\n",
    "latest: Pulling from tensorflow/tensorflow\n",
    "3b37166ec614: Already exists\n",
    "ba077e1ddb3a: Already exists\n",
    "34c83d2bc656: Already exists\n",
    "84b69b6e4743: Already exists\n",
    "0f72e97e1f61: Already exists\n",
    "6086c6484ab2: Pull complete\n",
    "25817b9e5842: Pull complete\n",
    "5252e5633f1c: Pull complete\n",
    "8de57ae4ad7d: Pull complete\n",
    "4b7717108c3b: Pull complete\n",
    "b65e9e47e80a: Pull complete\n",
    "006d31e013ea: Pull complete\n",
    "700521cc53f3: Pull complete\n",
    "Digest: sha256:f45d87bd473bf999241afe444748a2d3a9be24f8d736a808277b4f3e32159566\n",
    "Status: Downloaded newer image for tensorflow/tensorflow:latest\n",
    "```\n",
    "\n",
    "\n",
    "```\n",
    "docker run -it -p 1234:8888 tensorflow/tensorflow\n",
    "```"
   ]
  },
  {
   "cell_type": "markdown",
   "metadata": {},
   "source": [
    "這些說明對第一次接觸 Docker 的你可能還是顯得很抽象，"
   ]
  },
  {
   "cell_type": "markdown",
   "metadata": {},
   "source": [
    "## 實際動手做"
   ]
  },
  {
   "cell_type": "code",
   "execution_count": null,
   "metadata": {},
   "outputs": [],
   "source": []
  },
  {
   "cell_type": "code",
   "execution_count": null,
   "metadata": {},
   "outputs": [],
   "source": []
  },
  {
   "cell_type": "code",
   "execution_count": null,
   "metadata": {},
   "outputs": [],
   "source": []
  },
  {
   "cell_type": "markdown",
   "metadata": {},
   "source": [
    "## Docker 實戰演練：貓咪辨識 App"
   ]
  },
  {
   "cell_type": "code",
   "execution_count": null,
   "metadata": {},
   "outputs": [],
   "source": [
    "最好說明 Docker 的方式就是自己建立一個 App\n",
    "\n",
    "眼尖的你會發現，我們在[資料科學文摘 Vol.3 的 Docker for Data Scientists](https://leemeng.tw/data-science-digest-volume-3.html#Docker-for-Data-Scientists) 裡頭的 [Try it Yourself](https://leemeng.tw/data-science-digest-volume-3.html#Try-It-Yourself) 有稍微提到\n",
    "\n",
    "\n",
    "\n",
    "scale, 開一百個貨櫃"
   ]
  },
  {
   "cell_type": "code",
   "execution_count": null,
   "metadata": {},
   "outputs": [],
   "source": []
  },
  {
   "cell_type": "code",
   "execution_count": null,
   "metadata": {},
   "outputs": [],
   "source": []
  },
  {
   "cell_type": "markdown",
   "metadata": {},
   "source": [
    "## 開發、訓練並部署自己的機器學習模型\n",
    "## 對大量數據做批次處理，將結果儲存後顯示在儀表板上\n",
    "## 部署一些新的分析工具來提升工作效率"
   ]
  },
  {
   "cell_type": "code",
   "execution_count": null,
   "metadata": {},
   "outputs": [],
   "source": []
  },
  {
   "cell_type": "markdown",
   "metadata": {},
   "source": [
    "\n",
    "\n",
    "身為一個 DS ，你會想說沒時間學這些，但你只要學 Docker 就夠了，leverage the power of devops。\n",
    "\n",
    "> the antacode to complexity is abstraction\n",
    "\n",
    "\n",
    "\n",
    "\n",
    "\n",
    "章節\n",
    "* Big pictures - why docker?\n",
    "* 範例\n",
    "* Hands on \n",
    "\n",
    "\n",
    "如何快速建立環境，效率化\n",
    "\n",
    "嘗試各種新 tools 而不需要建環境\n",
    "* Superset\n",
    "* JupyterHub\n",
    "* Machine learning / data product\n",
    "    *  以貓咪 app 為例\n",
    "    * 最近幾篇用 Keras + flask 的文章看有沒有 docker\n",
    "* 快速進入 production\n",
    "    * AWS ECR\n",
    "    * sagemaker\n",
    "\n",
    "\n",
    "別人寫好的分析\n"
   ]
  },
  {
   "cell_type": "markdown",
   "metadata": {},
   "source": []
  },
  {
   "cell_type": "markdown",
   "metadata": {},
   "source": [
    "```sh\n",
    "docker pull leemeng/cat\n",
    "docker run -p 1234:5000 leemeng/cat\n",
    "```\n",
    "\n",
    "```text\n",
    "Using default tag: latest\n",
    "latest: Pulling from leemeng/cat\n",
    "85b1f47fba49: Pull complete\n",
    "ba6bd283713a: Pull complete\n",
    "817c8cd48a09: Pull complete\n",
    "47cc0ed96dc3: Pull complete\n",
    "4a36819a59dc: Pull complete\n",
    "db9a0221399f: Pull complete\n",
    "7a511a7689b6: Pull complete\n",
    "1223757f6914: Pull complete\n",
    "1402462a2f89: Pull complete\n",
    "99f801751722: Pull complete\n",
    "da1f8a029642: Pull complete\n",
    "Digest: sha256:7a65f2a9d60b73320733541d4a3263de7b512b0963ff2ab12139f763af67aa47\n",
    "Status: Downloaded newer image for leemeng/cat:latest\n",
    "```"
   ]
  },
  {
   "cell_type": "markdown",
   "metadata": {},
   "source": [
    "\n",
    "<center>\n",
    "    <img src=\"{filename}images/docker/cat-demo.jpg\" style=\"width:90%\"/>\n",
    "</center>\n",
    "<center>\n",
    "    貓咪測試員一號\n",
    "    <br>\n",
    "    <br>\n",
    "    <br>\n",
    "</center>"
   ]
  },
  {
   "cell_type": "code",
   "execution_count": null,
   "metadata": {},
   "outputs": [],
   "source": [
    "```\n",
    "sudo  docker ps --format \"table {{.ID}}\\t{{.Image}}\\t{{.Names}}\"\n",
    "CONTAINER ID        IMAGE               NAMES\n",
    "6c358757fcca        jupyterhub-user     jupyter-leemengtaiwan\n",
    "83d70c2584ac        jupyterhub          jupyterhub\n",
    "5da5308aab6f        postgres:9.5        jupyterhub-db\n",
    "```"
   ]
  },
  {
   "cell_type": "code",
   "execution_count": null,
   "metadata": {},
   "outputs": [],
   "source": []
  },
  {
   "cell_type": "code",
   "execution_count": null,
   "metadata": {},
   "outputs": [],
   "source": []
  },
  {
   "cell_type": "markdown",
   "metadata": {},
   "source": [
    "## Docker Cheat Sheet\n",
    "我會新增，你可能提供我沒講到的。"
   ]
  },
  {
   "cell_type": "code",
   "execution_count": null,
   "metadata": {},
   "outputs": [],
   "source": []
  },
  {
   "cell_type": "code",
   "execution_count": null,
   "metadata": {},
   "outputs": [],
   "source": []
  },
  {
   "cell_type": "code",
   "execution_count": null,
   "metadata": {},
   "outputs": [],
   "source": []
  },
  {
   "cell_type": "code",
   "execution_count": null,
   "metadata": {},
   "outputs": [],
   "source": [
    "抽象化"
   ]
  },
  {
   "cell_type": "code",
   "execution_count": null,
   "metadata": {},
   "outputs": [],
   "source": [
    "下次問問別人：你的 Docker Image 呢？"
   ]
  }
 ],
 "metadata": {
  "kernelspec": {
   "display_name": "Python 3",
   "language": "python",
   "name": "python3"
  },
  "language_info": {
   "codemirror_mode": {
    "name": "ipython",
    "version": 3
   },
   "file_extension": ".py",
   "mimetype": "text/x-python",
   "name": "python",
   "nbconvert_exporter": "python",
   "pygments_lexer": "ipython3",
   "version": "3.7.0"
  }
 },
 "nbformat": 4,
 "nbformat_minor": 2
}
