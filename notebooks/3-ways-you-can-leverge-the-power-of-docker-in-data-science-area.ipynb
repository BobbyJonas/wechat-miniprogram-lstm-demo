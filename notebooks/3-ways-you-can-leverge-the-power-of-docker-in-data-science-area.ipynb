{
 "cells": [
  {
   "cell_type": "markdown",
   "metadata": {},
   "source": [
    "- author: Lee Meng\n",
    "- date: 2018-09-04 23:45\n",
    "- title: 3 種你能在數據科學中活用 Docker 的方式\n",
    "- slug: 3-ways-you-can-leverge-the-power-of-docker-in-data-science-area\n",
    "- tags: 資料科學, Docker\n",
    "- description: TEST\n",
    "- summary: TEST\n",
    "- image: docker-cover.jpg\n",
    "- image_credit_url: https://www.flickr.com/photos/134416355@N07/31518965950\n",
    "- status: draft"
   ]
  },
  {
   "cell_type": "markdown",
   "metadata": {},
   "source": [
    "今天我們來聊聊如何將 [Docker](https://zh.wikipedia.org/wiki/Docker_(%E8%BB%9F%E9%AB%94) 應用在資料科學領域裡頭吧！\n",
    "\n",
    "在這篇文章裡頭，我會用一些簡單的比喻來說明何謂 Docker，以及身為資料科學家的我常使用 Docker 的 3 種方式。我們不會深入探討 Docker 本身的實作技術，但會讓你對如何在資料科學領域使用 Docker 有個高層次的理解。\n",
    "\n",
    "這篇適合 2 種讀者：\n",
    "- 對 Docker 有基本知識，想讓自己的 Workflow 更有效率的資料科學家\n",
    "- 熟悉 Docker，但想了解如何將其應用到資料科學領域的工程師\n",
    "\n",
    "讓我們開始吧！"
   ]
  },
  {
   "cell_type": "markdown",
   "metadata": {},
   "source": [
    "## 雲端運算 & Docker"
   ]
  },
  {
   "cell_type": "markdown",
   "metadata": {},
   "source": [
    "在解釋何謂 Docker 之前，讓我把你已經非常熟悉的雲端運算（Cloud Computing）老朋友叫出來。\n",
    "\n",
    "[Amazon Web Service（AWS）](https://aws.amazon.com/tw/)、[Google 雲端平台（GCP）](https://cloud.google.com/) 以及 [Microsoft Azure](https://azure.microsoft.com/zh-tw/) 大概是大家最耳熟能詳的幾家雲端計算 / 服務平台了。隨著時代的演進，這些平台提供越來越多樣的機器學習 API，讓使用者不需做複雜的開發，透過一個 HTTP 要求就能直接使用各種酷炫的服務，比方說：\n",
    "- [Amazon Lex](https://aws.amazon.com/tw/lex/) 讓你使用 Amazon Alexa 的深度學習技術建立聊天機器人\n",
    "- [Google Cloud Vision API](https://cloud.google.com/vision/) 讓你快速建立一個圖像辨識服務\n",
    "- [Azure Content Moderate API](https://azure.microsoft.com/zh-tw/services/cognitive-services/content-moderator/) 讓你自動審核網路上的圖片以及文字\n",
    "\n",
    "儘管如此，很多時候只使用這些現成的 API 並不能滿足我們這些資料科學家（**D**ata **S**cientist）的野心。"
   ]
  },
  {
   "cell_type": "markdown",
   "metadata": {},
   "source": [
    "<center>\n",
    "    <img src=\"{filename}images/docker/network-2402637_1280.jpg\" style=\"width:90%\"/>\n",
    "</center>\n",
    "<center>\n",
    "    比起使用現成 API，如何運用雲端運算來 scale 各種數據處理工作是一個 DS / DE 更常問的問題\n",
    "    <br>\n",
    "    <br>\n",
    "    <br>\n",
    "</center>"
   ]
  },
  {
   "cell_type": "markdown",
   "metadata": {},
   "source": [
    "<a name=\"three-tasks\"></a>除了直接使用各家雲端平台提供的 API 以外，一個 DS 可能更常利用雲端上的計算資源來完成以下的工作：\n",
    "- 開發、訓練並部署自己的機器學習模型\n",
    "- 對大量數據做批次處理，將結果儲存後顯示在儀表板上\n",
    "- 部署一些新的分析工具來提升工作效率\n",
    "\n",
    "事實上，這就是本篇文章想要說明的 3 件 DS 可以活用 Docker 完成的數據工作。\n"
   ]
  },
  {
   "cell_type": "markdown",
   "metadata": {},
   "source": [
    "我想你也察覺到了，這些工作並不只包含「資料科學」。除了統計分析以及演算法，這些工作還包含了不少軟體工程、資料工程甚至 [DevOps](https://zh.wikipedia.org/wiki/DevOps) 成分。當然資料工程師（**D**ata **E**ngineer）可以幫助你，但如果你想要自己快速地兜出一個解法呢？"
   ]
  },
  {
   "cell_type": "markdown",
   "metadata": {},
   "source": [
    "<center>\n",
    "    <img src=\"{filename}images/docker/work-2005640_1280.jpg\" style=\"width:90%\"/>\n",
    "</center>"
   ]
  },
  {
   "cell_type": "markdown",
   "metadata": {},
   "source": [
    "你可能覺得一個 DS 要在各種 deadlines 內完成以上所有事情是不可能的。不過後面我們會發現，活用 Docker 能讓這些工作變得簡單許多。\n",
    "\n",
    "如果你已經很熟悉 Docker，可以點擊[上面 3 個工作的任一連結](#three-tasks)，直接開始了解如何應用 Docker。\n",
    "\n",
    "對那些不太熟悉 Docker 的你，則讓我們花點篇幅，以 DS 的角度了解 Docker 到底是什麼技術。"
   ]
  },
  {
   "cell_type": "markdown",
   "metadata": {},
   "source": [
    "## Docker：可愛的大鯨魚"
   ]
  },
  {
   "cell_type": "markdown",
   "metadata": {},
   "source": [
    "首先看看以下這張 Docker 示意圖："
   ]
  },
  {
   "cell_type": "markdown",
   "metadata": {},
   "source": [
    "<center>\n",
    "    <img src=\"{filename}images/docker/1_JAJ910fg52ODIRZjHXASBQ.png\" style=\"width:90%\"/>\n",
    "</center>\n",
    "<center>\n",
    "    <a href=\"https://towardsdatascience.com/how-docker-can-help-you-become-a-more-effective-data-scientist-7fc048ef91d5\" target=\"_blank\">Docker</a> 提供的抽象化讓我們能輕鬆地運行任何想使用的資料科學工具、軟體而不需花費過多時間在建置底層的環境\n",
    "    <br>\n",
    "    <br>\n",
    "    <br>\n",
    "</center>"
   ]
  },
  {
   "cell_type": "markdown",
   "metadata": {},
   "source": [
    "有什麼感覺嗎？讓我們發揮點想像力。"
   ]
  },
  {
   "cell_type": "markdown",
   "metadata": {},
   "source": [
    "如果你把雲端運算的平台想像成一個充滿水（運算資源）的大海的話，Docker 就是一隻可愛的大鯨魚。這隻鯨魚將上述所有 DS 想要做的數據處理工作、執行的 App，一個個封裝成彼此獨立的貨櫃，並載著它們在這大海上自由漫遊。"
   ]
  },
  {
   "cell_type": "markdown",
   "metadata": {},
   "source": [
    "有了這個比喻後，回去上面看看 Docker，有沒有覺得 Docker 想傳達的概念變得稍微清楚一點了呢？"
   ]
  },
  {
   "cell_type": "markdown",
   "metadata": {},
   "source": [
    "## 鯨魚背上的貨櫃 = Docker 容器\n",
    "\n",
    "如果你稍微暸解 Docker 的話，就會明白這一個個假想的貨櫃實際上就代表著 Docker 術語裡頭一個個的容器（Container）。\n",
    "\n",
    "每個容器一般來說，都是一個「完整」的 App。DS 常用的 App 可以是：\n",
    "- 一個包含 [TensorFlow](https://www.tensorflow.org/) 函式庫的 [Jupyter Notebook](http://jupyter.org/)\n",
    "- 一個 ML 產品，如透過已訓練的模型來對新數據做預測的 Web Server\n",
    "- 一個 BI 工具如 [Superset](https://github.com/apache/incubator-superset)\n",
    "- 一個簡單的 Python Script，針對輸入的大量數據做處理\n",
    "\n",
    "相信你很清楚，要從頭建構這些 App，尤其是跟深度學習相關的函式庫，在建構環境時除了 `pip install` 以外還需要花不少工夫。\n",
    "\n",
    "Docker 的容器則幫你把所有 App 需要的環境都「容」納在一起。\n",
    "\n",
    "容器裡頭不只包含 App 自己本身的程式碼，也涵蓋了所有能讓這個 App 順利執行的必要環境。這邊說的環境可以是\n",
    "- App 需要的各種 Python 函式庫，如特定版本的 TensorFlow、Pandas 及 Jupyter Notebook\n",
    "- MySQL、MongoDB 等 App 會用到的資料庫\n",
    "- App 會用到的各種 metadata、資料集\n",
    "- 各種 OS 限定的驅動程式（drivers）、依賴函式庫\n",
    "\n",
    "包羅萬象。\n",
    "\n",
    "因此只要我們能使用 Docker 以及容器技術（Containerization）把一個 App 需要執行的環境全部包在一個容器裡頭，我們就能在任何計算環境中啟動並運行任何 App。\n",
    "\n",
    "而這正是 Docker 想要傳達給你的訊息："
   ]
  },
  {
   "cell_type": "code",
   "execution_count": null,
   "metadata": {},
   "outputs": [],
   "source": [
    "#blockquote\n",
    "Docker - Build, Ship, and Run Any App, Anywhere"
   ]
  },
  {
   "cell_type": "markdown",
   "metadata": {},
   "source": [
    "實際上每個容器的執行都是自給自足的（self-contained），你可以把它想像成非常輕量的[虛擬機器](https://zh.wikipedia.org/wiki/%E8%99%9B%E6%93%AC%E6%A9%9F%E5%99%A8)，其執行結果不會因為啟動該容器的計算環境不同而受到影響，在任何地方（Anywhere）都能執行，且執行的結果都是一樣的。\n",
    "\n",
    "以我們前面的比喻來說的話，每個貨櫃（容器 / App）都是我們想要 Docker 幫我們運送（執行）的東西，而不管 Docker 這隻鯨魚現在在哪個海洋（計算環境）裡頭，它都能使命必達。\n",
    "\n",
    "這邊所謂的「計算環境」指的是一個擁有計算資源，且我們實際運行 Docker 的地方。這計算環境可以是任何一家雲端服務平台，如 AWS 的某台 [EC2 機器](https://aws.amazon.com/tw/ec2/)之上、一個包含數千台機器的群集（Cluster），或是你現在用來看本文的那台筆電。只要 Docker 能在該計算環境下運行，它就能幫我們在該環境「之上」運送任何貨櫃（執行任何容器 / App）。\n",
    "\n",
    "簡單來說："
   ]
  },
  {
   "cell_type": "code",
   "execution_count": null,
   "metadata": {},
   "outputs": [],
   "source": [
    "#blockquote\n",
    "Docker 幫我們抽象化在任何 OS 上建置資料科學環境的工作。只要給 Docker 一個我們想使用的 App 的容器，它就能幫你在任何地方執行它。"
   ]
  },
  {
   "cell_type": "markdown",
   "metadata": {},
   "source": [
    "這些說明對第一次接觸 Docker 的你可能還是顯得很抽象，接下來讓我們實際操作 Docker 來體會一下這些概念。"
   ]
  },
  {
   "cell_type": "markdown",
   "metadata": {},
   "source": [
    "## 實際動手做"
   ]
  },
  {
   "cell_type": "code",
   "execution_count": null,
   "metadata": {},
   "outputs": [],
   "source": []
  },
  {
   "cell_type": "code",
   "execution_count": null,
   "metadata": {},
   "outputs": [],
   "source": []
  },
  {
   "cell_type": "code",
   "execution_count": null,
   "metadata": {},
   "outputs": [],
   "source": []
  },
  {
   "cell_type": "markdown",
   "metadata": {},
   "source": [
    "### 貨櫃從哪來\n",
    "\n",
    "\n",
    "\n",
    "\n",
    "\n",
    "\n",
    "\n",
    "\n",
    "\n",
    "\n",
    "在了解 Docker 這隻大鯨魚能幫我們運行任意的容器 / App 以後，你腦中浮現的第一個問題應該是：\n",
    "- 那這些容器（貨櫃）當初是怎麼被產生的？\n",
    "\n",
    "非常好的一個問題。\n",
    "\n",
    "事實上，每個貨櫃背後都有一個被稱為 Dockerfile 的設計圖，該設計圖裡頭包含了所有建構這個貨櫃需要的步驟，比方說安裝 TensorFlow 以及 Juypyter Notebook。以下是一個包含 TensorFlow 的 Jupyter Notebook 容器的 [Dockerfile](https://github.com/tensorflow/tensorflow/blob/master/tensorflow/tools/docker/Dockerfile)（截錄重要部分）：\n",
    "\n",
    "\n",
    "```dockerfile\n",
    "FROM ubuntu:16.04\n",
    "\n",
    "...\n",
    "\n",
    "RUN pip --no-cache-dir install \\\n",
    "        ipykernel \\\n",
    "        jupyter \\\n",
    "        matplotlib \\\n",
    "        numpy \\\n",
    "        pandas \\\n",
    "        sklearn \\\n",
    "        && \\\n",
    "    python -m ipykernel.kernelspec\n",
    "\n",
    "...\n",
    "\n",
    "# Install TensorFlow CPU version from central repo\n",
    "RUN pip --no-cache-dir install \\\n",
    "    http://storage.googleapis.com/tensorflow/linux/cpu/tensorflow-0.0.0-cp27-none-linux_x86_64.whl\n",
    "\n",
    "...\n",
    "\n",
    "CMD [\"/run_jupyter.sh\", \"--allow-root\"]\n",
    "```\n",
    "\n",
    "Docker 聰明的地方在於，\n",
    "\n",
    "\n",
    "只要你有一個映像檔， Docker 就能幫你「快速地」打造一個容器\n",
    "\n",
    "\n",
    "我這樣一說，你可能會覺得每次當我們需要一個貨櫃（容器）的時候，Docker 就去看該設計圖來建置環境 \n",
    "\n",
    "但這邊你會看到一個 Docker 很聰明的地方：Docker \n",
    "\n",
    "\n",
    "```sh\n",
    "docker pull tensorflow/tensorflow\n",
    "```\n",
    "\n",
    "\n",
    "```sh\n",
    "$ docker pull tensorflow/tensorflow\n",
    "Using default tag: latest\n",
    "latest: Pulling from tensorflow/tensorflow\n",
    "3b37166ec614: Already exists\n",
    "ba077e1ddb3a: Already exists\n",
    "34c83d2bc656: Already exists\n",
    "84b69b6e4743: Already exists\n",
    "0f72e97e1f61: Already exists\n",
    "6086c6484ab2: Pull complete\n",
    "25817b9e5842: Pull complete\n",
    "5252e5633f1c: Pull complete\n",
    "8de57ae4ad7d: Pull complete\n",
    "4b7717108c3b: Pull complete\n",
    "b65e9e47e80a: Pull complete\n",
    "006d31e013ea: Pull complete\n",
    "700521cc53f3: Pull complete\n",
    "Digest: sha256:f45d87bd473bf999241afe444748a2d3a9be24f8d736a808277b4f3e32159566\n",
    "Status: Downloaded newer image for tensorflow/tensorflow:latest\n",
    "```\n",
    "\n",
    "\n",
    "```\n",
    "docker run -it -p 1234:8888 tensorflow/tensorflow\n",
    "```\n",
    "\n"
   ]
  },
  {
   "cell_type": "markdown",
   "metadata": {},
   "source": [
    "## Docker 實戰演練：貓咪辨識 App"
   ]
  },
  {
   "cell_type": "code",
   "execution_count": null,
   "metadata": {},
   "outputs": [],
   "source": [
    "最好說明 Docker 的方式就是自己建立一個 App\n",
    "\n",
    "眼尖的你會發現，我們在[資料科學文摘 Vol.3 的 Docker for Data Scientists](https://leemeng.tw/data-science-digest-volume-3.html#Docker-for-Data-Scientists) 裡頭的 [Try it Yourself](https://leemeng.tw/data-science-digest-volume-3.html#Try-It-Yourself) 有稍微提到\n",
    "\n",
    "\n",
    "\n",
    "scale, 開一百個貨櫃"
   ]
  },
  {
   "cell_type": "code",
   "execution_count": null,
   "metadata": {},
   "outputs": [],
   "source": []
  },
  {
   "cell_type": "code",
   "execution_count": null,
   "metadata": {},
   "outputs": [],
   "source": []
  },
  {
   "cell_type": "markdown",
   "metadata": {},
   "source": [
    "## 開發、訓練並部署自己的機器學習模型\n",
    "## 對大量數據做批次處理，將結果儲存後顯示在儀表板上\n",
    "## 部署一些新的分析工具來提升工作效率"
   ]
  },
  {
   "cell_type": "code",
   "execution_count": null,
   "metadata": {},
   "outputs": [],
   "source": []
  },
  {
   "cell_type": "markdown",
   "metadata": {},
   "source": [
    "\n",
    "\n",
    "身為一個 DS ，你會想說沒時間學這些，但你只要學 Docker 就夠了，leverage the power of devops。\n",
    "\n",
    "> the antacode to complexity is abstraction\n",
    "\n",
    "\n",
    "\n",
    "\n",
    "\n",
    "章節\n",
    "* Big pictures - why docker?\n",
    "* 範例\n",
    "* Hands on \n",
    "\n",
    "\n",
    "如何快速建立環境，效率化\n",
    "\n",
    "嘗試各種新 tools 而不需要建環境\n",
    "* Superset\n",
    "* JupyterHub\n",
    "* Machine learning / data product\n",
    "    *  以貓咪 app 為例\n",
    "    * 最近幾篇用 Keras + flask 的文章看有沒有 docker\n",
    "* 快速進入 production\n",
    "    * AWS ECR\n",
    "    * sagemaker\n",
    "\n",
    "\n",
    "別人寫好的分析\n"
   ]
  },
  {
   "cell_type": "markdown",
   "metadata": {},
   "source": []
  },
  {
   "cell_type": "markdown",
   "metadata": {},
   "source": [
    "```sh\n",
    "docker pull leemeng/cat\n",
    "docker run -p 1234:5000 leemeng/cat\n",
    "```\n",
    "\n",
    "```text\n",
    "Using default tag: latest\n",
    "latest: Pulling from leemeng/cat\n",
    "85b1f47fba49: Pull complete\n",
    "ba6bd283713a: Pull complete\n",
    "817c8cd48a09: Pull complete\n",
    "47cc0ed96dc3: Pull complete\n",
    "4a36819a59dc: Pull complete\n",
    "db9a0221399f: Pull complete\n",
    "7a511a7689b6: Pull complete\n",
    "1223757f6914: Pull complete\n",
    "1402462a2f89: Pull complete\n",
    "99f801751722: Pull complete\n",
    "da1f8a029642: Pull complete\n",
    "Digest: sha256:7a65f2a9d60b73320733541d4a3263de7b512b0963ff2ab12139f763af67aa47\n",
    "Status: Downloaded newer image for leemeng/cat:latest\n",
    "```"
   ]
  },
  {
   "cell_type": "markdown",
   "metadata": {},
   "source": [
    "\n",
    "<center>\n",
    "    <img src=\"{filename}images/docker/cat-demo.jpg\" style=\"width:90%\"/>\n",
    "</center>\n",
    "<center>\n",
    "    貓咪測試員一號\n",
    "    <br>\n",
    "    <br>\n",
    "    <br>\n",
    "</center>"
   ]
  },
  {
   "cell_type": "code",
   "execution_count": null,
   "metadata": {},
   "outputs": [],
   "source": [
    "```\n",
    "sudo  docker ps --format \"table {{.ID}}\\t{{.Image}}\\t{{.Names}}\"\n",
    "CONTAINER ID        IMAGE               NAMES\n",
    "6c358757fcca        jupyterhub-user     jupyter-leemengtaiwan\n",
    "83d70c2584ac        jupyterhub          jupyterhub\n",
    "5da5308aab6f        postgres:9.5        jupyterhub-db\n",
    "```"
   ]
  },
  {
   "cell_type": "code",
   "execution_count": null,
   "metadata": {},
   "outputs": [],
   "source": []
  },
  {
   "cell_type": "code",
   "execution_count": null,
   "metadata": {},
   "outputs": [],
   "source": []
  },
  {
   "cell_type": "markdown",
   "metadata": {},
   "source": [
    "## Docker Cheat Sheet\n",
    "我會新增，你可能提供我沒講到的。"
   ]
  },
  {
   "cell_type": "code",
   "execution_count": null,
   "metadata": {},
   "outputs": [],
   "source": []
  },
  {
   "cell_type": "code",
   "execution_count": null,
   "metadata": {},
   "outputs": [],
   "source": []
  },
  {
   "cell_type": "code",
   "execution_count": null,
   "metadata": {},
   "outputs": [],
   "source": []
  },
  {
   "cell_type": "code",
   "execution_count": null,
   "metadata": {},
   "outputs": [],
   "source": [
    "抽象化"
   ]
  },
  {
   "cell_type": "code",
   "execution_count": null,
   "metadata": {},
   "outputs": [],
   "source": [
    "下次問問別人：你的 Docker Image 呢？"
   ]
  }
 ],
 "metadata": {
  "kernelspec": {
   "display_name": "Python 3",
   "language": "python",
   "name": "python3"
  },
  "language_info": {
   "codemirror_mode": {
    "name": "ipython",
    "version": 3
   },
   "file_extension": ".py",
   "mimetype": "text/x-python",
   "name": "python",
   "nbconvert_exporter": "python",
   "pygments_lexer": "ipython3",
   "version": "3.7.0"
  }
 },
 "nbformat": 4,
 "nbformat_minor": 2
}
