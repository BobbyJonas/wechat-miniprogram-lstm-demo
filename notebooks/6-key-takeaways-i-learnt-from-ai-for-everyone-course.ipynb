{
 "cells": [
  {
   "cell_type": "markdown",
   "metadata": {},
   "source": [
    "- author: Lee Meng\n",
    "- date: 2019-03-04 08:00\n",
    "- title: 我從 AI For Everyone 學到的 10 個重要概念\n",
    "- slug: 6-key-takeaways-i-learnt-from-ai-for-everyone-course\n",
    "- tags: 人工智慧, 資料科學, 機器學習\n",
    "- description: \n",
    "- summary: \n",
    "- image: joseph-barrientos-93565-unsplash.jpg\n",
    "- image_credit_url: https://unsplash.com/photos/eUMEWE-7Ewg?utm_source=unsplash&utm_medium=referral&utm_content=creditCopyText"
   ]
  },
  {
   "cell_type": "markdown",
   "metadata": {},
   "source": [
    "!quote\n",
    "- 在這個人機共存的年代，每個人都應該去嘗試瞭解和運用人工智慧這個超能力，並思考未來自己在這個變化快速的世界中的定位。"
   ]
  },
  {
   "cell_type": "markdown",
   "metadata": {},
   "source": [
    "曾經領導 Google Brain 的[吳恩達](https://zh.wikipedia.org/wiki/%E5%90%B4%E6%81%A9%E8%BE%BE)這幾天公開了新的 [Coursera](https://www.coursera.org/) 課程：[AI For Everyone](https://www.coursera.org/learn/ai-for-everyone)。這堂課不談技術術語，專注在與非技術人士以及企業經理人說明：\n",
    "- 何謂 AI\n",
    "- 如何建立 AI 專案\n",
    "- 如何在企業內部建立 AI 基礎\n",
    "- AI 與社會的關係\n",
    "\n",
    "課程內容精要，總結了不少他多年在 Google Brain、百度裡領導 AI 團隊所累積的寶貴經驗。這堂課也提到了不少 [AI Transformation Playbook](https://landing.ai/ai-transformation-playbook/) 裡頭的內容。"
   ]
  },
  {
   "cell_type": "markdown",
   "metadata": {},
   "source": [
    "!image\n",
    "- ai-for-everyone/course.png\n",
    "- Coursera 上的 AI For Everyone\n",
    "- https://www.coursera.org/learn/ai-for-everyone"
   ]
  },
  {
   "cell_type": "markdown",
   "metadata": {},
   "source": [
    "雖然課程中很多時候是以 CEO 或是企業管理者的角度去說明 AI 概念，但即使以**個人**的角度，我們每個人都可以從本課學到不少有用的建議以及思考框架，幫助自己在這個 AI 時代掌好自己的舵。\n",
    "\n",
    "以下列舉出我認為本課中最值得記住的 10 個重要 AI 概念。希望能讓沒有時間上課的你馬上學到些東西。\n",
    "\n",
    "值得一提的是，這篇只是我自己上完課的心得總結，而你在上完課後肯定會有其他見解。事實上，如果你對 AI 有興趣，我會推薦你在閱讀本文後實際去上這堂課，或是透過[其他方式](https://github.com/leemengtaiwan/deep-learning-resources)進一步了解 AI。"
   ]
  },
  {
   "cell_type": "markdown",
   "metadata": {},
   "source": [
    "## 30 秒課程懶人包"
   ]
  },
  {
   "cell_type": "markdown",
   "metadata": {},
   "source": [
    "以下列舉出本課程中我認為最值得記住的 10 個 AI 概念。如果你時間真的不多，可以只看這節就好：\n",
    "\n",
    "1. 講到 AI，我們通常是指狹義的 AI 而非終結者\n",
    "2. 大數據、複雜神經網路以及運算能力是 AI 成功關鍵\n",
    "3. 只需花費你 1 秒的任務，未來大都可由 AI 來做\n",
    "4. 機器學習 & 資料科學的產出分別是軟體 & 洞見\n",
    "5. 機器學習專案 3 步驟：蒐集資料、訓練模型、部署模型\n",
    "6. 我們對 AI 的態度應該不過度樂觀，但也不需過度悲觀\n",
    "7. 消除 AI 的偏見不容易，但或許比消除人類偏見簡單\n",
    "    - google 那篇，消除 bias 的動畫（看文件的 gif）\n",
    "8. 擁抱 AI 的最好方法是將其與你的領域專業結合\n",
    "9. 在 AI 時代，你得思考未來自己想要扮演的角色\n",
    "    - 你在找的是這個金 DS 還是這個銀 MLE?\n",
    "10. 終身學習的態度在這個年代前所未有地重要\n",
    "    - 你不需要 4, 5 年經驗\n",
    "    - 李鴻毅說的：深度學習感覺超過五年就是遠古時代\n",
    "\n",
    "是的，既然是 AI For Everyone，自然沒有什麼艱深內容，你或許還可能嗤之以鼻。\n",
    "\n",
    "但就像吳恩達教授在課程裡頭所說的，這些核心概念可以引導我們在這個 AI 時代中更有方向、順利地前進。\n",
    "\n",
    "本文接著會分別針對上面提到的幾點概念，附上課程中對應的投影片以及補充說明，供你參考。"
   ]
  },
  {
   "cell_type": "code",
   "execution_count": null,
   "metadata": {},
   "outputs": [],
   "source": []
  },
  {
   "cell_type": "code",
   "execution_count": null,
   "metadata": {},
   "outputs": [],
   "source": [
    "在 AI 時代，你想扮演什麼角色？"
   ]
  },
  {
   "cell_type": "code",
   "execution_count": null,
   "metadata": {},
   "outputs": [],
   "source": []
  },
  {
   "cell_type": "code",
   "execution_count": null,
   "metadata": {},
   "outputs": [],
   "source": [
    "個人角度"
   ]
  },
  {
   "cell_type": "code",
   "execution_count": null,
   "metadata": {},
   "outputs": [],
   "source": [
    "導航"
   ]
  },
  {
   "cell_type": "code",
   "execution_count": null,
   "metadata": {},
   "outputs": [],
   "source": [
    "終身學習"
   ]
  },
  {
   "cell_type": "code",
   "execution_count": null,
   "metadata": {},
   "outputs": [],
   "source": [
    "\n",
    "\n",
    "Framework\n",
    "* Think what is your role in AI-powered company / society?\n",
    "* Education 的改變，你不需要 master, 而只需要幾門 online courses 就能開始\n",
    "* 就連我們都有 bias、更不用說用我們資料學的 Ai。但好處是消除 ai 的 bias 比消除人的簡單\n",
    "* \n",
    "\n",
    "Get started and keep the momentum\n",
    "\n",
    "* A to B mapping\n",
    "* Big data, big neural network\n",
    "* What is a truly AI company? \n",
    "* Software (software 2.0 那篇文章), NN has nothing to do with brain\n",
    "* Machine learning vs data science\n",
    "    * 產出不一樣，前者是 software, 後者是 insight\n",
    "* What ai can / can’t do: One second rule\n",
    "* ML PJ steps: Prepare data -> train model -> deploy model\n",
    "* DS PJ steps: Prepare data -> analyze data -> suggested hypothesis / actions\n",
    "* 3 ideas for brainstorming AI pj\n",
    "* build vs buy\n"
   ]
  },
  {
   "cell_type": "code",
   "execution_count": null,
   "metadata": {},
   "outputs": [],
   "source": []
  },
  {
   "cell_type": "code",
   "execution_count": null,
   "metadata": {},
   "outputs": [],
   "source": [
    "儘管 AI 有其侷限，只要你能找出能應用 AI 的任務，它就是你的超能力。"
   ]
  },
  {
   "cell_type": "markdown",
   "metadata": {},
   "source": [
    "!quote\n",
    "- 在 AI 時代，你想扮演什麼角色？"
   ]
  }
 ],
 "metadata": {
  "kernelspec": {
   "display_name": "Python 3",
   "language": "python",
   "name": "python3"
  },
  "language_info": {
   "codemirror_mode": {
    "name": "ipython",
    "version": 3
   },
   "file_extension": ".py",
   "mimetype": "text/x-python",
   "name": "python",
   "nbconvert_exporter": "python",
   "pygments_lexer": "ipython3",
   "version": "3.7.0"
  }
 },
 "nbformat": 4,
 "nbformat_minor": 2
}
