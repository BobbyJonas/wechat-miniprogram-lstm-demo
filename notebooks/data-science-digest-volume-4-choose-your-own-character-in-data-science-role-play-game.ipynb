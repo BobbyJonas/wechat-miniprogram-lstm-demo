{
 "cells": [
  {
   "cell_type": "markdown",
   "metadata": {},
   "source": [
    "- author: Lee Meng\n",
    "- date: 2018-08-29 09:00\n",
    "- title: 資料科學文摘 Vol.4 數據科學 MMORPG 上線，你選好角色了嗎？\n",
    "- slug: data-science-digest-volume-4-choose-your-own-character-in-data-science-role-play-game\n",
    "- tags: 文摘, 資料科學\n",
    "- description: \n",
    "- summary: \n",
    "- image: glenn-carstens-peters-204767-unsplash.jpg\n",
    "- image_credit_url: https://unsplash.com/photos/0woyPEJQ7jc?utm_source=unsplash&utm_medium=referral&utm_content=creditCopyText\n",
    "- status: draft"
   ]
  },
  {
   "cell_type": "markdown",
   "metadata": {},
   "source": [
    "如同以往，這篇文摘會介紹幾篇最近閱讀的文章以及其摘要。\n",
    "\n",
    "不過這次在條列式列出文章以前，我想先跟你分享身為一個資料科學家（**D**ata **S**cientist，DS），我在閱讀這些文章後得到的一些想法。\n",
    "\n",
    "與其說是想法，應該說是「針對資料科學家這個職業，自己感受到的一些職涯發展趨勢以及對接下來數年的預測」。對於那些只有 3 分鐘可以閱讀此文的你，這些想法可以歸納成以下幾點：\n",
    "1. 資料科學家未來將能花更多時間在從事「更高層次」的工作，但同時也需具備更專業的能力\n",
    "2. 學習程式語言及分析工具很重要，但是對資料科學家來說，溝通能力以及領域專業順位第一\n",
    "3. 資料科學家這個職業終將式微或消失，不只 IT 產業，未來（現在）各行各業都會有善用數據的人才\n",
    "4. 跟資料科學領域相關的工作會依照專業越分越細，最終成為各式各樣的數據職業"
   ]
  },
  {
   "cell_type": "markdown",
   "metadata": {},
   "source": [
    "<center>\n",
    "    <img src=\"{filename}images/digests/diablo-3-characters.jpg\" style=\"width:90%\"/>\n",
    "</center>\n",
    "<center>\n",
    "    如同<a href=\"https://zh.wikipedia.org/wiki/%E5%A4%A7%E5%9E%8B%E5%A4%9A%E4%BA%BA%E5%9C%A8%E7%BA%BF%E8%A7%92%E8%89%B2%E6%89%AE%E6%BC%94%E6%B8%B8%E6%88%8F\" target=\"_blacnk\">大型多人線上角色扮演遊戲（MMORPG）一般</a>，在後數據時代，萬能、什麼數據工作都會的「資料科學家」這個幻想已在式微。取而代之的是各個對相關領域專精的「數據」職業角色們：商業分析師、資料工程師、機器學習工程師、AI 研究者等（圖為<a href=\"https://tw.diablo3.com/zh/\" target=\"_blacnk\">線上遊戲：暗黑破壞神 3 </a>的角色一覽）\n",
    "    <br>\n",
    "    <br>\n",
    "    <br>\n",
    "</center>"
   ]
  },
  {
   "cell_type": "markdown",
   "metadata": {},
   "source": [
    "接下來我將會列出本週的閱讀清單，並在簡單說明各篇摘要的同時，一一描述它們是如何跟上述幾點概念相關。最重要的，我們將探討在這個什麼職業都跟數據扯上關係的年代，你要如何在「全球數據科學 MMORPG」裡頭，找出自己的定位以及角色。\n",
    "\n",
    "這篇文章適合對資料科學領域有興趣，或是未來想從事數據相關工作的你。放心，以文章長度來說，保證比上一篇文章：「[一段 Airflow 與資料工程的故事：談如何用 Python 追漫畫連載\n",
    "](https://leemengtaiwan.github.io/a-story-about-airflow-and-data-engineering-using-how-to-use-python-to-catch-up-with-latest-comics-as-an-example.html)」要來得平易近人許多。\n",
    "\n",
    "讓我們開始本週的閱讀之旅吧！"
   ]
  },
  {
   "cell_type": "markdown",
   "metadata": {},
   "source": [
    "## 本週閱讀清單\n",
    "- [One Data Science Job Doesn’t Fit All](#One-Data-Science-Job-Doesn’t-Fit-All)\n",
    "- [The Death of the Data Scientist](#The-Death-of-the-Data-Scientist)\n",
    "- [How to be a bad data scientist!](#How-to-be-a-bad-data-scientist!)\n",
    "- [Beyond Interactive: Notebook Innovation at Netflix](#Beyond-Interactive:-Notebook-Innovation-at-Netflix)\n",
    "- [What Data Scientists Really Do, According to 35 Data Scientists](#What-Data-Scientists-Really-Do,-According-to-35-Data-Scientists)\n",
    "\n",
    "如同以往的[文摘](https://leemengtaiwan.github.io/tag/wen-zhai.html)，你可以從任意一篇開始看我寫的摘要。\n",
    "\n",
    "另外如果真的很趕時間，可以[跳到最後直接看我給你的建議](#ending)。"
   ]
  },
  {
   "cell_type": "markdown",
   "metadata": {},
   "source": [
    "### [One Data Science Job Doesn’t Fit All](https://www.linkedin.com/pulse/one-data-science-job-doesnt-fit-all-elena-grewal/)\n",
    "<center>\n",
    "    <a href=\"https://www.linkedin.com/pulse/one-data-science-job-doesnt-fit-all-elena-grewal/\" target=\"_blank\">\n",
    "        <img src=\"{filename}images/digests/one-data-science-job.jpg\" style=\"width:90%\"/>\n",
    "    </a>\n",
    "</center>\n",
    "\n",
    "在這篇文章中，Airbnb 解釋他們如何在經過多年發展資料科學以後，將資料科學家分為三個路線（Tracks）：\n",
    "- 分析路線（Analytics）\n",
    "- 演算法路線（Algorithms）\n",
    "- 推論路線（Inference） \n",
    "\n",
    "會這樣做的其中一個很大原因是因為「資料科學」包含的領域太廣，不像這樣細分的話，第一，DS 們不知道自己該注重在什麼方面的知識；第二，公司內部跟某個 DS 合作的團隊也不知道他的專精以及該怎麼期待他的能力。\n",
    "\n",
    "<center>\n",
    "    <img src=\"{filename}images/digests/airbnb-data-roles.png\" style=\"width:90%\"/>\n",
    "    <p>Airbnb 經過多年經驗，將資料科學家細分為三個路線，主要就是為了讓每個 DS 能專注在對的地方</p>\n",
    "</center>\n",
    "\n",
    "其實想想很自然。就像是現在我們很習慣將工程師粗淺地分為前端（Frontend）和後端（Backend），未來的資料科學家也有很大機會依照個人的專精以及企業需求來細分路線。要不現在你想知道一家公司對 DS 的定義，還得親自去問裡頭的資料科學家到底在做什麼，且十家公司的 DS 可能會給你 9 種答案。\n",
    "\n",
    "理想上一個資料科學家是通才（Generalist），三個路線的專業都大致了解。儘管如此，學海無涯。一個建議是至少找出哪個路線你有興趣，去專精它，並尋找渴望你專業的企業。\n",
    "\n",
    "這呼應到我們最前面提到的第 4 項趨勢："
   ]
  },
  {
   "cell_type": "code",
   "execution_count": null,
   "metadata": {},
   "outputs": [],
   "source": [
    "#blockquote\n",
    "跟資料科學領域相關的工作會依照專業越分越細，最終成為各式各樣的數據職業"
   ]
  },
  {
   "cell_type": "markdown",
   "metadata": {},
   "source": [
    "將這些路線想像成角色扮演遊戲（RPG）中的角色就對了！順帶一提，作者自己想專注在演算法路線，輔修分析路線，你呢？\n",
    "\n",
    "另外這篇沒提到跟資料科學密切相關的資料工程（Data Engineering），個人臆測是因為 Airbnb 的資料平台本身建得夠齊全，有很專業的資料工程師在幫 DS 完成這些事情。"
   ]
  },
  {
   "cell_type": "markdown",
   "metadata": {},
   "source": [
    "### [The Death of the Data Scientist](https://www.datasciencecentral.com/profiles/blogs/the-death-of-the-data-scientist)\n",
    "<center>\n",
    "    <a href=\"https://www.datasciencecentral.com/profiles/blogs/the-death-of-the-data-scientist\" target=\"_blank\">\n",
    "        <img src=\"{filename}images/digests/Dinosaur.jpg\" style=\"width:90%\"/>\n",
    "    </a>\n",
    "</center>\n",
    "\n",
    "「資料科學家的滅亡」。\n",
    "\n",
    "非常聳動的標題，而且你可以從封面圖片看出作者想要表達 DS 會像恐龍一樣滅絕。\n",
    "\n",
    "不過基本上我是認同的。\n",
    "\n",
    "不是說 DS 不再重要，而是再過幾年，就像當年的「大數據」風潮，各企業或許不會再像現在一樣有大量的「資料科學家」，而是各行各業都將很自然地在應用資料科學。\n",
    "如同我們在[揭開資料科學的神秘面紗](https://leemengtaiwan.github.io/demystify-the-hype-of-data-science-and-its-value.html#%E5%85%85%E5%AF%A6%E4%BD%A0%E7%9A%84%E8%B3%87%E6%96%99%E7%A7%91%E5%AD%B8%E5%8A%9B)一文提到的一樣，在數據驅動的時代之下，培養「資料科學力」將不再只是資料科學家的專利；就算你不是資料科學家，也應該加入這個行業。\n",
    "\n",
    "這呼應到我們最前面提到的第 3 個趨勢："
   ]
  },
  {
   "cell_type": "code",
   "execution_count": null,
   "metadata": {},
   "outputs": [],
   "source": [
    "#blockquote\n",
    "資料科學家這個職業終將式微或消失，不只 IT 產業，未來（現在）各行各業都會有善用數據的人才"
   ]
  },
  {
   "cell_type": "markdown",
   "metadata": {},
   "source": [
    "### [How to be a bad data scientist!](https://towardsdatascience.com/how-to-be-a-bad-data-scientist-434dfb5a209c)\n",
    "<center>\n",
    "    <a href=\"https://towardsdatascience.com/how-to-be-a-bad-data-scientist-434dfb5a209c\" target=\"_blank\">\n",
    "        <img src=\"{filename}images/digests/1_IDUj1IN8ZvQo2ZO0Fx68pA.jpg\" style=\"width:90%\"/>\n",
    "    </a>\n",
    "</center>\n",
    "\n",
    "這篇說明了一般人在學習資料科學時會有的一些錯誤思維，我們應該隨時警惕自己並改善學習態度。 \n",
    "\n",
    "我自己歸納一下新手 DS 常會遇到的迷思或困境：\n",
    "- 缺乏持續學習的動力：剛開始你可能因為資料科學很夯，薪水很高決定成為一個 DS。但資料科學領域的最大特色是變動很快。缺乏熱情或是單純跟隨潮流的人，如果沒有持續學習的動力可能會中途開始懷疑人生\n",
    "- 誤以為了解全世界：上了幾門線上課程或是參加過 Kaggle 競賽，利用乾淨的資料在 Jupyter Notebook 上建立一個 XGboost 模型就誤以為掌握了所有的資料科學。事實上，業界的 DS 需要做更多事情，如清理資料、建立可靠的資料管道以及與其他部門溝通協調等等。雖然本文沒辦法教你怎麼做良好溝通，想多了解資料工程的話可以參考[資料科學家為何需要了解資料工程](https://leemengtaiwan.github.io/why-you-need-to-learn-data-engineering-as-a-data-scientist.html) \n",
    "- 為了學而學，沒有思考如何應用所學：這點甚至稍微資深的 DS 都會遺忘。你最少要嘗試將平常閱讀的文章、學到的分析手法應用在解決工作上的問題。甚至更好的是，改善自己或者周遭人們的問題\n",
    "\n",
    "這篇並不直接跟本篇主題相關，不過值得 DS 們參考。"
   ]
  },
  {
   "cell_type": "markdown",
   "metadata": {},
   "source": [
    "### [Beyond Interactive: Notebook Innovation at Netflix](https://medium.com/netflix-techblog/notebook-innovation-591ee3221233)\n",
    "<center>\n",
    "    <a href=\"https://medium.com/netflix-techblog/notebook-innovation-591ee3221233\" target=\"_blank\">\n",
    "        <img src=\"{filename}images/digests/neflix-notebook.jpg\" style=\"width:90%\"/>\n",
    "    </a>\n",
    "</center>\n",
    "\n",
    "平常有在關注 [Jupyter Notebook](http://jupyter.org/) 的 DS 們想必都注意到 Netflix 這篇文章了吧。\n",
    "\n",
    "Netflix 的資料平台（Data Platform）團隊發現，儘管企業內部有各式各樣使用該平台的使用者（如 DS、資料工程師以及分析人員等），並且表面上看來都在使用不同的程式語言，不同的工具，但事實上這些平常在處理數據的人的工作流程（Workflow）大多都可以分為這幾個步驟：\n",
    "* 存取資料\n",
    "* 資料處理\n",
    "* 資料視覺化\n",
    "* 排程以及產品化（Productization）\n",
    "\n",
    "<center>\n",
    "    <img src=\"{filename}images/digests/netflix-data-roles.jpeg\" style=\"width:90%\"/>\n",
    "    <p>Netflix：不同數據專業的人使用很不一樣的工具以及程式語言，但其實宏觀來看，處理數據的工作流程都很類似</p>\n",
    "</center>\n",
    "\n",
    "在明白這點以後，Netflix 的資料平台團隊展示了他們如何利用 Notebook 的「介面跟計算分離」這個特性，開發出能讓所有的數據相關人員都可以使用統一的介面來操作不同語言。\n",
    "\n",
    "在 Netflix 裡頭，任何一個 DS / DE 都可以利用一個簡單的 Notebook 介面做到：\n",
    "* 存取 Netflix 裡頭所有的數據：內部有專門的團隊維護一個可以存取所有資料的 Python 函式庫\n",
    "* 參數化 Notebook：一個 Notebook 可以變成一個模板（Template），讓使用者可以每次利用不同參數重新執行類似的數據處理\n",
    "* 排程（Scheduling）。當使用者決定為目前 Notebook 規劃排程後，該平台會將當下使用者的 Notebook 存到 AWS S3 變成排程的依據，並在實際排程時建立輸出用的 Notebook，將所有 Logs 以及輸出都放在該 Notebook 裡面，方便之後查看以及除錯\n",
    "\n",
    "這篇因為篇幅關係不會進一步解釋，但就算你平常沒在用 Notebook，應該也能感受到 Netflix 的數據平台團隊為了支援每天能在 100 PB 的數據量上跑的 15 萬個處理工作（Job）所做出的努力吧！"
   ]
  },
  {
   "cell_type": "code",
   "execution_count": null,
   "metadata": {},
   "outputs": [],
   "source": [
    "#blockquote\n",
    "抽象化（Abstraction）是對付複雜性（Complexity）最好的解藥。"
   ]
  },
  {
   "cell_type": "markdown",
   "metadata": {},
   "source": [
    "這個例子我們看到，Netflix 為了提高他們內部資料科學家的效率以及規模性（Scalability），做了一個這樣的數據平台，將所有基本的資料工程，甚至是一個 DS 正常來說需要花不少時間熟悉的數據處理流程都自動化 / 抽象化了。\n",
    "\n",
    "在全球數據量仍然爆炸性成長的今天，這樣的抽象化只會越來越普遍出現在各個企業，對一個資料科學家當然是好事。再過一陣子，一個 DS 或許也就不用再花所謂的 80 % 時間來做數據清理、建構資料管道等瑣事上，而是能有更多的時間在建構預測模型、進行複雜分析等更高層次的工作。\n",
    "\n",
    "這呼應到我們前面提到的第 1 點趨勢："
   ]
  },
  {
   "cell_type": "code",
   "execution_count": null,
   "metadata": {},
   "outputs": [],
   "source": [
    "#blockquote\n",
    "資料科學家未來將能花更多時間在從事「更高層次」的工作，但同時也需具備更專業的能力"
   ]
  },
  {
   "cell_type": "markdown",
   "metadata": {},
   "source": [
    "儘管我們並不都在有這些平台的企業工作，了解自己企業的現有狀況，盡可能將能夠自動化的「數據處理瑣事」抽象化，能讓一個 DS 專注在提升自己價值。"
   ]
  },
  {
   "cell_type": "markdown",
   "metadata": {},
   "source": [
    "### [What Data Scientists Really Do, According to 35 Data Scientists](https://hbr.org/2018/08/what-data-scientists-really-do-according-to-35-data-scientists)\n",
    "<center>\n",
    "    <a href=\"https://hbr.org/2018/08/what-data-scientists-really-do-according-to-35-data-scientists\" target=\"_blank\">\n",
    "        <img src=\"{filename}images/digests/aug18-15-137888421-burakpekakcan-1200x675.jpg\" style=\"width:90%\"/>\n",
    "    </a>\n",
    "</center>\n",
    "\n",
    "如果只有閱讀一篇原文的時間的話，我推薦你這篇。\n",
    "\n",
    "這篇透過訪談多位資料科學家的工作經驗，讓我們能好好地思考「資料科學家」這個職業的未來走向。\n",
    "\n",
    "首先，根據這些資料科學家所說，（事實上我也這麼認為）一個 DS 並不像有些人想像的，整天在研究 AI 演算法。\n",
    "\n",
    "實際上，這些 DS 在做的是：\n",
    "* 資料搜集、資料清理\n",
    "* 統計推論（Statistical Inference）\n",
    "* 建立儀表板（Dashboard）或是績效報告\n",
    "* 實作機器學習以及資料處理管道（Date Pipeline）\n",
    "* 跟決策者辯論，影響企業決策\n",
    "* 跟專案的說明分析結果\n",
    "\n",
    "從這篇文章，我們也再次觀察到同樣的趨勢：現在的資料科學家的定義過於廣泛，未來將會再進一步細分。其專業領域的細分的方式則可能依企業不同而異，像是前面提到 Airbnb 的 DS 的三個路線；或是此篇文章內提到的 Type A、Type B 的資料科學家；或是更廣泛地分為資料科學家、資料工程師以及機器學習工程師。\n",
    "\n",
    "我們同時也從這些專業的資料科學家的口中再度認識到溝通能力的重要。\n",
    "\n",
    "比起建立複雜的深度學習模型，學會做一個好的簡報，並跟非技術的利害關係人溝通結果，進而影響企業決策才是對一個 DS 來說更為重要的事情。\n",
    "\n",
    "這呼應到我們最前面的第 2 點發現："
   ]
  },
  {
   "cell_type": "code",
   "execution_count": null,
   "metadata": {},
   "outputs": [],
   "source": [
    "#blockquote\n",
    "學習程式語言及分析工具很重要，但是對資料科學家來說，溝通能力以及領域專業順位第一"
   ]
  },
  {
   "cell_type": "markdown",
   "metadata": {},
   "source": [
    "## <a name=\"ending\"></a>結語\n",
    "\n",
    "趨勢\n",
    "* 資料科學分工會更細\n",
    "* 資料科學家這個職業會消失\n",
    "* 資料科學家得不停進化，學習更高層次的 abstraction \n",
    "\n",
    "你得做的，是看看資料科學 RPG 裡頭，有沒有你有興趣的，專研\n",
    "* 為何我們玩線上遊戲的時候那麼認真思考，茶攻略，等到來到自己的職涯的時候不這麼做嗎？\n",
    "    * 一個理由是因為很難，RPG game 都幫你設計好了，人生澤堯自己 google, 找 mentor\n",
    "\n",
    "Data sincere is fun, gamification yourself!\n",
    "* Google tensor flow hub 例子\n",
    "\n",
    "\n",
    "這畢竟是我自己的想法，你有你的，歡迎留言交流\n",
    "\n",
    "\n",
    "\n",
    "\n",
    "\n",
    "未來幾個走向：\n",
    "* 分工會更細，你可以像文中某個 DS 說的 Type A, Type B，也可以是 DS / DE / ML Engineer，或者是 Airbnb 在 One Data Science Job Doesn’t Fit All 所說的（記事連結）。現在就選好你走的路。\n",
    "* 技術變化快速，持續學習並更新技能的重要。以往像我們在「資料科學家為何需要了解資料工程」一篇提到的 DS 的 80% 時間被用來做資料清理這件事情，也將不再為真。現在我們有各種開源的自動化工具，幫我們 productize ML product (SageMaker), 自動化清理資料。一方面 DS 要慶幸這些事情可以被自動化，一方便則是要努力進化。\n",
    "* 溝通能力的重要。比起建立複雜的 Deep Learning Model, 學會建立一個好的簡報、跟非技術的 stakeholder 溝通結果，影響決策才是更為重要\n",
    "* 不只 IT 產業，各行各業都在使用 DS 。且再過十年，像是 The Death of the Data Scientist（記事連結） 一文所說，資料科學家最終會像當年的「Web Master」消失，只不過資料科學會內化到各行各業之中\n",
    "* Critical thinking 以及 domain knowledge 的重要。 Critical thinking 不只對資料科學家重要，在人類大歷史的作者最近的訪談（記事連結）裡頭也提到，未來的 4C 比任何「專業技能」都為重要：critical thinking, communication, collaboration and creativity\n",
    "* 解決 DS 以及 AI 帶來的道德倫理問題將成為非常重要且迫切的問題，企業需要訂定一套行為準則。\n",
    "\n",
    "\n",
    "\n",
    "\n",
    "\n"
   ]
  },
  {
   "cell_type": "code",
   "execution_count": null,
   "metadata": {},
   "outputs": [],
   "source": [
    "#blockquote\n",
    "在急著成為一個資料科學家之前，仔細思考數據科學領域裡頭究竟什麼地方吸引你？然後一頭栽進去，創造自己的職涯角色。"
   ]
  },
  {
   "cell_type": "code",
   "execution_count": null,
   "metadata": {},
   "outputs": [],
   "source": [
    "#blockquote\n",
    "數據科學 MMORPG 全球玩家齊聚上線。你，選好自己的角色了嗎？"
   ]
  }
 ],
 "metadata": {
  "kernelspec": {
   "display_name": "Python 3",
   "language": "python",
   "name": "python3"
  },
  "language_info": {
   "codemirror_mode": {
    "name": "ipython",
    "version": 3
   },
   "file_extension": ".py",
   "mimetype": "text/x-python",
   "name": "python",
   "nbconvert_exporter": "python",
   "pygments_lexer": "ipython3",
   "version": "3.7.0"
  }
 },
 "nbformat": 4,
 "nbformat_minor": 2
}
