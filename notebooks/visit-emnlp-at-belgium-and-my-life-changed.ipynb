{
 "cells": [
  {
   "cell_type": "markdown",
   "metadata": {},
   "source": [
    "- author: Lee Meng\n",
    "- date: 2018-11-19 08:00\n",
    "- title: 我從比利時 EMNLP 之旅學到的 5 個啟示\n",
    "- slug: visit-emnlp-at-belgium-and-my-life-changed\n",
    "- tags: 隨筆, 自然語言處理, 深度學習\n",
    "- description: \n",
    "- summary: \n",
    "- image: bruxelles-post-cover.jpg\n",
    "- image_credit_url: \n",
    "- status: draft"
   ]
  },
  {
   "cell_type": "markdown",
   "metadata": {},
   "source": [
    "作為本部落格隨筆分類的第一篇文章，我想將最近飛往比利時[布魯塞爾](https://zh.wikipedia.org/wiki/%E5%B8%83%E9%B2%81%E5%A1%9E%E5%B0%94)參加 [EMNLP 2018 學術會議](http://emnlp2018.org/)的心得簡單地記錄下來，整理自己這次旅途的思緒並與你分享。\n",
    "\n",
    "我將會描述這次旅程中我所感受到的幾個想法、它們各自所傳達的概念，以及其之後會怎麼影響此部落格的走向。\n",
    "\n",
    "作為一名好奇的讀者，或許你會有興趣讀讀這個故事：）"
   ]
  },
  {
   "cell_type": "markdown",
   "metadata": {},
   "source": [
    "## 計畫之外的 NLP 之旅"
   ]
  },
  {
   "cell_type": "markdown",
   "metadata": {},
   "source": [
    "今年 10 月底，我跟公司請了一個禮拜的假，飛往比利時[布魯塞爾](https://zh.wikipedia.org/wiki/%E5%B8%83%E9%B2%81%E5%A1%9E%E5%B0%94)參加 [EMNLP 2018 學術會議](http://emnlp2018.org/)。EMNLP 作為世界頂尖的[自然語言處理](https://zh.wikipedia.org/wiki/%E8%87%AA%E7%84%B6%E8%AF%AD%E8%A8%80%E5%A4%84%E7%90%86)會議之一，每年都有無以數計的專業人士聚集在此，與他人分享自己的[研究成果](http://emnlp2018.org/schedule)。\n",
    "\n",
    "不過老實說，在同事跟我說他要參加這個會議之前，我從沒聽過它的名號，更不用說認真考慮過要參加了。我本來預計是要參加跟資料工程相關的 [DataEngConf](https://www.dataengconf.com/) 會議。（你可能已經看過[之前我寫的幾篇資料工程文章](https://leemeng.tw/tag/zi-liao-gong-cheng.html)）\n",
    "\n",
    "但我想説難得有機會去歐洲，況且人多有個照應，稍微衡量一下就決定參加 EMNLP 了。\n",
    "\n",
    "我當時還不知道，這趟旅程為我帶來的改變，遠比想像中深遠。"
   ]
  },
  {
   "cell_type": "markdown",
   "metadata": {},
   "source": [
    "!image\n",
    "- emnlp2018/La-place-Royale.jpg\n",
    "- 從東京坐 12 小時的飛機到達布魯塞爾，綿綿細雨迎接我的到來（圖為皇家廣場）"
   ]
  },
  {
   "cell_type": "code",
   "execution_count": null,
   "metadata": {},
   "outputs": [],
   "source": []
  },
  {
   "cell_type": "code",
   "execution_count": null,
   "metadata": {},
   "outputs": [],
   "source": []
  },
  {
   "cell_type": "code",
   "execution_count": null,
   "metadata": {},
   "outputs": [],
   "source": [
    "非流水帳或依照做的事情分章節\n",
    "\n",
    "學到的 lesson 分章節，下面敘述其意義，以及為何讓我這樣想的事實\n",
    "\n",
    "* 兩本書的啟示\n",
    "    * 因為坐長乘飛機「才有」那麼長的閱讀時間\n",
    "    * 但事實上我們應該花時間在我們的策略上，要不它們根本稱不上策略\n",
    "* 旅行的定義重點不在地點，而在心態\n",
    "    * 身在東京久了，忘了旅行的意義\n",
    "    * 只待在布魯塞爾，沒有去所謂的旅遊勝地是個浪費？\n",
    "* Pick up 一個知識不應該需要數年，也不該是這樣\n",
    "    * 學了半年，跟的教授好的啟示\n",
    "    * 李鴻毅教授說的\n",
    "    * 幼稚園進到大學的感受\n",
    "* 我們真最大的潛力在於能多快 pick up 新事物，而非現有知識\n",
    "    * 你需要 focus 減少 distraction \n",
    "\n",
    "這趟旅程改變人生在於我相信這是一個轉捩點\n",
    "開啟全新的機會\n",
    "\n",
    "我的行動\n",
    "\n",
    "\n",
    "結論：成為一般人到深度學習專家的橋樑"
   ]
  },
  {
   "cell_type": "code",
   "execution_count": null,
   "metadata": {},
   "outputs": [],
   "source": []
  },
  {
   "cell_type": "markdown",
   "metadata": {},
   "source": [
    "\n",
    "\n",
    "\n",
    "\n",
    "\n",
    "\n",
    "\n",
    "\n",
    "儘管一直以來都對 NLP（**N**atural **L**anguage **P**rocessing）抱持著不少興趣，我從來沒有仔細花時間去了解近年[深度學習（Deep Learning）](https://zh.wikipedia.org/zh-hant/%E6%B7%B1%E5%BA%A6%E5%AD%A6%E4%B9%A0)在 NLP 的快速發展以及創新。從今年年初開始，我已經可以用 [Google 翻譯](https://translate.google.com/?hl=zh-TW)跟烏克蘭以及法國的朋友開心聊天，儘管我對俄文以及法文一無所知。\n",
    "\n",
    "因此趁著這次的旅行，我打算盡可能地了解這個領域裡頭有哪些關鍵字、參加會議後我該怎麼開始有效率地學習 NLP，並在會議空閑的時候逛逛布魯塞爾。\n",
    "\n",
    "就結果而言，我的成果還算是差強人意。\n",
    "\n",
    "## 記憶大量關鍵字\n",
    "\n",
    "## 教堂巡迴之旅\n",
    "\n",
    "## 啤酒、淡菜以及鬆餅\n",
    "\n",
    "## Social Event 驗收成果\n",
    "結果：在 social event 被誇說 NLP 不錯👍\n",
    "\n",
    "## 全力衝刺 NLP\n",
    "any recommendation?"
   ]
  },
  {
   "cell_type": "code",
   "execution_count": null,
   "metadata": {},
   "outputs": [],
   "source": [
    "!image\n",
    "- emnlp2018/emnlp-entrance.jpg\n",
    "\n",
    "但首先我得先承認，跟與會人士擁有的 NLP 知識比起來，我對 NLP 的理解彷彿無知地令人讚嘆。"
   ]
  },
  {
   "cell_type": "code",
   "execution_count": null,
   "metadata": {},
   "outputs": [],
   "source": [
    "趁這個機會，把 NLP 最近的資源處理出來，方便自己上路，也幫助別人。"
   ]
  },
  {
   "cell_type": "markdown",
   "metadata": {},
   "source": [
    "## Connect the dots\n",
    "- IR \n",
    "- Coursera 課程(andrew, machine learning)\n",
    "- \n"
   ]
  },
  {
   "cell_type": "markdown",
   "metadata": {},
   "source": [
    "## 素材\n",
    "- 自己的 EMNLP 筆記、關鍵字蒐集\n",
    "- 其他人的見聞\n",
    "    - [Patrick Lewis(UCL 的自然语言处理博士生，同时他也参与 Facebook 人工智能研究院的研究)](https://www.leiphone.com/news/201811/6xESoGatFLejrh7x.html?type=preview&viewType=weixin)\n",
    "    - [EMNLP 2018 | 最佳论文出炉：谷歌、Facebook、CMU上榜](https://www.jiqizhixin.com/articles/2018-09-21-12)\n",
    "        - 亮點是 Facebook 的無監督試 NMT\n",
    "    - [學界| FAIR新一代無監督機器翻譯：模型更簡潔，性能更優](https://mp.weixin.qq.com/s?__biz=MzA3MzI4MjgzMw==&mid=2650741621&idx=4&sn=210c9b3694f56508267e95235fb99f3c&chksm=871adf0bb06d561dc99a89a5f56cf835bc92aa25401294216262128402490918d2787fe7fd09&scene=21#wechat_redirect)"
   ]
  },
  {
   "cell_type": "code",
   "execution_count": null,
   "metadata": {},
   "outputs": [],
   "source": []
  },
  {
   "cell_type": "code",
   "execution_count": null,
   "metadata": {},
   "outputs": [],
   "source": [
    "人生都會有轉捩點，我相信這是其中一個。"
   ]
  },
  {
   "cell_type": "markdown",
   "metadata": {},
   "source": [
    "* 旅行本身沒有意義，但它能激發你思考人生的意義\n",
    "* 出社會前我為了別人（的期望）而學；現在我為自己而學\n",
    "\n",
    "* 我想說的是，你最近從零開始學會的東西是什麼？更重要的，一直想學但是沒有碰的東西是什麼？為什麼沒有進展？在這個變化快速的世界，我們最需要的是快速學習任何東西的方法（如果你是要學 NLP 接下來可以跟著我）\n",
    "* 你不需要花 years 學深度學習（也不實際），但你要做到，你要用最有效率的方式、最好的資源\n",
    "\n",
    "\n",
    "Todo\n",
    "* Emnlp Twitter tag\n",
    "* 中文新聞報導\n",
    "\n",
    "\n",
    "Strategy： 學會關鍵字\n",
    "\n",
    "\n",
    "* 想做 MT 是想要讓台灣人還有自己更聰明：collective intelligence 。我不認為歐美人比較聰明，只是因為他們有比較多（英文）資源\n",
    "* 成為一般人學習深度學習的橋樑、Hub\n",
    "\n"
   ]
  }
 ],
 "metadata": {
  "kernelspec": {
   "display_name": "Python 3",
   "language": "python",
   "name": "python3"
  },
  "language_info": {
   "codemirror_mode": {
    "name": "ipython",
    "version": 3
   },
   "file_extension": ".py",
   "mimetype": "text/x-python",
   "name": "python",
   "nbconvert_exporter": "python",
   "pygments_lexer": "ipython3",
   "version": "3.7.0"
  }
 },
 "nbformat": 4,
 "nbformat_minor": 2
}
