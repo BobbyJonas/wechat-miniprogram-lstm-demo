{
 "cells": [
  {
   "cell_type": "markdown",
   "metadata": {},
   "source": [
    "- author: Lee Meng\n",
    "- date: 2018-11-19 08:00\n",
    "- title: 一趟改變人生的比利時與 EMNLP 之旅\n",
    "- slug: some-thoughts-on-visiting-belgium-and-emnlp-2018\n",
    "- tags: 隨筆, 自然語言處理, 深度學習\n",
    "- description: \n",
    "- summary: \n",
    "- image: bruxelles-post-cover.jpg\n",
    "- image_credit_url: \n",
    "- status: draft"
   ]
  },
  {
   "cell_type": "markdown",
   "metadata": {},
   "source": [
    "作為本部落格隨筆分類的第一篇文章，我想將最近一次旅途的心得簡單地記錄下來並與你分享。\n",
    "\n",
    "在這篇隨筆裡頭，我不會與你探討艱澀的論文內容。但你將會看到，這趟旅程怎麼改變了我的人生（以及未來的部落格走向）。"
   ]
  },
  {
   "cell_type": "markdown",
   "metadata": {},
   "source": [
    "## 計畫之外的 NLP 之旅"
   ]
  },
  {
   "cell_type": "markdown",
   "metadata": {},
   "source": [
    "今年 10 月底，我請了一個禮拜的假，飛往比利時布魯塞爾參加 [EMNLP 2018 學術會議](http://emnlp2018.org/)。\n",
    "\n",
    "但在聽同事跟我說他要參加這個會議之前，我從沒聽過它，也從來沒認真考慮過要參加一個 NLP 的國際會議。我本來預計是要參加跟資料工程相關的 [DataEngConf Barcelona](https://www.dataengconf.com/) Conference。常關注本部落格的你，我想應該早就看過[幾篇以前的資料工程文章](https://leemeng.tw/tag/zi-liao-gong-cheng.html)了吧！\n",
    "\n",
    "但我想人多壯膽，況且計劃趕不上變化，一念之間就決定參加 EMNLP 了。"
   ]
  },
  {
   "cell_type": "markdown",
   "metadata": {},
   "source": [
    "!image\n",
    "- emnlp2018/emnlp-entrance.jpg"
   ]
  },
  {
   "cell_type": "markdown",
   "metadata": {},
   "source": [
    "EMNLP 作為世界頂尖的[自然語言處理](https://zh.wikipedia.org/wiki/%E8%87%AA%E7%84%B6%E8%AF%AD%E8%A8%80%E5%A4%84%E7%90%86)會議之一，每年都有無以數計的專業人士聚集在此，與其他人分享他們的[研究成果](http://emnlp2018.org/schedule)。\n",
    "\n",
    "但首先得先承認，跟與會人士擁有的 NLP 知識比起來，我彷彿是個一無所知的嬰兒。\n",
    "\n",
    "儘管一直以來都對 NLP（**N**atural **L**anguage **P**rocessing）抱持著不少興趣，我卻從來沒有仔細花時間去了解近年[深度學習（Deep Learning）](https://zh.wikipedia.org/zh-hant/%E6%B7%B1%E5%BA%A6%E5%AD%A6%E4%B9%A0)在 NLP 的快速發展以及創新。\n",
    "\n",
    "因此趁著這次的旅行，我的目標並不是放在了解所有發表的論文內容，而是想辦法了解「什麼是 NLP」？然後在這個領域裡頭有哪些關鍵字。\n",
    "\n",
    "後面你會看到，我的成果還算差強人意。\n",
    "\n",
    "## 大量關鍵字刷屏\n",
    "\n",
    "\n",
    "## "
   ]
  },
  {
   "cell_type": "code",
   "execution_count": null,
   "metadata": {},
   "outputs": [],
   "source": []
  },
  {
   "cell_type": "code",
   "execution_count": null,
   "metadata": {},
   "outputs": [],
   "source": [
    "趁這個機會，把 NLP 最近的資源處理出來，方便自己上路，也幫助別人。"
   ]
  },
  {
   "cell_type": "markdown",
   "metadata": {},
   "source": [
    "## Connect the dots\n",
    "- IR \n",
    "- Coursera 課程(andrew, machine learning)\n",
    "- \n"
   ]
  },
  {
   "cell_type": "markdown",
   "metadata": {},
   "source": [
    "## 素材\n",
    "- 自己的 EMNLP 筆記、關鍵字蒐集\n",
    "- 其他人的見聞\n",
    "    - [Patrick Lewis(UCL 的自然语言处理博士生，同时他也参与 Facebook 人工智能研究院的研究)](https://www.leiphone.com/news/201811/6xESoGatFLejrh7x.html?type=preview&viewType=weixin)\n",
    "    - [EMNLP 2018 | 最佳论文出炉：谷歌、Facebook、CMU上榜](https://www.jiqizhixin.com/articles/2018-09-21-12)\n",
    "        - 亮點是 Facebook 的無監督試 NMT\n",
    "    - [學界| FAIR新一代無監督機器翻譯：模型更簡潔，性能更優](https://mp.weixin.qq.com/s?__biz=MzA3MzI4MjgzMw==&mid=2650741621&idx=4&sn=210c9b3694f56508267e95235fb99f3c&chksm=871adf0bb06d561dc99a89a5f56cf835bc92aa25401294216262128402490918d2787fe7fd09&scene=21#wechat_redirect)"
   ]
  },
  {
   "cell_type": "code",
   "execution_count": null,
   "metadata": {},
   "outputs": [],
   "source": []
  },
  {
   "cell_type": "code",
   "execution_count": null,
   "metadata": {},
   "outputs": [],
   "source": []
  },
  {
   "cell_type": "markdown",
   "metadata": {},
   "source": [
    "* 旅行本身沒有意義，但它能激發你思考人生的意義\n",
    "* 出社會前我為了別人（的期望）而學；現在我為自己而學\n",
    "* 想做 MT 是想要讓台灣人還有自己更聰明：collective intelligence 。我不認為歐美人比較聰明，只是因為他們有比較多（英文）資源\n",
    "* 我想說的是，你最近從零開始學會的東西是什麼？更重要的，一直想學但是沒有碰的東西是什麼？為什麼沒有進展？在這個變化快速的世界，我們最需要的是快速學習任何東西的方法（如果你是要學 NLP 接下來可以跟著我）\n",
    "* 你不需要花 years 學深度學習（也不實際），但你要做到，你要用最有效率的方式、最好的資源\n",
    "\n",
    "\n",
    "Todo\n",
    "* Emnlp Twitter tag\n",
    "* 中文新聞報導\n",
    "\n",
    "\n",
    "Strategy： 學會關鍵字\n",
    "結果：在 social event 被誇說 NLP 不錯👍\n",
    "\n",
    "\n",
    "\n"
   ]
  }
 ],
 "metadata": {
  "kernelspec": {
   "display_name": "Python 3",
   "language": "python",
   "name": "python3"
  },
  "language_info": {
   "codemirror_mode": {
    "name": "ipython",
    "version": 3
   },
   "file_extension": ".py",
   "mimetype": "text/x-python",
   "name": "python",
   "nbconvert_exporter": "python",
   "pygments_lexer": "ipython3",
   "version": "3.7.0"
  }
 },
 "nbformat": 4,
 "nbformat_minor": 2
}
