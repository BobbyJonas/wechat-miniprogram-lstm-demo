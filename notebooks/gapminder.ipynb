{
 "cells": [
  {
   "cell_type": "markdown",
   "metadata": {},
   "source": [
    "- author: Lee Meng\n",
    "- date: 2018-10-01 08:00\n",
    "- title: 如何用 30 秒了解台灣發展與全球趨勢：用 GapMinder 培養正確世界觀\n",
    "- slug: gapminder\n",
    "- tags: GapMinder, 資料視覺化\n",
    "- description: \n",
    "- summary: \n",
    "- image: taiwan-in-the-center-of-earth.jpg\n",
    "- image_credit_url: https://earth.google.com/\n",
    "- render_gapminder: true\n",
    "- status: draft"
   ]
  },
  {
   "cell_type": "markdown",
   "metadata": {},
   "source": [
    "<br/>\n",
    "<br/>\n",
    "拉回上圖，再稍微花個 10 秒鐘咀嚼一下你所看到的。\n",
    "\n",
    "現在告訴我，你看到了什麼？"
   ]
  },
  {
   "cell_type": "markdown",
   "metadata": {},
   "source": [
    "每天被大量資訊轟炸，你可能不太習慣動腦思考。但讓我提醒你一下，就在剛剛的 30 秒內，你重現了過去 200 年至今全世界的經濟（所得收入）與社會（平均壽命）發展狀況！這可不是小時候歷史老師會秀給你看的東西。我不知道你感受如何，但在我[第一次見識到此圖](https://www.ted.com/talks/hans_rosling_shows_the_best_stats_you_ve_ever_seen)的時候，內心可說是激動得不得了！\n",
    "\n",
    "專注在台灣身上，你甚至還可以發現一些值得注意的現象：\n",
    "- 1939 至 1945 年，人民所得以及平均壽命的大幅下降（二戰）\n",
    "- 1945 至 1953 年國民平均壽命的大幅提升\n",
    "- 1960 年代戰後經濟與社會的快速發展\n",
    "- 2000 年後國民平均壽命再次以不小的幅度上升\n",
    "- ...\n",
    "\n",
    "你應該還有很多其他發現，並且迫不及待地想要了解更多。（你可以玩一玩泡泡圖後再繼續閱讀，沒問題！）\n",
    "\n",
    "透過值得信賴的數據（比方說[聯合國數據](https://www.gapminder.org/data/documentation/gd004/)）以及良好的數據呈現方式（泡泡圖），你能在很短時間內「正確」地掌握全世界趨勢以及台灣的發展狀況。儘管媒體總是報憂不報喜，你會發現全世界大致上變得越來越好；你也會發現以「人均收入」以及「平均壽命」的角度來看，台灣的表現在全世界也是名列前茅，這點值得我們欣慰及驕傲。\n",
    "\n",
    "<center>\n",
    "    <img src=\"{filename}images/gapminder/factfulness-cover.jpg\" style=\"width:90%\"/>\n",
    "</center>\n",
    "<center>\n",
    "    《真確》是 2018 年由瑞典全球公衛教授<a href=\"(https://zh.wikipedia.org/zh-tw/%E6%B1%89%E6%96%AF%C2%B7%E7%BD%97%E6%96%AF%E6%9E%97)\" target=\"_blank\">漢斯・羅斯林（Hans Rosling）</a>所撰。透過閱讀這本書，羅斯林教授教會我們如何以數據為基礎、並使用正確的心態來理解世界，是一本深具啟發性的著作。而本頁的「泡泡圖」則是他用來向世界傳達知識的工具。（圖片來源：<a href=\"https://meet.eslite.com/tw/tc/product/201807030007\" target=\"_blank\">迷誠品</a>）\n",
    "    <br/>\n",
    "    <br/>\n",
    "    <br/>\n",
    "</center>\n",
    "\n",
    "需要先讓你知道的是，文中的泡泡圖（Bubble Chart）以及所有的國際數據，並非我獨立完成，而是由漢斯・羅斯林教授與他所創辦的 [GapMinder 基金會](https://www.gapminder.org/)所開發、維護並開源的。事實上，你甚至可以直接拜訪他們的[官方頁面](https://www.gapminder.org/tools/)來使用同樣的泡泡圖。我懂你想問我什麼：那為何要在這裡「再」弄一個泡泡圖出來呢？\n",
    "\n",
    "本文接下來馬上就會針對此問題做解釋。\n",
    "\n",
    "更重要的是，我會說明裡頭有哪些台灣數據可供你使用，也會闡述如何利用這些數據以及泡泡圖，並搭配《真確》一書中羅斯林教授教給我們的原則，來更深入瞭解台灣的歷史發展以及世界定位。\n",
    "\n",
    "如果你想要進一步了解此泡泡圖的背後故事以及培養一個正確、積極的世界觀的話，歡迎繼續往下閱讀：）"
   ]
  },
  {
   "cell_type": "markdown",
   "metadata": {},
   "source": [
    "## 本文章節\n",
    "\n",
    "TODO\n",
    "\n",
    "一個非常簡單的問題就變成\n",
    "\n",
    "本文接下來將會闡述這點，\n",
    "\n",
    "\n",
    "\n"
   ]
  },
  {
   "cell_type": "markdown",
   "metadata": {},
   "source": [
    "\n",
    "\n",
    "- 為何不直接看官網就好？\n",
    "\n",
    "你已經可以開始在 x,y 選擇不同的發展指標來看（急著探索或者是回訪者），但如果你想要進一步了解產生此圖的背後故事以及培養一個正確積極的世界觀的話，歡迎看下去：）\n",
    "（以 hanse 的 10 條守則，舉台灣的資料為例）"
   ]
  },
  {
   "cell_type": "markdown",
   "metadata": {},
   "source": [
    "## 所以什麼是 GapMinder"
   ]
  },
  {
   "cell_type": "code",
   "execution_count": null,
   "metadata": {},
   "outputs": [],
   "source": [
    "\n",
    "與其整天看\n",
    "\n",
    "\n",
    "這種資料視覺化的威力！\n",
    "\n",
    "閱讀過《真確》一書的\n",
    "\n",
    "\n",
    "\n",
    "為何要正確世界觀？了解差異，以合理衡量（比方說同溫層）\n",
    "\n",
    "做個 gapminder test:\n",
    "\n"
   ]
  },
  {
   "cell_type": "markdown",
   "metadata": {},
   "source": [
    "## 所以我們現在有什麼台灣資料？"
   ]
  },
  {
   "cell_type": "code",
   "execution_count": null,
   "metadata": {},
   "outputs": [],
   "source": [
    "\n",
    "\n",
    "\n"
   ]
  },
  {
   "cell_type": "code",
   "execution_count": null,
   "metadata": {},
   "outputs": [],
   "source": []
  },
  {
   "cell_type": "markdown",
   "metadata": {},
   "source": [
    "## 背景：小心鴻溝！"
   ]
  },
  {
   "cell_type": "code",
   "execution_count": null,
   "metadata": {},
   "outputs": [],
   "source": [
    "\n",
    "我去官網用不就好了嗎？為何要在這邊看？\n",
    "- 非聯合國會員 （所以沒顯示）\n",
    "- 全英文，更不用說翻譯了\n",
    "\n",
    "\n",
    "像 hans loing  致敬\n",
    "\n",
    "\n",
    "政府常常在說公開資料，但是沒有人用也等於沒用\n",
    "\n",
    "gap minder: mind the gap! 世界不是二分法！\n",
    "\n"
   ]
  },
  {
   "cell_type": "markdown",
   "metadata": {},
   "source": [
    "## 小心過度關注 outlier ！\n",
    "- 印尼強震（https://asean.thenewslens.com/article/105086?tnl_source=fb01）\n",
    "\n"
   ]
  },
  {
   "cell_type": "markdown",
   "metadata": {},
   "source": [
    "## 一些數據"
   ]
  },
  {
   "cell_type": "code",
   "execution_count": null,
   "metadata": {},
   "outputs": [],
   "source": []
  },
  {
   "cell_type": "markdown",
   "metadata": {},
   "source": [
    "儘管用大量的數據以及這種圖表，讓我們彷彿站在上帝視角綜觀一切，我們也需要注意到數據背後的故事。\n",
    "（而且就算我們看到台灣整體不錯，也要注意也是有人過得苦。除了平均也要看分佈）\n",
    "\n",
    "我們不完美，有很多要改進，但是我們一直在進步"
   ]
  },
  {
   "cell_type": "markdown",
   "metadata": {},
   "source": [
    "## 懷疑數據\n",
    "data doubt"
   ]
  },
  {
   "cell_type": "markdown",
   "metadata": {},
   "source": [
    "## 你能做些什麼？\n",
    "\n",
    "如果你是資料科學家： 一圖勝過千言萬語，以圖為輔，培養說故事能力\n",
    "如果你是家長、老師： help your child and studnet know the world by triggering their curiousity, not by cramming them numbers. 探討 why 而不是 \n",
    "協助翻譯！\n",
    "聯絡 Gapminder, 加入更多台灣資料\n",
    "查看 真確 一書\n",
    "查看 gapminder 官網，查看 dollar street\n",
    "對世界多點好奇，探索！\n",
    "幫忙分享！\n",
    "截圖告訴我，你有什麼發現\n"
   ]
  },
  {
   "cell_type": "markdown",
   "metadata": {},
   "source": [
    "## 結語"
   ]
  },
  {
   "cell_type": "raw",
   "metadata": {},
   "source": [
    "\n",
    "我們需要更多台灣資料（給自己，給下一代）！\n",
    "\n",
    "Caveat\n",
    "- 裡頭是對世界的基本素養，資料濃縮變得易懂了，但是我們不能只看平均（所得分佈越來越誇張）\n",
    "\n",
    "\n",
    "致謝：\n",
    "- gapminder\n",
    "-hans roling, 雖然他已經不在人世，我要謝謝他帶我用更宏觀、正確的態度來理解世界，帶給我無數啟發。這篇文章是我對他的致敬。"
   ]
  },
  {
   "cell_type": "markdown",
   "metadata": {},
   "source": [
    "## 貢獻 / 更多例子\n",
    "跟我說你覺得你可以貢獻什麼，或者去 push GapMinder, 增加更多台灣資料\n",
    "\n",
    "如果你發現什麼有趣的發現，歡迎跟我說，我會更新到文章裡頭！"
   ]
  }
 ],
 "metadata": {
  "kernelspec": {
   "display_name": "Python 3",
   "language": "python",
   "name": "python3"
  },
  "language_info": {
   "codemirror_mode": {
    "name": "ipython",
    "version": 3
   },
   "file_extension": ".py",
   "mimetype": "text/x-python",
   "name": "python",
   "nbconvert_exporter": "python",
   "pygments_lexer": "ipython3",
   "version": "3.7.0"
  }
 },
 "nbformat": 4,
 "nbformat_minor": 2
}
