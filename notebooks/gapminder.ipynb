{
 "cells": [
  {
   "cell_type": "markdown",
   "metadata": {},
   "source": [
    "- author: Lee Meng\n",
    "- date: 2018-10-08 08:00\n",
    "- title: 如何用 30 秒了解台灣發展與全球趨勢：用 GapMinder 培養正確世界觀\n",
    "- slug: gapminder\n",
    "- tags: GapMinder, 資料視覺化\n",
    "- description: \n",
    "- summary: \n",
    "- image: taiwan-in-the-center-of-earth.jpg\n",
    "- image_credit_url: https://earth.google.com/\n",
    "- render_gapminder: true\n",
    "- status: draft"
   ]
  },
  {
   "cell_type": "markdown",
   "metadata": {},
   "source": [
    "<br/>\n",
    "<br/>\n",
    "拉回上圖，再稍微花個 10 秒鐘咀嚼一下你所看到的。\n",
    "\n",
    "現在告訴我，你看到了什麼？"
   ]
  },
  {
   "cell_type": "markdown",
   "metadata": {},
   "source": [
    "每天被大量資訊轟炸，你可能已經不太習慣動腦思考。但讓我提醒你一下，就在剛剛的 30 秒內，你重現了過去 200 年至今全世界的經濟（所得收入）與社會（平均壽命）發展狀況！這可不是小時候歷史老師會秀給你看的東西。我不知道你感受如何，但在我[第一次見識到此圖](https://www.ted.com/talks/hans_rosling_shows_the_best_stats_you_ve_ever_seen)的時候，內心可說是激動得不得了！\n",
    "\n",
    "\n",
    "<center>\n",
    "    <a href=\"https://www.ted.com/talks/hans_rosling_shows_the_best_stats_you_ve_ever_seen#t-249222\" target=\"_blank\">\n",
    "        <img src=\"{filename}images/gapminder/ted-video-screenshot.jpg\" style=\"width:90%\"/>\n",
    "    </a>\n",
    "</center>\n",
    "<center>\n",
    "    瑞典全球公衛教授 <a href=\"https://zh.wikipedia.org/zh-tw/%E6%B1%89%E6%96%AF%C2%B7%E7%BD%97%E6%96%AF%E6%9E%97\" target=\"_blank\">漢斯・羅斯林</a> \n",
    "    <br/>\n",
    "    2006 年在 TED 利用上面的泡泡圖向觀眾們解說世界的經濟與社會發展\n",
    "    <br/>\n",
    "    <br/>\n",
    "    <br/>\n",
    "</center>\n",
    "\n",
    "\n",
    "將專注拉回台灣。看著台灣的發展軌跡，你甚至還可以發現一些值得注意的現象：\n",
    "- 1939 至 1945 年，人民所得以及平均壽命走倒車（二戰）\n",
    "- 1945 至 1953 年國民平均壽命的大幅提升，所得回歸正常\n",
    "- 1960 年代以後，經濟與社會的持續穩定發展\n",
    "- 2000 年後成長趨緩（多數國家也是如此）\n",
    "\n",
    "<center>\n",
    "    <img src=\"{filename}images/gapminder/tw-demo.jpg\" style=\"width:90%\"/>\n",
    "</center>\n",
    "<center>\n",
    "    泡泡圖除了可以讓我們觀察世界趨勢，也能同時了解台灣的發展軌跡以及與其他國家的相對位置\n",
    "    <br/>\n",
    "    <br/>\n",
    "    <br/>\n",
    "</center>\n",
    "\n",
    "你應該還有很多其他發現，並且迫不及待地想要了解更多。\n",
    "\n",
    "事實上，如果在看了剛剛的泡泡圖動畫以後，你突然渴望想要知道更多，想要更加地了解台灣或是其他不同的國家在不同指標的發展（如所得收入、兒童死亡率、二氧化碳排放量等），我鼓勵你先上去改改 X 或 Y 軸、點選不同國家，查看結果以後再繼續往下讀。畢竟文章跑不掉，你的好奇心則可能在幾秒鐘後消逝：）\n",
    "\n",
    "你回來了嗎？\n",
    "\n",
    "你現在應該已經暸解，透過值得信賴的數據（比方說[聯合國數據](https://www.gapminder.org/data/documentation/gd004/)）以及良好的數據呈現方式（比方說泡泡圖），你能在很短時間內「正確」地掌握全世界趨勢以及台灣的發展狀況。儘管媒體總是報憂不報喜，你會發現全世界大致上變得越來越好；你也會發現以「人均收入」以及「平均壽命」的角度來看，台灣的表現在全世界也是名列前茅，這點值得我們欣慰及驕傲。\n",
    "\n",
    "<center>\n",
    "    <img src=\"{filename}images/gapminder/factfulness-cover.jpg\" style=\"width:90%\"/>\n",
    "</center>\n",
    "<center>\n",
    "    《真確》是 2018 年由漢斯・羅斯林（Hans Rosling）所撰。在這本書裡，羅斯林教授闡述如何利用數據以及正確心態來理解世界，是一本深具啟發性的著作。而本頁的「泡泡圖」則是他在傳達知識時，經常使用到的工具。（圖片來源：<a href=\"https://meet.eslite.com/tw/tc/product/201807030007\" target=\"_blank\">迷誠品</a>）\n",
    "    <br/>\n",
    "    <br/>\n",
    "    <br/>\n",
    "</center>\n",
    "\n",
    "首先你需要知道，文中的泡泡圖（Bubble Chart）以及所有的國際數據，並非由我獨自完成，而是由漢斯・羅斯林教授與他所創辦的 [GapMinder 基金會](https://www.gapminder.org/)所開發、維護並[開源](https://github.com/Gapminder)的。（給他們點掌聲！）事實上，你可以直接拜訪他們的[官方頁面](https://www.gapminder.org/tools/)來使用泡泡圖，或是像本文一樣，依照[教學](https://bl.ocks.org/angieskazka/ed82b664173a9023fa8a)來將泡泡圖內嵌在你自己的文章裡頭。\n",
    "\n",
    "我知道你在想什麼。\n",
    "\n",
    "「既然官方都已經有泡泡圖了，為何你要在這裡再弄一個出來呢？」\n",
    "\n",
    "非常好的問題。為了避免失焦，我會在[為何需要本文的泡泡圖？](#為何需要本文的泡泡圖？)章節中仔細說明。\n",
    "\n",
    "另外，本文的後段篇幅將會花在說明泡泡圖裡頭有什麼台灣數據可供你探索，也會提供幾個實際使用泡泡圖探索世界的例子，讓你熟悉泡泡圖的使用方式，並利用它來更深入瞭解台灣以及培養正確的世界觀。以及最重要的，在有了正確的世界觀以後，你能怎樣讓世界以及台灣變得更加美好。\n",
    "\n",
    "前言很長，準備好了就跟上來吧！"
   ]
  },
  {
   "cell_type": "markdown",
   "metadata": {},
   "source": [
    "## 本文章節\n",
    "- [為何需要本文的泡泡圖？](為何需要本文的泡泡圖？)\n",
    "- 有什麼台灣數據可供探索？\n",
    "- 如何培養正確世界觀：幾個例子\n",
    "    - 小心鴻溝！\n",
    "    - 小心過度關注 Outliers！\n",
    "    - （以 hanse 的 10 條守則，舉台灣的資料為例）\n",
    "- 你能做些什麼？\n",
    "- 結語\n",
    "    - 懷疑數據\n",
    "    - 致謝"
   ]
  },
  {
   "cell_type": "markdown",
   "metadata": {},
   "source": [
    "## 為何需要本文的泡泡圖？\n",
    "\n",
    "理想上，\n",
    "\n",
    "\n"
   ]
  },
  {
   "cell_type": "code",
   "execution_count": null,
   "metadata": {},
   "outputs": [],
   "source": [
    "\n",
    "與其整天看\n",
    "\n",
    "\n",
    "這種資料視覺化的威力！\n",
    "\n",
    "閱讀過《真確》一書的\n",
    "\n",
    "\n",
    "\n",
    "為何要正確世界觀？了解差異，以合理衡量（比方說同溫層）\n",
    "\n",
    "\n",
    "\n"
   ]
  },
  {
   "cell_type": "markdown",
   "metadata": {},
   "source": [
    "## 所以我們現在有什麼台灣資料？\n",
    "\n",
    "- 所得收入、平均壽命、二氧化碳排放量以及\n",
    "- 健康，尤其是癌症資料齊全\n",
    "- 教育中的平均在校年數\n",
    "- 環境中的排放量\n"
   ]
  },
  {
   "cell_type": "code",
   "execution_count": null,
   "metadata": {},
   "outputs": [],
   "source": [
    "\n",
    "\n",
    "\n",
    "\n",
    "\n",
    "\n",
    "1. 進階用途 > Alternative child mortality data > Child mortality. More years. Version 7. (有 205 年資料，最早年份：1800)\n",
    "VS\n",
    "婦女人均嬰兒數\n",
    "key finding:\n",
    "- 1876 ~ 1955 兒童死亡率大幅下降，可能跟環境衛生改變相關？\n",
    "- 1955 後婦女生育率直線下降，可能跟觀念改變相關？\n",
    "        \n",
    "\n",
    "2. 進階用途 > corruption_perception_index_cpi_pre2012\n",
    "VS\n",
    "\n",
    "\n",
    "3. 進階用途 > Injury deaths by gender, age, road user > Motorcycle deaths /100k people\n",
    "泰國？？\n",
    "\n",
    "4. Dollar billionaires /1M people\n",
    "摩納哥？？\n",
    "\n",
    "\n",
    "5. BMI men \n",
    "VS Colon & Rectum cancer \n",
    "- BMI 逐年增加，同時罹患大腸癌也上升\n",
    "\n",
    "6. oil VS coal\n",
    "新加坡石油！\n",
    "只有哈薩克跟奧大利雅比我們用的煤礦多\n",
    "\n",
    "7. 民主指數跟 所得收入\n",
    "- 我們在 1990 - 1992 大幅上升，1985- 1986 也是\n",
    "- 跟我們同分且所得更高的有美國、挪威\n",
    "- 民主指數不高但收入屌打的有新加坡，喀威特\n",
    "\n",
    "8. 民主 vs 謀殺\n",
    "\n",
    "9. gender ratio of female year in school VS democracy\n",
    "非洲在中間\n",
    "賴索托、卡達？？？\n",
    "中國又贏印度\n",
    "\n",
    "10. 平均壽命 vS 所得，但是 color 用宗教\n",
    "可以發現三大信仰的各個領頭羊：新加坡、卡達、盧森堡\n",
    "\n"
   ]
  },
  {
   "cell_type": "code",
   "execution_count": null,
   "metadata": {},
   "outputs": [],
   "source": []
  },
  {
   "cell_type": "markdown",
   "metadata": {},
   "source": [
    "## 背景：小心鴻溝！"
   ]
  },
  {
   "cell_type": "code",
   "execution_count": null,
   "metadata": {},
   "outputs": [],
   "source": [
    "\n",
    "我去官網用不就好了嗎？為何要在這邊看？\n",
    "- 非聯合國會員 （所以沒顯示）\n",
    "- 全英文，更不用說翻譯了\n",
    "\n",
    "\n",
    "像 hans loing  致敬\n",
    "\n",
    "\n",
    "政府常常在說公開資料，但是沒有人用也等於沒用\n",
    "\n",
    "gap minder: mind the gap! 世界不是二分法！\n",
    "\n"
   ]
  },
  {
   "cell_type": "markdown",
   "metadata": {},
   "source": [
    "## 小心過度關注 outlier ！\n",
    "- 印尼強震（https://asean.thenewslens.com/article/105086?tnl_source=fb01）\n",
    "\n"
   ]
  },
  {
   "cell_type": "markdown",
   "metadata": {},
   "source": [
    "## 一些數據"
   ]
  },
  {
   "cell_type": "code",
   "execution_count": null,
   "metadata": {},
   "outputs": [],
   "source": []
  },
  {
   "cell_type": "markdown",
   "metadata": {},
   "source": [
    "儘管用大量的數據以及這種圖表，讓我們彷彿站在上帝視角綜觀一切，我們也需要注意到數據背後的故事。\n",
    "（而且就算我們看到台灣整體不錯，也要注意也是有人過得苦。除了平均也要看分佈）\n",
    "\n",
    "我們不完美，有很多要改進，但是我們一直在進步"
   ]
  },
  {
   "cell_type": "markdown",
   "metadata": {},
   "source": [
    "## 懷疑數據\n",
    "data doubt\n",
    "\n"
   ]
  },
  {
   "cell_type": "markdown",
   "metadata": {},
   "source": [
    "## 你能做些什麼？\n",
    "\n",
    "如果你是資料科學家： 一圖勝過千言萬語，以圖為輔，培養說故事能力\n",
    "如果你是家長、老師： help your child and studnet know the world by triggering their curiousity, not by cramming them numbers. 探討 why 而不是 \n",
    "協助翻譯！\n",
    "聯絡 Gapminder, 加入更多台灣資料\n",
    "查看 真確 一書\n",
    "查看 gapminder 官網，查看 dollar street\n",
    "對世界多點好奇，探索！\n",
    "幫忙分享！\n",
    "截圖告訴我，你有什麼發現\n",
    "做個 gapminder test\n",
    "貢獻 / 更多例子\n",
    "    - 跟我說你覺得你可以貢獻什麼，或者去 push GapMinder, 增加更多台灣資料\n",
    "    - 如果你發現什麼有趣的發現，歡迎跟我說，我會更新到文章裡頭！"
   ]
  },
  {
   "cell_type": "markdown",
   "metadata": {},
   "source": [
    "## 結語"
   ]
  },
  {
   "cell_type": "raw",
   "metadata": {},
   "source": [
    "\n",
    "我們需要更多台灣資料（給自己，給下一代）！\n",
    "\n",
    "Caveat\n",
    "- 裡頭是對世界的基本素養，資料濃縮變得易懂了，但是我們不能只看平均（所得分佈越來越誇張）\n",
    "- 以前可能我們看所得就夠了，但現在我們需要新的指標，比方說收入最高的10%佔多少財富、是最低 10% 的幾倍\n",
    "\n",
    "\n",
    "致謝：\n",
    "- gapminder\n",
    "-hans roling, 雖然他已經不在人世，我要謝謝他帶我用更宏觀、正確的態度來理解世界，帶給我無數啟發。這篇文章是我對他的致敬。"
   ]
  }
 ],
 "metadata": {
  "kernelspec": {
   "display_name": "Python 3",
   "language": "python",
   "name": "python3"
  },
  "language_info": {
   "codemirror_mode": {
    "name": "ipython",
    "version": 3
   },
   "file_extension": ".py",
   "mimetype": "text/x-python",
   "name": "python",
   "nbconvert_exporter": "python",
   "pygments_lexer": "ipython3",
   "version": "3.7.0"
  }
 },
 "nbformat": 4,
 "nbformat_minor": 2
}
