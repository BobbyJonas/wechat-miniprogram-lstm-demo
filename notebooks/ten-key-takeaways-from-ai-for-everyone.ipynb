{
 "cells": [
  {
   "cell_type": "markdown",
   "metadata": {},
   "source": [
    "- author: Lee Meng\n",
    "- date: 2019-03-04 08:00\n",
    "- title: 我從 AI For Everyone 得到的 10 個重點精華\n",
    "- slug: ten-key-takeaways-from-ai-for-everyone\n",
    "- tags: 人工智慧, 資料科學, 機器學習\n",
    "- description: \n",
    "- summary: \n",
    "- image: joseph-barrientos-93565-unsplash.jpg\n",
    "- image_credit_url: https://unsplash.com/photos/eUMEWE-7Ewg?utm_source=unsplash&utm_medium=referral&utm_content=creditCopyText"
   ]
  },
  {
   "cell_type": "markdown",
   "metadata": {},
   "source": [
    "!quote\n",
    "- 在這個變化快速的年代，每個人都應該去嘗試瞭解人工智慧，因為其正對我們眼前世界做出巨大影響。"
   ]
  },
  {
   "cell_type": "markdown",
   "metadata": {},
   "source": [
    "曾經領導 Google Brain 的[吳恩達](https://zh.wikipedia.org/wiki/%E5%90%B4%E6%81%A9%E8%BE%BE) 這幾天公開了新的 [Coursera](https://www.coursera.org/) 課程：[AI For Everyone](https://www.coursera.org/learn/ai-for-everyone)。這堂課不太談技術術語，專注在與非技術人士以及企業經理人說明：\n",
    "- 何謂 AI\n",
    "- 如何建立 AI 專案\n",
    "- 如何在企業內部建立 AI 基礎\n",
    "- AI 與社會的關係\n",
    "\n",
    "課程內容不多，但已經總結了不少吳恩達教授多年在 Google、百度裡領導 AI 團隊累積的心得。這堂課也談到不少他 [AI Transformation Playbook](https://landing.ai/ai-transformation-playbook/) 的內容。\n",
    "\n",
    "本文則將闡述 10 項我在學習完這堂課以後認為最重要的 10 點精華，幫助自己重新鞏固學到的東西，也希望能讓沒有時間上課的你也能馬上學到些東西。"
   ]
  },
  {
   "cell_type": "markdown",
   "metadata": {},
   "source": [
    "## 10 項"
   ]
  },
  {
   "cell_type": "code",
   "execution_count": null,
   "metadata": {},
   "outputs": [],
   "source": [
    "在 AI 時代，你想扮演什麼角色？"
   ]
  },
  {
   "cell_type": "code",
   "execution_count": null,
   "metadata": {},
   "outputs": [],
   "source": [
    "https://www.coursera.org/learn/ai-for-everyone"
   ]
  },
  {
   "cell_type": "code",
   "execution_count": null,
   "metadata": {},
   "outputs": [],
   "source": [
    "個人角度"
   ]
  },
  {
   "cell_type": "code",
   "execution_count": null,
   "metadata": {},
   "outputs": [],
   "source": [
    "導航"
   ]
  },
  {
   "cell_type": "code",
   "execution_count": null,
   "metadata": {},
   "outputs": [],
   "source": [
    "終身學習"
   ]
  },
  {
   "cell_type": "code",
   "execution_count": null,
   "metadata": {},
   "outputs": [],
   "source": [
    "\n",
    "文章標題\n",
    "* \n",
    "* 我從 AI for Everyone 學到的 10 件事情\n",
    "\n",
    "Framework\n",
    "* Think what is your role in AI-powered company / society?\n",
    "* Education 的改變，你不需要 master, 而只需要幾門 online courses 就能開始\n",
    "* 就連我們都有 bias、更不用說用我們資料學的 Ai。但好處是消除 ai 的 bias 比消除人的簡單\n",
    "* \n",
    "\n",
    "Get started and keep the momentum\n",
    "\n",
    "* A to B mapping\n",
    "* Big data, big neural network\n",
    "* What is a truly AI company? \n",
    "* Software (software 2.0 那篇文章), NN has nothing to do with brain\n",
    "* Machine learning vs data science\n",
    "    * 產出不一樣，前者是 software, 後者是 insight\n",
    "* What ai can / can’t do: One second rule\n",
    "* ML PJ steps: Prepare data -> train model -> deploy model\n",
    "* DS PJ steps: Prepare data -> analyze data -> suggested hypothesis / actions\n",
    "* 3 ideas for brainstorming AI pj\n",
    "* build vs buy\n"
   ]
  },
  {
   "cell_type": "code",
   "execution_count": null,
   "metadata": {},
   "outputs": [],
   "source": []
  },
  {
   "cell_type": "code",
   "execution_count": null,
   "metadata": {},
   "outputs": [],
   "source": []
  },
  {
   "cell_type": "code",
   "execution_count": null,
   "metadata": {},
   "outputs": [],
   "source": []
  }
 ],
 "metadata": {
  "kernelspec": {
   "display_name": "Python 3",
   "language": "python",
   "name": "python3"
  },
  "language_info": {
   "codemirror_mode": {
    "name": "ipython",
    "version": 3
   },
   "file_extension": ".py",
   "mimetype": "text/x-python",
   "name": "python",
   "nbconvert_exporter": "python",
   "pygments_lexer": "ipython3",
   "version": "3.7.0"
  }
 },
 "nbformat": 4,
 "nbformat_minor": 2
}
